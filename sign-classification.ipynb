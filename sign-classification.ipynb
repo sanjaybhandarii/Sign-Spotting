{
 "cells": [
  {
   "cell_type": "code",
   "execution_count": 1,
   "id": "4a63e739",
   "metadata": {
    "execution": {
     "iopub.execute_input": "2022-06-12T16:52:38.344050Z",
     "iopub.status.busy": "2022-06-12T16:52:38.343741Z",
     "iopub.status.idle": "2022-06-12T16:53:04.468675Z",
     "shell.execute_reply": "2022-06-12T16:53:04.467860Z"
    },
    "papermill": {
     "duration": 26.158888,
     "end_time": "2022-06-12T16:53:04.471106",
     "exception": false,
     "start_time": "2022-06-12T16:52:38.312218",
     "status": "completed"
    },
    "tags": []
   },
   "outputs": [
    {
     "name": "stdout",
     "output_type": "stream",
     "text": [
      "Collecting pytorchvideo\r\n",
      "  Downloading pytorchvideo-0.1.5.tar.gz (132 kB)\r\n",
      "\u001b[2K     \u001b[90m━━━━━━━━━━━━━━━━━━━━━━━━━━━━━━━━━━━━━\u001b[0m \u001b[32m132.7/132.7 KB\u001b[0m \u001b[31m972.5 kB/s\u001b[0m eta \u001b[36m0:00:00\u001b[0m\r\n",
      "\u001b[?25h  Preparing metadata (setup.py) ... \u001b[?25l-\b \bdone\r\n",
      "\u001b[?25hCollecting fvcore\r\n",
      "  Downloading fvcore-0.1.5.post20220512.tar.gz (50 kB)\r\n",
      "\u001b[2K     \u001b[90m━━━━━━━━━━━━━━━━━━━━━━━━━━━━━━━━━━━━━━━━\u001b[0m \u001b[32m50.1/50.1 KB\u001b[0m \u001b[31m3.2 MB/s\u001b[0m eta \u001b[36m0:00:00\u001b[0m\r\n",
      "\u001b[?25h  Preparing metadata (setup.py) ... \u001b[?25l-\b \bdone\r\n",
      "\u001b[?25hCollecting av\r\n",
      "  Downloading av-9.2.0-cp37-cp37m-manylinux_2_17_x86_64.manylinux2014_x86_64.whl (28.2 MB)\r\n",
      "\u001b[2K     \u001b[90m━━━━━━━━━━━━━━━━━━━━━━━━━━━━━━━━━━━━━━━━\u001b[0m \u001b[32m28.2/28.2 MB\u001b[0m \u001b[31m28.0 MB/s\u001b[0m eta \u001b[36m0:00:00\u001b[0m\r\n",
      "\u001b[?25hCollecting parameterized\r\n",
      "  Downloading parameterized-0.8.1-py2.py3-none-any.whl (26 kB)\r\n",
      "Collecting iopath\r\n",
      "  Downloading iopath-0.1.9-py3-none-any.whl (27 kB)\r\n",
      "Requirement already satisfied: networkx in /opt/conda/lib/python3.7/site-packages (from pytorchvideo) (2.5)\r\n",
      "Requirement already satisfied: numpy in /opt/conda/lib/python3.7/site-packages (from fvcore->pytorchvideo) (1.21.6)\r\n",
      "Requirement already satisfied: yacs>=0.1.6 in /opt/conda/lib/python3.7/site-packages (from fvcore->pytorchvideo) (0.1.8)\r\n",
      "Requirement already satisfied: pyyaml>=5.1 in /opt/conda/lib/python3.7/site-packages (from fvcore->pytorchvideo) (6.0)\r\n",
      "Requirement already satisfied: tqdm in /opt/conda/lib/python3.7/site-packages (from fvcore->pytorchvideo) (4.63.0)\r\n",
      "Requirement already satisfied: termcolor>=1.1 in /opt/conda/lib/python3.7/site-packages (from fvcore->pytorchvideo) (1.1.0)\r\n",
      "Requirement already satisfied: Pillow in /opt/conda/lib/python3.7/site-packages (from fvcore->pytorchvideo) (9.0.1)\r\n",
      "Requirement already satisfied: tabulate in /opt/conda/lib/python3.7/site-packages (from fvcore->pytorchvideo) (0.8.9)\r\n",
      "Requirement already satisfied: portalocker in /opt/conda/lib/python3.7/site-packages (from iopath->pytorchvideo) (2.4.0)\r\n",
      "Requirement already satisfied: decorator>=4.3.0 in /opt/conda/lib/python3.7/site-packages (from networkx->pytorchvideo) (5.1.1)\r\n",
      "Building wheels for collected packages: pytorchvideo, fvcore\r\n",
      "  Building wheel for pytorchvideo (setup.py) ... \u001b[?25l-\b \b\\\b \bdone\r\n",
      "\u001b[?25h  Created wheel for pytorchvideo: filename=pytorchvideo-0.1.5-py3-none-any.whl size=188714 sha256=f4c272a770f0d0959941438cbc6f54ebac46ef5fa6d962d039e89fa202ba5907\r\n",
      "  Stored in directory: /root/.cache/pip/wheels/e8/51/05/053b29bac2400cbbae2fb7cfc41afd280d627bca7c9363ca80\r\n",
      "  Building wheel for fvcore (setup.py) ... \u001b[?25l-\b \bdone\r\n",
      "\u001b[?25h  Created wheel for fvcore: filename=fvcore-0.1.5.post20220512-py3-none-any.whl size=61288 sha256=9fad89680b7d9fb5d1e95c8522e15b77261290248e27b1c10e9b17e2983204f7\r\n",
      "  Stored in directory: /root/.cache/pip/wheels/68/20/f9/a11a0dd63f4c13678b2a5ec488e48078756505c7777b75b29e\r\n",
      "Successfully built pytorchvideo fvcore\r\n",
      "Installing collected packages: parameterized, av, iopath, fvcore, pytorchvideo\r\n",
      "Successfully installed av-9.2.0 fvcore-0.1.5.post20220512 iopath-0.1.9 parameterized-0.8.1 pytorchvideo-0.1.5\r\n",
      "\u001b[33mWARNING: Running pip as the 'root' user can result in broken permissions and conflicting behaviour with the system package manager. It is recommended to use a virtual environment instead: https://pip.pypa.io/warnings/venv\u001b[0m\u001b[33m\r\n",
      "\u001b[0mCollecting torchsummary\r\n",
      "  Downloading torchsummary-1.5.1-py3-none-any.whl (2.8 kB)\r\n",
      "Installing collected packages: torchsummary\r\n",
      "Successfully installed torchsummary-1.5.1\r\n",
      "\u001b[33mWARNING: Running pip as the 'root' user can result in broken permissions and conflicting behaviour with the system package manager. It is recommended to use a virtual environment instead: https://pip.pypa.io/warnings/venv\u001b[0m\u001b[33m\r\n",
      "\u001b[0m"
     ]
    }
   ],
   "source": [
    "!pip install pytorchvideo\n",
    "!pip install torchsummary"
   ]
  },
  {
   "cell_type": "code",
   "execution_count": 2,
   "id": "979587a6",
   "metadata": {
    "_cell_guid": "b1076dfc-b9ad-4769-8c92-a6c4dae69d19",
    "_uuid": "8f2839f25d086af736a60e9eeb907d3b93b6e0e5",
    "execution": {
     "iopub.execute_input": "2022-06-12T16:53:04.559655Z",
     "iopub.status.busy": "2022-06-12T16:53:04.559004Z",
     "iopub.status.idle": "2022-06-12T16:53:06.601171Z",
     "shell.execute_reply": "2022-06-12T16:53:06.600458Z"
    },
    "papermill": {
     "duration": 2.08832,
     "end_time": "2022-06-12T16:53:06.603183",
     "exception": false,
     "start_time": "2022-06-12T16:53:04.514863",
     "status": "completed"
    },
    "tags": []
   },
   "outputs": [],
   "source": [
    "import torch\n",
    "import numpy as np\n",
    "from torch.utils.data import (\n",
    "    Dataset,\n",
    "    DataLoader,\n",
    ") \n",
    "import pickle\n",
    "\n",
    "\n",
    "import os\n",
    "\n",
    "import math\n",
    "import torch.nn as nn\n",
    "import torch.nn.functional as F\n",
    "\n",
    "from torchvision.transforms import Compose, Lambda, Grayscale,Normalize, CenterCrop,Resize\n",
    "#from torchvision.transforms._transforms_video import CenterCropVideo\n",
    "from pytorchvideo.data.encoded_video import EncodedVideo\n",
    "from pytorchvideo.transforms import (\n",
    "    ApplyTransformToKey,\n",
    "    UniformTemporalSubsample,\n",
    ")\n",
    "\n",
    "from tqdm import tqdm\n",
    "\n",
    "from collections import OrderedDict\n",
    "\n",
    "import torch.optim as optim\n",
    "\n",
    "from torch.autograd import Variable\n",
    "\n",
    "\n",
    "import torchvision.models as models\n",
    "\n",
    "import sys\n",
    "from torchsummary import summary\n",
    "\n",
    "\n",
    "\n",
    "\n",
    "\n",
    "\n",
    "class SignDataset(Dataset):\n",
    "    def __init__(self,x,y):\n",
    "        self.x = x\n",
    "        self.y = y\n",
    "\n",
    "\n",
    "    def __len__(self):\n",
    "\n",
    "        return len(self.y)\n",
    "\n",
    "        # length = 0\n",
    "        # with open(self.file, 'rb') as f:\n",
    "        #     data = pickle.load(f)\n",
    "\n",
    "        # for x in data:\n",
    "        #     length += len(data[x])\n",
    "        # return length\n",
    "\n",
    "\n",
    "    def __getitem__(self, index):\n",
    "        return self.x[index], self.y[index]\n",
    "        "
   ]
  },
  {
   "cell_type": "code",
   "execution_count": 3,
   "id": "4ff86441",
   "metadata": {
    "execution": {
     "iopub.execute_input": "2022-06-12T16:53:06.691821Z",
     "iopub.status.busy": "2022-06-12T16:53:06.691434Z",
     "iopub.status.idle": "2022-06-12T16:53:06.708943Z",
     "shell.execute_reply": "2022-06-12T16:53:06.708340Z"
    },
    "papermill": {
     "duration": 0.062931,
     "end_time": "2022-06-12T16:53:06.710634",
     "exception": false,
     "start_time": "2022-06-12T16:53:06.647703",
     "status": "completed"
    },
    "tags": []
   },
   "outputs": [],
   "source": [
    "IMAGE_HEIGHT = 720\n",
    "IMAGE_WIDTH = 800\n",
    "IMAGE_CHANNEL = 1\n",
    "NUM_FRAMES = 25\n",
    "NUM_CLASSES = 60\n",
    "\n",
    "\n",
    "\n",
    "\n",
    "\n",
    "\n",
    "\n",
    "def transform_data(x):\n",
    "    \n",
    "    transform =  ApplyTransformToKey(\n",
    "        key=\"video\",\n",
    "        transform=Compose(\n",
    "            [\n",
    "                Lambda(lambda x: x/255.0),\n",
    "                Normalize(([0.2933, 0.4799, 0.6723]), ([0.1576, 0.1674, 0.2477])),\n",
    "                Grayscale(num_output_channels=1),\n",
    "                CenterCrop([720,900]),\n",
    "                Resize([512,512]),\n",
    "                Lambda(lambda x: x.permute(1,2,3,0)),#(channel, frames(depth), height, width)\n",
    "#                 Lambda(lambda x: print(x.shape))\n",
    "\n",
    "            ]\n",
    "\n",
    "        ),\n",
    "    )\n",
    "    \n",
    "    return transform(x)\n",
    "\n",
    "def lp_video(video,start_time, end_time):\n",
    "    global means,stds\n",
    "    global nst\n",
    "    \n",
    "    video_data = video.get_clip(start_sec=float(start_time)/1000.0, end_sec=float(end_time)/1000.0)\n",
    "            #print(video_data[\"video\"].shape)\n",
    " \n",
    "    if video_data[\"video\"] is None:\n",
    "        return None        # or pass\n",
    "    else:\n",
    "    \n",
    "        #video_data[\"video\"] = Grayscale(num_output_channels=1)((video_data[\"video\"]).permute(1,0,2,3))\n",
    "    #             video_data[\"video\"] = video_data[\"video\"]/255\n",
    "                #print(video_data[\"video\"].shape)\n",
    "        video_data[\"video\"] = video_data[\"video\"].permute(1,0,2,3)\n",
    "        \n",
    "#         std, mean = torch.std_mean(video_data[\"video\"],dim=[0,2,3])\n",
    "#         std = std/255.0\n",
    "#         #print(std)\n",
    "#         mean = mean/255.0\n",
    "#         #print(mean)\n",
    "#         means += mean\n",
    "#         stds +=std\n",
    "#         nst += 1\n",
    "        video_data = transform_data( video_data)\n",
    "\n",
    "        return video_data[\"video\"]\n",
    "\n",
    "def load_dataloaders(batch_size,start,end):\n",
    "\n",
    "    \n",
    "    train_inputs =[] #x\n",
    "    train_classes = [] #y\n",
    "    global neg\n",
    "\n",
    "    with open('../input/signdataset/sign/MSSL_Train_Set/TRAIN/MSSL_TRAIN_SET_GT.pkl', 'rb') as f:\n",
    "        data = pickle.load(f)\n",
    "\n",
    "\n",
    "# keys are files so iterate only limited files due to memory limitations.\n",
    "    for key in list(data.keys())[start:end]:\n",
    "        time_start = []\n",
    "        time_end = []\n",
    "        filename = key\n",
    "        print(\"file\",filename)\n",
    "        video = EncodedVideo.from_path(\"../input/signdataset/sign/MSSL_Train_Set/TRAIN/MSSL_TRAIN_SET_VIDEOS_ELAN/\"+filename+\".mp4\")\n",
    "    # file functions\n",
    "        \n",
    "        for x in data[key]:\n",
    "            img_cls = x[0]\n",
    "            time_start.append(x[1])\n",
    "            time_end.append(x[2])\n",
    "            \n",
    "            \n",
    "            # start_time = x[1]\n",
    "            # end_time = x[2]\n",
    "            vid = lp_video(video,x[1], x[2])\n",
    "\n",
    "            for m in torch.unbind(vid, dim=3):\n",
    "                train_classes.append(img_cls)\n",
    "                train_inputs.append(m)\n",
    "\n",
    "\n",
    "            #some negative classes too\n",
    "        for i in range(len(time_start)-2):\n",
    "            if (time_start[i+1]- time_end[i])>1000.0:\n",
    "                start_t = time_end[i]+800.0\n",
    "                end_t = time_end[i]+880.0\n",
    "                vid = lp_video(video,start_t, end_t)\n",
    "                if vid is None:\n",
    "                    break\n",
    "                else:\n",
    "                    for m in torch.unbind(vid, dim=3):\n",
    "                        train_classes.append(60)\n",
    "                        train_inputs.append(m)\n",
    "            \n",
    "        \n",
    "            \n",
    "    signds = SignDataset(train_inputs, train_classes)\n",
    "    trainlen = int(len(signds)*0.8)\n",
    "    torch.manual_seed(0)\n",
    "    \n",
    "    train_set, val_test_set = torch.utils.data.random_split(signds, [trainlen, len(signds)-trainlen])\n",
    "    trainloader = DataLoader(train_set, batch_size=batch_size, shuffle=True, num_workers=2)\n",
    "\n",
    "    valloader = DataLoader(val_test_set, batch_size=batch_size, shuffle=True, num_workers=2)\n",
    "  \n",
    "    return trainloader, valloader\n",
    "        \n",
    "    "
   ]
  },
  {
   "cell_type": "code",
   "execution_count": 4,
   "id": "0c61207c",
   "metadata": {
    "execution": {
     "iopub.execute_input": "2022-06-12T16:53:06.797633Z",
     "iopub.status.busy": "2022-06-12T16:53:06.797442Z",
     "iopub.status.idle": "2022-06-12T16:53:06.807739Z",
     "shell.execute_reply": "2022-06-12T16:53:06.807124Z"
    },
    "papermill": {
     "duration": 0.055721,
     "end_time": "2022-06-12T16:53:06.809423",
     "exception": false,
     "start_time": "2022-06-12T16:53:06.753702",
     "status": "completed"
    },
    "tags": []
   },
   "outputs": [],
   "source": [
    "def load_testloader(batch_size,start,end):\n",
    "\n",
    "    time_start = []\n",
    "    time_end = []\n",
    "    train_inputs =[] #x\n",
    "    train_classes = [] #y\n",
    "    \n",
    "\n",
    "    with open('../input/signdataset/sign/MSSL_Train_Set/TRAIN/MSSL_TRAIN_SET_GT.pkl', 'rb') as f:\n",
    "        data = pickle.load(f)\n",
    "\n",
    "\n",
    "# keys are files so iterate only limited files due to memory limitations.\n",
    "    for key in list(data.keys())[start:end]:\n",
    "        filename = key\n",
    "        print(\"file\",filename)\n",
    "        video = EncodedVideo.from_path(\"../input/signdataset/sign/MSSL_Train_Set/TRAIN/MSSL_TRAIN_SET_VIDEOS_ELAN/\"+filename+\".mp4\")\n",
    "    # file functions\n",
    "\n",
    "        for x in data[key]:\n",
    "            img_cls = x[0]\n",
    "            time_start.append(x[1])\n",
    "            time_end.append(x[2])\n",
    "            \n",
    "            \n",
    "            # start_time = x[1]\n",
    "            # end_time = x[2]\n",
    "            vid = lp_video(video,x[1], x[2])\n",
    "\n",
    "            for m in torch.unbind(vid, dim=3):\n",
    "                train_classes.append(img_cls)\n",
    "                train_inputs.append(m)\n",
    "\n",
    "\n",
    "            #some negative classes too\n",
    "        for i in range(0,len(time_start)//2):\n",
    "            if (time_start[i+1]- time_end[i])>1000.0:\n",
    "                start_t = time_end[i]+700.0\n",
    "                end_t = time_end[i]+780.0\n",
    "                vid = lp_video(video,start_t, end_t)\n",
    "                if vid is None:\n",
    "                    break\n",
    "                else:\n",
    "                    for m in torch.unbind(vid, dim=3):\n",
    "                        train_classes.append(60)\n",
    "                        train_inputs.append(m)\n",
    "\n",
    "            \n",
    "        \n",
    "            \n",
    "\n",
    "    signds = SignDataset(train_inputs, train_classes)\n",
    "    \n",
    "    \n",
    "\n",
    "    testloader = DataLoader(signds, batch_size=batch_size, shuffle=True, num_workers=2)\n",
    "\n",
    "    return testloader"
   ]
  },
  {
   "cell_type": "code",
   "execution_count": 5,
   "id": "9dcd1cce",
   "metadata": {
    "execution": {
     "iopub.execute_input": "2022-06-12T16:53:06.896019Z",
     "iopub.status.busy": "2022-06-12T16:53:06.895829Z",
     "iopub.status.idle": "2022-06-12T16:53:06.900643Z",
     "shell.execute_reply": "2022-06-12T16:53:06.899948Z"
    },
    "papermill": {
     "duration": 0.049324,
     "end_time": "2022-06-12T16:53:06.902245",
     "exception": false,
     "start_time": "2022-06-12T16:53:06.852921",
     "status": "completed"
    },
    "tags": []
   },
   "outputs": [],
   "source": [
    "def load_vid(batch_size,start,end):\n",
    "\n",
    "\n",
    "    train_inputs =[] #x\n",
    "\n",
    "    video = EncodedVideo.from_path(\"../input/signdataset/sign/MSSL_Val_Set/VALIDATION/MSSL_VAL_SET_VIDEOS/p01_n131.mp4\")\n",
    "    # file functions\n",
    "\n",
    "    vid = lp_video(video,start, end)\n",
    "\n",
    "    for m in torch.unbind(vid, dim=3):\n",
    "        train_inputs.append(m)\n",
    "\n",
    "    \n",
    "\n",
    "    testloader = DataLoader(train_inputs, batch_size=batch_size, shuffle=True, num_workers=2)\n",
    "\n",
    "    return testloader"
   ]
  },
  {
   "cell_type": "code",
   "execution_count": 6,
   "id": "15b7588a",
   "metadata": {
    "execution": {
     "iopub.execute_input": "2022-06-12T16:53:06.988941Z",
     "iopub.status.busy": "2022-06-12T16:53:06.988760Z",
     "iopub.status.idle": "2022-06-12T16:53:07.025170Z",
     "shell.execute_reply": "2022-06-12T16:53:07.024532Z"
    },
    "papermill": {
     "duration": 0.081892,
     "end_time": "2022-06-12T16:53:07.026759",
     "exception": false,
     "start_time": "2022-06-12T16:53:06.944867",
     "status": "completed"
    },
    "tags": []
   },
   "outputs": [],
   "source": [
    "\"\"\"\n",
    "Creates a EfficientNetV2 Model as defined in:\n",
    "Mingxing Tan, Quoc V. Le. (2021). \n",
    "EfficientNetV2: Smaller Models and Faster Training\n",
    "arXiv preprint arXiv:2104.00298.\n",
    "import from https://github.com/d-li14/mobilenetv2.pytorch\n",
    "\"\"\"\n",
    "\n",
    "\n",
    "\n",
    "__all__ = ['effnetv2_s', 'effnetv2_m', 'effnetv2_l', 'effnetv2_xl']\n",
    "\n",
    "\n",
    "def _make_divisible(v, divisor, min_value=None):\n",
    "    \"\"\"\n",
    "    This function is taken from the original tf repo.\n",
    "    It ensures that all layers have a channel number that is divisible by 8\n",
    "    It can be seen here:\n",
    "    https://github.com/tensorflow/models/blob/master/research/slim/nets/mobilenet/mobilenet.py\n",
    "    :param v:\n",
    "    :param divisor:\n",
    "    :param min_value:\n",
    "    :return:\n",
    "    \"\"\"\n",
    "    if min_value is None:\n",
    "        min_value = divisor\n",
    "    new_v = max(min_value, int(v + divisor / 2) // divisor * divisor)\n",
    "    # Make sure that round down does not go down by more than 10%.\n",
    "    if new_v < 0.9 * v:\n",
    "        new_v += divisor\n",
    "    return new_v\n",
    "\n",
    "\n",
    "# SiLU (Swish) activation function\n",
    "if hasattr(nn, 'SiLU'):\n",
    "    SiLU = nn.SiLU\n",
    "else:\n",
    "    # For compatibility with old PyTorch versions\n",
    "    class SiLU(nn.Module):\n",
    "        def forward(self, x):\n",
    "            return x * torch.sigmoid(x)\n",
    "\n",
    " \n",
    "class SELayer(nn.Module):\n",
    "    def __init__(self, inp, oup, reduction=4):\n",
    "        super(SELayer, self).__init__()\n",
    "        self.avg_pool = nn.AdaptiveAvgPool2d(1)\n",
    "        self.fc = nn.Sequential(\n",
    "                nn.Linear(oup, _make_divisible(inp // reduction, 8)),\n",
    "                SiLU(),\n",
    "                nn.Linear(_make_divisible(inp // reduction, 8), oup),\n",
    "                nn.Sigmoid()\n",
    "        )\n",
    "\n",
    "    def forward(self, x):\n",
    "        b, c, _, _ = x.size()\n",
    "        y = self.avg_pool(x).view(b, c)\n",
    "        y = self.fc(y).view(b, c, 1, 1)\n",
    "        return x * y\n",
    "\n",
    "\n",
    "def conv_3x3_bn(inp, oup, stride):\n",
    "    return nn.Sequential(\n",
    "        nn.Conv2d(inp, oup, 3, stride, 1, bias=False),\n",
    "        nn.BatchNorm2d(oup),\n",
    "        SiLU()\n",
    "    )\n",
    "\n",
    "\n",
    "def conv_1x1_bn(inp, oup):\n",
    "    return nn.Sequential(\n",
    "        nn.Conv2d(inp, oup, 1, 1, 0, bias=False),\n",
    "        nn.BatchNorm2d(oup),\n",
    "        SiLU()\n",
    "    )\n",
    "\n",
    "\n",
    "class MBConv(nn.Module):\n",
    "    def __init__(self, inp, oup, stride, expand_ratio, use_se):\n",
    "        super(MBConv, self).__init__()\n",
    "        assert stride in [1, 2]\n",
    "\n",
    "        hidden_dim = round(inp * expand_ratio)\n",
    "        self.identity = stride == 1 and inp == oup\n",
    "        if use_se:\n",
    "            self.conv = nn.Sequential(\n",
    "                # pw\n",
    "                nn.Conv2d(inp, hidden_dim, 1, 1, 0, bias=False),\n",
    "                nn.BatchNorm2d(hidden_dim),\n",
    "                SiLU(),\n",
    "                # dw\n",
    "                nn.Conv2d(hidden_dim, hidden_dim, 3, stride, 1, groups=hidden_dim, bias=False),\n",
    "                nn.BatchNorm2d(hidden_dim),\n",
    "                SiLU(),\n",
    "                SELayer(inp, hidden_dim),\n",
    "                # pw-linear\n",
    "                nn.Conv2d(hidden_dim, oup, 1, 1, 0, bias=False),\n",
    "                nn.BatchNorm2d(oup),\n",
    "            )\n",
    "        else:\n",
    "            self.conv = nn.Sequential(\n",
    "                # fused\n",
    "                nn.Conv2d(inp, hidden_dim, 3, stride, 1, bias=False),\n",
    "                nn.BatchNorm2d(hidden_dim),\n",
    "                SiLU(),\n",
    "                # pw-linear\n",
    "                nn.Conv2d(hidden_dim, oup, 1, 1, 0, bias=False),\n",
    "                nn.BatchNorm2d(oup),\n",
    "            )\n",
    "\n",
    "\n",
    "    def forward(self, x):\n",
    "        if self.identity:\n",
    "            return x + self.conv(x)\n",
    "        else:\n",
    "            return self.conv(x)\n",
    "\n",
    "\n",
    "class EffNetV2(nn.Module):\n",
    "    def __init__(self, cfgs, num_classes=61, width_mult=1.):\n",
    "        super(EffNetV2, self).__init__()\n",
    "        self.cfgs = cfgs\n",
    "\n",
    "        # building first layer\n",
    "        input_channel = _make_divisible(24 * width_mult, 8)\n",
    "        layers = [conv_3x3_bn(1, input_channel, 2)]\n",
    "        # building inverted residual blocks\n",
    "        block = MBConv\n",
    "        for t, c, n, s, use_se in self.cfgs:\n",
    "            output_channel = _make_divisible(c * width_mult, 8)\n",
    "            for i in range(n):\n",
    "                layers.append(block(input_channel, output_channel, s if i == 0 else 1, t, use_se))\n",
    "                input_channel = output_channel\n",
    "        self.features = nn.Sequential(*layers)\n",
    "        # building last several layers\n",
    "        output_channel = _make_divisible(1792 * width_mult, 8) if width_mult > 1.0 else 1792\n",
    "        self.conv = conv_1x1_bn(input_channel, output_channel)\n",
    "        self.avgpool = nn.AdaptiveAvgPool2d((1, 1))\n",
    "        self.classifier = nn.Linear(output_channel, num_classes)\n",
    "\n",
    "        self._initialize_weights()\n",
    "\n",
    "    def forward(self, x):\n",
    "        x = self.features(x)\n",
    "        x = self.conv(x)\n",
    "        x = self.avgpool(x)\n",
    "        x = x.view(x.size(0), -1)\n",
    "        x = self.classifier(x)\n",
    "        return x\n",
    "\n",
    "    def _initialize_weights(self):\n",
    "        for m in self.modules():\n",
    "            if isinstance(m, nn.Conv2d):\n",
    "                n = m.kernel_size[0] * m.kernel_size[1] * m.out_channels\n",
    "                m.weight.data.normal_(0, math.sqrt(2. / n))\n",
    "                if m.bias is not None:\n",
    "                    m.bias.data.zero_()\n",
    "            elif isinstance(m, nn.BatchNorm2d):\n",
    "                m.weight.data.fill_(1)\n",
    "                m.bias.data.zero_()\n",
    "            elif isinstance(m, nn.Linear):\n",
    "                m.weight.data.normal_(0, 0.001)\n",
    "                m.bias.data.zero_()\n",
    "\n",
    "\n",
    "def effnetv2_s(**kwargs):\n",
    "    \"\"\"\n",
    "    Constructs a EfficientNetV2-S model\n",
    "    \"\"\"\n",
    "    cfgs = [\n",
    "        # t, c, n, s, SE\n",
    "        [1,  24,  2, 1, 0],\n",
    "        [4,  48,  4, 2, 0],\n",
    "        [4,  64,  4, 2, 0],\n",
    "        [4, 128,  6, 2, 1],\n",
    "        [6, 160,  9, 1, 1],\n",
    "        [6, 256, 15, 2, 1],\n",
    "    ]\n",
    "    return EffNetV2(cfgs, **kwargs)\n",
    "\n",
    "\n",
    "def effnetv2_m(**kwargs):\n",
    "    \"\"\"\n",
    "    Constructs a EfficientNetV2-M model\n",
    "    \"\"\"\n",
    "    cfgs = [\n",
    "        # t, c, n, s, SE\n",
    "        [1,  24,  3, 1, 0],\n",
    "        [4,  48,  5, 2, 0],\n",
    "        [4,  80,  5, 2, 0],\n",
    "        [4, 160,  7, 2, 1],\n",
    "        [6, 176, 14, 1, 1],\n",
    "        [6, 304, 18, 2, 1],\n",
    "        [6, 512,  5, 1, 1],\n",
    "    ]\n",
    "    return EffNetV2(cfgs, **kwargs)\n",
    "\n",
    "\n",
    "def effnetv2_l(**kwargs):\n",
    "    \"\"\"\n",
    "    Constructs a EfficientNetV2-L model\n",
    "    \"\"\"\n",
    "    cfgs = [\n",
    "        # t, c, n, s, SE\n",
    "        [1,  32,  4, 1, 0],\n",
    "        [4,  64,  7, 2, 0],\n",
    "        [4,  96,  7, 2, 0],\n",
    "        [4, 192, 10, 2, 1],\n",
    "        [6, 224, 19, 1, 1],\n",
    "        [6, 384, 25, 2, 1],\n",
    "        [6, 640,  7, 1, 1],\n",
    "    ]\n",
    "    return EffNetV2(cfgs, **kwargs)\n",
    "\n",
    "\n",
    "def effnetv2_xl(**kwargs):\n",
    "    \"\"\"\n",
    "    Constructs a EfficientNetV2-XL model\n",
    "    \"\"\"\n",
    "    cfgs = [\n",
    "        # t, c, n, s, SE\n",
    "        [1,  32,  4, 1, 0],\n",
    "        [4,  64,  8, 2, 0],\n",
    "        [4,  96,  8, 2, 0],\n",
    "        [4, 192, 16, 2, 1],\n",
    "        [6, 256, 24, 1, 1],\n",
    "        [6, 512, 32, 2, 1],\n",
    "        [6, 640,  8, 1, 1],\n",
    "    ]\n",
    "    return EffNetV2(cfgs, **kwargs)"
   ]
  },
  {
   "cell_type": "code",
   "execution_count": null,
   "id": "b98deedc",
   "metadata": {
    "papermill": {
     "duration": 0.042578,
     "end_time": "2022-06-12T16:53:07.112298",
     "exception": false,
     "start_time": "2022-06-12T16:53:07.069720",
     "status": "completed"
    },
    "tags": []
   },
   "outputs": [],
   "source": []
  },
  {
   "cell_type": "code",
   "execution_count": 7,
   "id": "80782740",
   "metadata": {
    "execution": {
     "iopub.execute_input": "2022-06-12T16:53:07.198309Z",
     "iopub.status.busy": "2022-06-12T16:53:07.197898Z",
     "iopub.status.idle": "2022-06-12T16:53:07.202784Z",
     "shell.execute_reply": "2022-06-12T16:53:07.202155Z"
    },
    "papermill": {
     "duration": 0.049932,
     "end_time": "2022-06-12T16:53:07.204847",
     "exception": false,
     "start_time": "2022-06-12T16:53:07.154915",
     "status": "completed"
    },
    "tags": []
   },
   "outputs": [],
   "source": [
    "\n",
    "def evluate(model, device, loader, mode=\"Validate\"):\n",
    "    \n",
    "    \n",
    "    model.eval()\n",
    "\n",
    "    correct = 0\n",
    "    num_samples = 0\n",
    "    \n",
    "        \n",
    "    for batch_idx, data in enumerate(loader):\n",
    "        with torch.no_grad():    \n",
    "            data = data.to(device)\n",
    "            \n",
    "\n",
    "            output = model(data.half())  \n",
    "            \n",
    "            _,pred = output.max(1)# get the index of the max log-probability\n",
    "            print(pred)\n",
    "\n"
   ]
  },
  {
   "cell_type": "code",
   "execution_count": 8,
   "id": "eeaad796",
   "metadata": {
    "execution": {
     "iopub.execute_input": "2022-06-12T16:53:07.294367Z",
     "iopub.status.busy": "2022-06-12T16:53:07.294172Z",
     "iopub.status.idle": "2022-06-12T16:53:07.300405Z",
     "shell.execute_reply": "2022-06-12T16:53:07.299755Z"
    },
    "papermill": {
     "duration": 0.053158,
     "end_time": "2022-06-12T16:53:07.302054",
     "exception": false,
     "start_time": "2022-06-12T16:53:07.248896",
     "status": "completed"
    },
    "tags": []
   },
   "outputs": [],
   "source": [
    "\n",
    "def test(model, device, loader, mode=\"Validate\"):\n",
    "    \n",
    "    \n",
    "    model.eval()\n",
    "\n",
    "    correct = 0\n",
    "    num_samples = 0\n",
    "    \n",
    "        \n",
    "    for batch_idx, (data, target) in enumerate(loader):\n",
    "        with torch.no_grad():    \n",
    "            data = data.to(device)\n",
    "            target = (target).to(device)\n",
    "\n",
    "            output = model(data.half())  \n",
    "            \n",
    "            _,pred = output.max(1)# get the index of the max log-probability\n",
    "            num_samples += target.size(0)\n",
    "            correct += (pred==target).sum().item()\n",
    "            #print(\"correct\", correct)\n",
    "\n",
    "    acc = 100.0 * correct / num_samples\n",
    "    \n",
    "    print('{} Accuracy: {}/{} ({:.0f}%)'.format(\n",
    "                mode,correct, num_samples,\n",
    "                100. * correct / num_samples, acc))"
   ]
  },
  {
   "cell_type": "code",
   "execution_count": 9,
   "id": "a26e4990",
   "metadata": {
    "execution": {
     "iopub.execute_input": "2022-06-12T16:53:07.398877Z",
     "iopub.status.busy": "2022-06-12T16:53:07.398680Z",
     "iopub.status.idle": "2022-06-12T16:53:07.412288Z",
     "shell.execute_reply": "2022-06-12T16:53:07.411600Z"
    },
    "papermill": {
     "duration": 0.063392,
     "end_time": "2022-06-12T16:53:07.413986",
     "exception": false,
     "start_time": "2022-06-12T16:53:07.350594",
     "status": "completed"
    },
    "scrolled": true,
    "tags": []
   },
   "outputs": [],
   "source": [
    "\n",
    "    \n",
    "\n",
    "\n",
    "def train(model, device, train_loader,validloader,scheduler, optimizer,criterion,epochs,lr):\n",
    "    print(\"Train start\")\n",
    "    breakout = False\n",
    "    model.half()\n",
    "    model.cuda()\n",
    "\n",
    "    \n",
    "    model.train()\n",
    "\n",
    "    optimizer.param_groups[0]['lr'] = lr\n",
    "    \n",
    "    for epoch in range(epochs):\n",
    "        correct = 0\n",
    "        num_samples = 0\n",
    "        train_loss = 0\n",
    "        \n",
    "        for batch_idx, (data, target) in enumerate(train_loader):\n",
    "            \n",
    "            data = data.to(device)\n",
    "            target = target.to(device)\n",
    "\n",
    "            optimizer.zero_grad()\n",
    "            output = model(data.half())\n",
    "            \n",
    "            loss = criterion(output, target)\n",
    "            loss.backward()\n",
    "            optimizer.step()\n",
    "            \n",
    "            \n",
    "            train_loss += loss.item()\n",
    "            \n",
    "            \n",
    "            _,pred = output.max(1)# get the index of the max log-probability\n",
    "            num_samples += target.size(0)\n",
    "            correct += (pred==target).sum().item()\n",
    "            \n",
    "        if optimizer.param_groups[0]['lr'] != 1e-3:    \n",
    "            scheduler.step()\n",
    "        #print(\"lr:\",optimizer.param_groups[0]['lr'])\n",
    "        \n",
    "        \n",
    "        train_loss /= num_samples\n",
    "        \n",
    "        if (100 * correct / num_samples) >= 95:\n",
    "            \n",
    "            print('Epoch: {} , Training Accuracy: {}/{} ({:.0f}%) Training Loss: {:.6f}'.format(\n",
    "                epoch+1, correct, num_samples,100. * correct / num_samples, train_loss))\n",
    "            \n",
    "            test(model,device,validloader, mode = \"Validating\")\n",
    "#             test(model, device, testloader, mode = \"Test before Training on validation set\")\n",
    "           # model, optimizer = trainonval(model, device, validloader, optimizer, criterion, epochs)\n",
    "#             test(model, device, testloader, mode = \"Test after training on validation set\")\n",
    "            \n",
    "            \n",
    "            \n",
    "            torch.save({\n",
    "            'model_state_dict': model.state_dict(),\n",
    "            'optimizer_state_dict': optimizer.state_dict()}, \"./model_optimizer34.pt\")\n",
    "            \n",
    "            breakout = True\n",
    "            print(\"breakout\")\n",
    "            return model, optimizer\n",
    "            \n",
    "            \n",
    "            \n",
    "       \n",
    "        \n",
    "\n",
    "        print('Epoch: {} , Training Accuracy: {}/{} ({:.0f}%) Training Loss: {:.6f}'.format(\n",
    "                epoch+1, correct, num_samples,\n",
    "                100. * correct / num_samples, train_loss))\n",
    "        if (((epoch+1)%5) == 0) :\n",
    "            test(model,device,validloader)\n",
    "            model.train()\n",
    "            \n",
    "    if breakout:\n",
    "            print(\"breakout\")\n",
    "            return\n",
    "    \n",
    "    \n",
    "    \n",
    "    #model, optimizer = trainonval(model, device, validloader, optimizer, criterion, epochs)\n",
    "    test(model, device, validloader, mode= \"test set \")\n",
    "    \n",
    "    \n",
    "        \n",
    "    torch.save({\n",
    "            'model_state_dict': model.state_dict(),\n",
    "            'optimizer_state_dict': optimizer.state_dict()}, \"./model_optimizer34.pt\")\n",
    "    return model, optimizer\n",
    "    \n",
    "    \n",
    "        \n"
   ]
  },
  {
   "cell_type": "code",
   "execution_count": 10,
   "id": "21417c24",
   "metadata": {
    "execution": {
     "iopub.execute_input": "2022-06-12T16:53:07.503040Z",
     "iopub.status.busy": "2022-06-12T16:53:07.502448Z",
     "iopub.status.idle": "2022-06-12T16:53:11.422034Z",
     "shell.execute_reply": "2022-06-12T16:53:11.421264Z"
    },
    "papermill": {
     "duration": 3.965815,
     "end_time": "2022-06-12T16:53:11.424186",
     "exception": false,
     "start_time": "2022-06-12T16:53:07.458371",
     "status": "completed"
    },
    "tags": []
   },
   "outputs": [],
   "source": [
    "n_classes = 61\n",
    "\n",
    "\n",
    "model = nn.Sequential(OrderedDict([\n",
    "    ('frontend',effnetv2_m())\n",
    "]))\n",
    "\n",
    "\n",
    "\n",
    "\n",
    "\n",
    "# specify loss function (categorical cross-entropy)\n",
    "\n",
    "# specify optimizer and learning rate\n",
    "optimizer = optim.SGD(\n",
    "    [\n",
    "        \n",
    "        {\"params\": model.frontend.parameters(), \"lr\": 1e-2},\n",
    "  ],\n",
    "  momentum = 0.9\n",
    ")\n",
    "device = torch.device(\"cuda\" if torch.cuda.is_available() else \"cpu\")\n",
    "\n",
    "\n",
    "samples_per_cls = [166.0, 370.0, 63.0, 232.0, 905.0, 102.0, 537.0, 993.0, 133.0, 154.0, 286.0, 435.0, 452.0, 779.0, 354.0, 136.0, 232.0, 2154.0, 374.0, 787.0, 337.0, 268.0, 954.0, 167.0, 543.0, 324.0, 669.0, 333.0, 211.0, 433.0, 140.0, 665.0, 107.0, 305.0, 162.0, 61.0, 1229.0, 958.0, 897.0, 543.0, 625.0, 334.0, 776.0, 111.0, 412.0, 583.0, 255.0, 103.0, 108.0, 201.0, 384.0, 632.0, 13.0, 322.0, 664.0, 435.0, 194.0, 322.0, 113.0, 462.0,2330.0]\n",
    "no_of_classes=61\n",
    "beta=0.9999\n",
    "effective_num = 1.0 - np.power(beta, samples_per_cls)\n",
    "weights = (1.0 - beta) / np.array(effective_num)\n",
    "weights = weights / np.sum(weights) * no_of_classes\n",
    "    \n",
    "\n",
    "weights = torch.FloatTensor(weights).cuda()\n",
    "\n",
    "criterion = nn.CrossEntropyLoss(weight = weights.half())\n",
    "\n",
    "# state = torch.load(\"../input/fmosel/model_optimizer34.pt\")\n",
    "# model.load_state_dict(state['model_state_dict'])\n",
    "# model.half()\n",
    "# model.cuda()\n",
    "# optimizer.load_state_dict(state['optimizer_state_dict'])"
   ]
  },
  {
   "cell_type": "code",
   "execution_count": 11,
   "id": "b5f1bec1",
   "metadata": {
    "execution": {
     "iopub.execute_input": "2022-06-12T16:53:11.559581Z",
     "iopub.status.busy": "2022-06-12T16:53:11.559080Z",
     "iopub.status.idle": "2022-06-12T16:53:11.564905Z",
     "shell.execute_reply": "2022-06-12T16:53:11.564286Z"
    },
    "papermill": {
     "duration": 0.094249,
     "end_time": "2022-06-12T16:53:11.568646",
     "exception": false,
     "start_time": "2022-06-12T16:53:11.474397",
     "status": "completed"
    },
    "tags": []
   },
   "outputs": [],
   "source": [
    "#print('Number of model parameters: {}'.format(sum([p.data.nelement() for p in model.parameters()])))"
   ]
  },
  {
   "cell_type": "code",
   "execution_count": 12,
   "id": "c1ef9d3a",
   "metadata": {
    "execution": {
     "iopub.execute_input": "2022-06-12T16:53:11.705631Z",
     "iopub.status.busy": "2022-06-12T16:53:11.705336Z",
     "iopub.status.idle": "2022-06-12T16:53:11.708769Z",
     "shell.execute_reply": "2022-06-12T16:53:11.708145Z"
    },
    "papermill": {
     "duration": 0.076741,
     "end_time": "2022-06-12T16:53:11.712604",
     "exception": false,
     "start_time": "2022-06-12T16:53:11.635863",
     "status": "completed"
    },
    "tags": []
   },
   "outputs": [],
   "source": [
    "#summary(model, (1, 512, 640), device='cpu')#1334+986 =2330"
   ]
  },
  {
   "cell_type": "code",
   "execution_count": null,
   "id": "8e0da7fa",
   "metadata": {
    "execution": {
     "iopub.execute_input": "2022-06-12T15:00:18.76358Z",
     "iopub.status.busy": "2022-06-12T15:00:18.763314Z"
    },
    "papermill": {
     "duration": 0.067853,
     "end_time": "2022-06-12T16:53:11.849373",
     "exception": false,
     "start_time": "2022-06-12T16:53:11.781520",
     "status": "completed"
    },
    "tags": []
   },
   "outputs": [],
   "source": []
  },
  {
   "cell_type": "code",
   "execution_count": 13,
   "id": "a8c14a0e",
   "metadata": {
    "execution": {
     "iopub.execute_input": "2022-06-12T16:53:11.985975Z",
     "iopub.status.busy": "2022-06-12T16:53:11.985665Z",
     "iopub.status.idle": "2022-06-12T17:19:59.314360Z",
     "shell.execute_reply": "2022-06-12T17:19:59.312782Z"
    },
    "papermill": {
     "duration": 1607.400111,
     "end_time": "2022-06-12T17:19:59.316348",
     "exception": false,
     "start_time": "2022-06-12T16:53:11.916237",
     "status": "completed"
    },
    "tags": []
   },
   "outputs": [
    {
     "name": "stdout",
     "output_type": "stream",
     "text": [
      "file p01_n002\n",
      "file p06_n019\n",
      "file p06_n007\n",
      "file p01_n053\n",
      "file p04_n074\n",
      "file p05_n077\n",
      "Train start\n",
      "Epoch: 1 , Training Accuracy: 90/1368 (7%) Training Loss: 0.216059\n",
      "Epoch: 2 , Training Accuracy: 219/1368 (16%) Training Loss: 0.176734\n",
      "Epoch: 3 , Training Accuracy: 389/1368 (28%) Training Loss: 0.137640\n",
      "Epoch: 4 , Training Accuracy: 590/1368 (43%) Training Loss: 0.100729\n",
      "Epoch: 5 , Training Accuracy: 753/1368 (55%) Training Loss: 0.070814\n",
      "Validate Accuracy: 225/342 (66%)\n",
      "Epoch: 6 , Training Accuracy: 993/1368 (73%) Training Loss: 0.039461\n",
      "Epoch: 7 , Training Accuracy: 1069/1368 (78%) Training Loss: 0.030265\n",
      "Epoch: 8 , Training Accuracy: 1097/1368 (80%) Training Loss: 0.026047\n",
      "Epoch: 9 , Training Accuracy: 1120/1368 (82%) Training Loss: 0.024520\n",
      "Epoch: 10 , Training Accuracy: 1156/1368 (85%) Training Loss: 0.022081\n",
      "Validate Accuracy: 280/342 (82%)\n",
      "Epoch: 11 , Training Accuracy: 1173/1368 (86%) Training Loss: 0.018924\n",
      "Epoch: 12 , Training Accuracy: 1200/1368 (88%) Training Loss: 0.017100\n",
      "Epoch: 13 , Training Accuracy: 1219/1368 (89%) Training Loss: 0.016538\n",
      "Epoch: 14 , Training Accuracy: 1237/1368 (90%) Training Loss: 0.014224\n",
      "Epoch: 15 , Training Accuracy: 1253/1368 (92%) Training Loss: 0.012361\n",
      "Validate Accuracy: 300/342 (88%)\n",
      "Epoch: 16 , Training Accuracy: 1268/1368 (93%) Training Loss: 0.011812\n",
      "Epoch: 17 , Training Accuracy: 1279/1368 (93%) Training Loss: 0.010520\n",
      "Epoch: 18 , Training Accuracy: 1302/1368 (95%) Training Loss: 0.009101\n",
      "Validating Accuracy: 311/342 (91%)\n",
      "breakout\n"
     ]
    }
   ],
   "source": [
    "trainloader, valloader = load_dataloaders(batch_size=16,start=0, end=6)#73 not included \n",
    "scheduler = torch.optim.lr_scheduler.StepLR(optimizer, step_size=5, gamma=0.1) \n",
    "model, optimizer = train(model,device,trainloader,valloader,scheduler,optimizer,criterion,30,1e-2)"
   ]
  },
  {
   "cell_type": "code",
   "execution_count": 14,
   "id": "fb34cb25",
   "metadata": {
    "execution": {
     "iopub.execute_input": "2022-06-12T17:19:59.457197Z",
     "iopub.status.busy": "2022-06-12T17:19:59.456842Z",
     "iopub.status.idle": "2022-06-12T18:04:36.953385Z",
     "shell.execute_reply": "2022-06-12T18:04:36.952306Z"
    },
    "papermill": {
     "duration": 2677.587961,
     "end_time": "2022-06-12T18:04:36.956701",
     "exception": false,
     "start_time": "2022-06-12T17:19:59.368740",
     "status": "completed"
    },
    "tags": []
   },
   "outputs": [
    {
     "name": "stdout",
     "output_type": "stream",
     "text": [
      "file p05_n027\n",
      "file p05_n022\n",
      "file p01_n110\n",
      "file p06_n036\n",
      "file p01_n069\n",
      "file p06_n109\n",
      "Train start\n",
      "Epoch: 1 , Training Accuracy: 300/1422 (21%) Training Loss: 0.207919\n",
      "Epoch: 2 , Training Accuracy: 639/1422 (45%) Training Loss: 0.095690\n",
      "Epoch: 3 , Training Accuracy: 871/1422 (61%) Training Loss: 0.056393\n",
      "Epoch: 4 , Training Accuracy: 1021/1422 (72%) Training Loss: 0.037834\n",
      "Epoch: 5 , Training Accuracy: 1128/1422 (79%) Training Loss: 0.027530\n",
      "Validate Accuracy: 191/356 (54%)\n",
      "Epoch: 6 , Training Accuracy: 1181/1422 (83%) Training Loss: 0.019137\n",
      "Epoch: 7 , Training Accuracy: 1237/1422 (87%) Training Loss: 0.013076\n",
      "Epoch: 8 , Training Accuracy: 1281/1422 (90%) Training Loss: 0.010233\n",
      "Epoch: 9 , Training Accuracy: 1285/1422 (90%) Training Loss: 0.009426\n",
      "Epoch: 10 , Training Accuracy: 1287/1422 (91%) Training Loss: 0.009313\n",
      "Validate Accuracy: 303/356 (85%)\n",
      "Epoch: 11 , Training Accuracy: 1300/1422 (91%) Training Loss: 0.008324\n",
      "Epoch: 12 , Training Accuracy: 1301/1422 (91%) Training Loss: 0.008018\n",
      "Epoch: 13 , Training Accuracy: 1306/1422 (92%) Training Loss: 0.007662\n",
      "Epoch: 14 , Training Accuracy: 1312/1422 (92%) Training Loss: 0.007670\n",
      "Epoch: 15 , Training Accuracy: 1321/1422 (93%) Training Loss: 0.006720\n",
      "Validate Accuracy: 309/356 (87%)\n",
      "Epoch: 16 , Training Accuracy: 1323/1422 (93%) Training Loss: 0.006353\n",
      "Epoch: 17 , Training Accuracy: 1321/1422 (93%) Training Loss: 0.006778\n",
      "Epoch: 18 , Training Accuracy: 1321/1422 (93%) Training Loss: 0.006384\n",
      "Epoch: 19 , Training Accuracy: 1322/1422 (93%) Training Loss: 0.006287\n",
      "Epoch: 20 , Training Accuracy: 1333/1422 (94%) Training Loss: 0.006035\n",
      "Validate Accuracy: 310/356 (87%)\n",
      "Epoch: 21 , Training Accuracy: 1327/1422 (93%) Training Loss: 0.005981\n",
      "Epoch: 22 , Training Accuracy: 1327/1422 (93%) Training Loss: 0.005657\n",
      "Epoch: 23 , Training Accuracy: 1338/1422 (94%) Training Loss: 0.005746\n",
      "Epoch: 24 , Training Accuracy: 1334/1422 (94%) Training Loss: 0.005587\n",
      "Epoch: 25 , Training Accuracy: 1337/1422 (94%) Training Loss: 0.005458\n",
      "Validate Accuracy: 312/356 (88%)\n",
      "Epoch: 26 , Training Accuracy: 1343/1422 (94%) Training Loss: 0.005332\n",
      "Epoch: 27 , Training Accuracy: 1339/1422 (94%) Training Loss: 0.005694\n",
      "Epoch: 28 , Training Accuracy: 1335/1422 (94%) Training Loss: 0.005370\n",
      "Epoch: 29 , Training Accuracy: 1348/1422 (95%) Training Loss: 0.004946\n",
      "Epoch: 30 , Training Accuracy: 1348/1422 (95%) Training Loss: 0.004866\n",
      "Validate Accuracy: 316/356 (89%)\n",
      "test set  Accuracy: 316/356 (89%)\n"
     ]
    }
   ],
   "source": [
    "trainloader, valloader = load_dataloaders(batch_size=16,start=6, end=12)#73 not included \n",
    "scheduler = torch.optim.lr_scheduler.StepLR(optimizer, step_size=5, gamma=0.1) \n",
    "model, optimizer = train(model,device,trainloader,valloader,scheduler,optimizer,criterion,30,1e-2)"
   ]
  },
  {
   "cell_type": "code",
   "execution_count": 15,
   "id": "57dbbbe7",
   "metadata": {
    "execution": {
     "iopub.execute_input": "2022-06-12T18:04:37.091560Z",
     "iopub.status.busy": "2022-06-12T18:04:37.091160Z",
     "iopub.status.idle": "2022-06-12T18:15:05.258777Z",
     "shell.execute_reply": "2022-06-12T18:15:05.258020Z"
    },
    "papermill": {
     "duration": 628.238054,
     "end_time": "2022-06-12T18:15:05.261593",
     "exception": false,
     "start_time": "2022-06-12T18:04:37.023539",
     "status": "completed"
    },
    "tags": []
   },
   "outputs": [
    {
     "name": "stdout",
     "output_type": "stream",
     "text": [
      "file p04_n089\n",
      "file p01_n044\n",
      "file p05_n037\n",
      "file p04_n038\n",
      "file p06_n055\n",
      "file p01_n099\n",
      "Train start\n",
      "Epoch: 1 , Training Accuracy: 559/1380 (41%) Training Loss: 0.154587\n",
      "Epoch: 2 , Training Accuracy: 970/1380 (70%) Training Loss: 0.051636\n",
      "Epoch: 3 , Training Accuracy: 1097/1380 (79%) Training Loss: 0.029317\n",
      "Epoch: 4 , Training Accuracy: 1148/1380 (83%) Training Loss: 0.023647\n",
      "Epoch: 5 , Training Accuracy: 1239/1380 (90%) Training Loss: 0.011124\n",
      "Validate Accuracy: 325/346 (94%)\n",
      "Epoch: 6 , Training Accuracy: 1313/1380 (95%) Training Loss: 0.006418\n",
      "Validating Accuracy: 326/346 (94%)\n",
      "breakout\n"
     ]
    }
   ],
   "source": [
    "trainloader, valloader = load_dataloaders(batch_size=16,start=12, end=18)#73 not included \n",
    "scheduler = torch.optim.lr_scheduler.StepLR(optimizer, step_size=5, gamma=0.1) \n",
    "model, optimizer = train(model,device,trainloader,valloader,scheduler,optimizer,criterion,30,1e-2)"
   ]
  },
  {
   "cell_type": "code",
   "execution_count": 16,
   "id": "5576580e",
   "metadata": {
    "execution": {
     "iopub.execute_input": "2022-06-12T18:15:05.419529Z",
     "iopub.status.busy": "2022-06-12T18:15:05.419257Z",
     "iopub.status.idle": "2022-06-12T18:33:14.166764Z",
     "shell.execute_reply": "2022-06-12T18:33:14.165827Z"
    },
    "papermill": {
     "duration": 1088.823438,
     "end_time": "2022-06-12T18:33:14.169608",
     "exception": false,
     "start_time": "2022-06-12T18:15:05.346170",
     "status": "completed"
    },
    "tags": []
   },
   "outputs": [
    {
     "name": "stdout",
     "output_type": "stream",
     "text": [
      "file p02_n066\n",
      "file p04_n035\n",
      "file p01_n057\n",
      "file p01_n105\n",
      "file p04_n058\n",
      "file p05_n043\n",
      "Train start\n",
      "Epoch: 1 , Training Accuracy: 401/1102 (36%) Training Loss: 0.255567\n",
      "Epoch: 2 , Training Accuracy: 686/1102 (62%) Training Loss: 0.113121\n",
      "Epoch: 3 , Training Accuracy: 810/1102 (74%) Training Loss: 0.071901\n",
      "Epoch: 4 , Training Accuracy: 905/1102 (82%) Training Loss: 0.047044\n",
      "Epoch: 5 , Training Accuracy: 939/1102 (85%) Training Loss: 0.033755\n",
      "Validate Accuracy: 242/276 (88%)\n",
      "Epoch: 6 , Training Accuracy: 973/1102 (88%) Training Loss: 0.026554\n",
      "Epoch: 7 , Training Accuracy: 985/1102 (89%) Training Loss: 0.019999\n",
      "Epoch: 8 , Training Accuracy: 1010/1102 (92%) Training Loss: 0.014649\n",
      "Epoch: 9 , Training Accuracy: 1025/1102 (93%) Training Loss: 0.011661\n",
      "Epoch: 10 , Training Accuracy: 1027/1102 (93%) Training Loss: 0.010376\n",
      "Validate Accuracy: 247/276 (89%)\n",
      "Epoch: 11 , Training Accuracy: 1028/1102 (93%) Training Loss: 0.008684\n",
      "Epoch: 12 , Training Accuracy: 1034/1102 (94%) Training Loss: 0.008193\n",
      "Epoch: 13 , Training Accuracy: 1040/1102 (94%) Training Loss: 0.007179\n",
      "Epoch: 14 , Training Accuracy: 1045/1102 (95%) Training Loss: 0.007114\n",
      "Epoch: 15 , Training Accuracy: 1048/1102 (95%) Training Loss: 0.006164\n",
      "Validating Accuracy: 252/276 (91%)\n",
      "breakout\n"
     ]
    }
   ],
   "source": [
    "trainloader, valloader = load_dataloaders(batch_size=16,start=18, end=24)#73 not included \n",
    "scheduler = torch.optim.lr_scheduler.StepLR(optimizer, step_size=5, gamma=0.1) \n",
    "model, optimizer = train(model,device,trainloader,valloader,scheduler,optimizer,criterion,30,1e-3)"
   ]
  },
  {
   "cell_type": "code",
   "execution_count": 17,
   "id": "f6fb1165",
   "metadata": {
    "execution": {
     "iopub.execute_input": "2022-06-12T18:33:14.332484Z",
     "iopub.status.busy": "2022-06-12T18:33:14.332033Z",
     "iopub.status.idle": "2022-06-12T18:43:15.359011Z",
     "shell.execute_reply": "2022-06-12T18:43:15.358126Z"
    },
    "papermill": {
     "duration": 601.11116,
     "end_time": "2022-06-12T18:43:15.361393",
     "exception": false,
     "start_time": "2022-06-12T18:33:14.250233",
     "status": "completed"
    },
    "tags": []
   },
   "outputs": [
    {
     "name": "stdout",
     "output_type": "stream",
     "text": [
      "file p06_n020\n",
      "file p02_n001\n",
      "file p04_n032\n",
      "file p05_n084\n",
      "file p01_n102\n",
      "file p06_n096\n",
      "Train start\n",
      "Epoch: 1 , Training Accuracy: 553/1338 (41%) Training Loss: 0.148285\n",
      "Epoch: 2 , Training Accuracy: 944/1338 (71%) Training Loss: 0.047304\n",
      "Epoch: 3 , Training Accuracy: 1106/1338 (83%) Training Loss: 0.025739\n",
      "Epoch: 4 , Training Accuracy: 1188/1338 (89%) Training Loss: 0.012488\n",
      "Epoch: 5 , Training Accuracy: 1253/1338 (94%) Training Loss: 0.007135\n",
      "Validate Accuracy: 306/335 (91%)\n",
      "Epoch: 6 , Training Accuracy: 1303/1338 (97%) Training Loss: 0.003400\n",
      "Validating Accuracy: 309/335 (92%)\n",
      "breakout\n"
     ]
    }
   ],
   "source": [
    "trainloader, valloader = load_dataloaders(batch_size=16,start=24, end=30)#73 not included \n",
    "scheduler = torch.optim.lr_scheduler.StepLR(optimizer, step_size=5, gamma=0.1) \n",
    "model, optimizer = train(model,device,trainloader,valloader,scheduler,optimizer,criterion,30,1e-2)"
   ]
  },
  {
   "cell_type": "code",
   "execution_count": 18,
   "id": "afebed59",
   "metadata": {
    "execution": {
     "iopub.execute_input": "2022-06-12T18:43:15.531921Z",
     "iopub.status.busy": "2022-06-12T18:43:15.531689Z",
     "iopub.status.idle": "2022-06-12T18:51:26.285498Z",
     "shell.execute_reply": "2022-06-12T18:51:26.284574Z"
    },
    "papermill": {
     "duration": 490.841759,
     "end_time": "2022-06-12T18:51:26.287632",
     "exception": false,
     "start_time": "2022-06-12T18:43:15.445873",
     "status": "completed"
    },
    "tags": []
   },
   "outputs": [
    {
     "name": "stdout",
     "output_type": "stream",
     "text": [
      "file p02_n104\n",
      "file p01_n090\n",
      "file p01_n040\n",
      "file p04_n073\n",
      "file p01_n067\n",
      "file p05_n004\n",
      "Train start\n",
      "Epoch: 1 , Training Accuracy: 516/1277 (40%) Training Loss: 0.151150\n",
      "Epoch: 2 , Training Accuracy: 973/1277 (76%) Training Loss: 0.037240\n",
      "Epoch: 3 , Training Accuracy: 1108/1277 (87%) Training Loss: 0.017337\n",
      "Epoch: 4 , Training Accuracy: 1197/1277 (94%) Training Loss: 0.006516\n",
      "Epoch: 5 , Training Accuracy: 1241/1277 (97%) Training Loss: 0.003590\n",
      "Validating Accuracy: 295/320 (92%)\n",
      "breakout\n"
     ]
    }
   ],
   "source": [
    "trainloader, valloader = load_dataloaders(batch_size=16,start=30, end=36)#73 not included \n",
    "scheduler = torch.optim.lr_scheduler.StepLR(optimizer, step_size=5, gamma=0.1) \n",
    "model, optimizer = train(model,device,trainloader,valloader,scheduler,optimizer,criterion,30,1e-2)"
   ]
  },
  {
   "cell_type": "code",
   "execution_count": 19,
   "id": "70117eaa",
   "metadata": {
    "execution": {
     "iopub.execute_input": "2022-06-12T18:51:26.470279Z",
     "iopub.status.busy": "2022-06-12T18:51:26.468904Z",
     "iopub.status.idle": "2022-06-12T18:54:48.585217Z",
     "shell.execute_reply": "2022-06-12T18:54:48.584237Z"
    },
    "papermill": {
     "duration": 202.212556,
     "end_time": "2022-06-12T18:54:48.588070",
     "exception": false,
     "start_time": "2022-06-12T18:51:26.375514",
     "status": "completed"
    },
    "tags": []
   },
   "outputs": [
    {
     "name": "stdout",
     "output_type": "stream",
     "text": [
      "file p02_n104\n",
      "file p01_n090\n",
      "file p01_n040\n",
      "file p04_n073\n",
      "file p01_n067\n",
      "file p05_n004\n",
      "Train start\n",
      "Epoch: 1 , Training Accuracy: 1269/1277 (99%) Training Loss: 0.002041\n",
      "Validating Accuracy: 294/320 (92%)\n",
      "breakout\n"
     ]
    }
   ],
   "source": [
    "trainloader, valloader = load_dataloaders(batch_size=16,start=30, end=36)#73 not included \n",
    "scheduler = torch.optim.lr_scheduler.StepLR(optimizer, step_size=5, gamma=0.1) \n",
    "model, optimizer = train(model,device,trainloader,valloader,scheduler,optimizer,criterion,30,1e-3)"
   ]
  },
  {
   "cell_type": "code",
   "execution_count": 20,
   "id": "7090cee7",
   "metadata": {
    "execution": {
     "iopub.execute_input": "2022-06-12T18:54:48.790024Z",
     "iopub.status.busy": "2022-06-12T18:54:48.789350Z",
     "iopub.status.idle": "2022-06-12T19:04:12.940696Z",
     "shell.execute_reply": "2022-06-12T19:04:12.939586Z"
    },
    "papermill": {
     "duration": 564.254358,
     "end_time": "2022-06-12T19:04:12.943812",
     "exception": false,
     "start_time": "2022-06-12T18:54:48.689454",
     "status": "completed"
    },
    "tags": []
   },
   "outputs": [
    {
     "name": "stdout",
     "output_type": "stream",
     "text": [
      "file p06_n061\n",
      "file p05_n092\n",
      "file p06_n015\n",
      "file p04_n106\n",
      "file p05_n095\n",
      "file p02_n072\n",
      "Train start\n",
      "Epoch: 1 , Training Accuracy: 794/1440 (55%) Training Loss: 0.101476\n",
      "Epoch: 2 , Training Accuracy: 1163/1440 (81%) Training Loss: 0.028264\n",
      "Epoch: 3 , Training Accuracy: 1306/1440 (91%) Training Loss: 0.010532\n",
      "Epoch: 4 , Training Accuracy: 1364/1440 (95%) Training Loss: 0.005840\n",
      "Epoch: 5 , Training Accuracy: 1408/1440 (98%) Training Loss: 0.002668\n",
      "Validating Accuracy: 332/360 (92%)\n",
      "breakout\n"
     ]
    }
   ],
   "source": [
    "trainloader, valloader = load_dataloaders(batch_size=16,start=36, end=42)#73 not included \n",
    "scheduler = torch.optim.lr_scheduler.StepLR(optimizer, step_size=5, gamma=0.1) \n",
    "model, optimizer = train(model,device,trainloader,valloader,scheduler,optimizer,criterion,30,1e-2)"
   ]
  },
  {
   "cell_type": "code",
   "execution_count": 21,
   "id": "932a53d7",
   "metadata": {
    "execution": {
     "iopub.execute_input": "2022-06-12T19:04:13.140814Z",
     "iopub.status.busy": "2022-06-12T19:04:13.140552Z",
     "iopub.status.idle": "2022-06-12T19:30:27.764208Z",
     "shell.execute_reply": "2022-06-12T19:30:27.763187Z"
    },
    "papermill": {
     "duration": 1574.724887,
     "end_time": "2022-06-12T19:30:27.767671",
     "exception": false,
     "start_time": "2022-06-12T19:04:13.042784",
     "status": "completed"
    },
    "tags": []
   },
   "outputs": [
    {
     "name": "stdout",
     "output_type": "stream",
     "text": [
      "file p05_n031\n",
      "file p01_n060\n",
      "file p05_n048\n",
      "file p05_n029\n",
      "file p01_n000\n",
      "file p01_n050\n",
      "Train start\n",
      "Epoch: 1 , Training Accuracy: 582/1220 (48%) Training Loss: 0.135600\n",
      "Epoch: 2 , Training Accuracy: 961/1220 (79%) Training Loss: 0.030862\n",
      "Epoch: 3 , Training Accuracy: 1088/1220 (89%) Training Loss: 0.012970\n",
      "Epoch: 4 , Training Accuracy: 1116/1220 (91%) Training Loss: 0.010160\n",
      "Epoch: 5 , Training Accuracy: 1119/1220 (92%) Training Loss: 0.008678\n",
      "Validate Accuracy: 266/305 (87%)\n",
      "Epoch: 6 , Training Accuracy: 1121/1220 (92%) Training Loss: 0.008969\n",
      "Epoch: 7 , Training Accuracy: 1131/1220 (93%) Training Loss: 0.007777\n",
      "Epoch: 8 , Training Accuracy: 1127/1220 (92%) Training Loss: 0.008087\n",
      "Epoch: 9 , Training Accuracy: 1137/1220 (93%) Training Loss: 0.007538\n",
      "Epoch: 10 , Training Accuracy: 1137/1220 (93%) Training Loss: 0.006383\n",
      "Validate Accuracy: 273/305 (90%)\n",
      "Epoch: 11 , Training Accuracy: 1134/1220 (93%) Training Loss: 0.007317\n",
      "Epoch: 12 , Training Accuracy: 1140/1220 (93%) Training Loss: 0.006485\n",
      "Epoch: 13 , Training Accuracy: 1142/1220 (94%) Training Loss: 0.006936\n",
      "Epoch: 14 , Training Accuracy: 1137/1220 (93%) Training Loss: 0.006433\n",
      "Epoch: 15 , Training Accuracy: 1145/1220 (94%) Training Loss: 0.005559\n",
      "Validate Accuracy: 277/305 (91%)\n",
      "Epoch: 16 , Training Accuracy: 1151/1220 (94%) Training Loss: 0.005846\n",
      "Epoch: 17 , Training Accuracy: 1145/1220 (94%) Training Loss: 0.005739\n",
      "Epoch: 18 , Training Accuracy: 1155/1220 (95%) Training Loss: 0.006583\n",
      "Epoch: 19 , Training Accuracy: 1151/1220 (94%) Training Loss: 0.005851\n",
      "Epoch: 20 , Training Accuracy: 1160/1220 (95%) Training Loss: 0.005341\n",
      "Validating Accuracy: 279/305 (91%)\n",
      "breakout\n"
     ]
    }
   ],
   "source": [
    "trainloader, valloader = load_dataloaders(batch_size=16,start=42, end=48)#73 not included \n",
    "scheduler = torch.optim.lr_scheduler.StepLR(optimizer, step_size=2, gamma=0.1) \n",
    "model, optimizer = train(model,device,trainloader,valloader,scheduler,optimizer,criterion,30,1e-2)"
   ]
  },
  {
   "cell_type": "code",
   "execution_count": 22,
   "id": "34a7229c",
   "metadata": {
    "execution": {
     "iopub.execute_input": "2022-06-12T19:30:27.998829Z",
     "iopub.status.busy": "2022-06-12T19:30:27.998191Z",
     "iopub.status.idle": "2022-06-12T20:01:48.823909Z",
     "shell.execute_reply": "2022-06-12T20:01:48.823054Z"
    },
    "papermill": {
     "duration": 1880.944205,
     "end_time": "2022-06-12T20:01:48.826331",
     "exception": false,
     "start_time": "2022-06-12T19:30:27.882126",
     "status": "completed"
    },
    "tags": []
   },
   "outputs": [
    {
     "name": "stdout",
     "output_type": "stream",
     "text": [
      "file p05_n025\n",
      "file p04_n011\n",
      "file p01_n023\n",
      "file p01_n042\n",
      "file p01_n111\n",
      "file p05_n083\n",
      "Train start\n",
      "Epoch: 1 , Training Accuracy: 490/1201 (41%) Training Loss: 0.186810\n",
      "Epoch: 2 , Training Accuracy: 792/1201 (66%) Training Loss: 0.078810\n",
      "Epoch: 3 , Training Accuracy: 889/1201 (74%) Training Loss: 0.053428\n",
      "Epoch: 4 , Training Accuracy: 944/1201 (79%) Training Loss: 0.041053\n",
      "Epoch: 5 , Training Accuracy: 988/1201 (82%) Training Loss: 0.035374\n",
      "Validate Accuracy: 252/301 (84%)\n",
      "Epoch: 6 , Training Accuracy: 1015/1201 (85%) Training Loss: 0.029991\n",
      "Epoch: 7 , Training Accuracy: 1025/1201 (85%) Training Loss: 0.025218\n",
      "Epoch: 8 , Training Accuracy: 1050/1201 (87%) Training Loss: 0.020846\n",
      "Epoch: 9 , Training Accuracy: 1071/1201 (89%) Training Loss: 0.017118\n",
      "Epoch: 10 , Training Accuracy: 1077/1201 (90%) Training Loss: 0.013983\n",
      "Validate Accuracy: 264/301 (88%)\n",
      "Epoch: 11 , Training Accuracy: 1096/1201 (91%) Training Loss: 0.016923\n",
      "Epoch: 12 , Training Accuracy: 1104/1201 (92%) Training Loss: 0.010744\n",
      "Epoch: 13 , Training Accuracy: 1119/1201 (93%) Training Loss: 0.013265\n",
      "Epoch: 14 , Training Accuracy: 1112/1201 (93%) Training Loss: 0.012822\n",
      "Epoch: 15 , Training Accuracy: 1113/1201 (93%) Training Loss: 0.012323\n",
      "Validate Accuracy: 272/301 (90%)\n",
      "Epoch: 16 , Training Accuracy: 1115/1201 (93%) Training Loss: 0.012478\n",
      "Epoch: 17 , Training Accuracy: 1115/1201 (93%) Training Loss: 0.010472\n",
      "Epoch: 18 , Training Accuracy: 1117/1201 (93%) Training Loss: 0.012902\n",
      "Epoch: 19 , Training Accuracy: 1124/1201 (94%) Training Loss: 0.010005\n",
      "Epoch: 20 , Training Accuracy: 1128/1201 (94%) Training Loss: 0.010669\n",
      "Validate Accuracy: 269/301 (89%)\n",
      "Epoch: 21 , Training Accuracy: 1126/1201 (94%) Training Loss: 0.010260\n",
      "Epoch: 22 , Training Accuracy: 1129/1201 (94%) Training Loss: 0.009080\n",
      "Epoch: 23 , Training Accuracy: 1130/1201 (94%) Training Loss: 0.008831\n",
      "Epoch: 24 , Training Accuracy: 1136/1201 (95%) Training Loss: 0.008850\n",
      "Epoch: 25 , Training Accuracy: 1143/1201 (95%) Training Loss: 0.009310\n",
      "Validating Accuracy: 269/301 (89%)\n",
      "breakout\n"
     ]
    }
   ],
   "source": [
    "trainloader, valloader = load_dataloaders(batch_size=16,start=48, end=54)#73 not included \n",
    "scheduler = torch.optim.lr_scheduler.StepLR(optimizer, step_size=5, gamma=0.1) \n",
    "model, optimizer = train(model,device,trainloader,valloader,scheduler,optimizer,criterion,30,1e-3)"
   ]
  },
  {
   "cell_type": "code",
   "execution_count": 23,
   "id": "942af167",
   "metadata": {
    "execution": {
     "iopub.execute_input": "2022-06-12T20:01:49.082738Z",
     "iopub.status.busy": "2022-06-12T20:01:49.082468Z",
     "iopub.status.idle": "2022-06-12T20:11:00.391659Z",
     "shell.execute_reply": "2022-06-12T20:11:00.390797Z"
    },
    "papermill": {
     "duration": 551.445195,
     "end_time": "2022-06-12T20:11:00.393798",
     "exception": false,
     "start_time": "2022-06-12T20:01:48.948603",
     "status": "completed"
    },
    "tags": []
   },
   "outputs": [
    {
     "name": "stdout",
     "output_type": "stream",
     "text": [
      "file p05_n094\n",
      "file p04_n103\n",
      "file p01_n093\n",
      "file p04_n003\n",
      "file p05_n078\n",
      "file p01_n052\n",
      "Train start\n",
      "Epoch: 1 , Training Accuracy: 497/800 (62%) Training Loss: 0.084719\n",
      "Epoch: 2 , Training Accuracy: 700/800 (88%) Training Loss: 0.015254\n",
      "Epoch: 3 , Training Accuracy: 747/800 (93%) Training Loss: 0.008330\n",
      "Epoch: 4 , Training Accuracy: 744/800 (93%) Training Loss: 0.006802\n",
      "Epoch: 5 , Training Accuracy: 748/800 (94%) Training Loss: 0.006235\n",
      "Validate Accuracy: 184/200 (92%)\n",
      "Epoch: 6 , Training Accuracy: 752/800 (94%) Training Loss: 0.005752\n",
      "Epoch: 7 , Training Accuracy: 755/800 (94%) Training Loss: 0.004985\n",
      "Epoch: 8 , Training Accuracy: 756/800 (94%) Training Loss: 0.005158\n",
      "Epoch: 9 , Training Accuracy: 752/800 (94%) Training Loss: 0.005148\n",
      "Epoch: 10 , Training Accuracy: 761/800 (95%) Training Loss: 0.004426\n",
      "Validating Accuracy: 187/200 (94%)\n",
      "breakout\n"
     ]
    }
   ],
   "source": [
    "trainloader, valloader = load_dataloaders(batch_size=16,start=54, end=60)#73 not included \n",
    "scheduler = torch.optim.lr_scheduler.StepLR(optimizer, step_size=2, gamma=0.1) \n",
    "model, optimizer = train(model,device,trainloader,valloader,scheduler,optimizer,criterion,30,1e-2)"
   ]
  },
  {
   "cell_type": "code",
   "execution_count": 24,
   "id": "1ff130b2",
   "metadata": {
    "execution": {
     "iopub.execute_input": "2022-06-12T20:11:00.646594Z",
     "iopub.status.busy": "2022-06-12T20:11:00.646031Z",
     "iopub.status.idle": "2022-06-12T20:52:34.843072Z",
     "shell.execute_reply": "2022-06-12T20:52:34.842105Z"
    },
    "papermill": {
     "duration": 2494.327691,
     "end_time": "2022-06-12T20:52:34.845230",
     "exception": false,
     "start_time": "2022-06-12T20:11:00.517539",
     "status": "completed"
    },
    "tags": []
   },
   "outputs": [
    {
     "name": "stdout",
     "output_type": "stream",
     "text": [
      "file p02_n098\n",
      "file p06_n013\n",
      "file p05_n006\n",
      "file p01_n063\n",
      "file p02_n097\n",
      "file p05_n065\n",
      "Train start\n",
      "Epoch: 1 , Training Accuracy: 667/1426 (47%) Training Loss: 0.121744\n",
      "Epoch: 2 , Training Accuracy: 1130/1426 (79%) Training Loss: 0.028184\n",
      "Epoch: 3 , Training Accuracy: 1250/1426 (88%) Training Loss: 0.013311\n",
      "Epoch: 4 , Training Accuracy: 1280/1426 (90%) Training Loss: 0.010402\n",
      "Epoch: 5 , Training Accuracy: 1287/1426 (90%) Training Loss: 0.010684\n",
      "Validate Accuracy: 307/357 (86%)\n",
      "Epoch: 6 , Training Accuracy: 1288/1426 (90%) Training Loss: 0.009905\n",
      "Epoch: 7 , Training Accuracy: 1287/1426 (90%) Training Loss: 0.009724\n",
      "Epoch: 8 , Training Accuracy: 1294/1426 (91%) Training Loss: 0.011507\n",
      "Epoch: 9 , Training Accuracy: 1301/1426 (91%) Training Loss: 0.009282\n",
      "Epoch: 10 , Training Accuracy: 1309/1426 (92%) Training Loss: 0.008264\n",
      "Validate Accuracy: 308/357 (86%)\n",
      "Epoch: 11 , Training Accuracy: 1301/1426 (91%) Training Loss: 0.009015\n",
      "Epoch: 12 , Training Accuracy: 1317/1426 (92%) Training Loss: 0.007981\n",
      "Epoch: 13 , Training Accuracy: 1309/1426 (92%) Training Loss: 0.007463\n",
      "Epoch: 14 , Training Accuracy: 1319/1426 (92%) Training Loss: 0.008715\n",
      "Epoch: 15 , Training Accuracy: 1317/1426 (92%) Training Loss: 0.007627\n",
      "Validate Accuracy: 315/357 (88%)\n",
      "Epoch: 16 , Training Accuracy: 1303/1426 (91%) Training Loss: 0.007854\n",
      "Epoch: 17 , Training Accuracy: 1320/1426 (93%) Training Loss: 0.007278\n",
      "Epoch: 18 , Training Accuracy: 1333/1426 (93%) Training Loss: 0.007595\n",
      "Epoch: 19 , Training Accuracy: 1331/1426 (93%) Training Loss: 0.007329\n",
      "Epoch: 20 , Training Accuracy: 1320/1426 (93%) Training Loss: 0.006785\n",
      "Validate Accuracy: 313/357 (88%)\n",
      "Epoch: 21 , Training Accuracy: 1339/1426 (94%) Training Loss: 0.007036\n",
      "Epoch: 22 , Training Accuracy: 1344/1426 (94%) Training Loss: 0.007431\n",
      "Epoch: 23 , Training Accuracy: 1336/1426 (94%) Training Loss: 0.006463\n",
      "Epoch: 24 , Training Accuracy: 1336/1426 (94%) Training Loss: 0.005852\n",
      "Epoch: 25 , Training Accuracy: 1334/1426 (94%) Training Loss: 0.005683\n",
      "Validate Accuracy: 315/357 (88%)\n",
      "Epoch: 26 , Training Accuracy: 1349/1426 (95%) Training Loss: 0.005215\n",
      "Epoch: 27 , Training Accuracy: 1345/1426 (94%) Training Loss: 0.005787\n",
      "Epoch: 28 , Training Accuracy: 1358/1426 (95%) Training Loss: 0.006593\n",
      "Validating Accuracy: 318/357 (89%)\n",
      "breakout\n"
     ]
    }
   ],
   "source": [
    "trainloader, valloader = load_dataloaders(batch_size=16,start=60, end=66)#73 not included \n",
    "scheduler = torch.optim.lr_scheduler.StepLR(optimizer, step_size=2, gamma=0.1) \n",
    "model, optimizer = train(model,device,trainloader,valloader,scheduler,optimizer,criterion,30,1e-2)"
   ]
  },
  {
   "cell_type": "code",
   "execution_count": 25,
   "id": "95059349",
   "metadata": {
    "execution": {
     "iopub.execute_input": "2022-06-12T20:52:35.123956Z",
     "iopub.status.busy": "2022-06-12T20:52:35.123677Z",
     "iopub.status.idle": "2022-06-12T20:58:44.474707Z",
     "shell.execute_reply": "2022-06-12T20:58:44.473640Z"
    },
    "papermill": {
     "duration": 369.4941,
     "end_time": "2022-06-12T20:58:44.477486",
     "exception": false,
     "start_time": "2022-06-12T20:52:34.983386",
     "status": "completed"
    },
    "tags": []
   },
   "outputs": [
    {
     "name": "stdout",
     "output_type": "stream",
     "text": [
      "file p01_n108\n",
      "file p06_n018\n",
      "file p05_n009\n",
      "file p05_n071\n",
      "file p04_n091\n",
      "file p05_n075\n",
      "Train start\n",
      "Epoch: 1 , Training Accuracy: 487/828 (59%) Training Loss: 0.111180\n",
      "Epoch: 2 , Training Accuracy: 732/828 (88%) Training Loss: 0.017254\n",
      "Epoch: 3 , Training Accuracy: 768/828 (93%) Training Loss: 0.007670\n",
      "Epoch: 4 , Training Accuracy: 786/828 (95%) Training Loss: 0.006367\n",
      "Epoch: 5 , Training Accuracy: 784/828 (95%) Training Loss: 0.005526\n",
      "Validate Accuracy: 190/208 (91%)\n",
      "Epoch: 6 , Training Accuracy: 790/828 (95%) Training Loss: 0.005555\n",
      "Validating Accuracy: 189/208 (91%)\n",
      "breakout\n"
     ]
    }
   ],
   "source": [
    "trainloader, valloader = load_dataloaders(batch_size=16,start=66, end=72)#73 not included \n",
    "scheduler = torch.optim.lr_scheduler.StepLR(optimizer, step_size=2, gamma=0.1) \n",
    "model, optimizer = train(model,device,trainloader,valloader,scheduler,optimizer,criterion,30,1e-2)"
   ]
  },
  {
   "cell_type": "code",
   "execution_count": 26,
   "id": "036c502b",
   "metadata": {
    "execution": {
     "iopub.execute_input": "2022-06-12T20:58:44.768170Z",
     "iopub.status.busy": "2022-06-12T20:58:44.767641Z",
     "iopub.status.idle": "2022-06-12T21:27:29.339373Z",
     "shell.execute_reply": "2022-06-12T21:27:29.338443Z"
    },
    "papermill": {
     "duration": 1724.719644,
     "end_time": "2022-06-12T21:27:29.341451",
     "exception": false,
     "start_time": "2022-06-12T20:58:44.621807",
     "status": "completed"
    },
    "tags": []
   },
   "outputs": [
    {
     "name": "stdout",
     "output_type": "stream",
     "text": [
      "file p01_n012\n",
      "file p05_n076\n",
      "file p04_n005\n",
      "file p04_n046\n",
      "file p01_n045\n",
      "file p05_n041\n",
      "Train start\n",
      "Epoch: 1 , Training Accuracy: 514/1296 (40%) Training Loss: 0.190071\n",
      "Epoch: 2 , Training Accuracy: 864/1296 (67%) Training Loss: 0.074351\n",
      "Epoch: 3 , Training Accuracy: 963/1296 (74%) Training Loss: 0.049773\n",
      "Epoch: 4 , Training Accuracy: 1024/1296 (79%) Training Loss: 0.036311\n",
      "Epoch: 5 , Training Accuracy: 1066/1296 (82%) Training Loss: 0.030289\n",
      "Validate Accuracy: 263/324 (81%)\n",
      "Epoch: 6 , Training Accuracy: 1093/1296 (84%) Training Loss: 0.024681\n",
      "Epoch: 7 , Training Accuracy: 1128/1296 (87%) Training Loss: 0.020268\n",
      "Epoch: 8 , Training Accuracy: 1141/1296 (88%) Training Loss: 0.018751\n",
      "Epoch: 9 , Training Accuracy: 1148/1296 (89%) Training Loss: 0.016282\n",
      "Epoch: 10 , Training Accuracy: 1174/1296 (91%) Training Loss: 0.014055\n",
      "Validate Accuracy: 277/324 (85%)\n",
      "Epoch: 11 , Training Accuracy: 1180/1296 (91%) Training Loss: 0.013012\n",
      "Epoch: 12 , Training Accuracy: 1193/1296 (92%) Training Loss: 0.012232\n",
      "Epoch: 13 , Training Accuracy: 1197/1296 (92%) Training Loss: 0.010696\n",
      "Epoch: 14 , Training Accuracy: 1214/1296 (94%) Training Loss: 0.009307\n",
      "Epoch: 15 , Training Accuracy: 1200/1296 (93%) Training Loss: 0.010007\n",
      "Validate Accuracy: 289/324 (89%)\n",
      "Epoch: 16 , Training Accuracy: 1214/1296 (94%) Training Loss: 0.008168\n",
      "Epoch: 17 , Training Accuracy: 1213/1296 (94%) Training Loss: 0.008764\n",
      "Epoch: 18 , Training Accuracy: 1227/1296 (95%) Training Loss: 0.007855\n",
      "Epoch: 19 , Training Accuracy: 1229/1296 (95%) Training Loss: 0.007541\n",
      "Epoch: 20 , Training Accuracy: 1228/1296 (95%) Training Loss: 0.007600\n",
      "Validate Accuracy: 292/324 (90%)\n",
      "Epoch: 21 , Training Accuracy: 1233/1296 (95%) Training Loss: 0.006839\n",
      "Validating Accuracy: 291/324 (90%)\n",
      "breakout\n"
     ]
    }
   ],
   "source": [
    "trainloader, valloader = load_dataloaders(batch_size=16,start=72, end=78)#73 not included \n",
    "scheduler = torch.optim.lr_scheduler.StepLR(optimizer, step_size=5, gamma=0.1) \n",
    "model, optimizer = train(model,device,trainloader,valloader,scheduler,optimizer,criterion,30,1e-3)"
   ]
  },
  {
   "cell_type": "code",
   "execution_count": 27,
   "id": "33869646",
   "metadata": {
    "execution": {
     "iopub.execute_input": "2022-06-12T21:27:29.855538Z",
     "iopub.status.busy": "2022-06-12T21:27:29.855054Z",
     "iopub.status.idle": "2022-06-12T21:45:23.940275Z",
     "shell.execute_reply": "2022-06-12T21:45:23.939426Z"
    },
    "papermill": {
     "duration": 1074.340328,
     "end_time": "2022-06-12T21:45:23.942341",
     "exception": false,
     "start_time": "2022-06-12T21:27:29.602013",
     "status": "completed"
    },
    "tags": []
   },
   "outputs": [
    {
     "name": "stdout",
     "output_type": "stream",
     "text": [
      "file p01_n008\n",
      "file p02_n101\n",
      "file p01_n085\n",
      "file p05_n064\n",
      "file p05_n017\n",
      "file p01_n028\n",
      "Train start\n",
      "Epoch: 1 , Training Accuracy: 615/1332 (46%) Training Loss: 0.146038\n",
      "Epoch: 2 , Training Accuracy: 965/1332 (72%) Training Loss: 0.051996\n",
      "Epoch: 3 , Training Accuracy: 1071/1332 (80%) Training Loss: 0.031580\n",
      "Epoch: 4 , Training Accuracy: 1137/1332 (85%) Training Loss: 0.024866\n",
      "Epoch: 5 , Training Accuracy: 1175/1332 (88%) Training Loss: 0.017638\n",
      "Validate Accuracy: 272/334 (81%)\n",
      "Epoch: 6 , Training Accuracy: 1196/1332 (90%) Training Loss: 0.016112\n",
      "Epoch: 7 , Training Accuracy: 1219/1332 (92%) Training Loss: 0.013074\n",
      "Epoch: 8 , Training Accuracy: 1224/1332 (92%) Training Loss: 0.010617\n",
      "Epoch: 9 , Training Accuracy: 1238/1332 (93%) Training Loss: 0.008990\n",
      "Epoch: 10 , Training Accuracy: 1244/1332 (93%) Training Loss: 0.008888\n",
      "Validate Accuracy: 289/334 (87%)\n",
      "Epoch: 11 , Training Accuracy: 1250/1332 (94%) Training Loss: 0.008130\n",
      "Epoch: 12 , Training Accuracy: 1272/1332 (95%) Training Loss: 0.007726\n",
      "Validating Accuracy: 293/334 (88%)\n",
      "breakout\n"
     ]
    }
   ],
   "source": [
    "trainloader, valloader = load_dataloaders(batch_size=16,start=78, end=84)#73 not included \n",
    "scheduler = torch.optim.lr_scheduler.StepLR(optimizer, step_size=5, gamma=0.1) \n",
    "model, optimizer = train(model,device,trainloader,valloader,scheduler,optimizer,criterion,30,1e-3)"
   ]
  },
  {
   "cell_type": "code",
   "execution_count": 28,
   "id": "dcb59e83",
   "metadata": {
    "execution": {
     "iopub.execute_input": "2022-06-12T21:45:24.264707Z",
     "iopub.status.busy": "2022-06-12T21:45:24.263996Z",
     "iopub.status.idle": "2022-06-12T22:21:04.190989Z",
     "shell.execute_reply": "2022-06-12T22:21:04.190135Z"
    },
    "papermill": {
     "duration": 2140.089778,
     "end_time": "2022-06-12T22:21:04.193375",
     "exception": false,
     "start_time": "2022-06-12T21:45:24.103597",
     "status": "completed"
    },
    "tags": []
   },
   "outputs": [
    {
     "name": "stdout",
     "output_type": "stream",
     "text": [
      "file p02_n079\n",
      "file p01_n010\n",
      "file p01_n082\n",
      "file p01_n107\n",
      "file p02_n088\n",
      "file p01_n087\n",
      "Train start\n",
      "Epoch: 1 , Training Accuracy: 346/1146 (30%) Training Loss: 0.160455\n",
      "Epoch: 2 , Training Accuracy: 723/1146 (63%) Training Loss: 0.051595\n",
      "Epoch: 3 , Training Accuracy: 862/1146 (75%) Training Loss: 0.031025\n",
      "Epoch: 4 , Training Accuracy: 900/1146 (79%) Training Loss: 0.024598\n",
      "Epoch: 5 , Training Accuracy: 926/1146 (81%) Training Loss: 0.021893\n",
      "Validate Accuracy: 222/287 (77%)\n",
      "Epoch: 6 , Training Accuracy: 923/1146 (81%) Training Loss: 0.021779\n",
      "Epoch: 7 , Training Accuracy: 936/1146 (82%) Training Loss: 0.020535\n",
      "Epoch: 8 , Training Accuracy: 952/1146 (83%) Training Loss: 0.019105\n",
      "Epoch: 9 , Training Accuracy: 955/1146 (83%) Training Loss: 0.017914\n",
      "Epoch: 10 , Training Accuracy: 949/1146 (83%) Training Loss: 0.017565\n",
      "Validate Accuracy: 226/287 (79%)\n",
      "Epoch: 11 , Training Accuracy: 975/1146 (85%) Training Loss: 0.016544\n",
      "Epoch: 12 , Training Accuracy: 958/1146 (84%) Training Loss: 0.016879\n",
      "Epoch: 13 , Training Accuracy: 977/1146 (85%) Training Loss: 0.015616\n",
      "Epoch: 14 , Training Accuracy: 980/1146 (86%) Training Loss: 0.015452\n",
      "Epoch: 15 , Training Accuracy: 982/1146 (86%) Training Loss: 0.014647\n",
      "Validate Accuracy: 231/287 (80%)\n",
      "Epoch: 16 , Training Accuracy: 983/1146 (86%) Training Loss: 0.014840\n",
      "Epoch: 17 , Training Accuracy: 989/1146 (86%) Training Loss: 0.014191\n",
      "Epoch: 18 , Training Accuracy: 986/1146 (86%) Training Loss: 0.013432\n",
      "Epoch: 19 , Training Accuracy: 1000/1146 (87%) Training Loss: 0.013439\n",
      "Epoch: 20 , Training Accuracy: 995/1146 (87%) Training Loss: 0.013642\n",
      "Validate Accuracy: 239/287 (83%)\n",
      "Epoch: 21 , Training Accuracy: 1006/1146 (88%) Training Loss: 0.013130\n",
      "Epoch: 22 , Training Accuracy: 998/1146 (87%) Training Loss: 0.013118\n",
      "Epoch: 23 , Training Accuracy: 1011/1146 (88%) Training Loss: 0.012271\n",
      "Epoch: 24 , Training Accuracy: 1005/1146 (88%) Training Loss: 0.011611\n",
      "Epoch: 25 , Training Accuracy: 1014/1146 (88%) Training Loss: 0.011515\n",
      "Validate Accuracy: 244/287 (85%)\n",
      "Epoch: 26 , Training Accuracy: 1011/1146 (88%) Training Loss: 0.011594\n",
      "Epoch: 27 , Training Accuracy: 1011/1146 (88%) Training Loss: 0.011463\n",
      "Epoch: 28 , Training Accuracy: 1031/1146 (90%) Training Loss: 0.010611\n",
      "Epoch: 29 , Training Accuracy: 1033/1146 (90%) Training Loss: 0.011031\n",
      "Epoch: 30 , Training Accuracy: 1031/1146 (90%) Training Loss: 0.009893\n",
      "Validate Accuracy: 244/287 (85%)\n",
      "test set  Accuracy: 244/287 (85%)\n"
     ]
    }
   ],
   "source": [
    "trainloader, valloader = load_dataloaders(batch_size=16,start=84, end=90)#73 not included \n",
    "scheduler = torch.optim.lr_scheduler.StepLR(optimizer, step_size=2, gamma=0.1) \n",
    "model, optimizer = train(model,device,trainloader,valloader,scheduler,optimizer,criterion,30,1e-2)"
   ]
  },
  {
   "cell_type": "code",
   "execution_count": 29,
   "id": "7a269d00",
   "metadata": {
    "execution": {
     "iopub.execute_input": "2022-06-12T22:21:04.542408Z",
     "iopub.status.busy": "2022-06-12T22:21:04.542173Z",
     "iopub.status.idle": "2022-06-12T22:42:12.407507Z",
     "shell.execute_reply": "2022-06-12T22:42:12.406525Z"
    },
    "papermill": {
     "duration": 1268.04187,
     "end_time": "2022-06-12T22:42:12.410461",
     "exception": false,
     "start_time": "2022-06-12T22:21:04.368591",
     "status": "completed"
    },
    "tags": []
   },
   "outputs": [
    {
     "name": "stdout",
     "output_type": "stream",
     "text": [
      "file p05_n086\n",
      "file p06_n024\n",
      "file p05_n070\n",
      "file p04_n016\n",
      "file p04_n068\n",
      "file p04_n026\n",
      "Train start\n",
      "Epoch: 1 , Training Accuracy: 436/1152 (38%) Training Loss: 0.190598\n",
      "Epoch: 2 , Training Accuracy: 742/1152 (64%) Training Loss: 0.067578\n",
      "Epoch: 3 , Training Accuracy: 873/1152 (76%) Training Loss: 0.041641\n",
      "Epoch: 4 , Training Accuracy: 950/1152 (82%) Training Loss: 0.030883\n",
      "Epoch: 5 , Training Accuracy: 984/1152 (85%) Training Loss: 0.023764\n",
      "Validate Accuracy: 242/289 (84%)\n",
      "Epoch: 6 , Training Accuracy: 1011/1152 (88%) Training Loss: 0.019327\n",
      "Epoch: 7 , Training Accuracy: 1023/1152 (89%) Training Loss: 0.015743\n",
      "Epoch: 8 , Training Accuracy: 1035/1152 (90%) Training Loss: 0.014563\n",
      "Epoch: 9 , Training Accuracy: 1056/1152 (92%) Training Loss: 0.012833\n",
      "Epoch: 10 , Training Accuracy: 1064/1152 (92%) Training Loss: 0.011613\n",
      "Validate Accuracy: 256/289 (89%)\n",
      "Epoch: 11 , Training Accuracy: 1077/1152 (93%) Training Loss: 0.009587\n",
      "Epoch: 12 , Training Accuracy: 1073/1152 (93%) Training Loss: 0.010015\n",
      "Epoch: 13 , Training Accuracy: 1082/1152 (94%) Training Loss: 0.009343\n",
      "Epoch: 14 , Training Accuracy: 1087/1152 (94%) Training Loss: 0.008794\n",
      "Epoch: 15 , Training Accuracy: 1091/1152 (95%) Training Loss: 0.007899\n",
      "Validate Accuracy: 258/289 (89%)\n",
      "Epoch: 16 , Training Accuracy: 1090/1152 (95%) Training Loss: 0.007527\n",
      "Epoch: 17 , Training Accuracy: 1099/1152 (95%) Training Loss: 0.006584\n",
      "Validating Accuracy: 259/289 (90%)\n",
      "breakout\n"
     ]
    }
   ],
   "source": [
    "trainloader, valloader = load_dataloaders(batch_size=16,start=90, end=96)#73 not included \n",
    "scheduler = torch.optim.lr_scheduler.StepLR(optimizer, step_size=5, gamma=0.1) \n",
    "model, optimizer = train(model,device,trainloader,valloader,scheduler,optimizer,criterion,30,1e-3)"
   ]
  },
  {
   "cell_type": "code",
   "execution_count": 30,
   "id": "104ee7ba",
   "metadata": {
    "execution": {
     "iopub.execute_input": "2022-06-12T22:42:13.382934Z",
     "iopub.status.busy": "2022-06-12T22:42:13.382380Z",
     "iopub.status.idle": "2022-06-12T22:54:40.156899Z",
     "shell.execute_reply": "2022-06-12T22:54:40.155785Z"
    },
    "papermill": {
     "duration": 747.561412,
     "end_time": "2022-06-12T22:54:40.159203",
     "exception": false,
     "start_time": "2022-06-12T22:42:12.597791",
     "status": "completed"
    },
    "tags": []
   },
   "outputs": [
    {
     "name": "stdout",
     "output_type": "stream",
     "text": [
      "file p06_n039\n",
      "file p06_n014\n",
      "file p05_n059\n",
      "file p02_n051\n",
      "file p06_n056\n",
      "file p04_n080\n",
      "Train start\n",
      "Epoch: 1 , Training Accuracy: 470/1115 (42%) Training Loss: 0.146659\n",
      "Epoch: 2 , Training Accuracy: 851/1115 (76%) Training Loss: 0.040801\n",
      "Epoch: 3 , Training Accuracy: 941/1115 (84%) Training Loss: 0.026040\n",
      "Epoch: 4 , Training Accuracy: 986/1115 (88%) Training Loss: 0.017838\n",
      "Epoch: 5 , Training Accuracy: 1006/1115 (90%) Training Loss: 0.013409\n",
      "Validate Accuracy: 240/279 (86%)\n",
      "Epoch: 6 , Training Accuracy: 1024/1115 (92%) Training Loss: 0.010900\n",
      "Epoch: 7 , Training Accuracy: 1034/1115 (93%) Training Loss: 0.010105\n",
      "Epoch: 8 , Training Accuracy: 1046/1115 (94%) Training Loss: 0.008590\n",
      "Epoch: 9 , Training Accuracy: 1051/1115 (94%) Training Loss: 0.007171\n",
      "Epoch: 10 , Training Accuracy: 1062/1115 (95%) Training Loss: 0.006833\n",
      "Validating Accuracy: 246/279 (88%)\n",
      "breakout\n"
     ]
    }
   ],
   "source": [
    "trainloader, valloader = load_dataloaders(batch_size=16,start=96, end=102)#73 not included \n",
    "scheduler = torch.optim.lr_scheduler.StepLR(optimizer, step_size=5, gamma=0.1) \n",
    "model, optimizer = train(model,device,trainloader,valloader,scheduler,optimizer,criterion,30,1e-3)"
   ]
  },
  {
   "cell_type": "code",
   "execution_count": 31,
   "id": "cc316a84",
   "metadata": {
    "execution": {
     "iopub.execute_input": "2022-06-12T22:54:40.538914Z",
     "iopub.status.busy": "2022-06-12T22:54:40.538605Z",
     "iopub.status.idle": "2022-06-12T23:03:52.362970Z",
     "shell.execute_reply": "2022-06-12T23:03:52.362037Z"
    },
    "papermill": {
     "duration": 552.01646,
     "end_time": "2022-06-12T23:03:52.365065",
     "exception": false,
     "start_time": "2022-06-12T22:54:40.348605",
     "status": "completed"
    },
    "tags": []
   },
   "outputs": [
    {
     "name": "stdout",
     "output_type": "stream",
     "text": [
      "file p05_n062\n",
      "file p04_n034\n",
      "file p04_n049\n",
      "file p06_n033\n",
      "file p02_n100\n",
      "file p04_n030\n",
      "Train start\n",
      "Epoch: 1 , Training Accuracy: 584/1000 (58%) Training Loss: 0.100868\n",
      "Epoch: 2 , Training Accuracy: 876/1000 (88%) Training Loss: 0.022717\n",
      "Epoch: 3 , Training Accuracy: 905/1000 (90%) Training Loss: 0.014816\n",
      "Epoch: 4 , Training Accuracy: 921/1000 (92%) Training Loss: 0.011331\n",
      "Epoch: 5 , Training Accuracy: 941/1000 (94%) Training Loss: 0.008742\n",
      "Validate Accuracy: 230/250 (92%)\n",
      "Epoch: 6 , Training Accuracy: 949/1000 (95%) Training Loss: 0.007453\n",
      "Epoch: 7 , Training Accuracy: 946/1000 (95%) Training Loss: 0.006584\n",
      "Epoch: 8 , Training Accuracy: 959/1000 (96%) Training Loss: 0.006402\n",
      "Validating Accuracy: 233/250 (93%)\n",
      "breakout\n"
     ]
    }
   ],
   "source": [
    "trainloader, valloader = load_dataloaders(batch_size=16,start=102, end=108)#73 not included \n",
    "scheduler = torch.optim.lr_scheduler.StepLR(optimizer, step_size=5, gamma=0.1) \n",
    "model, optimizer = train(model,device,trainloader,valloader,scheduler,optimizer,criterion,30,1e-3)"
   ]
  },
  {
   "cell_type": "code",
   "execution_count": 32,
   "id": "d35326e2",
   "metadata": {
    "execution": {
     "iopub.execute_input": "2022-06-12T23:03:52.758294Z",
     "iopub.status.busy": "2022-06-12T23:03:52.758026Z",
     "iopub.status.idle": "2022-06-12T23:05:11.579584Z",
     "shell.execute_reply": "2022-06-12T23:05:11.576880Z"
    },
    "papermill": {
     "duration": 79.22023,
     "end_time": "2022-06-12T23:05:11.780828",
     "exception": false,
     "start_time": "2022-06-12T23:03:52.560598",
     "status": "completed"
    },
    "tags": []
   },
   "outputs": [
    {
     "name": "stdout",
     "output_type": "stream",
     "text": [
      "file p06_n054\n",
      "file p05_n047\n",
      "file p06_n021\n",
      "file p01_n081\n",
      "Validate Accuracy: 346/1157 (30%)\n"
     ]
    }
   ],
   "source": [
    "trainloader = load_testloader(batch_size=16,start=108, end=112)#73 not included \n",
    "test(model,device,trainloader)"
   ]
  },
  {
   "cell_type": "markdown",
   "id": "768f51d7",
   "metadata": {
    "papermill": {
     "duration": 0.20052,
     "end_time": "2022-06-12T23:05:12.188011",
     "exception": false,
     "start_time": "2022-06-12T23:05:11.987491",
     "status": "completed"
    },
    "tags": []
   },
   "source": []
  },
  {
   "cell_type": "code",
   "execution_count": 33,
   "id": "2dab7fa2",
   "metadata": {
    "execution": {
     "iopub.execute_input": "2022-06-12T23:05:12.732567Z",
     "iopub.status.busy": "2022-06-12T23:05:12.732296Z",
     "iopub.status.idle": "2022-06-12T23:05:17.014309Z",
     "shell.execute_reply": "2022-06-12T23:05:17.013397Z"
    },
    "papermill": {
     "duration": 4.627299,
     "end_time": "2022-06-12T23:05:17.016470",
     "exception": false,
     "start_time": "2022-06-12T23:05:12.389171",
     "status": "completed"
    },
    "tags": []
   },
   "outputs": [
    {
     "name": "stdout",
     "output_type": "stream",
     "text": [
      "tensor([ 8, 27, 16,  8,  8,  8,  8, 16,  8,  8,  8,  8,  8, 27,  8, 16],\n",
      "       device='cuda:0')\n",
      "tensor([ 8,  8, 16,  8,  8, 16, 16,  8,  8, 16,  8, 16, 27,  8,  8,  8],\n",
      "       device='cuda:0')\n",
      "tensor([ 8,  8,  8,  8,  8,  8, 16, 27,  8,  8,  8, 16, 27,  8, 16,  8],\n",
      "       device='cuda:0')\n",
      "tensor([27,  8], device='cuda:0')\n"
     ]
    }
   ],
   "source": [
    "trainloader= load_vid(batch_size=16,start=1000, end=3000)#73 not included \n",
    "evluate(model,device,trainloader)"
   ]
  },
  {
   "cell_type": "code",
   "execution_count": null,
   "id": "9c291844",
   "metadata": {
    "papermill": {
     "duration": 0.324572,
     "end_time": "2022-06-12T23:05:17.627983",
     "exception": false,
     "start_time": "2022-06-12T23:05:17.303411",
     "status": "completed"
    },
    "tags": []
   },
   "outputs": [],
   "source": []
  },
  {
   "cell_type": "code",
   "execution_count": null,
   "id": "855a7a43",
   "metadata": {
    "papermill": {
     "duration": 0.324862,
     "end_time": "2022-06-12T23:05:18.270978",
     "exception": false,
     "start_time": "2022-06-12T23:05:17.946116",
     "status": "completed"
    },
    "tags": []
   },
   "outputs": [],
   "source": []
  }
 ],
 "metadata": {
  "kernelspec": {
   "display_name": "Python 3",
   "language": "python",
   "name": "python3"
  },
  "language_info": {
   "codemirror_mode": {
    "name": "ipython",
    "version": 3
   },
   "file_extension": ".py",
   "mimetype": "text/x-python",
   "name": "python",
   "nbconvert_exporter": "python",
   "pygments_lexer": "ipython3",
   "version": "3.7.12"
  },
  "papermill": {
   "default_parameters": {},
   "duration": 22369.995676,
   "end_time": "2022-06-12T23:05:20.506033",
   "environment_variables": {},
   "exception": null,
   "input_path": "__notebook__.ipynb",
   "output_path": "__notebook__.ipynb",
   "parameters": {},
   "start_time": "2022-06-12T16:52:30.510357",
   "version": "2.3.4"
  }
 },
 "nbformat": 4,
 "nbformat_minor": 5
}
