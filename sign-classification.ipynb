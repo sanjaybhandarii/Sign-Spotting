{
 "cells": [
  {
   "cell_type": "code",
   "execution_count": 1,
   "id": "01431522",
   "metadata": {
    "execution": {
     "iopub.execute_input": "2022-06-11T15:48:25.526368Z",
     "iopub.status.busy": "2022-06-11T15:48:25.525833Z",
     "iopub.status.idle": "2022-06-11T15:48:52.703446Z",
     "shell.execute_reply": "2022-06-11T15:48:52.702583Z"
    },
    "papermill": {
     "duration": 27.205291,
     "end_time": "2022-06-11T15:48:52.705731",
     "exception": false,
     "start_time": "2022-06-11T15:48:25.500440",
     "status": "completed"
    },
    "tags": []
   },
   "outputs": [
    {
     "name": "stdout",
     "output_type": "stream",
     "text": [
      "Collecting pytorchvideo\r\n",
      "  Downloading pytorchvideo-0.1.5.tar.gz (132 kB)\r\n",
      "\u001b[2K     \u001b[90m━━━━━━━━━━━━━━━━━━━━━━━━━━━━━━━━━━━━━\u001b[0m \u001b[32m132.7/132.7 KB\u001b[0m \u001b[31m660.2 kB/s\u001b[0m eta \u001b[36m0:00:00\u001b[0m\r\n",
      "\u001b[?25h  Preparing metadata (setup.py) ... \u001b[?25l-\b \bdone\r\n",
      "\u001b[?25hCollecting fvcore\r\n",
      "  Downloading fvcore-0.1.5.post20220512.tar.gz (50 kB)\r\n",
      "\u001b[2K     \u001b[90m━━━━━━━━━━━━━━━━━━━━━━━━━━━━━━━━━━━━━━━━\u001b[0m \u001b[32m50.1/50.1 KB\u001b[0m \u001b[31m2.5 MB/s\u001b[0m eta \u001b[36m0:00:00\u001b[0m\r\n",
      "\u001b[?25h  Preparing metadata (setup.py) ... \u001b[?25l-\b \bdone\r\n",
      "\u001b[?25hCollecting av\r\n",
      "  Downloading av-9.2.0-cp37-cp37m-manylinux_2_17_x86_64.manylinux2014_x86_64.whl (28.2 MB)\r\n",
      "\u001b[2K     \u001b[90m━━━━━━━━━━━━━━━━━━━━━━━━━━━━━━━━━━━━━━━━\u001b[0m \u001b[32m28.2/28.2 MB\u001b[0m \u001b[31m22.8 MB/s\u001b[0m eta \u001b[36m0:00:00\u001b[0m\r\n",
      "\u001b[?25hCollecting parameterized\r\n",
      "  Downloading parameterized-0.8.1-py2.py3-none-any.whl (26 kB)\r\n",
      "Collecting iopath\r\n",
      "  Downloading iopath-0.1.9-py3-none-any.whl (27 kB)\r\n",
      "Requirement already satisfied: networkx in /opt/conda/lib/python3.7/site-packages (from pytorchvideo) (2.5)\r\n",
      "Requirement already satisfied: numpy in /opt/conda/lib/python3.7/site-packages (from fvcore->pytorchvideo) (1.21.6)\r\n",
      "Requirement already satisfied: yacs>=0.1.6 in /opt/conda/lib/python3.7/site-packages (from fvcore->pytorchvideo) (0.1.8)\r\n",
      "Requirement already satisfied: pyyaml>=5.1 in /opt/conda/lib/python3.7/site-packages (from fvcore->pytorchvideo) (6.0)\r\n",
      "Requirement already satisfied: tqdm in /opt/conda/lib/python3.7/site-packages (from fvcore->pytorchvideo) (4.63.0)\r\n",
      "Requirement already satisfied: termcolor>=1.1 in /opt/conda/lib/python3.7/site-packages (from fvcore->pytorchvideo) (1.1.0)\r\n",
      "Requirement already satisfied: Pillow in /opt/conda/lib/python3.7/site-packages (from fvcore->pytorchvideo) (9.0.1)\r\n",
      "Requirement already satisfied: tabulate in /opt/conda/lib/python3.7/site-packages (from fvcore->pytorchvideo) (0.8.9)\r\n",
      "Requirement already satisfied: portalocker in /opt/conda/lib/python3.7/site-packages (from iopath->pytorchvideo) (2.4.0)\r\n",
      "Requirement already satisfied: decorator>=4.3.0 in /opt/conda/lib/python3.7/site-packages (from networkx->pytorchvideo) (5.1.1)\r\n",
      "Building wheels for collected packages: pytorchvideo, fvcore\r\n",
      "  Building wheel for pytorchvideo (setup.py) ... \u001b[?25l-\b \b\\\b \bdone\r\n",
      "\u001b[?25h  Created wheel for pytorchvideo: filename=pytorchvideo-0.1.5-py3-none-any.whl size=188714 sha256=727fdd47aaf1ef937f7bf9bf89e08acc1b7ceec6163d857d04c9d49d5fe27b6c\r\n",
      "  Stored in directory: /root/.cache/pip/wheels/e8/51/05/053b29bac2400cbbae2fb7cfc41afd280d627bca7c9363ca80\r\n",
      "  Building wheel for fvcore (setup.py) ... \u001b[?25l-\b \bdone\r\n",
      "\u001b[?25h  Created wheel for fvcore: filename=fvcore-0.1.5.post20220512-py3-none-any.whl size=61288 sha256=b91fc73309f90a627db5ecb0f83c0405142259a485438c0b217dba70e55e2911\r\n",
      "  Stored in directory: /root/.cache/pip/wheels/68/20/f9/a11a0dd63f4c13678b2a5ec488e48078756505c7777b75b29e\r\n",
      "Successfully built pytorchvideo fvcore\r\n",
      "Installing collected packages: parameterized, av, iopath, fvcore, pytorchvideo\r\n",
      "Successfully installed av-9.2.0 fvcore-0.1.5.post20220512 iopath-0.1.9 parameterized-0.8.1 pytorchvideo-0.1.5\r\n",
      "\u001b[33mWARNING: Running pip as the 'root' user can result in broken permissions and conflicting behaviour with the system package manager. It is recommended to use a virtual environment instead: https://pip.pypa.io/warnings/venv\u001b[0m\u001b[33m\r\n",
      "\u001b[0mCollecting torchsummary\r\n",
      "  Downloading torchsummary-1.5.1-py3-none-any.whl (2.8 kB)\r\n",
      "Installing collected packages: torchsummary\r\n",
      "Successfully installed torchsummary-1.5.1\r\n",
      "\u001b[33mWARNING: Running pip as the 'root' user can result in broken permissions and conflicting behaviour with the system package manager. It is recommended to use a virtual environment instead: https://pip.pypa.io/warnings/venv\u001b[0m\u001b[33m\r\n",
      "\u001b[0m"
     ]
    }
   ],
   "source": [
    "!pip install pytorchvideo\n",
    "!pip install torchsummary"
   ]
  },
  {
   "cell_type": "code",
   "execution_count": 2,
   "id": "0d280876",
   "metadata": {
    "_cell_guid": "b1076dfc-b9ad-4769-8c92-a6c4dae69d19",
    "_uuid": "8f2839f25d086af736a60e9eeb907d3b93b6e0e5",
    "execution": {
     "iopub.execute_input": "2022-06-11T15:48:52.789530Z",
     "iopub.status.busy": "2022-06-11T15:48:52.789292Z",
     "iopub.status.idle": "2022-06-11T15:48:54.724849Z",
     "shell.execute_reply": "2022-06-11T15:48:54.724059Z"
    },
    "papermill": {
     "duration": 1.979645,
     "end_time": "2022-06-11T15:48:54.726904",
     "exception": false,
     "start_time": "2022-06-11T15:48:52.747259",
     "status": "completed"
    },
    "tags": []
   },
   "outputs": [],
   "source": [
    "import torch\n",
    "import numpy as np\n",
    "from torch.utils.data import (\n",
    "    Dataset,\n",
    "    DataLoader,\n",
    ") \n",
    "import pickle\n",
    "\n",
    "\n",
    "import os\n",
    "\n",
    "import math\n",
    "import torch.nn as nn\n",
    "import torch.nn.functional as F\n",
    "\n",
    "from torchvision.transforms import Compose, Lambda, Grayscale,Normalize, CenterCrop,Resize\n",
    "#from torchvision.transforms._transforms_video import CenterCropVideo\n",
    "from pytorchvideo.data.encoded_video import EncodedVideo\n",
    "from pytorchvideo.transforms import (\n",
    "    ApplyTransformToKey,\n",
    "    UniformTemporalSubsample,\n",
    ")\n",
    "\n",
    "from tqdm import tqdm\n",
    "\n",
    "from collections import OrderedDict\n",
    "\n",
    "import torch.optim as optim\n",
    "\n",
    "from torch.autograd import Variable\n",
    "\n",
    "\n",
    "import torchvision.models as models\n",
    "\n",
    "import sys\n",
    "from torchsummary import summary\n",
    "\n",
    "\n",
    "\n",
    "\n",
    "\n",
    "\n",
    "class SignDataset(Dataset):\n",
    "    def __init__(self,x,y):\n",
    "        self.x = x\n",
    "        self.y = y\n",
    "\n",
    "\n",
    "    def __len__(self):\n",
    "\n",
    "        return len(self.y)\n",
    "\n",
    "        # length = 0\n",
    "        # with open(self.file, 'rb') as f:\n",
    "        #     data = pickle.load(f)\n",
    "\n",
    "        # for x in data:\n",
    "        #     length += len(data[x])\n",
    "        # return length\n",
    "\n",
    "\n",
    "    def __getitem__(self, index):\n",
    "        return self.x[index], self.y[index]\n",
    "        "
   ]
  },
  {
   "cell_type": "code",
   "execution_count": 3,
   "id": "6b016e01",
   "metadata": {
    "execution": {
     "iopub.execute_input": "2022-06-11T15:48:54.808145Z",
     "iopub.status.busy": "2022-06-11T15:48:54.807869Z",
     "iopub.status.idle": "2022-06-11T15:48:54.825803Z",
     "shell.execute_reply": "2022-06-11T15:48:54.825007Z"
    },
    "papermill": {
     "duration": 0.061037,
     "end_time": "2022-06-11T15:48:54.827545",
     "exception": false,
     "start_time": "2022-06-11T15:48:54.766508",
     "status": "completed"
    },
    "tags": []
   },
   "outputs": [],
   "source": [
    "IMAGE_HEIGHT = 720\n",
    "IMAGE_WIDTH = 800\n",
    "IMAGE_CHANNEL = 1\n",
    "NUM_FRAMES = 25\n",
    "NUM_CLASSES = 60\n",
    "neg = 0\n",
    "\n",
    "\n",
    "\n",
    "\n",
    "\n",
    "def transform_data(x):\n",
    "    \n",
    "    transform =  ApplyTransformToKey(\n",
    "        key=\"video\",\n",
    "        transform=Compose(\n",
    "            [\n",
    "                Lambda(lambda x: x/255.0),\n",
    "                Normalize(([0.2948, 0.4811, 0.6757]), ([0.1593, 0.1641, 0.2440])),\n",
    "                Grayscale(num_output_channels=1),\n",
    "                CenterCrop([720,900]),\n",
    "                Resize([512,512]),\n",
    "                Lambda(lambda x: x.permute(1,2,3,0)),#(channel, frames(depth), height, width)\n",
    "\n",
    "            ]\n",
    "\n",
    "        ),\n",
    "    )\n",
    "    \n",
    "    return transform(x)\n",
    "\n",
    "def lp_video(video,start_time, end_time):\n",
    "    video_data = video.get_clip(start_sec=float(start_time)/1000.0, end_sec=float(end_time)/1000.0)\n",
    "            #print(video_data[\"video\"].shape)\n",
    " \n",
    "    if video_data[\"video\"] is None:\n",
    "        return None        # or pass\n",
    "    else:\n",
    "    \n",
    "        #video_data[\"video\"] = Grayscale(num_output_channels=1)((video_data[\"video\"]).permute(1,0,2,3))\n",
    "    #             video_data[\"video\"] = video_data[\"video\"]/255\n",
    "                #print(video_data[\"video\"].shape)\n",
    "        video_data[\"video\"] = video_data[\"video\"].permute(1,0,2,3)\n",
    "#         std, mean = torch.std_mean(video_data[\"video\"],dim=[0,2,3])\n",
    "#         std = std/255.0\n",
    "#         #print(std)\n",
    "#         mean = mean/255.0\n",
    "        #print(mean)\n",
    "        video_data = transform_data( video_data)\n",
    "\n",
    "        return video_data[\"video\"]\n",
    "\n",
    "def load_dataloaders(batch_size,start,end):\n",
    "\n",
    "    time_start = []\n",
    "    time_end = []\n",
    "    train_inputs =[] #x\n",
    "    train_classes = [] #y\n",
    "    global neg\n",
    "\n",
    "    with open('../input/signdataset/sign/MSSL_Train_Set/TRAIN/MSSL_TRAIN_SET_GT.pkl', 'rb') as f:\n",
    "        data = pickle.load(f)\n",
    "\n",
    "\n",
    "# keys are files so iterate only limited files due to memory limitations.\n",
    "    for key in list(data.keys())[start:end]:\n",
    "        filename = key\n",
    "        print(\"file\",filename)\n",
    "        video = EncodedVideo.from_path(\"../input/signdataset/sign/MSSL_Train_Set/TRAIN/MSSL_TRAIN_SET_VIDEOS_ELAN/\"+filename+\".mp4\")\n",
    "    # file functions\n",
    "\n",
    "        for x in data[key]:\n",
    "            img_cls = x[0]\n",
    "            time_start.append(x[1])\n",
    "            time_end.append(x[2])\n",
    "            \n",
    "            \n",
    "            # start_time = x[1]\n",
    "            # end_time = x[2]\n",
    "            vid = lp_video(video,x[1], x[2])\n",
    "\n",
    "            for m in torch.unbind(vid, dim=3):\n",
    "                train_classes.append(img_cls)\n",
    "                train_inputs.append(m)\n",
    "\n",
    "\n",
    "            #some negative classes too\n",
    "        for i in range(len(time_start)-4):\n",
    "            if (time_start[i+1]- time_end[i])>1000.0:\n",
    "                start_t = time_end[i]+800.0\n",
    "                end_t = time_end[i]+880.0\n",
    "                vid = lp_video(video,start_t, end_t)\n",
    "                if vid is None:\n",
    "                    break\n",
    "                else:\n",
    "                    for m in torch.unbind(vid, dim=3):\n",
    "                        if neg <= 1300:\n",
    "                            train_classes.append(60)\n",
    "                            train_inputs.append(m)\n",
    "                            neg += 1\n",
    "        print(neg)\n",
    "            \n",
    "        \n",
    "            \n",
    "\n",
    "    signds = SignDataset(train_inputs, train_classes)\n",
    "    trainlen = int(len(signds)*0.8)\n",
    "    torch.manual_seed(0)\n",
    "    \n",
    "    train_set, val_test_set = torch.utils.data.random_split(signds, [trainlen, len(signds)-trainlen])\n",
    "    trainloader = DataLoader(train_set, batch_size=batch_size, shuffle=True, num_workers=2)\n",
    "\n",
    "    valloader = DataLoader(val_test_set, batch_size=batch_size, shuffle=True, num_workers=2)\n",
    "  \n",
    "    return trainloader, valloader\n",
    "        \n",
    "    "
   ]
  },
  {
   "cell_type": "code",
   "execution_count": 4,
   "id": "de15614d",
   "metadata": {
    "execution": {
     "iopub.execute_input": "2022-06-11T15:48:54.911089Z",
     "iopub.status.busy": "2022-06-11T15:48:54.910595Z",
     "iopub.status.idle": "2022-06-11T15:48:54.920838Z",
     "shell.execute_reply": "2022-06-11T15:48:54.920177Z"
    },
    "papermill": {
     "duration": 0.053747,
     "end_time": "2022-06-11T15:48:54.922711",
     "exception": false,
     "start_time": "2022-06-11T15:48:54.868964",
     "status": "completed"
    },
    "tags": []
   },
   "outputs": [],
   "source": [
    "def load_testloader(batch_size,start,end):\n",
    "\n",
    "    time_start = []\n",
    "    time_end = []\n",
    "    train_inputs =[] #x\n",
    "    train_classes = [] #y\n",
    "    \n",
    "\n",
    "    with open('../input/signdataset/sign/MSSL_Train_Set/TRAIN/MSSL_TRAIN_SET_GT.pkl', 'rb') as f:\n",
    "        data = pickle.load(f)\n",
    "\n",
    "\n",
    "# keys are files so iterate only limited files due to memory limitations.\n",
    "    for key in list(data.keys())[start:end]:\n",
    "        filename = key\n",
    "        print(\"file\",filename)\n",
    "        video = EncodedVideo.from_path(\"../input/signdataset/sign/MSSL_Train_Set/TRAIN/MSSL_TRAIN_SET_VIDEOS_ELAN/\"+filename+\".mp4\")\n",
    "    # file functions\n",
    "\n",
    "        for x in data[key]:\n",
    "            img_cls = x[0]\n",
    "            time_start.append(x[1])\n",
    "            time_end.append(x[2])\n",
    "            \n",
    "            \n",
    "            # start_time = x[1]\n",
    "            # end_time = x[2]\n",
    "            vid = lp_video(video,x[1], x[2])\n",
    "\n",
    "            for m in torch.unbind(vid, dim=3):\n",
    "                train_classes.append(img_cls)\n",
    "                train_inputs.append(m)\n",
    "\n",
    "\n",
    "            #some negative classes too\n",
    "        for i in range(0,len(time_start)//2):\n",
    "            if (time_start[i+1]- time_end[i])>1000.0:\n",
    "                start_t = time_end[i]+700.0\n",
    "                end_t = time_end[i]+780.0\n",
    "                vid = lp_video(video,start_t, end_t)\n",
    "                if vid is None:\n",
    "                    break\n",
    "                else:\n",
    "                    for m in torch.unbind(vid, dim=3):\n",
    "                        train_classes.append(60)\n",
    "                        train_inputs.append(m)\n",
    "\n",
    "            \n",
    "        \n",
    "            \n",
    "\n",
    "    signds = SignDataset(train_inputs, train_classes)\n",
    "    \n",
    "    \n",
    "\n",
    "    testloader = DataLoader(signds, batch_size=batch_size, shuffle=True, num_workers=2)\n",
    "\n",
    "    return testloader"
   ]
  },
  {
   "cell_type": "code",
   "execution_count": 5,
   "id": "826c4556",
   "metadata": {
    "execution": {
     "iopub.execute_input": "2022-06-11T15:48:55.002780Z",
     "iopub.status.busy": "2022-06-11T15:48:55.002583Z",
     "iopub.status.idle": "2022-06-11T15:48:55.007476Z",
     "shell.execute_reply": "2022-06-11T15:48:55.006779Z"
    },
    "papermill": {
     "duration": 0.046206,
     "end_time": "2022-06-11T15:48:55.009406",
     "exception": false,
     "start_time": "2022-06-11T15:48:54.963200",
     "status": "completed"
    },
    "tags": []
   },
   "outputs": [],
   "source": [
    "def load_vid(batch_size,start,end):\n",
    "\n",
    "\n",
    "    train_inputs =[] #x\n",
    "\n",
    "    video = EncodedVideo.from_path(\"../input/signdataset/sign/MSSL_Val_Set/VALIDATION/MSSL_VAL_SET_VIDEOS/p01_n131.mp4\")\n",
    "    # file functions\n",
    "\n",
    "    vid = lp_video(video,start, end)\n",
    "\n",
    "    for m in torch.unbind(vid, dim=3):\n",
    "        train_inputs.append(m)\n",
    "\n",
    "    \n",
    "\n",
    "    testloader = DataLoader(train_inputs, batch_size=batch_size, shuffle=True, num_workers=2)\n",
    "\n",
    "    return testloader"
   ]
  },
  {
   "cell_type": "code",
   "execution_count": 6,
   "id": "de4f479f",
   "metadata": {
    "execution": {
     "iopub.execute_input": "2022-06-11T15:48:55.088587Z",
     "iopub.status.busy": "2022-06-11T15:48:55.088242Z",
     "iopub.status.idle": "2022-06-11T15:48:55.124952Z",
     "shell.execute_reply": "2022-06-11T15:48:55.124257Z"
    },
    "papermill": {
     "duration": 0.078193,
     "end_time": "2022-06-11T15:48:55.126661",
     "exception": false,
     "start_time": "2022-06-11T15:48:55.048468",
     "status": "completed"
    },
    "tags": []
   },
   "outputs": [],
   "source": [
    "\"\"\"\n",
    "Creates a EfficientNetV2 Model as defined in:\n",
    "Mingxing Tan, Quoc V. Le. (2021). \n",
    "EfficientNetV2: Smaller Models and Faster Training\n",
    "arXiv preprint arXiv:2104.00298.\n",
    "import from https://github.com/d-li14/mobilenetv2.pytorch\n",
    "\"\"\"\n",
    "\n",
    "\n",
    "\n",
    "__all__ = ['effnetv2_s', 'effnetv2_m', 'effnetv2_l', 'effnetv2_xl']\n",
    "\n",
    "\n",
    "def _make_divisible(v, divisor, min_value=None):\n",
    "    \"\"\"\n",
    "    This function is taken from the original tf repo.\n",
    "    It ensures that all layers have a channel number that is divisible by 8\n",
    "    It can be seen here:\n",
    "    https://github.com/tensorflow/models/blob/master/research/slim/nets/mobilenet/mobilenet.py\n",
    "    :param v:\n",
    "    :param divisor:\n",
    "    :param min_value:\n",
    "    :return:\n",
    "    \"\"\"\n",
    "    if min_value is None:\n",
    "        min_value = divisor\n",
    "    new_v = max(min_value, int(v + divisor / 2) // divisor * divisor)\n",
    "    # Make sure that round down does not go down by more than 10%.\n",
    "    if new_v < 0.9 * v:\n",
    "        new_v += divisor\n",
    "    return new_v\n",
    "\n",
    "\n",
    "# SiLU (Swish) activation function\n",
    "if hasattr(nn, 'SiLU'):\n",
    "    SiLU = nn.SiLU\n",
    "else:\n",
    "    # For compatibility with old PyTorch versions\n",
    "    class SiLU(nn.Module):\n",
    "        def forward(self, x):\n",
    "            return x * torch.sigmoid(x)\n",
    "\n",
    " \n",
    "class SELayer(nn.Module):\n",
    "    def __init__(self, inp, oup, reduction=4):\n",
    "        super(SELayer, self).__init__()\n",
    "        self.avg_pool = nn.AdaptiveAvgPool2d(1)\n",
    "        self.fc = nn.Sequential(\n",
    "                nn.Linear(oup, _make_divisible(inp // reduction, 8)),\n",
    "                SiLU(),\n",
    "                nn.Linear(_make_divisible(inp // reduction, 8), oup),\n",
    "                nn.Sigmoid()\n",
    "        )\n",
    "\n",
    "    def forward(self, x):\n",
    "        b, c, _, _ = x.size()\n",
    "        y = self.avg_pool(x).view(b, c)\n",
    "        y = self.fc(y).view(b, c, 1, 1)\n",
    "        return x * y\n",
    "\n",
    "\n",
    "def conv_3x3_bn(inp, oup, stride):\n",
    "    return nn.Sequential(\n",
    "        nn.Conv2d(inp, oup, 3, stride, 1, bias=False),\n",
    "        nn.BatchNorm2d(oup),\n",
    "        SiLU()\n",
    "    )\n",
    "\n",
    "\n",
    "def conv_1x1_bn(inp, oup):\n",
    "    return nn.Sequential(\n",
    "        nn.Conv2d(inp, oup, 1, 1, 0, bias=False),\n",
    "        nn.BatchNorm2d(oup),\n",
    "        SiLU()\n",
    "    )\n",
    "\n",
    "\n",
    "class MBConv(nn.Module):\n",
    "    def __init__(self, inp, oup, stride, expand_ratio, use_se):\n",
    "        super(MBConv, self).__init__()\n",
    "        assert stride in [1, 2]\n",
    "\n",
    "        hidden_dim = round(inp * expand_ratio)\n",
    "        self.identity = stride == 1 and inp == oup\n",
    "        if use_se:\n",
    "            self.conv = nn.Sequential(\n",
    "                # pw\n",
    "                nn.Conv2d(inp, hidden_dim, 1, 1, 0, bias=False),\n",
    "                nn.BatchNorm2d(hidden_dim),\n",
    "                SiLU(),\n",
    "                # dw\n",
    "                nn.Conv2d(hidden_dim, hidden_dim, 3, stride, 1, groups=hidden_dim, bias=False),\n",
    "                nn.BatchNorm2d(hidden_dim),\n",
    "                SiLU(),\n",
    "                SELayer(inp, hidden_dim),\n",
    "                # pw-linear\n",
    "                nn.Conv2d(hidden_dim, oup, 1, 1, 0, bias=False),\n",
    "                nn.BatchNorm2d(oup),\n",
    "            )\n",
    "        else:\n",
    "            self.conv = nn.Sequential(\n",
    "                # fused\n",
    "                nn.Conv2d(inp, hidden_dim, 3, stride, 1, bias=False),\n",
    "                nn.BatchNorm2d(hidden_dim),\n",
    "                SiLU(),\n",
    "                # pw-linear\n",
    "                nn.Conv2d(hidden_dim, oup, 1, 1, 0, bias=False),\n",
    "                nn.BatchNorm2d(oup),\n",
    "            )\n",
    "\n",
    "\n",
    "    def forward(self, x):\n",
    "        if self.identity:\n",
    "            return x + self.conv(x)\n",
    "        else:\n",
    "            return self.conv(x)\n",
    "\n",
    "\n",
    "class EffNetV2(nn.Module):\n",
    "    def __init__(self, cfgs, num_classes=61, width_mult=1.):\n",
    "        super(EffNetV2, self).__init__()\n",
    "        self.cfgs = cfgs\n",
    "\n",
    "        # building first layer\n",
    "        input_channel = _make_divisible(24 * width_mult, 8)\n",
    "        layers = [conv_3x3_bn(1, input_channel, 2)]\n",
    "        # building inverted residual blocks\n",
    "        block = MBConv\n",
    "        for t, c, n, s, use_se in self.cfgs:\n",
    "            output_channel = _make_divisible(c * width_mult, 8)\n",
    "            for i in range(n):\n",
    "                layers.append(block(input_channel, output_channel, s if i == 0 else 1, t, use_se))\n",
    "                input_channel = output_channel\n",
    "        self.features = nn.Sequential(*layers)\n",
    "        # building last several layers\n",
    "        output_channel = _make_divisible(1792 * width_mult, 8) if width_mult > 1.0 else 1792\n",
    "        self.conv = conv_1x1_bn(input_channel, output_channel)\n",
    "        self.avgpool = nn.AdaptiveAvgPool2d((1, 1))\n",
    "        self.classifier = nn.Linear(output_channel, num_classes)\n",
    "\n",
    "        self._initialize_weights()\n",
    "\n",
    "    def forward(self, x):\n",
    "        x = self.features(x)\n",
    "        x = self.conv(x)\n",
    "        x = self.avgpool(x)\n",
    "        x = x.view(x.size(0), -1)\n",
    "        x = self.classifier(x)\n",
    "        return x\n",
    "\n",
    "    def _initialize_weights(self):\n",
    "        for m in self.modules():\n",
    "            if isinstance(m, nn.Conv2d):\n",
    "                n = m.kernel_size[0] * m.kernel_size[1] * m.out_channels\n",
    "                m.weight.data.normal_(0, math.sqrt(2. / n))\n",
    "                if m.bias is not None:\n",
    "                    m.bias.data.zero_()\n",
    "            elif isinstance(m, nn.BatchNorm2d):\n",
    "                m.weight.data.fill_(1)\n",
    "                m.bias.data.zero_()\n",
    "            elif isinstance(m, nn.Linear):\n",
    "                m.weight.data.normal_(0, 0.001)\n",
    "                m.bias.data.zero_()\n",
    "\n",
    "\n",
    "def effnetv2_s(**kwargs):\n",
    "    \"\"\"\n",
    "    Constructs a EfficientNetV2-S model\n",
    "    \"\"\"\n",
    "    cfgs = [\n",
    "        # t, c, n, s, SE\n",
    "        [1,  24,  2, 1, 0],\n",
    "        [4,  48,  4, 2, 0],\n",
    "        [4,  64,  4, 2, 0],\n",
    "        [4, 128,  6, 2, 1],\n",
    "        [6, 160,  9, 1, 1],\n",
    "        [6, 256, 15, 2, 1],\n",
    "    ]\n",
    "    return EffNetV2(cfgs, **kwargs)\n",
    "\n",
    "\n",
    "def effnetv2_m(**kwargs):\n",
    "    \"\"\"\n",
    "    Constructs a EfficientNetV2-M model\n",
    "    \"\"\"\n",
    "    cfgs = [\n",
    "        # t, c, n, s, SE\n",
    "        [1,  24,  3, 1, 0],\n",
    "        [4,  48,  5, 2, 0],\n",
    "        [4,  80,  5, 2, 0],\n",
    "        [4, 160,  7, 2, 1],\n",
    "        [6, 176, 14, 1, 1],\n",
    "        [6, 304, 18, 2, 1],\n",
    "        [6, 512,  5, 1, 1],\n",
    "    ]\n",
    "    return EffNetV2(cfgs, **kwargs)\n",
    "\n",
    "\n",
    "def effnetv2_l(**kwargs):\n",
    "    \"\"\"\n",
    "    Constructs a EfficientNetV2-L model\n",
    "    \"\"\"\n",
    "    cfgs = [\n",
    "        # t, c, n, s, SE\n",
    "        [1,  32,  4, 1, 0],\n",
    "        [4,  64,  7, 2, 0],\n",
    "        [4,  96,  7, 2, 0],\n",
    "        [4, 192, 10, 2, 1],\n",
    "        [6, 224, 19, 1, 1],\n",
    "        [6, 384, 25, 2, 1],\n",
    "        [6, 640,  7, 1, 1],\n",
    "    ]\n",
    "    return EffNetV2(cfgs, **kwargs)\n",
    "\n",
    "\n",
    "def effnetv2_xl(**kwargs):\n",
    "    \"\"\"\n",
    "    Constructs a EfficientNetV2-XL model\n",
    "    \"\"\"\n",
    "    cfgs = [\n",
    "        # t, c, n, s, SE\n",
    "        [1,  32,  4, 1, 0],\n",
    "        [4,  64,  8, 2, 0],\n",
    "        [4,  96,  8, 2, 0],\n",
    "        [4, 192, 16, 2, 1],\n",
    "        [6, 256, 24, 1, 1],\n",
    "        [6, 512, 32, 2, 1],\n",
    "        [6, 640,  8, 1, 1],\n",
    "    ]\n",
    "    return EffNetV2(cfgs, **kwargs)"
   ]
  },
  {
   "cell_type": "code",
   "execution_count": null,
   "id": "dd5858a0",
   "metadata": {
    "papermill": {
     "duration": 0.039073,
     "end_time": "2022-06-11T15:48:55.205328",
     "exception": false,
     "start_time": "2022-06-11T15:48:55.166255",
     "status": "completed"
    },
    "tags": []
   },
   "outputs": [],
   "source": []
  },
  {
   "cell_type": "code",
   "execution_count": 7,
   "id": "e0062760",
   "metadata": {
    "execution": {
     "iopub.execute_input": "2022-06-11T15:48:55.287307Z",
     "iopub.status.busy": "2022-06-11T15:48:55.287088Z",
     "iopub.status.idle": "2022-06-11T15:48:55.292006Z",
     "shell.execute_reply": "2022-06-11T15:48:55.291365Z"
    },
    "papermill": {
     "duration": 0.046155,
     "end_time": "2022-06-11T15:48:55.293699",
     "exception": false,
     "start_time": "2022-06-11T15:48:55.247544",
     "status": "completed"
    },
    "tags": []
   },
   "outputs": [],
   "source": [
    "\n",
    "def evluate(model, device, loader, mode=\"Validate\"):\n",
    "    \n",
    "    \n",
    "    model.eval()\n",
    "\n",
    "    correct = 0\n",
    "    num_samples = 0\n",
    "    \n",
    "        \n",
    "    for batch_idx, data in enumerate(loader):\n",
    "        with torch.no_grad():    \n",
    "            data = data.to(device)\n",
    "            \n",
    "\n",
    "            output = model(data.half())  \n",
    "            \n",
    "            _,pred = output.max(1)# get the index of the max log-probability\n",
    "            print(pred)\n",
    "\n"
   ]
  },
  {
   "cell_type": "code",
   "execution_count": 8,
   "id": "046cf218",
   "metadata": {
    "execution": {
     "iopub.execute_input": "2022-06-11T15:48:55.373175Z",
     "iopub.status.busy": "2022-06-11T15:48:55.372976Z",
     "iopub.status.idle": "2022-06-11T15:48:55.379074Z",
     "shell.execute_reply": "2022-06-11T15:48:55.378440Z"
    },
    "papermill": {
     "duration": 0.047623,
     "end_time": "2022-06-11T15:48:55.380788",
     "exception": false,
     "start_time": "2022-06-11T15:48:55.333165",
     "status": "completed"
    },
    "tags": []
   },
   "outputs": [],
   "source": [
    "\n",
    "def test(model, device, loader, mode=\"Validate\"):\n",
    "    \n",
    "    \n",
    "    model.eval()\n",
    "\n",
    "    correct = 0\n",
    "    num_samples = 0\n",
    "    \n",
    "        \n",
    "    for batch_idx, (data, target) in enumerate(loader):\n",
    "        with torch.no_grad():    \n",
    "            data = data.to(device)\n",
    "            target = (target).to(device)\n",
    "\n",
    "            output = model(data.half())  \n",
    "            \n",
    "            _,pred = output.max(1)# get the index of the max log-probability\n",
    "            num_samples += target.size(0)\n",
    "            correct += (pred==target).sum().item()\n",
    "            #print(\"correct\", correct)\n",
    "\n",
    "    acc = 100.0 * correct / num_samples\n",
    "    \n",
    "    print('{} Accuracy: {}/{} ({:.0f}%)'.format(\n",
    "                mode,correct, num_samples,\n",
    "                100. * correct / num_samples, acc))"
   ]
  },
  {
   "cell_type": "code",
   "execution_count": 9,
   "id": "06ee5a6c",
   "metadata": {
    "execution": {
     "iopub.execute_input": "2022-06-11T15:48:55.459599Z",
     "iopub.status.busy": "2022-06-11T15:48:55.459419Z",
     "iopub.status.idle": "2022-06-11T15:48:55.471787Z",
     "shell.execute_reply": "2022-06-11T15:48:55.471106Z"
    },
    "papermill": {
     "duration": 0.053865,
     "end_time": "2022-06-11T15:48:55.473375",
     "exception": false,
     "start_time": "2022-06-11T15:48:55.419510",
     "status": "completed"
    },
    "scrolled": true,
    "tags": []
   },
   "outputs": [],
   "source": [
    "\n",
    "    \n",
    "\n",
    "\n",
    "def train(model, device, train_loader,validloader,scheduler, optimizer,criterion,epochs,lr):\n",
    "    print(\"Train start\")\n",
    "    breakout = False\n",
    "    model.half()\n",
    "    model.cuda()\n",
    "\n",
    "    \n",
    "    model.train()\n",
    "\n",
    "    optimizer.param_groups[0]['lr'] = lr\n",
    "    \n",
    "    for epoch in range(epochs):\n",
    "        correct = 0\n",
    "        num_samples = 0\n",
    "        train_loss = 0\n",
    "        \n",
    "        for batch_idx, (data, target) in enumerate(train_loader):\n",
    "            \n",
    "            data = data.to(device)\n",
    "            target = target.to(device)\n",
    "\n",
    "            optimizer.zero_grad()\n",
    "            output = model(data.half())\n",
    "            \n",
    "            loss = criterion(output, target)\n",
    "            loss.backward()\n",
    "            optimizer.step()\n",
    "            \n",
    "            \n",
    "            train_loss += loss.item()\n",
    "            \n",
    "            \n",
    "            _,pred = output.max(1)# get the index of the max log-probability\n",
    "            num_samples += target.size(0)\n",
    "            correct += (pred==target).sum().item()\n",
    "            \n",
    "        if optimizer.param_groups[0]['lr'] != 1e-3:    \n",
    "            scheduler.step()\n",
    "        #print(\"lr:\",optimizer.param_groups[0]['lr'])\n",
    "        \n",
    "        \n",
    "        train_loss /= num_samples\n",
    "        \n",
    "        if (100 * correct / num_samples) >= 95:\n",
    "            \n",
    "            print('Epoch: {} , Training Accuracy: {}/{} ({:.0f}%) Training Loss: {:.6f}'.format(\n",
    "                epoch+1, correct, num_samples,100. * correct / num_samples, train_loss))\n",
    "            \n",
    "            test(model,device,validloader, mode = \"Validating\")\n",
    "#             test(model, device, testloader, mode = \"Test before Training on validation set\")\n",
    "           # model, optimizer = trainonval(model, device, validloader, optimizer, criterion, epochs)\n",
    "#             test(model, device, testloader, mode = \"Test after training on validation set\")\n",
    "            \n",
    "            \n",
    "            \n",
    "            torch.save({\n",
    "            'model_state_dict': model.state_dict(),\n",
    "            'optimizer_state_dict': optimizer.state_dict()}, \"./model_optimizer34.pt\")\n",
    "            \n",
    "            breakout = True\n",
    "            print(\"breakout\")\n",
    "            return model, optimizer\n",
    "            \n",
    "            \n",
    "            \n",
    "       \n",
    "        \n",
    "\n",
    "        print('Epoch: {} , Training Accuracy: {}/{} ({:.0f}%) Training Loss: {:.6f}'.format(\n",
    "                epoch+1, correct, num_samples,\n",
    "                100. * correct / num_samples, train_loss))\n",
    "        if (((epoch+1)%5) == 0) :\n",
    "            test(model,device,validloader)\n",
    "            model.train()\n",
    "            \n",
    "    if breakout:\n",
    "            print(\"breakout\")\n",
    "            return\n",
    "    \n",
    "    \n",
    "    \n",
    "    #model, optimizer = trainonval(model, device, validloader, optimizer, criterion, epochs)\n",
    "    test(model, device, validloader, mode= \"test set \")\n",
    "    \n",
    "    \n",
    "        \n",
    "    torch.save({\n",
    "            'model_state_dict': model.state_dict(),\n",
    "            'optimizer_state_dict': optimizer.state_dict()}, \"./model_optimizer34.pt\")\n",
    "    return model, optimizer\n",
    "    \n",
    "    \n",
    "        \n"
   ]
  },
  {
   "cell_type": "code",
   "execution_count": 10,
   "id": "10a88550",
   "metadata": {
    "execution": {
     "iopub.execute_input": "2022-06-11T15:48:55.553439Z",
     "iopub.status.busy": "2022-06-11T15:48:55.553024Z",
     "iopub.status.idle": "2022-06-11T15:49:02.575537Z",
     "shell.execute_reply": "2022-06-11T15:49:02.574692Z"
    },
    "papermill": {
     "duration": 7.065395,
     "end_time": "2022-06-11T15:49:02.577846",
     "exception": false,
     "start_time": "2022-06-11T15:48:55.512451",
     "status": "completed"
    },
    "tags": []
   },
   "outputs": [],
   "source": [
    "n_classes = 61\n",
    "\n",
    "\n",
    "model = nn.Sequential(OrderedDict([\n",
    "    ('frontend',effnetv2_m())\n",
    "]))\n",
    "\n",
    "\n",
    "\n",
    "\n",
    "\n",
    "# specify loss function (categorical cross-entropy)\n",
    "\n",
    "# specify optimizer and learning rate\n",
    "optimizer = optim.SGD(\n",
    "    [\n",
    "        \n",
    "        {\"params\": model.frontend.parameters(), \"lr\": 1e-2},\n",
    "  ],\n",
    "  momentum = 0.9\n",
    ")\n",
    "device = torch.device(\"cuda\" if torch.cuda.is_available() else \"cpu\")\n",
    "\n",
    "\n",
    "samples_per_cls = [166.0, 370.0, 63.0, 232.0, 905.0, 102.0, 537.0, 993.0, 133.0, 154.0, 286.0, 435.0, 452.0, 779.0, 354.0, 136.0, 232.0, 2154.0, 374.0, 787.0, 337.0, 268.0, 954.0, 167.0, 543.0, 324.0, 669.0, 333.0, 211.0, 433.0, 140.0, 665.0, 107.0, 305.0, 162.0, 61.0, 1229.0, 958.0, 897.0, 543.0, 625.0, 334.0, 776.0, 111.0, 412.0, 583.0, 255.0, 103.0, 108.0, 201.0, 384.0, 632.0, 13.0, 322.0, 664.0, 435.0, 194.0, 322.0, 113.0, 462.0,2000.0]\n",
    "no_of_classes=61\n",
    "beta=0.9999\n",
    "effective_num = 1.0 - np.power(beta, samples_per_cls)\n",
    "weights = (1.0 - beta) / np.array(effective_num)\n",
    "weights = weights / np.sum(weights) * no_of_classes\n",
    "    \n",
    "\n",
    "weights = torch.FloatTensor(weights).cuda()\n",
    "\n",
    "criterion = nn.CrossEntropyLoss(weight = weights.half())\n",
    "\n",
    "state = torch.load(\"../input/fmosel/model_optimizer34.pt\")\n",
    "model.load_state_dict(state['model_state_dict'])\n",
    "model.half()\n",
    "model.cuda()\n",
    "optimizer.load_state_dict(state['optimizer_state_dict'])"
   ]
  },
  {
   "cell_type": "code",
   "execution_count": 11,
   "id": "669075c1",
   "metadata": {
    "execution": {
     "iopub.execute_input": "2022-06-11T15:49:02.660074Z",
     "iopub.status.busy": "2022-06-11T15:49:02.659841Z",
     "iopub.status.idle": "2022-06-11T15:49:02.663693Z",
     "shell.execute_reply": "2022-06-11T15:49:02.662861Z"
    },
    "papermill": {
     "duration": 0.048371,
     "end_time": "2022-06-11T15:49:02.665754",
     "exception": false,
     "start_time": "2022-06-11T15:49:02.617383",
     "status": "completed"
    },
    "tags": []
   },
   "outputs": [],
   "source": [
    "#print('Number of model parameters: {}'.format(sum([p.data.nelement() for p in model.parameters()])))"
   ]
  },
  {
   "cell_type": "code",
   "execution_count": 12,
   "id": "8691b1ba",
   "metadata": {
    "execution": {
     "iopub.execute_input": "2022-06-11T15:49:02.747888Z",
     "iopub.status.busy": "2022-06-11T15:49:02.747688Z",
     "iopub.status.idle": "2022-06-11T15:49:02.750949Z",
     "shell.execute_reply": "2022-06-11T15:49:02.750180Z"
    },
    "papermill": {
     "duration": 0.0461,
     "end_time": "2022-06-11T15:49:02.752894",
     "exception": false,
     "start_time": "2022-06-11T15:49:02.706794",
     "status": "completed"
    },
    "tags": []
   },
   "outputs": [],
   "source": [
    "#summary(model, (1, 512, 640), device='cpu')"
   ]
  },
  {
   "cell_type": "code",
   "execution_count": 13,
   "id": "a9a8e01c",
   "metadata": {
    "execution": {
     "iopub.execute_input": "2022-06-11T15:49:02.833960Z",
     "iopub.status.busy": "2022-06-11T15:49:02.833766Z",
     "iopub.status.idle": "2022-06-11T16:00:29.701803Z",
     "shell.execute_reply": "2022-06-11T16:00:29.700295Z"
    },
    "papermill": {
     "duration": 686.911046,
     "end_time": "2022-06-11T16:00:29.703829",
     "exception": false,
     "start_time": "2022-06-11T15:49:02.792783",
     "status": "completed"
    },
    "tags": []
   },
   "outputs": [
    {
     "name": "stdout",
     "output_type": "stream",
     "text": [
      "file p01_n002\n",
      "21\n",
      "file p06_n019\n",
      "76\n",
      "file p06_n007\n",
      "160\n",
      "file p01_n053\n",
      "279\n",
      "file p04_n074\n",
      "334\n",
      "file p05_n077\n",
      "497\n",
      "Train start\n",
      "Epoch: 1 , Training Accuracy: 691/1641 (42%) Training Loss: 0.120678\n",
      "Epoch: 2 , Training Accuracy: 1208/1641 (74%) Training Loss: 0.043878\n",
      "Epoch: 3 , Training Accuracy: 1404/1641 (86%) Training Loss: 0.018943\n",
      "Epoch: 4 , Training Accuracy: 1514/1641 (92%) Training Loss: 0.010082\n",
      "Epoch: 5 , Training Accuracy: 1572/1641 (96%) Training Loss: 0.006545\n",
      "Validating Accuracy: 379/411 (92%)\n",
      "breakout\n"
     ]
    }
   ],
   "source": [
    "trainloader, valloader = load_dataloaders(batch_size=16,start=0, end=6)#73 not included \n",
    "scheduler = torch.optim.lr_scheduler.StepLR(optimizer, step_size=5, gamma=0.1) \n",
    "model, optimizer = train(model,device,trainloader,valloader,scheduler,optimizer,criterion,30,1e-2)"
   ]
  },
  {
   "cell_type": "code",
   "execution_count": 14,
   "id": "985dff54",
   "metadata": {
    "execution": {
     "iopub.execute_input": "2022-06-11T16:00:29.794510Z",
     "iopub.status.busy": "2022-06-11T16:00:29.794059Z",
     "iopub.status.idle": "2022-06-11T16:12:37.350631Z",
     "shell.execute_reply": "2022-06-11T16:12:37.349668Z"
    },
    "papermill": {
     "duration": 727.605776,
     "end_time": "2022-06-11T16:12:37.353700",
     "exception": false,
     "start_time": "2022-06-11T16:00:29.747924",
     "status": "completed"
    },
    "tags": []
   },
   "outputs": [
    {
     "name": "stdout",
     "output_type": "stream",
     "text": [
      "file p05_n027\n",
      "523\n",
      "file p05_n022\n",
      "584\n",
      "file p01_n110\n",
      "638\n",
      "file p06_n036\n",
      "695\n",
      "file p01_n069\n",
      "758\n",
      "file p06_n109\n",
      "812\n",
      "Train start\n",
      "Epoch: 1 , Training Accuracy: 532/1548 (34%) Training Loss: 0.153745\n",
      "Epoch: 2 , Training Accuracy: 1064/1548 (69%) Training Loss: 0.040486\n",
      "Epoch: 3 , Training Accuracy: 1262/1548 (82%) Training Loss: 0.023947\n",
      "Epoch: 4 , Training Accuracy: 1318/1548 (85%) Training Loss: 0.014048\n",
      "Epoch: 5 , Training Accuracy: 1413/1548 (91%) Training Loss: 0.008081\n",
      "Validate Accuracy: 341/387 (88%)\n",
      "Epoch: 6 , Training Accuracy: 1477/1548 (95%) Training Loss: 0.004742\n",
      "Validating Accuracy: 341/387 (88%)\n",
      "breakout\n"
     ]
    }
   ],
   "source": [
    "trainloader, valloader = load_dataloaders(batch_size=16,start=6, end=12)#73 not included \n",
    "scheduler = torch.optim.lr_scheduler.StepLR(optimizer, step_size=5, gamma=0.1) \n",
    "model, optimizer = train(model,device,trainloader,valloader,scheduler,optimizer,criterion,30,1e-2)"
   ]
  },
  {
   "cell_type": "code",
   "execution_count": 15,
   "id": "5d1deb12",
   "metadata": {
    "execution": {
     "iopub.execute_input": "2022-06-11T16:12:37.459529Z",
     "iopub.status.busy": "2022-06-11T16:12:37.459283Z",
     "iopub.status.idle": "2022-06-11T16:22:37.698653Z",
     "shell.execute_reply": "2022-06-11T16:22:37.697762Z"
    },
    "papermill": {
     "duration": 600.293146,
     "end_time": "2022-06-11T16:22:37.700965",
     "exception": false,
     "start_time": "2022-06-11T16:12:37.407819",
     "status": "completed"
    },
    "tags": []
   },
   "outputs": [
    {
     "name": "stdout",
     "output_type": "stream",
     "text": [
      "file p04_n089\n",
      "848\n",
      "file p01_n044\n",
      "880\n",
      "file p05_n037\n",
      "968\n",
      "file p04_n038\n",
      "998\n",
      "file p06_n055\n",
      "1088\n",
      "file p01_n099\n",
      "1104\n",
      "Train start\n",
      "Epoch: 1 , Training Accuracy: 720/1502 (48%) Training Loss: 0.119779\n",
      "Epoch: 2 , Training Accuracy: 1155/1502 (77%) Training Loss: 0.032569\n",
      "Epoch: 3 , Training Accuracy: 1332/1502 (89%) Training Loss: 0.013427\n",
      "Epoch: 4 , Training Accuracy: 1394/1502 (93%) Training Loss: 0.007418\n",
      "Epoch: 5 , Training Accuracy: 1432/1502 (95%) Training Loss: 0.005154\n",
      "Validating Accuracy: 345/376 (92%)\n",
      "breakout\n"
     ]
    }
   ],
   "source": [
    "trainloader, valloader = load_dataloaders(batch_size=16,start=12, end=18)#73 not included \n",
    "scheduler = torch.optim.lr_scheduler.StepLR(optimizer, step_size=5, gamma=0.1) \n",
    "model, optimizer = train(model,device,trainloader,valloader,scheduler,optimizer,criterion,30,1e-2)"
   ]
  },
  {
   "cell_type": "code",
   "execution_count": 16,
   "id": "4fffdde4",
   "metadata": {
    "execution": {
     "iopub.execute_input": "2022-06-11T16:22:37.811113Z",
     "iopub.status.busy": "2022-06-11T16:22:37.810888Z",
     "iopub.status.idle": "2022-06-11T16:30:38.919641Z",
     "shell.execute_reply": "2022-06-11T16:30:38.918554Z"
    },
    "papermill": {
     "duration": 481.16749,
     "end_time": "2022-06-11T16:30:38.921921",
     "exception": false,
     "start_time": "2022-06-11T16:22:37.754431",
     "status": "completed"
    },
    "tags": []
   },
   "outputs": [
    {
     "name": "stdout",
     "output_type": "stream",
     "text": [
      "file p02_n066\n",
      "1119\n",
      "file p04_n035\n",
      "1158\n",
      "file p01_n057\n",
      "1189\n",
      "file p01_n105\n",
      "1206\n",
      "file p04_n058\n",
      "1239\n",
      "file p05_n043\n",
      "1301\n",
      "Train start\n",
      "Epoch: 1 , Training Accuracy: 585/1175 (50%) Training Loss: 0.116683\n",
      "Epoch: 2 , Training Accuracy: 944/1175 (80%) Training Loss: 0.026782\n",
      "Epoch: 3 , Training Accuracy: 1047/1175 (89%) Training Loss: 0.013436\n",
      "Epoch: 4 , Training Accuracy: 1107/1175 (94%) Training Loss: 0.006987\n",
      "Epoch: 5 , Training Accuracy: 1122/1175 (95%) Training Loss: 0.004977\n",
      "Validating Accuracy: 274/294 (93%)\n",
      "breakout\n"
     ]
    }
   ],
   "source": [
    "trainloader, valloader = load_dataloaders(batch_size=16,start=18, end=24)#73 not included \n",
    "scheduler = torch.optim.lr_scheduler.StepLR(optimizer, step_size=5, gamma=0.1) \n",
    "model, optimizer = train(model,device,trainloader,valloader,scheduler,optimizer,criterion,30,1e-2)"
   ]
  },
  {
   "cell_type": "code",
   "execution_count": 17,
   "id": "a57ac8f3",
   "metadata": {
    "execution": {
     "iopub.execute_input": "2022-06-11T16:30:39.054803Z",
     "iopub.status.busy": "2022-06-11T16:30:39.054487Z",
     "iopub.status.idle": "2022-06-11T16:42:52.489846Z",
     "shell.execute_reply": "2022-06-11T16:42:52.489031Z"
    },
    "papermill": {
     "duration": 733.502288,
     "end_time": "2022-06-11T16:42:52.491905",
     "exception": false,
     "start_time": "2022-06-11T16:30:38.989617",
     "status": "completed"
    },
    "tags": []
   },
   "outputs": [
    {
     "name": "stdout",
     "output_type": "stream",
     "text": [
      "file p06_n020\n",
      "1301\n",
      "file p02_n001\n",
      "1301\n",
      "file p04_n032\n",
      "1301\n",
      "file p05_n084\n",
      "1301\n",
      "file p01_n102\n",
      "1301\n",
      "file p06_n096\n",
      "1301\n",
      "Train start\n",
      "Epoch: 1 , Training Accuracy: 365/1236 (30%) Training Loss: 0.232939\n",
      "Epoch: 2 , Training Accuracy: 804/1236 (65%) Training Loss: 0.080207\n",
      "Epoch: 3 , Training Accuracy: 977/1236 (79%) Training Loss: 0.045028\n",
      "Epoch: 4 , Training Accuracy: 1063/1236 (86%) Training Loss: 0.032175\n",
      "Epoch: 5 , Training Accuracy: 1122/1236 (91%) Training Loss: 0.023120\n",
      "Validate Accuracy: 284/309 (92%)\n",
      "Epoch: 6 , Training Accuracy: 1143/1236 (92%) Training Loss: 0.018011\n",
      "Epoch: 7 , Training Accuracy: 1170/1236 (95%) Training Loss: 0.014962\n",
      "Epoch: 8 , Training Accuracy: 1181/1236 (96%) Training Loss: 0.012202\n",
      "Validating Accuracy: 288/309 (93%)\n",
      "breakout\n"
     ]
    }
   ],
   "source": [
    "trainloader, valloader = load_dataloaders(batch_size=16,start=24, end=30)#73 not included \n",
    "scheduler = torch.optim.lr_scheduler.StepLR(optimizer, step_size=5, gamma=0.1) \n",
    "model, optimizer = train(model,device,trainloader,valloader,scheduler,optimizer,criterion,30,1e-3)"
   ]
  },
  {
   "cell_type": "code",
   "execution_count": 18,
   "id": "5c5d95ab",
   "metadata": {
    "execution": {
     "iopub.execute_input": "2022-06-11T16:42:52.621946Z",
     "iopub.status.busy": "2022-06-11T16:42:52.621665Z",
     "iopub.status.idle": "2022-06-11T16:50:56.283709Z",
     "shell.execute_reply": "2022-06-11T16:50:56.282072Z"
    },
    "papermill": {
     "duration": 483.730558,
     "end_time": "2022-06-11T16:50:56.286902",
     "exception": false,
     "start_time": "2022-06-11T16:42:52.556344",
     "status": "completed"
    },
    "tags": []
   },
   "outputs": [
    {
     "name": "stdout",
     "output_type": "stream",
     "text": [
      "file p02_n104\n",
      "1301\n",
      "file p01_n090\n",
      "1301\n",
      "file p01_n040\n",
      "1301\n",
      "file p04_n073\n",
      "1301\n",
      "file p01_n067\n",
      "1301\n",
      "file p05_n004\n",
      "1301\n",
      "Train start\n",
      "Epoch: 1 , Training Accuracy: 555/1156 (48%) Training Loss: 0.138775\n",
      "Epoch: 2 , Training Accuracy: 900/1156 (78%) Training Loss: 0.046897\n",
      "Epoch: 3 , Training Accuracy: 1030/1156 (89%) Training Loss: 0.026777\n",
      "Epoch: 4 , Training Accuracy: 1079/1156 (93%) Training Loss: 0.018185\n",
      "Epoch: 5 , Training Accuracy: 1106/1156 (96%) Training Loss: 0.012874\n",
      "Validating Accuracy: 269/290 (93%)\n",
      "breakout\n"
     ]
    }
   ],
   "source": [
    "trainloader, valloader = load_dataloaders(batch_size=16,start=30, end=36)#73 not included \n",
    "scheduler = torch.optim.lr_scheduler.StepLR(optimizer, step_size=2, gamma=0.1) \n",
    "model, optimizer = train(model,device,trainloader,valloader,scheduler,optimizer,criterion,30,1e-3)"
   ]
  },
  {
   "cell_type": "code",
   "execution_count": 19,
   "id": "dcd3cc19",
   "metadata": {
    "execution": {
     "iopub.execute_input": "2022-06-11T16:50:56.589076Z",
     "iopub.status.busy": "2022-06-11T16:50:56.588749Z",
     "iopub.status.idle": "2022-06-11T16:58:21.378041Z",
     "shell.execute_reply": "2022-06-11T16:58:21.377067Z"
    },
    "papermill": {
     "duration": 444.92288,
     "end_time": "2022-06-11T16:58:21.380961",
     "exception": false,
     "start_time": "2022-06-11T16:50:56.458081",
     "status": "completed"
    },
    "tags": []
   },
   "outputs": [
    {
     "name": "stdout",
     "output_type": "stream",
     "text": [
      "file p06_n061\n",
      "1301\n",
      "file p05_n092\n",
      "1301\n",
      "file p06_n015\n",
      "1301\n",
      "file p04_n106\n",
      "1301\n",
      "file p05_n095\n",
      "1301\n",
      "file p02_n072\n",
      "1301\n",
      "Train start\n",
      "Epoch: 1 , Training Accuracy: 819/1322 (62%) Training Loss: 0.094482\n",
      "Epoch: 2 , Training Accuracy: 1163/1322 (88%) Training Loss: 0.026821\n",
      "Epoch: 3 , Training Accuracy: 1246/1322 (94%) Training Loss: 0.015017\n",
      "Epoch: 4 , Training Accuracy: 1272/1322 (96%) Training Loss: 0.011006\n",
      "Validating Accuracy: 319/331 (96%)\n",
      "breakout\n"
     ]
    }
   ],
   "source": [
    "trainloader, valloader = load_dataloaders(batch_size=16,start=36, end=42)#73 not included \n",
    "scheduler = torch.optim.lr_scheduler.StepLR(optimizer, step_size=5, gamma=0.1) \n",
    "model, optimizer = train(model,device,trainloader,valloader,scheduler,optimizer,criterion,30,1e-3)"
   ]
  },
  {
   "cell_type": "code",
   "execution_count": 20,
   "id": "e46f2411",
   "metadata": {
    "execution": {
     "iopub.execute_input": "2022-06-11T16:58:21.526705Z",
     "iopub.status.busy": "2022-06-11T16:58:21.526459Z",
     "iopub.status.idle": "2022-06-11T17:06:24.456081Z",
     "shell.execute_reply": "2022-06-11T17:06:24.454940Z"
    },
    "papermill": {
     "duration": 483.004616,
     "end_time": "2022-06-11T17:06:24.458644",
     "exception": false,
     "start_time": "2022-06-11T16:58:21.454028",
     "status": "completed"
    },
    "tags": []
   },
   "outputs": [
    {
     "name": "stdout",
     "output_type": "stream",
     "text": [
      "file p05_n031\n",
      "1301\n",
      "file p01_n060\n",
      "1301\n",
      "file p05_n048\n",
      "1301\n",
      "file p05_n029\n",
      "1301\n",
      "file p01_n000\n",
      "1301\n",
      "file p01_n050\n",
      "1301\n",
      "Train start\n",
      "Epoch: 1 , Training Accuracy: 693/1117 (62%) Training Loss: 0.112921\n",
      "Epoch: 2 , Training Accuracy: 975/1117 (87%) Training Loss: 0.023532\n",
      "Epoch: 3 , Training Accuracy: 1039/1117 (93%) Training Loss: 0.013576\n",
      "Epoch: 4 , Training Accuracy: 1061/1117 (95%) Training Loss: 0.010827\n",
      "Epoch: 5 , Training Accuracy: 1087/1117 (97%) Training Loss: 0.007425\n",
      "Validating Accuracy: 266/280 (95%)\n",
      "breakout\n"
     ]
    }
   ],
   "source": [
    "trainloader, valloader = load_dataloaders(batch_size=16,start=42, end=48)#73 not included \n",
    "scheduler = torch.optim.lr_scheduler.StepLR(optimizer, step_size=2, gamma=0.1) \n",
    "model, optimizer = train(model,device,trainloader,valloader,scheduler,optimizer,criterion,30,1e-3)"
   ]
  },
  {
   "cell_type": "code",
   "execution_count": 21,
   "id": "6706939e",
   "metadata": {
    "execution": {
     "iopub.execute_input": "2022-06-11T17:06:25.317217Z",
     "iopub.status.busy": "2022-06-11T17:06:25.316936Z",
     "iopub.status.idle": "2022-06-11T17:11:27.909584Z",
     "shell.execute_reply": "2022-06-11T17:11:27.908732Z"
    },
    "papermill": {
     "duration": 303.376687,
     "end_time": "2022-06-11T17:11:27.912378",
     "exception": false,
     "start_time": "2022-06-11T17:06:24.535691",
     "status": "completed"
    },
    "tags": []
   },
   "outputs": [
    {
     "name": "stdout",
     "output_type": "stream",
     "text": [
      "file p05_n025\n",
      "1301\n",
      "file p04_n011\n",
      "1301\n",
      "file p01_n023\n",
      "1301\n",
      "file p01_n042\n",
      "1301\n",
      "file p01_n111\n",
      "1301\n",
      "file p05_n083\n",
      "1301\n",
      "Train start\n",
      "Epoch: 1 , Training Accuracy: 741/1096 (68%) Training Loss: 0.084219\n",
      "Epoch: 2 , Training Accuracy: 1013/1096 (92%) Training Loss: 0.018895\n",
      "Epoch: 3 , Training Accuracy: 1045/1096 (95%) Training Loss: 0.012253\n",
      "Validating Accuracy: 260/275 (95%)\n",
      "breakout\n"
     ]
    }
   ],
   "source": [
    "trainloader, valloader = load_dataloaders(batch_size=16,start=48, end=54)#73 not included \n",
    "scheduler = torch.optim.lr_scheduler.StepLR(optimizer, step_size=2, gamma=0.1) \n",
    "model, optimizer = train(model,device,trainloader,valloader,scheduler,optimizer,criterion,30,1e-3)"
   ]
  },
  {
   "cell_type": "code",
   "execution_count": 22,
   "id": "4e2e3e96",
   "metadata": {
    "execution": {
     "iopub.execute_input": "2022-06-11T17:11:28.075262Z",
     "iopub.status.busy": "2022-06-11T17:11:28.074942Z",
     "iopub.status.idle": "2022-06-11T17:15:07.861986Z",
     "shell.execute_reply": "2022-06-11T17:15:07.861195Z"
    },
    "papermill": {
     "duration": 219.871344,
     "end_time": "2022-06-11T17:15:07.864242",
     "exception": false,
     "start_time": "2022-06-11T17:11:27.992898",
     "status": "completed"
    },
    "tags": []
   },
   "outputs": [
    {
     "name": "stdout",
     "output_type": "stream",
     "text": [
      "file p05_n094\n",
      "1301\n",
      "file p04_n103\n",
      "1301\n",
      "file p01_n093\n",
      "1301\n",
      "file p04_n003\n",
      "1301\n",
      "file p05_n078\n",
      "1301\n",
      "file p01_n052\n",
      "1301\n",
      "Train start\n",
      "Epoch: 1 , Training Accuracy: 480/728 (66%) Training Loss: 0.082602\n",
      "Epoch: 2 , Training Accuracy: 678/728 (93%) Training Loss: 0.015941\n",
      "Epoch: 3 , Training Accuracy: 698/728 (96%) Training Loss: 0.009311\n",
      "Validating Accuracy: 172/182 (95%)\n",
      "breakout\n"
     ]
    }
   ],
   "source": [
    "trainloader, valloader = load_dataloaders(batch_size=16,start=54, end=60)#73 not included \n",
    "scheduler = torch.optim.lr_scheduler.StepLR(optimizer, step_size=2, gamma=0.1) \n",
    "model, optimizer = train(model,device,trainloader,valloader,scheduler,optimizer,criterion,30,1e-3)"
   ]
  },
  {
   "cell_type": "code",
   "execution_count": 23,
   "id": "d854f533",
   "metadata": {
    "execution": {
     "iopub.execute_input": "2022-06-11T17:15:08.033714Z",
     "iopub.status.busy": "2022-06-11T17:15:08.033457Z",
     "iopub.status.idle": "2022-06-11T17:16:27.732526Z",
     "shell.execute_reply": "2022-06-11T17:16:27.731673Z"
    },
    "papermill": {
     "duration": 79.871955,
     "end_time": "2022-06-11T17:16:27.819675",
     "exception": false,
     "start_time": "2022-06-11T17:15:07.947720",
     "status": "completed"
    },
    "tags": []
   },
   "outputs": [
    {
     "name": "stdout",
     "output_type": "stream",
     "text": [
      "file p06_n054\n",
      "file p05_n047\n",
      "file p06_n021\n",
      "file p01_n081\n",
      "Validate Accuracy: 269/1157 (23%)\n"
     ]
    }
   ],
   "source": [
    "trainloader = load_testloader(batch_size=16,start=108, end=112)#73 not included \n",
    "test(model,device,trainloader)"
   ]
  },
  {
   "cell_type": "markdown",
   "id": "6c310892",
   "metadata": {
    "papermill": {
     "duration": 0.085767,
     "end_time": "2022-06-11T17:16:27.991203",
     "exception": false,
     "start_time": "2022-06-11T17:16:27.905436",
     "status": "completed"
    },
    "tags": []
   },
   "source": []
  },
  {
   "cell_type": "code",
   "execution_count": 24,
   "id": "486e38d5",
   "metadata": {
    "execution": {
     "iopub.execute_input": "2022-06-11T17:16:28.162422Z",
     "iopub.status.busy": "2022-06-11T17:16:28.161790Z",
     "iopub.status.idle": "2022-06-11T17:16:32.505041Z",
     "shell.execute_reply": "2022-06-11T17:16:32.504199Z"
    },
    "papermill": {
     "duration": 4.431248,
     "end_time": "2022-06-11T17:16:32.506899",
     "exception": false,
     "start_time": "2022-06-11T17:16:28.075651",
     "status": "completed"
    },
    "tags": []
   },
   "outputs": [
    {
     "name": "stdout",
     "output_type": "stream",
     "text": [
      "tensor([12, 51, 15, 51, 12, 51, 51, 15, 12, 51, 51, 51, 12, 12, 51, 12],\n",
      "       device='cuda:0')\n",
      "tensor([51, 12, 12, 15, 28, 51, 51, 51, 12, 29, 51, 12, 51, 51, 13, 15],\n",
      "       device='cuda:0')\n",
      "tensor([51, 51, 51, 12, 51, 51, 13, 12, 51, 15, 12, 51, 13, 15, 51, 51],\n",
      "       device='cuda:0')\n",
      "tensor([12, 51], device='cuda:0')\n"
     ]
    }
   ],
   "source": [
    "trainloader= load_vid(batch_size=16,start=1000, end=3000)#73 not included \n",
    "evluate(model,device,trainloader)"
   ]
  },
  {
   "cell_type": "code",
   "execution_count": null,
   "id": "c2316625",
   "metadata": {
    "papermill": {
     "duration": 0.086035,
     "end_time": "2022-06-11T17:16:32.679223",
     "exception": false,
     "start_time": "2022-06-11T17:16:32.593188",
     "status": "completed"
    },
    "tags": []
   },
   "outputs": [],
   "source": []
  },
  {
   "cell_type": "code",
   "execution_count": null,
   "id": "5ffb4c7c",
   "metadata": {
    "execution": {
     "iopub.execute_input": "2022-06-11T05:14:57.294674Z",
     "iopub.status.busy": "2022-06-11T05:14:57.294393Z",
     "iopub.status.idle": "2022-06-11T05:21:50.529745Z",
     "shell.execute_reply": "2022-06-11T05:21:50.528621Z",
     "shell.execute_reply.started": "2022-06-11T05:14:57.294643Z"
    },
    "papermill": {
     "duration": 0.087436,
     "end_time": "2022-06-11T17:16:32.854931",
     "exception": false,
     "start_time": "2022-06-11T17:16:32.767495",
     "status": "completed"
    },
    "tags": []
   },
   "outputs": [],
   "source": []
  }
 ],
 "metadata": {
  "kernelspec": {
   "display_name": "Python 3",
   "language": "python",
   "name": "python3"
  },
  "language_info": {
   "codemirror_mode": {
    "name": "ipython",
    "version": 3
   },
   "file_extension": ".py",
   "mimetype": "text/x-python",
   "name": "python",
   "nbconvert_exporter": "python",
   "pygments_lexer": "ipython3",
   "version": "3.7.12"
  },
  "papermill": {
   "default_parameters": {},
   "duration": 5297.553052,
   "end_time": "2022-06-11T17:16:35.187722",
   "environment_variables": {},
   "exception": null,
   "input_path": "__notebook__.ipynb",
   "output_path": "__notebook__.ipynb",
   "parameters": {},
   "start_time": "2022-06-11T15:48:17.634670",
   "version": "2.3.4"
  }
 },
 "nbformat": 4,
 "nbformat_minor": 5
}
