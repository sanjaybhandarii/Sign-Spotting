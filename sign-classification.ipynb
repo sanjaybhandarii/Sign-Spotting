{
 "cells": [
  {
   "cell_type": "code",
   "execution_count": 1,
   "id": "098369c3",
   "metadata": {
    "execution": {
     "iopub.execute_input": "2022-05-13T10:01:18.205731Z",
     "iopub.status.busy": "2022-05-13T10:01:18.205182Z",
     "iopub.status.idle": "2022-05-13T10:01:34.300354Z",
     "shell.execute_reply": "2022-05-13T10:01:34.299548Z"
    },
    "papermill": {
     "duration": 16.113376,
     "end_time": "2022-05-13T10:01:34.302673",
     "exception": false,
     "start_time": "2022-05-13T10:01:18.189297",
     "status": "completed"
    },
    "tags": []
   },
   "outputs": [
    {
     "name": "stdout",
     "output_type": "stream",
     "text": [
      "Collecting pytorchvideo\r\n",
      "  Downloading pytorchvideo-0.1.5.tar.gz (132 kB)\r\n",
      "\u001b[2K     \u001b[90m━━━━━━━━━━━━━━━━━━━━━━━━━━━━━━━━━━━━━\u001b[0m \u001b[32m132.7/132.7 KB\u001b[0m \u001b[31m966.8 kB/s\u001b[0m eta \u001b[36m0:00:00\u001b[0m\r\n",
      "\u001b[?25h  Preparing metadata (setup.py) ... \u001b[?25l-\b \bdone\r\n",
      "\u001b[?25hCollecting fvcore\r\n",
      "  Downloading fvcore-0.1.5.post20220512.tar.gz (50 kB)\r\n",
      "\u001b[2K     \u001b[90m━━━━━━━━━━━━━━━━━━━━━━━━━━━━━━━━━━━━━━━━\u001b[0m \u001b[32m50.1/50.1 KB\u001b[0m \u001b[31m3.1 MB/s\u001b[0m eta \u001b[36m0:00:00\u001b[0m\r\n",
      "\u001b[?25h  Preparing metadata (setup.py) ... \u001b[?25l-\b \bdone\r\n",
      "\u001b[?25hCollecting av\r\n",
      "  Downloading av-9.2.0-cp37-cp37m-manylinux_2_17_x86_64.manylinux2014_x86_64.whl (28.2 MB)\r\n",
      "\u001b[2K     \u001b[90m━━━━━━━━━━━━━━━━━━━━━━━━━━━━━━━━━━━━━━━━\u001b[0m \u001b[32m28.2/28.2 MB\u001b[0m \u001b[31m30.1 MB/s\u001b[0m eta \u001b[36m0:00:00\u001b[0m\r\n",
      "\u001b[?25hCollecting parameterized\r\n",
      "  Downloading parameterized-0.8.1-py2.py3-none-any.whl (26 kB)\r\n",
      "Collecting iopath\r\n",
      "  Downloading iopath-0.1.9-py3-none-any.whl (27 kB)\r\n",
      "Requirement already satisfied: networkx in /opt/conda/lib/python3.7/site-packages (from pytorchvideo) (2.5)\r\n",
      "Requirement already satisfied: numpy in /opt/conda/lib/python3.7/site-packages (from fvcore->pytorchvideo) (1.21.6)\r\n",
      "Requirement already satisfied: yacs>=0.1.6 in /opt/conda/lib/python3.7/site-packages (from fvcore->pytorchvideo) (0.1.8)\r\n",
      "Requirement already satisfied: pyyaml>=5.1 in /opt/conda/lib/python3.7/site-packages (from fvcore->pytorchvideo) (6.0)\r\n",
      "Requirement already satisfied: tqdm in /opt/conda/lib/python3.7/site-packages (from fvcore->pytorchvideo) (4.63.0)\r\n",
      "Requirement already satisfied: termcolor>=1.1 in /opt/conda/lib/python3.7/site-packages (from fvcore->pytorchvideo) (1.1.0)\r\n",
      "Requirement already satisfied: Pillow in /opt/conda/lib/python3.7/site-packages (from fvcore->pytorchvideo) (9.0.1)\r\n",
      "Requirement already satisfied: tabulate in /opt/conda/lib/python3.7/site-packages (from fvcore->pytorchvideo) (0.8.9)\r\n",
      "Requirement already satisfied: portalocker in /opt/conda/lib/python3.7/site-packages (from iopath->pytorchvideo) (2.4.0)\r\n",
      "Requirement already satisfied: decorator>=4.3.0 in /opt/conda/lib/python3.7/site-packages (from networkx->pytorchvideo) (5.1.1)\r\n",
      "Building wheels for collected packages: pytorchvideo, fvcore\r\n",
      "  Building wheel for pytorchvideo (setup.py) ... \u001b[?25l-\b \b\\\b \bdone\r\n",
      "\u001b[?25h  Created wheel for pytorchvideo: filename=pytorchvideo-0.1.5-py3-none-any.whl size=188714 sha256=bcfee6fcbf5d7f44da4224f08ed8fdbbc69d4fd28f5670ecf962fb9c7edd60d8\r\n",
      "  Stored in directory: /root/.cache/pip/wheels/e8/51/05/053b29bac2400cbbae2fb7cfc41afd280d627bca7c9363ca80\r\n",
      "  Building wheel for fvcore (setup.py) ... \u001b[?25l-\b \bdone\r\n",
      "\u001b[?25h  Created wheel for fvcore: filename=fvcore-0.1.5.post20220512-py3-none-any.whl size=61288 sha256=c561cfd41dc486fa2a6ea1e25c15284832939cdcfce746a4ea84b752bcfd7c87\r\n",
      "  Stored in directory: /root/.cache/pip/wheels/68/20/f9/a11a0dd63f4c13678b2a5ec488e48078756505c7777b75b29e\r\n",
      "Successfully built pytorchvideo fvcore\r\n",
      "Installing collected packages: parameterized, av, iopath, fvcore, pytorchvideo\r\n",
      "Successfully installed av-9.2.0 fvcore-0.1.5.post20220512 iopath-0.1.9 parameterized-0.8.1 pytorchvideo-0.1.5\r\n",
      "\u001b[33mWARNING: Running pip as the 'root' user can result in broken permissions and conflicting behaviour with the system package manager. It is recommended to use a virtual environment instead: https://pip.pypa.io/warnings/venv\u001b[0m\u001b[33m\r\n",
      "\u001b[0m"
     ]
    }
   ],
   "source": [
    "!pip install pytorchvideo"
   ]
  },
  {
   "cell_type": "code",
   "execution_count": 2,
   "id": "158292b7",
   "metadata": {
    "_cell_guid": "b1076dfc-b9ad-4769-8c92-a6c4dae69d19",
    "_uuid": "8f2839f25d086af736a60e9eeb907d3b93b6e0e5",
    "execution": {
     "iopub.execute_input": "2022-05-13T10:01:34.349923Z",
     "iopub.status.busy": "2022-05-13T10:01:34.349262Z",
     "iopub.status.idle": "2022-05-13T10:01:36.599049Z",
     "shell.execute_reply": "2022-05-13T10:01:36.598174Z"
    },
    "papermill": {
     "duration": 2.275596,
     "end_time": "2022-05-13T10:01:36.601418",
     "exception": false,
     "start_time": "2022-05-13T10:01:34.325822",
     "status": "completed"
    },
    "tags": []
   },
   "outputs": [
    {
     "name": "stderr",
     "output_type": "stream",
     "text": [
      "/opt/conda/lib/python3.7/site-packages/torchvision/transforms/_functional_video.py:6: UserWarning: The _functional_video module is deprecated. Please use the functional module instead.\n",
      "  \"The _functional_video module is deprecated. Please use the functional module instead.\"\n",
      "/opt/conda/lib/python3.7/site-packages/torchvision/transforms/_transforms_video.py:26: UserWarning: The _transforms_video module is deprecated. Please use the transforms module instead.\n",
      "  \"The _transforms_video module is deprecated. Please use the transforms module instead.\"\n"
     ]
    }
   ],
   "source": [
    "import torch\n",
    "import numpy as np\n",
    "from torch.utils.data import (\n",
    "    Dataset,\n",
    "    DataLoader,\n",
    ") \n",
    "import pickle\n",
    "\n",
    "import os\n",
    "\n",
    "import math\n",
    "import torch.nn as nn\n",
    "import torch.nn.functional as F\n",
    "\n",
    "from torchvision.transforms import Compose, Lambda, Grayscale,Normalize\n",
    "from torchvision.transforms._transforms_video import CenterCropVideo\n",
    "from pytorchvideo.data.encoded_video import EncodedVideo\n",
    "from pytorchvideo.transforms import (\n",
    "    ApplyTransformToKey,\n",
    "    UniformTemporalSubsample,\n",
    ")\n",
    "\n",
    "from tqdm import tqdm\n",
    "\n",
    "from collections import OrderedDict\n",
    "\n",
    "import torch.optim as optim\n",
    "\n",
    "\n",
    "\n",
    "class SignDataset(Dataset):\n",
    "    def __init__(self,x,y):\n",
    "        self.x = x\n",
    "        self.y = y\n",
    "\n",
    "\n",
    "    def __len__(self):\n",
    "\n",
    "        return len(self.y)\n",
    "\n",
    "        # length = 0\n",
    "        # with open(self.file, 'rb') as f:\n",
    "        #     data = pickle.load(f)\n",
    "\n",
    "        # for x in data:\n",
    "        #     length += len(data[x])\n",
    "        # return length\n",
    "\n",
    "\n",
    "    def __getitem__(self, index):\n",
    "        return self.x[index], self.y[index]\n",
    "        "
   ]
  },
  {
   "cell_type": "code",
   "execution_count": 3,
   "id": "be574254",
   "metadata": {
    "execution": {
     "iopub.execute_input": "2022-05-13T10:01:36.666828Z",
     "iopub.status.busy": "2022-05-13T10:01:36.666124Z",
     "iopub.status.idle": "2022-05-13T10:01:36.683693Z",
     "shell.execute_reply": "2022-05-13T10:01:36.682925Z"
    },
    "papermill": {
     "duration": 0.051187,
     "end_time": "2022-05-13T10:01:36.685996",
     "exception": false,
     "start_time": "2022-05-13T10:01:36.634809",
     "status": "completed"
    },
    "tags": []
   },
   "outputs": [],
   "source": [
    "IMAGE_HEIGHT = 720\n",
    "IMAGE_WIDTH = 800\n",
    "IMAGE_CHANNEL = 1\n",
    "NUM_FRAMES = 25\n",
    "NUM_CLASSES = 60\n",
    "\n",
    "\n",
    "\n",
    "inputs =[] #x\n",
    "classes = [] #y\n",
    "\n",
    "def transform_data(x, mean, std):\n",
    "    \n",
    "    transform =  ApplyTransformToKey(\n",
    "        key=\"video\",\n",
    "        transform=Compose(\n",
    "            [\n",
    "\n",
    "                Lambda(lambda x: x.permute(1,0,2,3)),#(frames(depth), channel, height, width) -> (channel, frames(depth), height, width)\n",
    "\n",
    "                UniformTemporalSubsample(NUM_FRAMES),\n",
    "                Lambda(lambda x: x.permute(1,0,2,3)),#(frames(depth), channel, height, width)\n",
    "                Lambda(lambda x: x/255.0),\n",
    "                \n",
    "                Normalize((mean,), (std,)),\n",
    "\n",
    "                CenterCropVideo([720,800]),\n",
    "                Lambda(lambda x: x.permute(1,0,2,3)),#(channel, frames(depth), height, width)\n",
    "\n",
    "            ]\n",
    "\n",
    "        ),\n",
    "    )\n",
    "    \n",
    "    return transform(x)\n",
    "\n",
    "\n",
    "\n",
    "    \n",
    "\n",
    "def get_data_info(f):\n",
    "    for line in f:\n",
    "        a = line.split(',')\n",
    "        yield a\n",
    "        \n",
    "\n",
    "\n",
    "def load_dataloader(batch_size):\n",
    "    with open('../input/signdataset/sign/MSSL_Train_Set/TRAIN/MSSL_TRAIN_SET_GT.pkl', 'rb') as f:\n",
    "        data = pickle.load(f)\n",
    "\n",
    "\n",
    "# keys are files so iterate only limited files due to memory limitations.\n",
    "    for key in list(data.keys())[21:24]:\n",
    "        filename = key\n",
    "        print(\"file\",filename)\n",
    "        video = EncodedVideo.from_path(\"../input/signdataset/sign/MSSL_Train_Set/TRAIN/MSSL_TRAIN_SET_VIDEOS_ELAN/\"+filename+\".mp4\")\n",
    "    # file functions\n",
    "\n",
    "        for x in data[key]:\n",
    "            classes.append(x[0])\n",
    "            start_time = x[1]\n",
    "            end_time = x[2]\n",
    "   #give path\n",
    "            \n",
    "    \n",
    "            \n",
    "            \n",
    "            video_data = video.get_clip(start_sec=float(start_time)/1000.0, end_sec=float(end_time)/1000.0)\n",
    "\n",
    "            \n",
    "            video_data[\"video\"] = Grayscale(num_output_channels=1)((video_data[\"video\"]).permute(1,0,2,3))\n",
    "#             video_data[\"video\"] = video_data[\"video\"]/255\n",
    "            #print(video_data[\"video\"].shape)\n",
    "            \n",
    "            std, mean = torch.std_mean(video_data[\"video\"])\n",
    "            std = std/255.0\n",
    "            mean = mean/255.0\n",
    "        \n",
    "            \n",
    "            \n",
    "            video_data = transform_data( video_data, mean, std)\n",
    "\n",
    "        # Move the inputs to the desired device\n",
    "            inputs.append(video_data[\"video\"])\n",
    "\n",
    "    signds = SignDataset(inputs, classes)\n",
    "    dataloader = DataLoader(signds, batch_size=batch_size, shuffle=True, num_workers=1)\n",
    "\n",
    "    return dataloader\n",
    "        \n",
    "\n"
   ]
  },
  {
   "cell_type": "code",
   "execution_count": 4,
   "id": "3319a8da",
   "metadata": {
    "execution": {
     "iopub.execute_input": "2022-05-13T10:01:36.744914Z",
     "iopub.status.busy": "2022-05-13T10:01:36.744671Z",
     "iopub.status.idle": "2022-05-13T10:01:36.759596Z",
     "shell.execute_reply": "2022-05-13T10:01:36.758933Z"
    },
    "papermill": {
     "duration": 0.044298,
     "end_time": "2022-05-13T10:01:36.761399",
     "exception": false,
     "start_time": "2022-05-13T10:01:36.717101",
     "status": "completed"
    },
    "tags": []
   },
   "outputs": [],
   "source": [
    "class conv_3d(nn.Module):\n",
    "    def __init__(self):\n",
    "        super(conv_3d, self).__init__()\n",
    "        self.conv1 = nn.Sequential(\n",
    "            nn.Conv3d(1, 64, kernel_size=5, padding=1),\n",
    "            nn.ReLU(),\n",
    "            nn.MaxPool3d(kernel_size=(2, 2, 2), stride=(2, 2, 2)))\n",
    "        \n",
    "        self.conv2 = nn.Sequential(\n",
    "            nn.Conv3d(64, 128, kernel_size=3, padding=1),\n",
    "            nn.ReLU(),\n",
    "            nn.MaxPool3d(kernel_size=(2, 2, 2), stride=(2, 2, 2)))\n",
    "        \n",
    "\n",
    "        self._features = nn.Sequential(\n",
    "            self.conv1,\n",
    "            self.conv2\n",
    "        )\n",
    "\n",
    "\n",
    "    def forward(self, x):\n",
    "        out = self._features(x)\n",
    "        \n",
    "        out= out.reshape(out.shape[0], out.shape[1]*out.shape[2], out.shape[3], out.shape[4])\n",
    "        return out\n",
    "\n",
    "class conv_2d(nn.Module):\n",
    "    def __init__(self):\n",
    "        super(conv_2d, self).__init__()\n",
    "        self.conv1 = nn.Sequential(\n",
    "            nn.Conv2d(640, 640, kernel_size = 3, padding =1),\n",
    "            nn.ReLU(),\n",
    "            nn.MaxPool2d(kernel_size=(2, 2), stride=(2, 2)))\n",
    "            \n",
    "        \n",
    "        self.conv2 = nn.Sequential(\n",
    "            nn.Conv2d(640, 512, kernel_size = 3, padding =1),\n",
    "            nn.ReLU(),\n",
    "            nn.MaxPool2d(kernel_size=(2, 2), stride=(2, 2)))\n",
    "        \n",
    "        self.conv3 = nn.Sequential(\n",
    "            nn.Conv2d(512, 256, kernel_size = 3, padding =1),\n",
    "            nn.ReLU(),\n",
    "            nn.MaxPool2d(kernel_size=(2, 2), stride=(2, 2)))\n",
    "        \n",
    "    \n",
    "    def forward(self,x):\n",
    "        out = self.conv2(self.conv1(x))\n",
    "        out = self.conv3(out)\n",
    "       \n",
    "        out = out.view(out.shape[0],-1)\n",
    "       \n",
    "        return out\n",
    "\n",
    "\n",
    "  "
   ]
  },
  {
   "cell_type": "code",
   "execution_count": 5,
   "id": "192f40b8",
   "metadata": {
    "execution": {
     "iopub.execute_input": "2022-05-13T10:01:36.813462Z",
     "iopub.status.busy": "2022-05-13T10:01:36.813262Z",
     "iopub.status.idle": "2022-05-13T10:01:47.446660Z",
     "shell.execute_reply": "2022-05-13T10:01:47.445915Z"
    },
    "papermill": {
     "duration": 10.6623,
     "end_time": "2022-05-13T10:01:47.449151",
     "exception": false,
     "start_time": "2022-05-13T10:01:36.786851",
     "status": "completed"
    },
    "tags": []
   },
   "outputs": [],
   "source": [
    "\n",
    "\n",
    "\n",
    "n_classes = 60\n",
    "\n",
    "model = nn.Sequential(OrderedDict([\n",
    "    ('frontend', conv_3d()),\n",
    "    ('mid', conv_2d()),\n",
    "    ('fc', nn.Sequential( nn.Dropout(p=0.4), nn.Linear(135168, 1024),nn.Linear(1024,256), nn.Linear(256,60) ))\n",
    "]))\n",
    "\n",
    "\n",
    "\n",
    "\n",
    "\n",
    "# specify loss function (categorical cross-entropy)\n",
    "criterion = nn.CrossEntropyLoss()\n",
    "# specify optimizer and learning rate\n",
    "optimizer = optim.SGD(\n",
    "  [\n",
    "        {\"params\": model.fc.parameters(), \"lr\": 1e-3},\n",
    "        {\"params\": model.mid.parameters(), \"lr\": 1e-5},\n",
    "        {\"params\": model.frontend.parameters(), \"lr\": 1e-4},\n",
    "  ],\n",
    "  momentum = 0.9\n",
    ")\n",
    "device = torch.device(\"cuda\" if torch.cuda.is_available() else \"cpu\")\n",
    "state = torch.load(\"../input/sign-classification/model_optimizer.pt\")\n",
    "model.load_state_dict(state['model_state_dict'])\n",
    "model.half()\n",
    "model.cuda()\n",
    "\n",
    "optimizer.load_state_dict(state['optimizer_state_dict'])\n",
    "\n",
    "\n",
    "def train(model, device, train_loader, optimizer, criterion, epoch):\n",
    "    \n",
    "    \n",
    "    model.train()\n",
    "    \n",
    "    \n",
    "    \n",
    "    \n",
    "    \n",
    "    for epoch in range(epoch):\n",
    "        correct = 0\n",
    "        num_samples = 0\n",
    "        train_loss = 0\n",
    "        \n",
    "        for batch_idx, (data, target) in enumerate(train_loader):\n",
    "            \n",
    "            data = data.to(device)\n",
    "            target = (target).to(device)\n",
    "\n",
    "    \n",
    "    \n",
    "            optimizer.zero_grad()\n",
    "            output = model(data.half())\n",
    "            \n",
    "            loss = criterion(output, target)\n",
    "            loss.backward()\n",
    "            optimizer.step()\n",
    "            \n",
    "            train_loss += loss.item()\n",
    "            \n",
    "            pred = output.max(1, keepdim=True)[1]# get the index of the max log-probability\n",
    "            num_samples += pred.shape[0]\n",
    "            correct += int(pred==target)\n",
    "            \n",
    "        \n",
    "        train_loss /= num_samples\n",
    "    \n",
    "        print('Epoch: {} , Training Accuracy: {}/{} ({:.0f}%) Training Loss: {:.6f}'.format(\n",
    "                epoch, correct, num_samples,\n",
    "                100. * correct / num_samples, train_loss))\n",
    "    torch.save({\n",
    "            'model_state_dict': model.state_dict(),\n",
    "            'optimizer_state_dict': optimizer.state_dict()}, \"./model_optimizer.pt\")\n",
    "        \n"
   ]
  },
  {
   "cell_type": "code",
   "execution_count": 6,
   "id": "d07d9124",
   "metadata": {
    "execution": {
     "iopub.execute_input": "2022-05-13T10:01:47.497552Z",
     "iopub.status.busy": "2022-05-13T10:01:47.497339Z",
     "iopub.status.idle": "2022-05-13T10:02:31.320682Z",
     "shell.execute_reply": "2022-05-13T10:02:31.319920Z"
    },
    "papermill": {
     "duration": 43.849239,
     "end_time": "2022-05-13T10:02:31.322828",
     "exception": false,
     "start_time": "2022-05-13T10:01:47.473589",
     "status": "completed"
    },
    "tags": []
   },
   "outputs": [
    {
     "name": "stdout",
     "output_type": "stream",
     "text": [
      "file p01_n105\n",
      "file p04_n058\n",
      "file p05_n043\n"
     ]
    }
   ],
   "source": [
    "device = torch.device(\"cuda\" if torch.cuda.is_available() else \"cpu\")\n",
    "dataloader = load_dataloader(batch_size=1)\n"
   ]
  },
  {
   "cell_type": "code",
   "execution_count": 7,
   "id": "41385621",
   "metadata": {
    "execution": {
     "iopub.execute_input": "2022-05-13T10:02:31.373923Z",
     "iopub.status.busy": "2022-05-13T10:02:31.373682Z",
     "iopub.status.idle": "2022-05-13T10:19:15.371318Z",
     "shell.execute_reply": "2022-05-13T10:19:15.370487Z"
    },
    "papermill": {
     "duration": 1004.024381,
     "end_time": "2022-05-13T10:19:15.373584",
     "exception": false,
     "start_time": "2022-05-13T10:02:31.349203",
     "status": "completed"
    },
    "tags": []
   },
   "outputs": [
    {
     "name": "stdout",
     "output_type": "stream",
     "text": [
      "Epoch: 0 , Training Accuracy: 19/52 (37%) Training Loss: 3.603780\n",
      "Epoch: 1 , Training Accuracy: 31/52 (60%) Training Loss: 1.657309\n",
      "Epoch: 2 , Training Accuracy: 44/52 (85%) Training Loss: 0.665447\n",
      "Epoch: 3 , Training Accuracy: 51/52 (98%) Training Loss: 0.224948\n",
      "Epoch: 4 , Training Accuracy: 52/52 (100%) Training Loss: 0.059373\n",
      "Epoch: 5 , Training Accuracy: 52/52 (100%) Training Loss: 0.035389\n",
      "Epoch: 6 , Training Accuracy: 51/52 (98%) Training Loss: 0.091478\n",
      "Epoch: 7 , Training Accuracy: 50/52 (96%) Training Loss: 0.237341\n",
      "Epoch: 8 , Training Accuracy: 52/52 (100%) Training Loss: 0.037009\n",
      "Epoch: 9 , Training Accuracy: 52/52 (100%) Training Loss: 0.023361\n",
      "Epoch: 10 , Training Accuracy: 52/52 (100%) Training Loss: 0.019220\n",
      "Epoch: 11 , Training Accuracy: 52/52 (100%) Training Loss: 0.019055\n",
      "Epoch: 12 , Training Accuracy: 52/52 (100%) Training Loss: 0.014066\n",
      "Epoch: 13 , Training Accuracy: 52/52 (100%) Training Loss: 0.013768\n",
      "Epoch: 14 , Training Accuracy: 52/52 (100%) Training Loss: 0.013041\n"
     ]
    }
   ],
   "source": [
    "train(model,device,dataloader,optimizer,criterion,15)"
   ]
  },
  {
   "cell_type": "code",
   "execution_count": 8,
   "id": "4f3dd8e0",
   "metadata": {
    "execution": {
     "iopub.execute_input": "2022-05-13T10:19:15.432209Z",
     "iopub.status.busy": "2022-05-13T10:19:15.431977Z",
     "iopub.status.idle": "2022-05-13T10:19:15.437125Z",
     "shell.execute_reply": "2022-05-13T10:19:15.436456Z"
    },
    "papermill": {
     "duration": 0.036672,
     "end_time": "2022-05-13T10:19:15.439164",
     "exception": false,
     "start_time": "2022-05-13T10:19:15.402492",
     "status": "completed"
    },
    "tags": []
   },
   "outputs": [
    {
     "name": "stdout",
     "output_type": "stream",
     "text": [
      "Number of model parameters: 146736828\n"
     ]
    }
   ],
   "source": [
    "print('Number of model parameters: {}'.format(sum([p.data.nelement() for p in model.parameters()])))"
   ]
  },
  {
   "cell_type": "code",
   "execution_count": null,
   "id": "1bd75ee2",
   "metadata": {
    "papermill": {
     "duration": 0.028311,
     "end_time": "2022-05-13T10:19:15.496440",
     "exception": false,
     "start_time": "2022-05-13T10:19:15.468129",
     "status": "completed"
    },
    "tags": []
   },
   "outputs": [],
   "source": []
  },
  {
   "cell_type": "code",
   "execution_count": null,
   "id": "b705dfa0",
   "metadata": {
    "papermill": {
     "duration": 0.028534,
     "end_time": "2022-05-13T10:19:15.553657",
     "exception": false,
     "start_time": "2022-05-13T10:19:15.525123",
     "status": "completed"
    },
    "tags": []
   },
   "outputs": [],
   "source": []
  }
 ],
 "metadata": {
  "kernelspec": {
   "display_name": "Python 3",
   "language": "python",
   "name": "python3"
  },
  "language_info": {
   "codemirror_mode": {
    "name": "ipython",
    "version": 3
   },
   "file_extension": ".py",
   "mimetype": "text/x-python",
   "name": "python",
   "nbconvert_exporter": "python",
   "pygments_lexer": "ipython3",
   "version": "3.7.12"
  },
  "papermill": {
   "default_parameters": {},
   "duration": 1087.756855,
   "end_time": "2022-05-13T10:19:17.949615",
   "environment_variables": {},
   "exception": null,
   "input_path": "__notebook__.ipynb",
   "output_path": "__notebook__.ipynb",
   "parameters": {},
   "start_time": "2022-05-13T10:01:10.192760",
   "version": "2.3.4"
  }
 },
 "nbformat": 4,
 "nbformat_minor": 5
}
