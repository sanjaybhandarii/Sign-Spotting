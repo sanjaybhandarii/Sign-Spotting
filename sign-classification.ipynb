{
 "cells": [
  {
   "cell_type": "code",
   "execution_count": 1,
   "id": "5b51eff9",
   "metadata": {
    "execution": {
     "iopub.execute_input": "2022-05-13T11:45:05.492224Z",
     "iopub.status.busy": "2022-05-13T11:45:05.491851Z",
     "iopub.status.idle": "2022-05-13T11:45:22.151072Z",
     "shell.execute_reply": "2022-05-13T11:45:22.150274Z"
    },
    "papermill": {
     "duration": 16.681647,
     "end_time": "2022-05-13T11:45:22.153300",
     "exception": false,
     "start_time": "2022-05-13T11:45:05.471653",
     "status": "completed"
    },
    "tags": []
   },
   "outputs": [
    {
     "name": "stdout",
     "output_type": "stream",
     "text": [
      "Collecting pytorchvideo\r\n",
      "  Downloading pytorchvideo-0.1.5.tar.gz (132 kB)\r\n",
      "\u001b[2K     \u001b[90m━━━━━━━━━━━━━━━━━━━━━━━━━━━━━━━━━━━━━━━\u001b[0m \u001b[32m132.7/132.7 KB\u001b[0m \u001b[31m1.0 MB/s\u001b[0m eta \u001b[36m0:00:00\u001b[0m\r\n",
      "\u001b[?25h  Preparing metadata (setup.py) ... \u001b[?25l-\b \bdone\r\n",
      "\u001b[?25hCollecting fvcore\r\n",
      "  Downloading fvcore-0.1.5.post20220512.tar.gz (50 kB)\r\n",
      "\u001b[2K     \u001b[90m━━━━━━━━━━━━━━━━━━━━━━━━━━━━━━━━━━━━━━━━\u001b[0m \u001b[32m50.1/50.1 KB\u001b[0m \u001b[31m3.5 MB/s\u001b[0m eta \u001b[36m0:00:00\u001b[0m\r\n",
      "\u001b[?25h  Preparing metadata (setup.py) ... \u001b[?25l-\b \bdone\r\n",
      "\u001b[?25hCollecting av\r\n",
      "  Downloading av-9.2.0-cp37-cp37m-manylinux_2_17_x86_64.manylinux2014_x86_64.whl (28.2 MB)\r\n",
      "\u001b[2K     \u001b[90m━━━━━━━━━━━━━━━━━━━━━━━━━━━━━━━━━━━━━━━━\u001b[0m \u001b[32m28.2/28.2 MB\u001b[0m \u001b[31m28.9 MB/s\u001b[0m eta \u001b[36m0:00:00\u001b[0m\r\n",
      "\u001b[?25hCollecting parameterized\r\n",
      "  Downloading parameterized-0.8.1-py2.py3-none-any.whl (26 kB)\r\n",
      "Collecting iopath\r\n",
      "  Downloading iopath-0.1.9-py3-none-any.whl (27 kB)\r\n",
      "Requirement already satisfied: networkx in /opt/conda/lib/python3.7/site-packages (from pytorchvideo) (2.5)\r\n",
      "Requirement already satisfied: numpy in /opt/conda/lib/python3.7/site-packages (from fvcore->pytorchvideo) (1.21.6)\r\n",
      "Requirement already satisfied: yacs>=0.1.6 in /opt/conda/lib/python3.7/site-packages (from fvcore->pytorchvideo) (0.1.8)\r\n",
      "Requirement already satisfied: pyyaml>=5.1 in /opt/conda/lib/python3.7/site-packages (from fvcore->pytorchvideo) (6.0)\r\n",
      "Requirement already satisfied: tqdm in /opt/conda/lib/python3.7/site-packages (from fvcore->pytorchvideo) (4.63.0)\r\n",
      "Requirement already satisfied: termcolor>=1.1 in /opt/conda/lib/python3.7/site-packages (from fvcore->pytorchvideo) (1.1.0)\r\n",
      "Requirement already satisfied: Pillow in /opt/conda/lib/python3.7/site-packages (from fvcore->pytorchvideo) (9.0.1)\r\n",
      "Requirement already satisfied: tabulate in /opt/conda/lib/python3.7/site-packages (from fvcore->pytorchvideo) (0.8.9)\r\n",
      "Requirement already satisfied: portalocker in /opt/conda/lib/python3.7/site-packages (from iopath->pytorchvideo) (2.4.0)\r\n",
      "Requirement already satisfied: decorator>=4.3.0 in /opt/conda/lib/python3.7/site-packages (from networkx->pytorchvideo) (5.1.1)\r\n",
      "Building wheels for collected packages: pytorchvideo, fvcore\r\n",
      "  Building wheel for pytorchvideo (setup.py) ... \u001b[?25l-\b \b\\\b \bdone\r\n",
      "\u001b[?25h  Created wheel for pytorchvideo: filename=pytorchvideo-0.1.5-py3-none-any.whl size=188714 sha256=d20ca398132369cffb1a2d46f9399ac686718676da2ae4dd10c0c579aff2c933\r\n",
      "  Stored in directory: /root/.cache/pip/wheels/e8/51/05/053b29bac2400cbbae2fb7cfc41afd280d627bca7c9363ca80\r\n",
      "  Building wheel for fvcore (setup.py) ... \u001b[?25l-\b \bdone\r\n",
      "\u001b[?25h  Created wheel for fvcore: filename=fvcore-0.1.5.post20220512-py3-none-any.whl size=61288 sha256=0084912e0427858a4cd7848fb03d21df91674df013c1d07c6c202ec769dad06b\r\n",
      "  Stored in directory: /root/.cache/pip/wheels/68/20/f9/a11a0dd63f4c13678b2a5ec488e48078756505c7777b75b29e\r\n",
      "Successfully built pytorchvideo fvcore\r\n",
      "Installing collected packages: parameterized, av, iopath, fvcore, pytorchvideo\r\n",
      "Successfully installed av-9.2.0 fvcore-0.1.5.post20220512 iopath-0.1.9 parameterized-0.8.1 pytorchvideo-0.1.5\r\n",
      "\u001b[33mWARNING: Running pip as the 'root' user can result in broken permissions and conflicting behaviour with the system package manager. It is recommended to use a virtual environment instead: https://pip.pypa.io/warnings/venv\u001b[0m\u001b[33m\r\n",
      "\u001b[0m"
     ]
    }
   ],
   "source": [
    "!pip install pytorchvideo"
   ]
  },
  {
   "cell_type": "code",
   "execution_count": 2,
   "id": "fde85870",
   "metadata": {
    "_cell_guid": "b1076dfc-b9ad-4769-8c92-a6c4dae69d19",
    "_uuid": "8f2839f25d086af736a60e9eeb907d3b93b6e0e5",
    "execution": {
     "iopub.execute_input": "2022-05-13T11:45:22.198904Z",
     "iopub.status.busy": "2022-05-13T11:45:22.198668Z",
     "iopub.status.idle": "2022-05-13T11:45:24.131626Z",
     "shell.execute_reply": "2022-05-13T11:45:24.130856Z"
    },
    "papermill": {
     "duration": 1.957854,
     "end_time": "2022-05-13T11:45:24.133772",
     "exception": false,
     "start_time": "2022-05-13T11:45:22.175918",
     "status": "completed"
    },
    "tags": []
   },
   "outputs": [
    {
     "name": "stderr",
     "output_type": "stream",
     "text": [
      "/opt/conda/lib/python3.7/site-packages/torchvision/transforms/_functional_video.py:6: UserWarning: The _functional_video module is deprecated. Please use the functional module instead.\n",
      "  \"The _functional_video module is deprecated. Please use the functional module instead.\"\n",
      "/opt/conda/lib/python3.7/site-packages/torchvision/transforms/_transforms_video.py:26: UserWarning: The _transforms_video module is deprecated. Please use the transforms module instead.\n",
      "  \"The _transforms_video module is deprecated. Please use the transforms module instead.\"\n"
     ]
    }
   ],
   "source": [
    "import torch\n",
    "import numpy as np\n",
    "from torch.utils.data import (\n",
    "    Dataset,\n",
    "    DataLoader,\n",
    ") \n",
    "import pickle\n",
    "\n",
    "import os\n",
    "\n",
    "import math\n",
    "import torch.nn as nn\n",
    "import torch.nn.functional as F\n",
    "\n",
    "from torchvision.transforms import Compose, Lambda, Grayscale,Normalize\n",
    "from torchvision.transforms._transforms_video import CenterCropVideo\n",
    "from pytorchvideo.data.encoded_video import EncodedVideo\n",
    "from pytorchvideo.transforms import (\n",
    "    ApplyTransformToKey,\n",
    "    UniformTemporalSubsample,\n",
    ")\n",
    "\n",
    "from tqdm import tqdm\n",
    "\n",
    "from collections import OrderedDict\n",
    "\n",
    "import torch.optim as optim\n",
    "\n",
    "\n",
    "\n",
    "class SignDataset(Dataset):\n",
    "    def __init__(self,x,y):\n",
    "        self.x = x\n",
    "        self.y = y\n",
    "\n",
    "\n",
    "    def __len__(self):\n",
    "\n",
    "        return len(self.y)\n",
    "\n",
    "        # length = 0\n",
    "        # with open(self.file, 'rb') as f:\n",
    "        #     data = pickle.load(f)\n",
    "\n",
    "        # for x in data:\n",
    "        #     length += len(data[x])\n",
    "        # return length\n",
    "\n",
    "\n",
    "    def __getitem__(self, index):\n",
    "        return self.x[index], self.y[index]\n",
    "        "
   ]
  },
  {
   "cell_type": "code",
   "execution_count": 3,
   "id": "f1d225e0",
   "metadata": {
    "execution": {
     "iopub.execute_input": "2022-05-13T11:45:24.183582Z",
     "iopub.status.busy": "2022-05-13T11:45:24.183365Z",
     "iopub.status.idle": "2022-05-13T11:45:24.196442Z",
     "shell.execute_reply": "2022-05-13T11:45:24.195742Z"
    },
    "papermill": {
     "duration": 0.039511,
     "end_time": "2022-05-13T11:45:24.198269",
     "exception": false,
     "start_time": "2022-05-13T11:45:24.158758",
     "status": "completed"
    },
    "tags": []
   },
   "outputs": [],
   "source": [
    "IMAGE_HEIGHT = 720\n",
    "IMAGE_WIDTH = 800\n",
    "IMAGE_CHANNEL = 1\n",
    "NUM_FRAMES = 25\n",
    "NUM_CLASSES = 60\n",
    "\n",
    "\n",
    "\n",
    "inputs =[] #x\n",
    "classes = [] #y\n",
    "\n",
    "def transform_data(x, mean, std):\n",
    "    \n",
    "    transform =  ApplyTransformToKey(\n",
    "        key=\"video\",\n",
    "        transform=Compose(\n",
    "            [\n",
    "\n",
    "                Lambda(lambda x: x.permute(1,0,2,3)),#(frames(depth), channel, height, width) -> (channel, frames(depth), height, width)\n",
    "\n",
    "                UniformTemporalSubsample(NUM_FRAMES),\n",
    "                Lambda(lambda x: x.permute(1,0,2,3)),#(frames(depth), channel, height, width)\n",
    "                Lambda(lambda x: x/255.0),\n",
    "                \n",
    "                Normalize((mean,), (std,)),\n",
    "\n",
    "                CenterCropVideo([720,800]),\n",
    "                Lambda(lambda x: x.permute(1,0,2,3)),#(channel, frames(depth), height, width)\n",
    "\n",
    "            ]\n",
    "\n",
    "        ),\n",
    "    )\n",
    "    \n",
    "    return transform(x)\n",
    "\n",
    "\n",
    "\n",
    "    \n",
    "\n",
    "\n",
    "        \n",
    "\n",
    "\n",
    "def load_dataloader(batch_size):\n",
    "    with open('../input/signdataset/sign/MSSL_Train_Set/TRAIN/MSSL_TRAIN_SET_GT.pkl', 'rb') as f:\n",
    "        data = pickle.load(f)\n",
    "\n",
    "\n",
    "# keys are files so iterate only limited files due to memory limitations.\n",
    "    for key in list(data.keys())[33:37]:\n",
    "        filename = key\n",
    "        print(\"file\",filename)\n",
    "        video = EncodedVideo.from_path(\"../input/signdataset/sign/MSSL_Train_Set/TRAIN/MSSL_TRAIN_SET_VIDEOS_ELAN/\"+filename+\".mp4\")\n",
    "    # file functions\n",
    "\n",
    "        for x in data[key]:\n",
    "            classes.append(x[0])\n",
    "            start_time = x[1]\n",
    "            end_time = x[2]\n",
    "   #give path\n",
    "            \n",
    "    \n",
    "            \n",
    "            \n",
    "            video_data = video.get_clip(start_sec=float(start_time)/1000.0, end_sec=float(end_time)/1000.0)\n",
    "\n",
    "            \n",
    "            video_data[\"video\"] = Grayscale(num_output_channels=1)((video_data[\"video\"]).permute(1,0,2,3))\n",
    "#             video_data[\"video\"] = video_data[\"video\"]/255\n",
    "            #print(video_data[\"video\"].shape)\n",
    "            \n",
    "            std, mean = torch.std_mean(video_data[\"video\"])\n",
    "            std = std/255.0\n",
    "            mean = mean/255.0\n",
    "        \n",
    "            \n",
    "            \n",
    "            video_data = transform_data( video_data, mean, std)\n",
    "\n",
    "        # Move the inputs to the desired device\n",
    "            inputs.append(video_data[\"video\"])\n",
    "\n",
    "    signds = SignDataset(inputs, classes)\n",
    "    dataloader = DataLoader(signds, batch_size=batch_size, shuffle=True, num_workers=1)\n",
    "\n",
    "    return dataloader\n",
    "        \n",
    "\n"
   ]
  },
  {
   "cell_type": "code",
   "execution_count": 4,
   "id": "e0239c81",
   "metadata": {
    "execution": {
     "iopub.execute_input": "2022-05-13T11:45:24.245317Z",
     "iopub.status.busy": "2022-05-13T11:45:24.244867Z",
     "iopub.status.idle": "2022-05-13T11:45:24.257218Z",
     "shell.execute_reply": "2022-05-13T11:45:24.256526Z"
    },
    "papermill": {
     "duration": 0.037842,
     "end_time": "2022-05-13T11:45:24.258990",
     "exception": false,
     "start_time": "2022-05-13T11:45:24.221148",
     "status": "completed"
    },
    "tags": []
   },
   "outputs": [],
   "source": [
    "class conv_3d(nn.Module):\n",
    "    def __init__(self):\n",
    "        super(conv_3d, self).__init__()\n",
    "        self.conv1 = nn.Sequential(\n",
    "            nn.Conv3d(1, 64, kernel_size=5, padding=1),\n",
    "            nn.ReLU(),\n",
    "            nn.MaxPool3d(kernel_size=(2, 2, 2), stride=(2, 2, 2)))\n",
    "        \n",
    "        self.conv2 = nn.Sequential(\n",
    "            nn.Conv3d(64, 128, kernel_size=3, padding=1),\n",
    "            nn.ReLU(),\n",
    "            nn.MaxPool3d(kernel_size=(2, 2, 2), stride=(2, 2, 2)))\n",
    "        \n",
    "\n",
    "        self._features = nn.Sequential(\n",
    "            self.conv1,\n",
    "            self.conv2\n",
    "        )\n",
    "\n",
    "\n",
    "    def forward(self, x):\n",
    "        out = self._features(x)\n",
    "        \n",
    "        out= out.reshape(out.shape[0], out.shape[1]*out.shape[2], out.shape[3], out.shape[4])\n",
    "        return out\n",
    "\n",
    "class conv_2d(nn.Module):\n",
    "    def __init__(self):\n",
    "        super(conv_2d, self).__init__()\n",
    "        self.conv1 = nn.Sequential(\n",
    "            nn.Conv2d(640, 640, kernel_size = 3, padding =1),\n",
    "            nn.ReLU(),\n",
    "            nn.MaxPool2d(kernel_size=(2, 2), stride=(2, 2)))\n",
    "            \n",
    "        \n",
    "        self.conv2 = nn.Sequential(\n",
    "            nn.Conv2d(640, 512, kernel_size = 3, padding =1),\n",
    "            nn.ReLU(),\n",
    "            nn.MaxPool2d(kernel_size=(2, 2), stride=(2, 2)))\n",
    "        \n",
    "        self.conv3 = nn.Sequential(\n",
    "            nn.Conv2d(512, 256, kernel_size = 3, padding =1),\n",
    "            nn.ReLU(),\n",
    "            nn.MaxPool2d(kernel_size=(2, 2), stride=(2, 2)))\n",
    "        \n",
    "    \n",
    "    def forward(self,x):\n",
    "        out = self.conv2(self.conv1(x))\n",
    "        out = self.conv3(out)\n",
    "       \n",
    "        out = out.view(out.shape[0],-1)\n",
    "       \n",
    "        return out\n",
    "\n",
    "\n",
    "  "
   ]
  },
  {
   "cell_type": "code",
   "execution_count": 5,
   "id": "4696e81b",
   "metadata": {
    "execution": {
     "iopub.execute_input": "2022-05-13T11:45:24.305127Z",
     "iopub.status.busy": "2022-05-13T11:45:24.304561Z",
     "iopub.status.idle": "2022-05-13T11:45:34.343462Z",
     "shell.execute_reply": "2022-05-13T11:45:34.342724Z"
    },
    "papermill": {
     "duration": 10.063903,
     "end_time": "2022-05-13T11:45:34.345483",
     "exception": false,
     "start_time": "2022-05-13T11:45:24.281580",
     "status": "completed"
    },
    "tags": []
   },
   "outputs": [],
   "source": [
    "\n",
    "\n",
    "\n",
    "n_classes = 60\n",
    "\n",
    "model = nn.Sequential(OrderedDict([\n",
    "    ('frontend', conv_3d()),\n",
    "    ('mid', conv_2d()),\n",
    "    ('fc', nn.Sequential( nn.Dropout(p=0.4), nn.Linear(135168, 1024),nn.Linear(1024,256), nn.Linear(256,60) ))\n",
    "]))\n",
    "\n",
    "\n",
    "\n",
    "\n",
    "\n",
    "# specify loss function (categorical cross-entropy)\n",
    "criterion = nn.CrossEntropyLoss()\n",
    "# specify optimizer and learning rate\n",
    "optimizer = optim.SGD(\n",
    "  [\n",
    "        {\"params\": model.fc.parameters(), \"lr\": 1e-3},\n",
    "        {\"params\": model.mid.parameters(), \"lr\": 1e-5},\n",
    "        {\"params\": model.frontend.parameters(), \"lr\": 1e-4},\n",
    "  ],\n",
    "  momentum = 0.9\n",
    ")\n",
    "device = torch.device(\"cuda\" if torch.cuda.is_available() else \"cpu\")\n",
    "state = torch.load(\"../input/sign-classification/model_optimizer.pt\")\n",
    "model.load_state_dict(state['model_state_dict'])\n",
    "model.half()\n",
    "model.cuda()\n",
    "\n",
    "optimizer.load_state_dict(state['optimizer_state_dict'])\n",
    "\n",
    "\n",
    "def train(model, device, train_loader, optimizer, criterion, epoch):\n",
    "    \n",
    "    \n",
    "    model.train()\n",
    "    \n",
    "    \n",
    "    \n",
    "    \n",
    "    \n",
    "    for epoch in range(epoch):\n",
    "        correct = 0\n",
    "        num_samples = 0\n",
    "        train_loss = 0\n",
    "        \n",
    "        for batch_idx, (data, target) in enumerate(train_loader):\n",
    "            \n",
    "            data = data.to(device)\n",
    "            target = (target).to(device)\n",
    "\n",
    "    \n",
    "    \n",
    "            optimizer.zero_grad()\n",
    "            output = model(data.half())\n",
    "            \n",
    "            loss = criterion(output, target)\n",
    "            loss.backward()\n",
    "            optimizer.step()\n",
    "            \n",
    "            train_loss += loss.item()\n",
    "            \n",
    "            pred = output.max(1, keepdim=True)[1]# get the index of the max log-probability\n",
    "            num_samples += pred.shape[0]\n",
    "            correct += int(pred==target)\n",
    "            \n",
    "        \n",
    "        train_loss /= num_samples\n",
    "    \n",
    "        print('Epoch: {} , Training Accuracy: {}/{} ({:.0f}%) Training Loss: {:.6f}'.format(\n",
    "                epoch, correct, num_samples,\n",
    "                100. * correct / num_samples, train_loss))\n",
    "    torch.save({\n",
    "            'model_state_dict': model.state_dict(),\n",
    "            'optimizer_state_dict': optimizer.state_dict()}, \"./model_optimizer.pt\")\n",
    "        \n"
   ]
  },
  {
   "cell_type": "code",
   "execution_count": 6,
   "id": "16a5ff7a",
   "metadata": {
    "execution": {
     "iopub.execute_input": "2022-05-13T11:45:34.391592Z",
     "iopub.status.busy": "2022-05-13T11:45:34.391374Z",
     "iopub.status.idle": "2022-05-13T11:46:52.626211Z",
     "shell.execute_reply": "2022-05-13T11:46:52.625460Z"
    },
    "papermill": {
     "duration": 78.260584,
     "end_time": "2022-05-13T11:46:52.628418",
     "exception": false,
     "start_time": "2022-05-13T11:45:34.367834",
     "status": "completed"
    },
    "tags": []
   },
   "outputs": [
    {
     "name": "stdout",
     "output_type": "stream",
     "text": [
      "file p04_n073\n",
      "file p01_n067\n",
      "file p05_n004\n",
      "file p06_n061\n"
     ]
    }
   ],
   "source": [
    "device = torch.device(\"cuda\" if torch.cuda.is_available() else \"cpu\")\n",
    "dataloader = load_dataloader(batch_size=1)\n"
   ]
  },
  {
   "cell_type": "code",
   "execution_count": 7,
   "id": "5a498019",
   "metadata": {
    "execution": {
     "iopub.execute_input": "2022-05-13T11:46:52.676560Z",
     "iopub.status.busy": "2022-05-13T11:46:52.676335Z",
     "iopub.status.idle": "2022-05-13T12:18:10.762719Z",
     "shell.execute_reply": "2022-05-13T12:18:10.761690Z"
    },
    "papermill": {
     "duration": 1878.113595,
     "end_time": "2022-05-13T12:18:10.765843",
     "exception": false,
     "start_time": "2022-05-13T11:46:52.652248",
     "status": "completed"
    },
    "tags": []
   },
   "outputs": [
    {
     "name": "stdout",
     "output_type": "stream",
     "text": [
      "Epoch: 0 , Training Accuracy: 32/98 (33%) Training Loss: 3.074999\n",
      "Epoch: 1 , Training Accuracy: 73/98 (74%) Training Loss: 0.908688\n",
      "Epoch: 2 , Training Accuracy: 90/98 (92%) Training Loss: 0.273316\n",
      "Epoch: 3 , Training Accuracy: 97/98 (99%) Training Loss: 0.053718\n",
      "Epoch: 4 , Training Accuracy: 98/98 (100%) Training Loss: 0.013909\n",
      "Epoch: 5 , Training Accuracy: 98/98 (100%) Training Loss: 0.012938\n",
      "Epoch: 6 , Training Accuracy: 98/98 (100%) Training Loss: 0.011314\n",
      "Epoch: 7 , Training Accuracy: 98/98 (100%) Training Loss: 0.010003\n",
      "Epoch: 8 , Training Accuracy: 98/98 (100%) Training Loss: 0.009174\n",
      "Epoch: 9 , Training Accuracy: 98/98 (100%) Training Loss: 0.007915\n",
      "Epoch: 10 , Training Accuracy: 98/98 (100%) Training Loss: 0.007722\n",
      "Epoch: 11 , Training Accuracy: 98/98 (100%) Training Loss: 0.006652\n",
      "Epoch: 12 , Training Accuracy: 98/98 (100%) Training Loss: 0.006915\n",
      "Epoch: 13 , Training Accuracy: 98/98 (100%) Training Loss: 0.007105\n",
      "Epoch: 14 , Training Accuracy: 98/98 (100%) Training Loss: 0.006488\n"
     ]
    }
   ],
   "source": [
    "train(model,device,dataloader,optimizer,criterion,15)"
   ]
  },
  {
   "cell_type": "code",
   "execution_count": 8,
   "id": "bd182002",
   "metadata": {
    "execution": {
     "iopub.execute_input": "2022-05-13T12:18:10.834927Z",
     "iopub.status.busy": "2022-05-13T12:18:10.834583Z",
     "iopub.status.idle": "2022-05-13T12:18:10.840953Z",
     "shell.execute_reply": "2022-05-13T12:18:10.840118Z"
    },
    "papermill": {
     "duration": 0.044432,
     "end_time": "2022-05-13T12:18:10.844334",
     "exception": false,
     "start_time": "2022-05-13T12:18:10.799902",
     "status": "completed"
    },
    "tags": []
   },
   "outputs": [
    {
     "name": "stdout",
     "output_type": "stream",
     "text": [
      "Number of model parameters: 146736828\n"
     ]
    }
   ],
   "source": [
    "print('Number of model parameters: {}'.format(sum([p.data.nelement() for p in model.parameters()])))"
   ]
  },
  {
   "cell_type": "code",
   "execution_count": 9,
   "id": "63889b2b",
   "metadata": {
    "execution": {
     "iopub.execute_input": "2022-05-13T12:18:10.915394Z",
     "iopub.status.busy": "2022-05-13T12:18:10.914590Z",
     "iopub.status.idle": "2022-05-13T12:18:10.918845Z",
     "shell.execute_reply": "2022-05-13T12:18:10.917891Z"
    },
    "papermill": {
     "duration": 0.041103,
     "end_time": "2022-05-13T12:18:10.921270",
     "exception": false,
     "start_time": "2022-05-13T12:18:10.880167",
     "status": "completed"
    },
    "tags": []
   },
   "outputs": [],
   "source": [
    "#from 21 15 epochs"
   ]
  },
  {
   "cell_type": "code",
   "execution_count": null,
   "id": "5b862c17",
   "metadata": {
    "papermill": {
     "duration": 0.033436,
     "end_time": "2022-05-13T12:18:10.988334",
     "exception": false,
     "start_time": "2022-05-13T12:18:10.954898",
     "status": "completed"
    },
    "tags": []
   },
   "outputs": [],
   "source": []
  }
 ],
 "metadata": {
  "kernelspec": {
   "display_name": "Python 3",
   "language": "python",
   "name": "python3"
  },
  "language_info": {
   "codemirror_mode": {
    "name": "ipython",
    "version": 3
   },
   "file_extension": ".py",
   "mimetype": "text/x-python",
   "name": "python",
   "nbconvert_exporter": "python",
   "pygments_lexer": "ipython3",
   "version": "3.7.12"
  },
  "papermill": {
   "default_parameters": {},
   "duration": 1996.016242,
   "end_time": "2022-05-13T12:18:13.640783",
   "environment_variables": {},
   "exception": null,
   "input_path": "__notebook__.ipynb",
   "output_path": "__notebook__.ipynb",
   "parameters": {},
   "start_time": "2022-05-13T11:44:57.624541",
   "version": "2.3.4"
  }
 },
 "nbformat": 4,
 "nbformat_minor": 5
}
