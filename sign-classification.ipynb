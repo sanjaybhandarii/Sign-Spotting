{
 "cells": [
  {
   "cell_type": "code",
   "execution_count": 1,
   "id": "cadaca09",
   "metadata": {
    "execution": {
     "iopub.execute_input": "2022-06-19T01:28:44.229892Z",
     "iopub.status.busy": "2022-06-19T01:28:44.229070Z",
     "iopub.status.idle": "2022-06-19T01:29:10.534776Z",
     "shell.execute_reply": "2022-06-19T01:29:10.533924Z"
    },
    "papermill": {
     "duration": 26.343195,
     "end_time": "2022-06-19T01:29:10.537591",
     "exception": false,
     "start_time": "2022-06-19T01:28:44.194396",
     "status": "completed"
    },
    "tags": []
   },
   "outputs": [
    {
     "name": "stdout",
     "output_type": "stream",
     "text": [
      "Collecting pytorchvideo\r\n",
      "  Downloading pytorchvideo-0.1.5.tar.gz (132 kB)\r\n",
      "\u001b[2K     \u001b[90m━━━━━━━━━━━━━━━━━━━━━━━━━━━━━━━━━━━━━\u001b[0m \u001b[32m132.7/132.7 KB\u001b[0m \u001b[31m844.2 kB/s\u001b[0m eta \u001b[36m0:00:00\u001b[0m\r\n",
      "\u001b[?25h  Preparing metadata (setup.py) ... \u001b[?25l-\b \bdone\r\n",
      "\u001b[?25hCollecting fvcore\r\n",
      "  Downloading fvcore-0.1.5.post20220512.tar.gz (50 kB)\r\n",
      "\u001b[2K     \u001b[90m━━━━━━━━━━━━━━━━━━━━━━━━━━━━━━━━━━━━━━━━\u001b[0m \u001b[32m50.1/50.1 KB\u001b[0m \u001b[31m3.0 MB/s\u001b[0m eta \u001b[36m0:00:00\u001b[0m\r\n",
      "\u001b[?25h  Preparing metadata (setup.py) ... \u001b[?25l-\b \bdone\r\n",
      "\u001b[?25hCollecting av\r\n",
      "  Downloading av-9.2.0-cp37-cp37m-manylinux_2_17_x86_64.manylinux2014_x86_64.whl (28.2 MB)\r\n",
      "\u001b[2K     \u001b[90m━━━━━━━━━━━━━━━━━━━━━━━━━━━━━━━━━━━━━━━━\u001b[0m \u001b[32m28.2/28.2 MB\u001b[0m \u001b[31m30.2 MB/s\u001b[0m eta \u001b[36m0:00:00\u001b[0m\r\n",
      "\u001b[?25hCollecting parameterized\r\n",
      "  Downloading parameterized-0.8.1-py2.py3-none-any.whl (26 kB)\r\n",
      "Collecting iopath\r\n",
      "  Downloading iopath-0.1.9-py3-none-any.whl (27 kB)\r\n",
      "Requirement already satisfied: networkx in /opt/conda/lib/python3.7/site-packages (from pytorchvideo) (2.5)\r\n",
      "Requirement already satisfied: numpy in /opt/conda/lib/python3.7/site-packages (from fvcore->pytorchvideo) (1.21.6)\r\n",
      "Requirement already satisfied: yacs>=0.1.6 in /opt/conda/lib/python3.7/site-packages (from fvcore->pytorchvideo) (0.1.8)\r\n",
      "Requirement already satisfied: pyyaml>=5.1 in /opt/conda/lib/python3.7/site-packages (from fvcore->pytorchvideo) (6.0)\r\n",
      "Requirement already satisfied: tqdm in /opt/conda/lib/python3.7/site-packages (from fvcore->pytorchvideo) (4.63.0)\r\n",
      "Requirement already satisfied: termcolor>=1.1 in /opt/conda/lib/python3.7/site-packages (from fvcore->pytorchvideo) (1.1.0)\r\n",
      "Requirement already satisfied: Pillow in /opt/conda/lib/python3.7/site-packages (from fvcore->pytorchvideo) (9.0.1)\r\n",
      "Requirement already satisfied: tabulate in /opt/conda/lib/python3.7/site-packages (from fvcore->pytorchvideo) (0.8.9)\r\n",
      "Requirement already satisfied: portalocker in /opt/conda/lib/python3.7/site-packages (from iopath->pytorchvideo) (2.4.0)\r\n",
      "Requirement already satisfied: decorator>=4.3.0 in /opt/conda/lib/python3.7/site-packages (from networkx->pytorchvideo) (5.1.1)\r\n",
      "Building wheels for collected packages: pytorchvideo, fvcore\r\n",
      "  Building wheel for pytorchvideo (setup.py) ... \u001b[?25l-\b \b\\\b \bdone\r\n",
      "\u001b[?25h  Created wheel for pytorchvideo: filename=pytorchvideo-0.1.5-py3-none-any.whl size=188714 sha256=3f44311d4a5f9eb1492ec47aaa6007d95aff99e60bf5591e727b01c33779dd23\r\n",
      "  Stored in directory: /root/.cache/pip/wheels/e8/51/05/053b29bac2400cbbae2fb7cfc41afd280d627bca7c9363ca80\r\n",
      "  Building wheel for fvcore (setup.py) ... \u001b[?25l-\b \bdone\r\n",
      "\u001b[?25h  Created wheel for fvcore: filename=fvcore-0.1.5.post20220512-py3-none-any.whl size=61288 sha256=7df0fd57dcb83baa8bdb875f6d23850a14be5549914350afbbca163fb654a1c2\r\n",
      "  Stored in directory: /root/.cache/pip/wheels/68/20/f9/a11a0dd63f4c13678b2a5ec488e48078756505c7777b75b29e\r\n",
      "Successfully built pytorchvideo fvcore\r\n",
      "Installing collected packages: parameterized, av, iopath, fvcore, pytorchvideo\r\n",
      "Successfully installed av-9.2.0 fvcore-0.1.5.post20220512 iopath-0.1.9 parameterized-0.8.1 pytorchvideo-0.1.5\r\n",
      "\u001b[33mWARNING: Running pip as the 'root' user can result in broken permissions and conflicting behaviour with the system package manager. It is recommended to use a virtual environment instead: https://pip.pypa.io/warnings/venv\u001b[0m\u001b[33m\r\n",
      "\u001b[0mCollecting torchsummary\r\n",
      "  Downloading torchsummary-1.5.1-py3-none-any.whl (2.8 kB)\r\n",
      "Installing collected packages: torchsummary\r\n",
      "Successfully installed torchsummary-1.5.1\r\n",
      "\u001b[33mWARNING: Running pip as the 'root' user can result in broken permissions and conflicting behaviour with the system package manager. It is recommended to use a virtual environment instead: https://pip.pypa.io/warnings/venv\u001b[0m\u001b[33m\r\n",
      "\u001b[0m"
     ]
    }
   ],
   "source": [
    "!pip install pytorchvideo\n",
    "!pip install torchsummary"
   ]
  },
  {
   "cell_type": "code",
   "execution_count": 2,
   "id": "d3001499",
   "metadata": {
    "_cell_guid": "b1076dfc-b9ad-4769-8c92-a6c4dae69d19",
    "_uuid": "8f2839f25d086af736a60e9eeb907d3b93b6e0e5",
    "execution": {
     "iopub.execute_input": "2022-06-19T01:29:10.634763Z",
     "iopub.status.busy": "2022-06-19T01:29:10.634296Z",
     "iopub.status.idle": "2022-06-19T01:29:12.694432Z",
     "shell.execute_reply": "2022-06-19T01:29:12.693719Z"
    },
    "papermill": {
     "duration": 2.111571,
     "end_time": "2022-06-19T01:29:12.696490",
     "exception": false,
     "start_time": "2022-06-19T01:29:10.584919",
     "status": "completed"
    },
    "tags": []
   },
   "outputs": [],
   "source": [
    "import torch\n",
    "from typing import Optional, Sequence\n",
    "from torch import Tensor\n",
    "import numpy as np\n",
    "from torch.utils.data import (\n",
    "    Dataset,\n",
    "    DataLoader,\n",
    ") \n",
    "import pickle\n",
    "\n",
    "\n",
    "import os\n",
    "\n",
    "import math\n",
    "import torch.nn as nn\n",
    "import torch.nn.functional as F\n",
    "from torchvision.io import read_video\n",
    "\n",
    "from torchvision.transforms import Compose, Lambda, Grayscale,Normalize, CenterCrop,Resize,ConvertImageDtype\n",
    "#from torchvision.transforms._transforms_video import CenterCropVideo\n",
    "from pytorchvideo.data.encoded_video import EncodedVideo\n",
    "from pytorchvideo.transforms import (\n",
    "    ApplyTransformToKey,\n",
    "    UniformTemporalSubsample,\n",
    ")\n",
    "\n",
    "from tqdm import tqdm\n",
    "\n",
    "from collections import OrderedDict\n",
    "\n",
    "import torch.optim as optim\n",
    "\n",
    "from torch.autograd import Variable\n",
    "\n",
    "\n",
    "import torchvision.models as models\n",
    "\n",
    "import sys\n",
    "from torchsummary import summary\n",
    "\n",
    "\n",
    "\n",
    "\n",
    "\n",
    "\n",
    "class SignDataset(Dataset):\n",
    "    def __init__(self,x,y):\n",
    "        self.x = x\n",
    "        self.y = y\n",
    "\n",
    "\n",
    "    def __len__(self):\n",
    "\n",
    "        return len(self.y)\n",
    "\n",
    "        # length = 0\n",
    "        # with open(self.file, 'rb') as f:\n",
    "        #     data = pickle.load(f)\n",
    "\n",
    "        # for x in data:\n",
    "        #     length += len(data[x])\n",
    "        # return length\n",
    "\n",
    "\n",
    "    def __getitem__(self, index):\n",
    "        return self.x[index], self.y[index]\n",
    "        "
   ]
  },
  {
   "cell_type": "code",
   "execution_count": 3,
   "id": "0693a6c1",
   "metadata": {
    "execution": {
     "iopub.execute_input": "2022-06-19T01:29:12.791960Z",
     "iopub.status.busy": "2022-06-19T01:29:12.791746Z",
     "iopub.status.idle": "2022-06-19T01:29:12.806186Z",
     "shell.execute_reply": "2022-06-19T01:29:12.805557Z"
    },
    "papermill": {
     "duration": 0.064494,
     "end_time": "2022-06-19T01:29:12.808119",
     "exception": false,
     "start_time": "2022-06-19T01:29:12.743625",
     "status": "completed"
    },
    "tags": []
   },
   "outputs": [],
   "source": [
    "IMAGE_HEIGHT = 720\n",
    "IMAGE_WIDTH = 800\n",
    "IMAGE_CHANNEL = 1\n",
    "NUM_FRAMES = 25\n",
    "NUM_CLASSES = 60\n",
    "\n",
    "\n",
    "\n",
    "\n",
    "\n",
    "\n",
    "\n",
    "def transform_data(x):\n",
    "    \n",
    "    transform =  ApplyTransformToKey(\n",
    "        key=\"video\",\n",
    "        transform=Compose(\n",
    "            [\n",
    "                Lambda(lambda x: x/255.0),\n",
    "                Normalize(([0.2933, 0.4799, 0.6723]), ([0.1576, 0.1674, 0.2477])),\n",
    "                Grayscale(num_output_channels=1),\n",
    "                CenterCrop([720,900]),\n",
    "                Resize([512,512]),\n",
    "                Lambda(lambda x: x.permute(1,2,3,0)),#(channel, frames(depth), height, width)\n",
    "#                 Lambda(lambda x: print(x.shape))\n",
    "\n",
    "            ]\n",
    "\n",
    "        ),\n",
    "    )\n",
    "    \n",
    "    return transform(x)\n",
    "\n",
    "def lp_video(video,start_time, end_time):\n",
    "    global means,stds\n",
    "    global nst\n",
    "    \n",
    "    video_data = video.get_clip(start_sec=float(start_time)/1000.0, end_sec=float(end_time)/1000.0)\n",
    "            #print(video_data[\"video\"].shape)\n",
    " \n",
    "    if video_data[\"video\"] is None:\n",
    "        return None        # or pass\n",
    "    else:\n",
    "    \n",
    "        video_data[\"video\"] = video_data[\"video\"].permute(1,0,2,3)\n",
    "        \n",
    "        video_data = transform_data( video_data)\n",
    "\n",
    "        return video_data[\"video\"]\n",
    "\n",
    "def load_dataloaders(batch_size,start,end):\n",
    "\n",
    "    \n",
    "    train_inputs =[] #x\n",
    "    train_classes = [] #y\n",
    "    global neg\n",
    "\n",
    "    with open('../input/signdataset/sign/MSSL_Train_Set/TRAIN/MSSL_TRAIN_SET_GT.pkl', 'rb') as f:\n",
    "        data = pickle.load(f)\n",
    "\n",
    "\n",
    "# keys are files so iterate only limited files due to memory limitations.\n",
    "    for key in list(data.keys())[start:end]:\n",
    "        time_start = []\n",
    "        time_end = []\n",
    "        filename = key\n",
    "        print(\"file\",filename)\n",
    "        video = EncodedVideo.from_path(\"../input/signdataset/sign/MSSL_Train_Set/TRAIN/MSSL_TRAIN_SET_VIDEOS_ELAN/\"+filename+\".mp4\")\n",
    "    # file functions\n",
    "        \n",
    "        for x in data[key]:\n",
    "            img_cls = x[0]\n",
    "            time_start.append(x[1])\n",
    "            time_end.append(x[2])\n",
    "            \n",
    "            \n",
    "            # start_time = x[1]\n",
    "            # end_time = x[2]\n",
    "            vid = lp_video(video,x[1], x[2])\n",
    "\n",
    "            for m in torch.unbind(vid, dim=3):\n",
    "                train_classes.append(img_cls)\n",
    "                train_inputs.append(m)\n",
    "\n",
    "\n",
    "       \n",
    "            \n",
    "        \n",
    "            \n",
    "    signds = SignDataset(train_inputs, train_classes)\n",
    "    trainlen = int(len(signds)*0.8)\n",
    "    torch.manual_seed(0)\n",
    "    \n",
    "    train_set, val_test_set = torch.utils.data.random_split(signds, [trainlen, len(signds)-trainlen])\n",
    "    trainloader = DataLoader(train_set, batch_size=batch_size, shuffle=True, num_workers=2)\n",
    "\n",
    "    valloader = DataLoader(val_test_set, batch_size=batch_size, shuffle=True, num_workers=2)\n",
    "  \n",
    "    return trainloader, valloader\n",
    "        \n",
    "    "
   ]
  },
  {
   "cell_type": "code",
   "execution_count": 4,
   "id": "7cfe7adb",
   "metadata": {
    "execution": {
     "iopub.execute_input": "2022-06-19T01:29:12.902681Z",
     "iopub.status.busy": "2022-06-19T01:29:12.902481Z",
     "iopub.status.idle": "2022-06-19T01:29:12.910096Z",
     "shell.execute_reply": "2022-06-19T01:29:12.909457Z"
    },
    "papermill": {
     "duration": 0.056871,
     "end_time": "2022-06-19T01:29:12.911690",
     "exception": false,
     "start_time": "2022-06-19T01:29:12.854819",
     "status": "completed"
    },
    "tags": []
   },
   "outputs": [],
   "source": [
    "def load_testloader(batch_size,start,end):\n",
    "\n",
    "    time_start = []\n",
    "    time_end = []\n",
    "    train_inputs =[] #x\n",
    "    train_classes = [] #y\n",
    "    \n",
    "\n",
    "    with open('../input/signdataset/sign/MSSL_Train_Set/TRAIN/MSSL_TRAIN_SET_GT.pkl', 'rb') as f:\n",
    "        data = pickle.load(f)\n",
    "\n",
    "\n",
    "# keys are files so iterate only limited files due to memory limitations.\n",
    "    for key in list(data.keys())[start:end]:\n",
    "        filename = key\n",
    "        print(\"file\",filename)\n",
    "        video = EncodedVideo.from_path(\"../input/signdataset/sign/MSSL_Train_Set/TRAIN/MSSL_TRAIN_SET_VIDEOS_ELAN/\"+filename+\".mp4\")\n",
    "    # file functions\n",
    "\n",
    "        for x in data[key]:\n",
    "            img_cls = x[0]\n",
    "            time_start.append(x[1])\n",
    "            time_end.append(x[2])\n",
    "            \n",
    "            \n",
    "            # start_time = x[1]\n",
    "            # end_time = x[2]\n",
    "            vid = lp_video(video,x[1], x[2])\n",
    "\n",
    "            for m in torch.unbind(vid, dim=3):\n",
    "                train_classes.append(img_cls)\n",
    "                train_inputs.append(m)\n",
    "\n",
    "\n",
    "            \n",
    "\n",
    "    signds = SignDataset(train_inputs, train_classes)\n",
    "    \n",
    "    \n",
    "\n",
    "    testloader = DataLoader(signds, batch_size=batch_size, shuffle=True, num_workers=2)\n",
    "\n",
    "    return testloader"
   ]
  },
  {
   "cell_type": "code",
   "execution_count": 5,
   "id": "711ffa10",
   "metadata": {
    "execution": {
     "iopub.execute_input": "2022-06-19T01:29:13.006323Z",
     "iopub.status.busy": "2022-06-19T01:29:13.005849Z",
     "iopub.status.idle": "2022-06-19T01:29:13.010764Z",
     "shell.execute_reply": "2022-06-19T01:29:13.010135Z"
    },
    "papermill": {
     "duration": 0.053714,
     "end_time": "2022-06-19T01:29:13.012362",
     "exception": false,
     "start_time": "2022-06-19T01:29:12.958648",
     "status": "completed"
    },
    "tags": []
   },
   "outputs": [],
   "source": [
    "def load_vid(batch_size,start,end):\n",
    "\n",
    "\n",
    "    train_inputs =[] #x\n",
    "\n",
    "    video = EncodedVideo.from_path(\"../input/signdataset/sign/MSSL_Val_Set/VALIDATION/MSSL_VAL_SET_VIDEOS/p01_n131.mp4\")\n",
    "    # file functions\n",
    "\n",
    "    vid = lp_video(video,start, end)\n",
    "\n",
    "    for m in torch.unbind(vid, dim=3):\n",
    "        train_inputs.append(m)\n",
    "\n",
    "    \n",
    "\n",
    "    testloader = DataLoader(train_inputs, batch_size=batch_size, shuffle=True, num_workers=2)\n",
    "\n",
    "    return testloader"
   ]
  },
  {
   "cell_type": "code",
   "execution_count": 6,
   "id": "61f3bc4d",
   "metadata": {
    "execution": {
     "iopub.execute_input": "2022-06-19T01:29:13.107318Z",
     "iopub.status.busy": "2022-06-19T01:29:13.107130Z",
     "iopub.status.idle": "2022-06-19T01:29:13.143163Z",
     "shell.execute_reply": "2022-06-19T01:29:13.142541Z"
    },
    "papermill": {
     "duration": 0.085994,
     "end_time": "2022-06-19T01:29:13.144927",
     "exception": false,
     "start_time": "2022-06-19T01:29:13.058933",
     "status": "completed"
    },
    "tags": []
   },
   "outputs": [],
   "source": [
    "\"\"\"\n",
    "Creates a EfficientNetV2 Model as defined in:\n",
    "Mingxing Tan, Quoc V. Le. (2021). \n",
    "EfficientNetV2: Smaller Models and Faster Training\n",
    "arXiv preprint arXiv:2104.00298.\n",
    "import from https://github.com/d-li14/mobilenetv2.pytorch\n",
    "\"\"\"\n",
    "\n",
    "\n",
    "\n",
    "__all__ = ['effnetv2_s', 'effnetv2_m', 'effnetv2_l', 'effnetv2_xl']\n",
    "\n",
    "\n",
    "def _make_divisible(v, divisor, min_value=None):\n",
    "    \"\"\"\n",
    "    This function is taken from the original tf repo.\n",
    "    It ensures that all layers have a channel number that is divisible by 8\n",
    "    It can be seen here:\n",
    "    https://github.com/tensorflow/models/blob/master/research/slim/nets/mobilenet/mobilenet.py\n",
    "    :param v:\n",
    "    :param divisor:\n",
    "    :param min_value:\n",
    "    :return:\n",
    "    \"\"\"\n",
    "    if min_value is None:\n",
    "        min_value = divisor\n",
    "    new_v = max(min_value, int(v + divisor / 2) // divisor * divisor)\n",
    "    # Make sure that round down does not go down by more than 10%.\n",
    "    if new_v < 0.9 * v:\n",
    "        new_v += divisor\n",
    "    return new_v\n",
    "\n",
    "\n",
    "# SiLU (Swish) activation function\n",
    "if hasattr(nn, 'SiLU'):\n",
    "    SiLU = nn.SiLU\n",
    "else:\n",
    "    # For compatibility with old PyTorch versions\n",
    "    class SiLU(nn.Module):\n",
    "        def forward(self, x):\n",
    "            return x * torch.sigmoid(x)\n",
    "\n",
    " \n",
    "class SELayer(nn.Module):\n",
    "    def __init__(self, inp, oup, reduction=4):\n",
    "        super(SELayer, self).__init__()\n",
    "        self.avg_pool = nn.AdaptiveAvgPool2d(1)\n",
    "        self.fc = nn.Sequential(\n",
    "                nn.Linear(oup, _make_divisible(inp // reduction, 8)),\n",
    "                SiLU(),\n",
    "                nn.Linear(_make_divisible(inp // reduction, 8), oup),\n",
    "                nn.Sigmoid()\n",
    "        )\n",
    "\n",
    "    def forward(self, x):\n",
    "        b, c, _, _ = x.size()\n",
    "        y = self.avg_pool(x).view(b, c)\n",
    "        y = self.fc(y).view(b, c, 1, 1)\n",
    "        return x * y\n",
    "\n",
    "\n",
    "def conv_3x3_bn(inp, oup, stride):\n",
    "    return nn.Sequential(\n",
    "        nn.Conv2d(inp, oup, 3, stride, 1, bias=False),\n",
    "        nn.BatchNorm2d(oup),\n",
    "        SiLU()\n",
    "    )\n",
    "\n",
    "\n",
    "def conv_1x1_bn(inp, oup):\n",
    "    return nn.Sequential(\n",
    "        nn.Conv2d(inp, oup, 1, 1, 0, bias=False),\n",
    "        nn.BatchNorm2d(oup),\n",
    "        SiLU()\n",
    "    )\n",
    "\n",
    "\n",
    "class MBConv(nn.Module):\n",
    "    def __init__(self, inp, oup, stride, expand_ratio, use_se):\n",
    "        super(MBConv, self).__init__()\n",
    "        assert stride in [1, 2]\n",
    "\n",
    "        hidden_dim = round(inp * expand_ratio)\n",
    "        self.identity = stride == 1 and inp == oup\n",
    "        if use_se:\n",
    "            self.conv = nn.Sequential(\n",
    "                # pw\n",
    "                nn.Conv2d(inp, hidden_dim, 1, 1, 0, bias=False),\n",
    "                nn.BatchNorm2d(hidden_dim),\n",
    "                SiLU(),\n",
    "                # dw\n",
    "                nn.Conv2d(hidden_dim, hidden_dim, 3, stride, 1, groups=hidden_dim, bias=False),\n",
    "                nn.BatchNorm2d(hidden_dim),\n",
    "                SiLU(),\n",
    "                SELayer(inp, hidden_dim),\n",
    "                # pw-linear\n",
    "                nn.Conv2d(hidden_dim, oup, 1, 1, 0, bias=False),\n",
    "                nn.BatchNorm2d(oup),\n",
    "            )\n",
    "        else:\n",
    "            self.conv = nn.Sequential(\n",
    "                # fused\n",
    "                nn.Conv2d(inp, hidden_dim, 3, stride, 1, bias=False),\n",
    "                nn.BatchNorm2d(hidden_dim),\n",
    "                SiLU(),\n",
    "                # pw-linear\n",
    "                nn.Conv2d(hidden_dim, oup, 1, 1, 0, bias=False),\n",
    "                nn.BatchNorm2d(oup),\n",
    "            )\n",
    "\n",
    "\n",
    "    def forward(self, x):\n",
    "        if self.identity:\n",
    "            return x + self.conv(x)\n",
    "        else:\n",
    "            return self.conv(x)\n",
    "\n",
    "\n",
    "class EffNetV2(nn.Module):\n",
    "    def __init__(self, cfgs, num_classes=60, width_mult=1.):\n",
    "        super(EffNetV2, self).__init__()\n",
    "        self.cfgs = cfgs\n",
    "\n",
    "        # building first layer\n",
    "        input_channel = _make_divisible(24 * width_mult, 8)\n",
    "        layers = [conv_3x3_bn(1, input_channel, 2)]\n",
    "        # building inverted residual blocks\n",
    "        block = MBConv\n",
    "        for t, c, n, s, use_se in self.cfgs:\n",
    "            output_channel = _make_divisible(c * width_mult, 8)\n",
    "            for i in range(n):\n",
    "                layers.append(block(input_channel, output_channel, s if i == 0 else 1, t, use_se))\n",
    "                input_channel = output_channel\n",
    "        self.features = nn.Sequential(*layers)\n",
    "        # building last several layers\n",
    "        output_channel = _make_divisible(1792 * width_mult, 8) if width_mult > 1.0 else 1792\n",
    "        self.conv = conv_1x1_bn(input_channel, output_channel)\n",
    "        self.avgpool = nn.AdaptiveAvgPool2d((1, 1))\n",
    "        self.classifier = nn.Linear(output_channel, num_classes)\n",
    "\n",
    "        self._initialize_weights()\n",
    "\n",
    "    def forward(self, x):\n",
    "        x = self.features(x)\n",
    "        x = self.conv(x)\n",
    "        x = self.avgpool(x)\n",
    "        x = x.view(x.size(0), -1)\n",
    "        x = self.classifier(x)\n",
    "        return x\n",
    "\n",
    "    def _initialize_weights(self):\n",
    "        for m in self.modules():\n",
    "            if isinstance(m, nn.Conv2d):\n",
    "                n = m.kernel_size[0] * m.kernel_size[1] * m.out_channels\n",
    "                m.weight.data.normal_(0, math.sqrt(2. / n))\n",
    "                if m.bias is not None:\n",
    "                    m.bias.data.zero_()\n",
    "            elif isinstance(m, nn.BatchNorm2d):\n",
    "                m.weight.data.fill_(1)\n",
    "                m.bias.data.zero_()\n",
    "            elif isinstance(m, nn.Linear):\n",
    "                m.weight.data.normal_(0, 0.001)\n",
    "                m.bias.data.zero_()\n",
    "\n",
    "\n",
    "def effnetv2_s(**kwargs):\n",
    "    \"\"\"\n",
    "    Constructs a EfficientNetV2-S model\n",
    "    \"\"\"\n",
    "    cfgs = [\n",
    "        # t, c, n, s, SE\n",
    "        [1,  24,  2, 1, 0],\n",
    "        [4,  48,  4, 2, 0],\n",
    "        [4,  64,  4, 2, 0],\n",
    "        [4, 128,  6, 2, 1],\n",
    "        [6, 160,  9, 1, 1],\n",
    "        [6, 256, 15, 2, 1],\n",
    "    ]\n",
    "    return EffNetV2(cfgs, **kwargs)\n",
    "\n",
    "\n",
    "def effnetv2_m(**kwargs):\n",
    "    \"\"\"\n",
    "    Constructs a EfficientNetV2-M model\n",
    "    \"\"\"\n",
    "    cfgs = [\n",
    "        # t, c, n, s, SE\n",
    "        [1,  24,  3, 1, 0],\n",
    "        [4,  48,  5, 2, 0],\n",
    "        [4,  80,  5, 2, 0],\n",
    "        [4, 160,  7, 2, 1],\n",
    "        [6, 176, 14, 1, 1],\n",
    "        [6, 304, 18, 2, 1],\n",
    "        [6, 512,  5, 1, 1],\n",
    "    ]\n",
    "    return EffNetV2(cfgs, **kwargs)\n",
    "\n",
    "\n",
    "def effnetv2_l(**kwargs):\n",
    "    \"\"\"\n",
    "    Constructs a EfficientNetV2-L model\n",
    "    \"\"\"\n",
    "    cfgs = [\n",
    "        # t, c, n, s, SE\n",
    "        [1,  32,  4, 1, 0],\n",
    "        [4,  64,  7, 2, 0],\n",
    "        [4,  96,  7, 2, 0],\n",
    "        [4, 192, 10, 2, 1],\n",
    "        [6, 224, 19, 1, 1],\n",
    "        [6, 384, 25, 2, 1],\n",
    "        [6, 640,  7, 1, 1],\n",
    "    ]\n",
    "    return EffNetV2(cfgs, **kwargs)\n",
    "\n",
    "\n",
    "def effnetv2_xl(**kwargs):\n",
    "    \"\"\"\n",
    "    Constructs a EfficientNetV2-XL model\n",
    "    \"\"\"\n",
    "    cfgs = [\n",
    "        # t, c, n, s, SE\n",
    "        [1,  32,  4, 1, 0],\n",
    "        [4,  64,  8, 2, 0],\n",
    "        [4,  96,  8, 2, 0],\n",
    "        [4, 192, 16, 2, 1],\n",
    "        [6, 256, 24, 1, 1],\n",
    "        [6, 512, 32, 2, 1],\n",
    "        [6, 640,  8, 1, 1],\n",
    "    ]\n",
    "    return EffNetV2(cfgs, **kwargs)"
   ]
  },
  {
   "cell_type": "code",
   "execution_count": null,
   "id": "f94b28ec",
   "metadata": {
    "papermill": {
     "duration": 0.046336,
     "end_time": "2022-06-19T01:29:13.238471",
     "exception": false,
     "start_time": "2022-06-19T01:29:13.192135",
     "status": "completed"
    },
    "tags": []
   },
   "outputs": [],
   "source": []
  },
  {
   "cell_type": "code",
   "execution_count": 7,
   "id": "f250f382",
   "metadata": {
    "execution": {
     "iopub.execute_input": "2022-06-19T01:29:13.335039Z",
     "iopub.status.busy": "2022-06-19T01:29:13.334835Z",
     "iopub.status.idle": "2022-06-19T01:29:13.340186Z",
     "shell.execute_reply": "2022-06-19T01:29:13.339438Z"
    },
    "papermill": {
     "duration": 0.056594,
     "end_time": "2022-06-19T01:29:13.341855",
     "exception": false,
     "start_time": "2022-06-19T01:29:13.285261",
     "status": "completed"
    },
    "tags": []
   },
   "outputs": [],
   "source": [
    "\n",
    "def evluate(model, device, loader, mode=\"Validate\"):\n",
    "    \n",
    "    \n",
    "    model.eval()\n",
    "\n",
    "    correct = 0\n",
    "    num_samples = 0\n",
    "    \n",
    "        \n",
    "    for batch_idx, data in enumerate(loader):\n",
    "        with torch.no_grad():    \n",
    "            data = data.to(device)\n",
    "            \n",
    "\n",
    "            output = model(data.half())  \n",
    "            \n",
    "            _,pred = output.max(1)# get the index of the max log-probability\n",
    "            print(pred)\n",
    "\n"
   ]
  },
  {
   "cell_type": "code",
   "execution_count": null,
   "id": "1bab5449",
   "metadata": {
    "papermill": {
     "duration": 0.046459,
     "end_time": "2022-06-19T01:29:13.445088",
     "exception": false,
     "start_time": "2022-06-19T01:29:13.398629",
     "status": "completed"
    },
    "tags": []
   },
   "outputs": [],
   "source": []
  },
  {
   "cell_type": "code",
   "execution_count": 8,
   "id": "fc21a43e",
   "metadata": {
    "execution": {
     "iopub.execute_input": "2022-06-19T01:29:13.544270Z",
     "iopub.status.busy": "2022-06-19T01:29:13.544051Z",
     "iopub.status.idle": "2022-06-19T01:29:13.549950Z",
     "shell.execute_reply": "2022-06-19T01:29:13.549281Z"
    },
    "papermill": {
     "duration": 0.055813,
     "end_time": "2022-06-19T01:29:13.551700",
     "exception": false,
     "start_time": "2022-06-19T01:29:13.495887",
     "status": "completed"
    },
    "scrolled": true,
    "tags": []
   },
   "outputs": [],
   "source": [
    "class FocalLoss(nn.modules.loss._WeightedLoss):\n",
    "    def __init__(self, weight=None, gamma=2,reduction='mean'):\n",
    "        super(FocalLoss, self).__init__(weight,reduction=reduction)\n",
    "        self.gamma = gamma\n",
    "        self.weight = weight #weight parameter will act as the alpha parameter to balance class weights\n",
    "\n",
    "    def forward(self, input, target):\n",
    "        \n",
    "        ce_loss = torch.nn.functional.cross_entropy(input, target, reduction='none') # important to add reduction='none' to keep per-batch-item loss\n",
    "        pt = torch.exp(-ce_loss)\n",
    "        focal_loss = (self.weight*(1-pt)**self.gamma * ce_loss).mean()\n",
    "        return focal_loss\n",
    "        \n"
   ]
  },
  {
   "cell_type": "code",
   "execution_count": 9,
   "id": "949b7f2e",
   "metadata": {
    "execution": {
     "iopub.execute_input": "2022-06-19T01:29:13.645910Z",
     "iopub.status.busy": "2022-06-19T01:29:13.645338Z",
     "iopub.status.idle": "2022-06-19T01:29:13.654864Z",
     "shell.execute_reply": "2022-06-19T01:29:13.654212Z"
    },
    "papermill": {
     "duration": 0.058288,
     "end_time": "2022-06-19T01:29:13.656611",
     "exception": false,
     "start_time": "2022-06-19T01:29:13.598323",
     "status": "completed"
    },
    "tags": []
   },
   "outputs": [],
   "source": [
    "def CB_loss(logits, labels):\n",
    "\n",
    "    no_of_classes = 60\n",
    "    beta = 0.9999\n",
    "    samples_per_cls =torch.tensor([166.0, 370.0, 63.0, 232.0, 905.0, 102.0, 537.0, 993.0, 133.0, 154.0, 286.0, 435.0, 452.0, 779.0, 354.0, 136.0, 232.0, 2154.0, 374.0, 787.0, 337.0, 268.0, 954.0, 167.0, 543.0, 324.0, 669.0, 333.0, 211.0, 433.0, 140.0, 665.0, 107.0, 305.0, 162.0, 61.0, 1229.0, 958.0, 897.0, 543.0, 625.0, 334.0, 776.0, 111.0, 412.0, 583.0, 255.0, 103.0, 108.0, 201.0, 384.0, 632.0, 13.0, 322.0, 664.0, 435.0, 194.0, 322.0, 113.0, 462.0])\n",
    "    \n",
    "    logits.cpu()\n",
    "    labels.cpu()\n",
    "    effective_num = 1.0 - np.power(beta, samples_per_cls)\n",
    "    weights = (1.0 - beta) / np.array(effective_num)\n",
    "    weights = weights / np.sum(weights) * no_of_classes\n",
    "\n",
    "    labels_one_hot = torch.nn.functional.one_hot(labels, no_of_classes).float().cpu()\n",
    "\n",
    "    weights = torch.tensor(weights).float()\n",
    "    weights = weights.unsqueeze(0)\n",
    "    weights = weights.repeat(labels_one_hot.shape[0],1) * labels_one_hot\n",
    "    weights = weights.sum(1)\n",
    "    weights = weights.unsqueeze(1)\n",
    "    weights = weights.repeat(1,no_of_classes)\n",
    "    weights = torch.FloatTensor(weights.transpose(0,1)).cuda()\n",
    "    \n",
    "    return FocalLoss(weights.half())(logits,labels)\n",
    "   "
   ]
  },
  {
   "cell_type": "code",
   "execution_count": null,
   "id": "6d050c16",
   "metadata": {
    "papermill": {
     "duration": 0.046214,
     "end_time": "2022-06-19T01:29:13.750469",
     "exception": false,
     "start_time": "2022-06-19T01:29:13.704255",
     "status": "completed"
    },
    "tags": []
   },
   "outputs": [],
   "source": [
    "\n"
   ]
  },
  {
   "cell_type": "code",
   "execution_count": 10,
   "id": "da6207cc",
   "metadata": {
    "execution": {
     "iopub.execute_input": "2022-06-19T01:29:13.844288Z",
     "iopub.status.busy": "2022-06-19T01:29:13.844073Z",
     "iopub.status.idle": "2022-06-19T01:29:13.856051Z",
     "shell.execute_reply": "2022-06-19T01:29:13.855395Z"
    },
    "papermill": {
     "duration": 0.061133,
     "end_time": "2022-06-19T01:29:13.857882",
     "exception": false,
     "start_time": "2022-06-19T01:29:13.796749",
     "status": "completed"
    },
    "tags": []
   },
   "outputs": [],
   "source": [
    "def train(model, device, train_loader,validloader,scheduler, optimizer,epochs,lr):\n",
    "    print(\"Train start\")\n",
    "    breakout = False\n",
    "    \n",
    "    last_loss = 100\n",
    "    patience = 3\n",
    "    triggertimes = 0\n",
    "    \n",
    "    \n",
    "    model.half()\n",
    "    model.cuda()\n",
    "\n",
    "    \n",
    "    \n",
    "\n",
    "    optimizer.param_groups[0]['lr'] = lr\n",
    "    \n",
    "    for epoch in range(epochs):\n",
    "        model.train()\n",
    "        correct = 0\n",
    "        num_samples = 0\n",
    "        train_loss = 0\n",
    "        \n",
    "        for batch_idx, (data, target) in enumerate(train_loader):\n",
    "            \n",
    "            data = data.to(device)\n",
    "            target = target.to(device)\n",
    "\n",
    "            optimizer.zero_grad()\n",
    "            output = model(data.half())\n",
    "            \n",
    "            loss = CB_loss(output, target)\n",
    "            loss.backward()\n",
    "            optimizer.step()\n",
    "            \n",
    "            \n",
    "            train_loss += loss.item()\n",
    "            \n",
    "            \n",
    "            _,pred = output.max(1)# get the index of the max log-probability\n",
    "            num_samples += target.size(0)\n",
    "            correct += (pred==target).sum().item()\n",
    "            \n",
    "        if optimizer.param_groups[0]['lr'] != 1e-3:    \n",
    "            scheduler.step()\n",
    "        #print(\"lr:\",optimizer.param_groups[0]['lr'])\n",
    "        \n",
    "        \n",
    "        train_loss /= num_samples\n",
    "        \n",
    "        if (100 * correct / num_samples) >= 93:\n",
    "            \n",
    "            print('Epoch: {} , Training Accuracy: {}/{} ({:.0f}%) Training Loss: {:.6f}'.format(\n",
    "                epoch+1, correct, num_samples,100. * correct / num_samples, train_loss))\n",
    "            \n",
    "            current_loss = test(model,device,validloader, mode = \"Validating\")\n",
    "            \n",
    "        \n",
    "            print(\"breakout\")\n",
    "            return model, optimizer\n",
    "            \n",
    "            \n",
    "\n",
    "        print('Epoch: {} , Training Accuracy: {}/{} ({:.0f}%) Training Loss: {:.6f}'.format(\n",
    "                epoch+1, correct, num_samples,\n",
    "                100. * correct / num_samples, train_loss))\n",
    "        \n",
    "        current_loss = test(model,device,validloader)\n",
    "        if current_loss > last_loss:\n",
    "            trigger_times += 1\n",
    "            print('Trigger Times for early stopping:', trigger_times)\n",
    "\n",
    "            if trigger_times >= patience:\n",
    "                print('Early stopping!\\nStart to test process.')\n",
    "                return model, optimizer\n",
    "\n",
    "        else:\n",
    "            print('trigger times: 0')\n",
    "            trigger_times = 0\n",
    "\n",
    "        last_loss = current_loss\n",
    "    \n",
    "    \n",
    "        \n",
    "    return model, optimizer"
   ]
  },
  {
   "cell_type": "code",
   "execution_count": 11,
   "id": "30c2a1b1",
   "metadata": {
    "execution": {
     "iopub.execute_input": "2022-06-19T01:29:13.952187Z",
     "iopub.status.busy": "2022-06-19T01:29:13.952003Z",
     "iopub.status.idle": "2022-06-19T01:29:13.958059Z",
     "shell.execute_reply": "2022-06-19T01:29:13.957439Z"
    },
    "papermill": {
     "duration": 0.054571,
     "end_time": "2022-06-19T01:29:13.959731",
     "exception": false,
     "start_time": "2022-06-19T01:29:13.905160",
     "status": "completed"
    },
    "tags": []
   },
   "outputs": [],
   "source": [
    "\n",
    "def test(model, device, loader, mode=\"Validate\"):\n",
    "    \n",
    "    \n",
    "    model.eval()\n",
    "\n",
    "    correct = 0\n",
    "    num_samples = 0\n",
    "    test_loss = 0\n",
    "    \n",
    "        \n",
    "    for batch_idx, (data, target) in enumerate(loader):\n",
    "        with torch.no_grad():    \n",
    "            data = data.to(device)\n",
    "            target = (target).to(device)\n",
    "\n",
    "            output = model(data.half())  \n",
    "            test_loss += CB_loss(output, target)\n",
    "            \n",
    "            _,pred = output.max(1)# get the index of the max log-probability\n",
    "            num_samples += target.size(0)\n",
    "            correct += (pred==target).sum().item()\n",
    "            #print(\"correct\", correct)\n",
    "    test_loss /= num_samples\n",
    "    print(' Val Accuracy: {}/{} ({:.0f}%) Val Loss: {:.6f}'.format(correct, num_samples,100. * correct / num_samples, test_loss))\n",
    "    return  test_loss"
   ]
  },
  {
   "cell_type": "code",
   "execution_count": 12,
   "id": "3d2c9d15",
   "metadata": {
    "execution": {
     "iopub.execute_input": "2022-06-19T01:29:14.053636Z",
     "iopub.status.busy": "2022-06-19T01:29:14.053155Z",
     "iopub.status.idle": "2022-06-19T01:29:15.055556Z",
     "shell.execute_reply": "2022-06-19T01:29:15.054827Z"
    },
    "papermill": {
     "duration": 1.051545,
     "end_time": "2022-06-19T01:29:15.057549",
     "exception": false,
     "start_time": "2022-06-19T01:29:14.006004",
     "status": "completed"
    },
    "tags": []
   },
   "outputs": [],
   "source": [
    "n_classes = 60\n",
    "\n",
    "\n",
    "model = nn.Sequential(OrderedDict([\n",
    "    ('frontend',effnetv2_m())\n",
    "]))\n",
    "\n",
    "\n",
    "\n",
    "\n",
    "\n",
    "# specify loss function (categorical cross-entropy)\n",
    "\n",
    "# specify optimizer and learning rate\n",
    "optimizer = optim.SGD(\n",
    "    [\n",
    "        \n",
    "        {\"params\": model.frontend.parameters(), \"lr\": 1e-2},\n",
    "  ],\n",
    "  momentum = 0.9\n",
    ")\n",
    "device = torch.device(\"cuda\" if torch.cuda.is_available() else \"cpu\")\n",
    "\n",
    "\n",
    "\n",
    "    \n",
    "# weights =torch.tensor([166.0, 370.0, 63.0, 232.0, 905.0, 102.0, 537.0, 993.0, 133.0, 154.0, 286.0, 435.0, 452.0, 779.0, 354.0, 136.0, 232.0, 2154.0, 374.0, 787.0, 337.0, 268.0, 954.0, 167.0, 543.0, 324.0, 669.0, 333.0, 211.0, 433.0, 140.0, 665.0, 107.0, 305.0, 162.0, 61.0, 1229.0, 958.0, 897.0, 543.0, 625.0, 334.0, 776.0, 111.0, 412.0, 583.0, 255.0, 103.0, 108.0, 201.0, 384.0, 632.0, 13.0, 322.0, 664.0, 435.0, 194.0, 322.0, 113.0, 462.0,2330.0])\n",
    "\n",
    "# weights = weights / weights.sum()\n",
    "# #print(weights)\n",
    "# weights = 1.0 / weights\n",
    "# weights = weights / weights.sum()\n",
    "\n",
    "gamma = 2.0\n",
    "\n",
    "\n",
    "\n",
    "# criterion = nn.CrossEntropyLoss(weight = weights.half())\n",
    "# criterion = FocalLoss(weights.half())\n",
    "\n",
    "# state = torch.load(\"../input/sign-model/model_optimizer1.pt\")\n",
    "# model.load_state_dict(state['model_state_dict'])\n",
    "# model.half()\n",
    "# model.cuda()\n",
    "# optimizer.load_state_dict(state['optimizer_state_dict'])"
   ]
  },
  {
   "cell_type": "code",
   "execution_count": 13,
   "id": "74e98853",
   "metadata": {
    "execution": {
     "iopub.execute_input": "2022-06-19T01:29:15.153037Z",
     "iopub.status.busy": "2022-06-19T01:29:15.152805Z",
     "iopub.status.idle": "2022-06-19T01:29:15.156172Z",
     "shell.execute_reply": "2022-06-19T01:29:15.155525Z"
    },
    "papermill": {
     "duration": 0.052407,
     "end_time": "2022-06-19T01:29:15.157926",
     "exception": false,
     "start_time": "2022-06-19T01:29:15.105519",
     "status": "completed"
    },
    "tags": []
   },
   "outputs": [],
   "source": [
    "#print('Number of model parameters: {}'.format(sum([p.data.nelement() for p in model.parameters()])))"
   ]
  },
  {
   "cell_type": "code",
   "execution_count": 14,
   "id": "9bb98e7f",
   "metadata": {
    "execution": {
     "iopub.execute_input": "2022-06-19T01:29:15.252274Z",
     "iopub.status.busy": "2022-06-19T01:29:15.251805Z",
     "iopub.status.idle": "2022-06-19T01:29:15.254918Z",
     "shell.execute_reply": "2022-06-19T01:29:15.254278Z"
    },
    "papermill": {
     "duration": 0.051864,
     "end_time": "2022-06-19T01:29:15.256510",
     "exception": false,
     "start_time": "2022-06-19T01:29:15.204646",
     "status": "completed"
    },
    "tags": []
   },
   "outputs": [],
   "source": [
    "#summary(model, (1, 512, 640), device='cpu')#1334+986 =2330"
   ]
  },
  {
   "cell_type": "code",
   "execution_count": 15,
   "id": "8c133fe9",
   "metadata": {
    "execution": {
     "iopub.execute_input": "2022-06-19T01:29:15.351481Z",
     "iopub.status.busy": "2022-06-19T01:29:15.351257Z",
     "iopub.status.idle": "2022-06-19T02:20:54.339481Z",
     "shell.execute_reply": "2022-06-19T02:20:54.337873Z"
    },
    "papermill": {
     "duration": 3099.039022,
     "end_time": "2022-06-19T02:20:54.341739",
     "exception": false,
     "start_time": "2022-06-19T01:29:15.302717",
     "status": "completed"
    },
    "tags": []
   },
   "outputs": [
    {
     "name": "stdout",
     "output_type": "stream",
     "text": [
      "file p01_n002\n",
      "file p06_n019\n",
      "file p06_n007\n",
      "file p01_n053\n",
      "file p04_n074\n",
      "file p05_n077\n",
      "file p05_n027\n",
      "file p05_n022\n",
      "file p01_n110\n",
      "file p06_n036\n",
      "Train start\n",
      "Epoch: 1 , Training Accuracy: 123/2105 (6%) Training Loss: 0.087894\n",
      " Val Accuracy: 31/527 (6%) Val Loss: 0.093323\n",
      "trigger times: 0\n",
      "Epoch: 2 , Training Accuracy: 238/2105 (11%) Training Loss: 0.071988\n",
      " Val Accuracy: 68/527 (13%) Val Loss: 0.076843\n",
      "trigger times: 0\n",
      "Epoch: 3 , Training Accuracy: 398/2105 (19%) Training Loss: 0.060119\n",
      " Val Accuracy: 95/527 (18%) Val Loss: 0.057587\n",
      "trigger times: 0\n",
      "Epoch: 4 , Training Accuracy: 491/2105 (23%) Training Loss: 0.052325\n",
      " Val Accuracy: 126/527 (24%) Val Loss: 0.051788\n",
      "trigger times: 0\n",
      "Epoch: 5 , Training Accuracy: 609/2105 (29%) Training Loss: 0.047373\n",
      " Val Accuracy: 138/527 (26%) Val Loss: 0.048157\n",
      "trigger times: 0\n",
      "Epoch: 6 , Training Accuracy: 703/2105 (33%) Training Loss: 0.041782\n",
      " Val Accuracy: 160/527 (30%) Val Loss: 0.045624\n",
      "trigger times: 0\n",
      "Epoch: 7 , Training Accuracy: 867/2105 (41%) Training Loss: 0.036663\n",
      " Val Accuracy: 202/527 (38%) Val Loss: 0.038879\n",
      "trigger times: 0\n",
      "Epoch: 8 , Training Accuracy: 977/2105 (46%) Training Loss: 0.032896\n",
      " Val Accuracy: 224/527 (43%) Val Loss: 0.035950\n",
      "trigger times: 0\n",
      "Epoch: 9 , Training Accuracy: 1086/2105 (52%) Training Loss: 0.029766\n",
      " Val Accuracy: 228/527 (43%) Val Loss: 0.034393\n",
      "trigger times: 0\n",
      "Epoch: 10 , Training Accuracy: 1193/2105 (57%) Training Loss: 0.026229\n",
      " Val Accuracy: 260/527 (49%) Val Loss: 0.031555\n",
      "trigger times: 0\n",
      "Epoch: 11 , Training Accuracy: 1303/2105 (62%) Training Loss: 0.022995\n",
      " Val Accuracy: 298/527 (57%) Val Loss: 0.028030\n",
      "trigger times: 0\n",
      "Epoch: 12 , Training Accuracy: 1387/2105 (66%) Training Loss: 0.020394\n",
      " Val Accuracy: 266/527 (50%) Val Loss: 0.030258\n",
      "Trigger Times for early stopping: 1\n",
      "Epoch: 13 , Training Accuracy: 1489/2105 (71%) Training Loss: 0.017729\n",
      " Val Accuracy: 292/527 (55%) Val Loss: 0.025925\n",
      "trigger times: 0\n",
      "Epoch: 14 , Training Accuracy: 1583/2105 (75%) Training Loss: 0.014961\n",
      " Val Accuracy: 350/527 (66%) Val Loss: 0.023117\n",
      "trigger times: 0\n",
      "Epoch: 15 , Training Accuracy: 1649/2105 (78%) Training Loss: 0.013101\n",
      " Val Accuracy: 365/527 (69%) Val Loss: 0.020584\n",
      "trigger times: 0\n",
      "Epoch: 16 , Training Accuracy: 1716/2105 (82%) Training Loss: 0.011167\n",
      " Val Accuracy: 362/527 (69%) Val Loss: 0.019333\n",
      "trigger times: 0\n",
      "Epoch: 17 , Training Accuracy: 1810/2105 (86%) Training Loss: 0.009144\n",
      " Val Accuracy: 375/527 (71%) Val Loss: 0.018570\n",
      "trigger times: 0\n",
      "Epoch: 18 , Training Accuracy: 1838/2105 (87%) Training Loss: 0.008452\n",
      " Val Accuracy: 373/527 (71%) Val Loss: 0.016846\n",
      "trigger times: 0\n",
      "Epoch: 19 , Training Accuracy: 1856/2105 (88%) Training Loss: 0.007794\n",
      " Val Accuracy: 392/527 (74%) Val Loss: 0.016327\n",
      "trigger times: 0\n",
      "Epoch: 20 , Training Accuracy: 1911/2105 (91%) Training Loss: 0.006681\n",
      " Val Accuracy: 404/527 (77%) Val Loss: 0.016479\n",
      "Trigger Times for early stopping: 1\n",
      "Epoch: 21 , Training Accuracy: 1943/2105 (92%) Training Loss: 0.005653\n",
      " Val Accuracy: 401/527 (76%) Val Loss: 0.015030\n",
      "trigger times: 0\n",
      "Epoch: 22 , Training Accuracy: 1965/2105 (93%) Training Loss: 0.004740\n",
      " Val Accuracy: 395/527 (75%) Val Loss: 0.015869\n",
      "breakout\n"
     ]
    }
   ],
   "source": [
    "trainloader, validloader = load_dataloaders(batch_size=16,start=0, end=10)#73 not included \n",
    "scheduler = torch.optim.lr_scheduler.StepLR(optimizer, step_size=2, gamma=0.1) \n",
    "model, optimizer = train(model,device,trainloader,validloader,scheduler,optimizer,30,1e-2)"
   ]
  },
  {
   "cell_type": "code",
   "execution_count": 16,
   "id": "a6d63328",
   "metadata": {
    "execution": {
     "iopub.execute_input": "2022-06-19T02:20:54.472814Z",
     "iopub.status.busy": "2022-06-19T02:20:54.472553Z",
     "iopub.status.idle": "2022-06-19T02:56:48.517962Z",
     "shell.execute_reply": "2022-06-19T02:56:48.516493Z"
    },
    "papermill": {
     "duration": 2154.113341,
     "end_time": "2022-06-19T02:56:48.520158",
     "exception": false,
     "start_time": "2022-06-19T02:20:54.406817",
     "status": "completed"
    },
    "tags": []
   },
   "outputs": [
    {
     "name": "stdout",
     "output_type": "stream",
     "text": [
      "file p01_n069\n",
      "file p06_n109\n",
      "file p04_n089\n",
      "file p01_n044\n",
      "file p05_n037\n",
      "file p04_n038\n",
      "file p06_n055\n",
      "file p01_n099\n",
      "file p02_n066\n",
      "file p04_n035\n",
      "Train start\n",
      "Epoch: 1 , Training Accuracy: 423/2094 (20%) Training Loss: 0.080125\n",
      " Val Accuracy: 136/524 (26%) Val Loss: 0.064758\n",
      "trigger times: 0\n",
      "Epoch: 2 , Training Accuracy: 841/2094 (40%) Training Loss: 0.039578\n",
      " Val Accuracy: 182/524 (35%) Val Loss: 0.050171\n",
      "trigger times: 0\n",
      "Epoch: 3 , Training Accuracy: 1213/2094 (58%) Training Loss: 0.021578\n",
      " Val Accuracy: 298/524 (57%) Val Loss: 0.021912\n",
      "trigger times: 0\n",
      "Epoch: 4 , Training Accuracy: 1385/2094 (66%) Training Loss: 0.016911\n",
      " Val Accuracy: 336/524 (64%) Val Loss: 0.018524\n",
      "trigger times: 0\n",
      "Epoch: 5 , Training Accuracy: 1469/2094 (70%) Training Loss: 0.014486\n",
      " Val Accuracy: 353/524 (67%) Val Loss: 0.016891\n",
      "trigger times: 0\n",
      "Epoch: 6 , Training Accuracy: 1568/2094 (75%) Training Loss: 0.012576\n",
      " Val Accuracy: 365/524 (70%) Val Loss: 0.015129\n",
      "trigger times: 0\n",
      "Epoch: 7 , Training Accuracy: 1615/2094 (77%) Training Loss: 0.011116\n",
      " Val Accuracy: 387/524 (74%) Val Loss: 0.014030\n",
      "trigger times: 0\n",
      "Epoch: 8 , Training Accuracy: 1688/2094 (81%) Training Loss: 0.009601\n",
      " Val Accuracy: 395/524 (75%) Val Loss: 0.012238\n",
      "trigger times: 0\n",
      "Epoch: 9 , Training Accuracy: 1745/2094 (83%) Training Loss: 0.008391\n",
      " Val Accuracy: 422/524 (81%) Val Loss: 0.011993\n",
      "trigger times: 0\n",
      "Epoch: 10 , Training Accuracy: 1776/2094 (85%) Training Loss: 0.007769\n",
      " Val Accuracy: 428/524 (82%) Val Loss: 0.010696\n",
      "trigger times: 0\n",
      "Epoch: 11 , Training Accuracy: 1850/2094 (88%) Training Loss: 0.006404\n",
      " Val Accuracy: 430/524 (82%) Val Loss: 0.010368\n",
      "trigger times: 0\n",
      "Epoch: 12 , Training Accuracy: 1871/2094 (89%) Training Loss: 0.005741\n",
      " Val Accuracy: 451/524 (86%) Val Loss: 0.009132\n",
      "trigger times: 0\n",
      "Epoch: 13 , Training Accuracy: 1914/2094 (91%) Training Loss: 0.004830\n",
      " Val Accuracy: 451/524 (86%) Val Loss: 0.008110\n",
      "trigger times: 0\n",
      "Epoch: 14 , Training Accuracy: 1947/2094 (93%) Training Loss: 0.004043\n",
      " Val Accuracy: 455/524 (87%) Val Loss: 0.007957\n",
      "trigger times: 0\n",
      "Epoch: 15 , Training Accuracy: 1962/2094 (94%) Training Loss: 0.003665\n",
      " Val Accuracy: 463/524 (88%) Val Loss: 0.006710\n",
      "breakout\n"
     ]
    }
   ],
   "source": [
    "trainloader, validloader = load_dataloaders(batch_size=16,start=10, end=20)#73 not included \n",
    "scheduler = torch.optim.lr_scheduler.StepLR(optimizer, step_size=2, gamma=0.1) \n",
    "model, optimizer = train(model,device,trainloader,validloader,scheduler,optimizer,30,1e-2)"
   ]
  },
  {
   "cell_type": "code",
   "execution_count": null,
   "id": "c46f2173",
   "metadata": {
    "papermill": {
     "duration": 0.076158,
     "end_time": "2022-06-19T02:56:48.674536",
     "exception": false,
     "start_time": "2022-06-19T02:56:48.598378",
     "status": "completed"
    },
    "tags": []
   },
   "outputs": [],
   "source": []
  },
  {
   "cell_type": "code",
   "execution_count": 17,
   "id": "384fc80a",
   "metadata": {
    "execution": {
     "iopub.execute_input": "2022-06-19T02:56:48.828477Z",
     "iopub.status.busy": "2022-06-19T02:56:48.828207Z",
     "iopub.status.idle": "2022-06-19T03:28:52.586490Z",
     "shell.execute_reply": "2022-06-19T03:28:52.585629Z"
    },
    "papermill": {
     "duration": 1923.837585,
     "end_time": "2022-06-19T03:28:52.588776",
     "exception": false,
     "start_time": "2022-06-19T02:56:48.751191",
     "status": "completed"
    },
    "tags": []
   },
   "outputs": [
    {
     "name": "stdout",
     "output_type": "stream",
     "text": [
      "file p01_n057\n",
      "file p01_n105\n",
      "file p04_n058\n",
      "file p05_n043\n",
      "file p06_n020\n",
      "file p02_n001\n",
      "file p04_n032\n",
      "file p05_n084\n",
      "file p01_n102\n",
      "file p06_n096\n",
      "Train start\n",
      "Epoch: 1 , Training Accuracy: 376/1862 (20%) Training Loss: 0.078941\n",
      " Val Accuracy: 171/466 (37%) Val Loss: 0.043762\n",
      "trigger times: 0\n",
      "Epoch: 2 , Training Accuracy: 888/1862 (48%) Training Loss: 0.031008\n",
      " Val Accuracy: 113/466 (24%) Val Loss: 0.067627\n",
      "Trigger Times for early stopping: 1\n",
      "Epoch: 3 , Training Accuracy: 1257/1862 (68%) Training Loss: 0.015963\n",
      " Val Accuracy: 339/466 (73%) Val Loss: 0.013275\n",
      "trigger times: 0\n",
      "Epoch: 4 , Training Accuracy: 1390/1862 (75%) Training Loss: 0.012007\n",
      " Val Accuracy: 352/466 (76%) Val Loss: 0.011307\n",
      "trigger times: 0\n",
      "Epoch: 5 , Training Accuracy: 1440/1862 (77%) Training Loss: 0.010369\n",
      " Val Accuracy: 360/466 (77%) Val Loss: 0.010506\n",
      "trigger times: 0\n",
      "Epoch: 6 , Training Accuracy: 1491/1862 (80%) Training Loss: 0.009496\n",
      " Val Accuracy: 373/466 (80%) Val Loss: 0.010590\n",
      "Trigger Times for early stopping: 1\n",
      "Epoch: 7 , Training Accuracy: 1524/1862 (82%) Training Loss: 0.008762\n",
      " Val Accuracy: 380/466 (82%) Val Loss: 0.008606\n",
      "trigger times: 0\n",
      "Epoch: 8 , Training Accuracy: 1568/1862 (84%) Training Loss: 0.007786\n",
      " Val Accuracy: 391/466 (84%) Val Loss: 0.008781\n",
      "Trigger Times for early stopping: 1\n",
      "Epoch: 9 , Training Accuracy: 1597/1862 (86%) Training Loss: 0.006879\n",
      " Val Accuracy: 389/466 (83%) Val Loss: 0.007645\n",
      "trigger times: 0\n",
      "Epoch: 10 , Training Accuracy: 1645/1862 (88%) Training Loss: 0.006391\n",
      " Val Accuracy: 389/466 (83%) Val Loss: 0.006458\n",
      "trigger times: 0\n",
      "Epoch: 11 , Training Accuracy: 1639/1862 (88%) Training Loss: 0.005717\n",
      " Val Accuracy: 396/466 (85%) Val Loss: 0.006096\n",
      "trigger times: 0\n",
      "Epoch: 12 , Training Accuracy: 1678/1862 (90%) Training Loss: 0.004943\n",
      " Val Accuracy: 402/466 (86%) Val Loss: 0.005756\n",
      "trigger times: 0\n",
      "Epoch: 13 , Training Accuracy: 1701/1862 (91%) Training Loss: 0.004665\n",
      " Val Accuracy: 408/466 (88%) Val Loss: 0.005577\n",
      "trigger times: 0\n",
      "Epoch: 14 , Training Accuracy: 1710/1862 (92%) Training Loss: 0.003988\n",
      " Val Accuracy: 417/466 (89%) Val Loss: 0.005733\n",
      "Trigger Times for early stopping: 1\n",
      "Epoch: 15 , Training Accuracy: 1733/1862 (93%) Training Loss: 0.004014\n",
      " Val Accuracy: 419/466 (90%) Val Loss: 0.004463\n",
      "breakout\n"
     ]
    }
   ],
   "source": [
    "trainloader, validloader = load_dataloaders(batch_size=16,start=20, end=30)#73 not included \n",
    "scheduler = torch.optim.lr_scheduler.StepLR(optimizer, step_size=2, gamma=0.1) \n",
    "model, optimizer = train(model,device,trainloader,validloader,scheduler,optimizer,30,1e-2)"
   ]
  },
  {
   "cell_type": "code",
   "execution_count": 18,
   "id": "4b3e2059",
   "metadata": {
    "execution": {
     "iopub.execute_input": "2022-06-19T03:28:52.769754Z",
     "iopub.status.busy": "2022-06-19T03:28:52.769466Z",
     "iopub.status.idle": "2022-06-19T03:42:36.758755Z",
     "shell.execute_reply": "2022-06-19T03:42:36.757283Z"
    },
    "papermill": {
     "duration": 824.081358,
     "end_time": "2022-06-19T03:42:36.760882",
     "exception": false,
     "start_time": "2022-06-19T03:28:52.679524",
     "status": "completed"
    },
    "tags": []
   },
   "outputs": [
    {
     "name": "stdout",
     "output_type": "stream",
     "text": [
      "file p02_n104\n",
      "file p01_n090\n",
      "file p01_n040\n",
      "file p04_n073\n",
      "file p01_n067\n",
      "file p05_n004\n",
      "file p06_n061\n",
      "file p05_n092\n",
      "file p06_n015\n",
      "file p04_n106\n",
      "Train start\n",
      "Epoch: 1 , Training Accuracy: 860/2112 (41%) Training Loss: 0.046394\n",
      " Val Accuracy: 277/529 (52%) Val Loss: 0.034515\n",
      "trigger times: 0\n",
      "Epoch: 2 , Training Accuracy: 1544/2112 (73%) Training Loss: 0.014609\n",
      " Val Accuracy: 294/529 (56%) Val Loss: 0.032745\n",
      "trigger times: 0\n",
      "Epoch: 3 , Training Accuracy: 1813/2112 (86%) Training Loss: 0.006836\n",
      " Val Accuracy: 464/529 (88%) Val Loss: 0.005558\n",
      "trigger times: 0\n",
      "Epoch: 4 , Training Accuracy: 1927/2112 (91%) Training Loss: 0.004489\n",
      " Val Accuracy: 476/529 (90%) Val Loss: 0.004681\n",
      "trigger times: 0\n",
      "Epoch: 5 , Training Accuracy: 1966/2112 (93%) Training Loss: 0.003396\n",
      " Val Accuracy: 479/529 (91%) Val Loss: 0.004322\n",
      "breakout\n"
     ]
    }
   ],
   "source": [
    "trainloader, validloader = load_dataloaders(batch_size=16,start=30, end=40)#73 not included \n",
    "scheduler = torch.optim.lr_scheduler.StepLR(optimizer, step_size=2, gamma=0.1) \n",
    "model, optimizer = train(model,device,trainloader,validloader,scheduler,optimizer,30,1e-2)\n"
   ]
  },
  {
   "cell_type": "code",
   "execution_count": 19,
   "id": "a9407208",
   "metadata": {
    "execution": {
     "iopub.execute_input": "2022-06-19T03:42:36.960396Z",
     "iopub.status.busy": "2022-06-19T03:42:36.959730Z",
     "iopub.status.idle": "2022-06-19T03:56:47.231930Z",
     "shell.execute_reply": "2022-06-19T03:56:47.230308Z"
    },
    "papermill": {
     "duration": 850.377019,
     "end_time": "2022-06-19T03:56:47.233907",
     "exception": false,
     "start_time": "2022-06-19T03:42:36.856888",
     "status": "completed"
    },
    "tags": []
   },
   "outputs": [
    {
     "name": "stdout",
     "output_type": "stream",
     "text": [
      "file p05_n095\n",
      "file p02_n072\n",
      "file p05_n031\n",
      "file p01_n060\n",
      "file p05_n048\n",
      "file p05_n029\n",
      "file p01_n000\n",
      "file p01_n050\n",
      "file p05_n025\n",
      "file p04_n011\n",
      "Train start\n",
      "Epoch: 1 , Training Accuracy: 917/2152 (43%) Training Loss: 0.047041\n",
      " Val Accuracy: 238/539 (44%) Val Loss: 0.040375\n",
      "trigger times: 0\n",
      "Epoch: 2 , Training Accuracy: 1593/2152 (74%) Training Loss: 0.012706\n",
      " Val Accuracy: 320/539 (59%) Val Loss: 0.021591\n",
      "trigger times: 0\n",
      "Epoch: 3 , Training Accuracy: 1852/2152 (86%) Training Loss: 0.006303\n",
      " Val Accuracy: 479/539 (89%) Val Loss: 0.004753\n",
      "trigger times: 0\n",
      "Epoch: 4 , Training Accuracy: 1993/2152 (93%) Training Loss: 0.003237\n",
      " Val Accuracy: 492/539 (91%) Val Loss: 0.003817\n",
      "trigger times: 0\n",
      "Epoch: 5 , Training Accuracy: 2011/2152 (93%) Training Loss: 0.002927\n",
      " Val Accuracy: 494/539 (92%) Val Loss: 0.003317\n",
      "breakout\n"
     ]
    }
   ],
   "source": [
    "trainloader, validloader = load_dataloaders(batch_size=16,start=40, end=50)#73 not included \n",
    "scheduler = torch.optim.lr_scheduler.StepLR(optimizer, step_size=2, gamma=0.1) \n",
    "model, optimizer = train(model,device,trainloader,validloader,scheduler,optimizer,30,1e-2)"
   ]
  },
  {
   "cell_type": "code",
   "execution_count": 20,
   "id": "07db71b3",
   "metadata": {
    "execution": {
     "iopub.execute_input": "2022-06-19T03:56:47.439331Z",
     "iopub.status.busy": "2022-06-19T03:56:47.439070Z",
     "iopub.status.idle": "2022-06-19T04:02:03.711673Z",
     "shell.execute_reply": "2022-06-19T04:02:03.710791Z"
    },
    "papermill": {
     "duration": 316.378008,
     "end_time": "2022-06-19T04:02:03.714073",
     "exception": false,
     "start_time": "2022-06-19T03:56:47.336065",
     "status": "completed"
    },
    "tags": []
   },
   "outputs": [
    {
     "name": "stdout",
     "output_type": "stream",
     "text": [
      "file p01_n023\n",
      "file p01_n042\n",
      "file p01_n111\n",
      "file p05_n083\n",
      "file p05_n094\n",
      "file p04_n103\n",
      "file p01_n093\n",
      "file p04_n003\n",
      "file p05_n078\n",
      "file p01_n052\n",
      "Train start\n",
      "Epoch: 1 , Training Accuracy: 708/1156 (61%) Training Loss: 0.032812\n",
      " Val Accuracy: 163/289 (56%) Val Loss: 0.027420\n",
      "trigger times: 0\n",
      "Epoch: 2 , Training Accuracy: 1026/1156 (89%) Training Loss: 0.006326\n",
      " Val Accuracy: 231/289 (80%) Val Loss: 0.007420\n",
      "trigger times: 0\n",
      "Epoch: 3 , Training Accuracy: 1109/1156 (96%) Training Loss: 0.001676\n",
      " Val Accuracy: 275/289 (95%) Val Loss: 0.001676\n",
      "breakout\n"
     ]
    }
   ],
   "source": [
    "trainloader, validloader = load_dataloaders(batch_size=16,start=50, end=60)#73 not included \n",
    "scheduler = torch.optim.lr_scheduler.StepLR(optimizer, step_size=2, gamma=0.1) \n",
    "model, optimizer = train(model,device,trainloader,validloader,scheduler,optimizer,30,1e-2)"
   ]
  },
  {
   "cell_type": "code",
   "execution_count": 21,
   "id": "f70e00c5",
   "metadata": {
    "execution": {
     "iopub.execute_input": "2022-06-19T04:02:03.948948Z",
     "iopub.status.busy": "2022-06-19T04:02:03.948678Z",
     "iopub.status.idle": "2022-06-19T04:11:24.664745Z",
     "shell.execute_reply": "2022-06-19T04:11:24.663770Z"
    },
    "papermill": {
     "duration": 560.826792,
     "end_time": "2022-06-19T04:11:24.667129",
     "exception": false,
     "start_time": "2022-06-19T04:02:03.840337",
     "status": "completed"
    },
    "tags": []
   },
   "outputs": [
    {
     "name": "stdout",
     "output_type": "stream",
     "text": [
      "file p02_n098\n",
      "file p06_n013\n",
      "file p05_n006\n",
      "file p01_n063\n",
      "file p02_n097\n",
      "file p05_n065\n",
      "file p01_n108\n",
      "file p06_n018\n",
      "file p05_n009\n",
      "file p05_n071\n",
      "Train start\n",
      "Epoch: 1 , Training Accuracy: 785/1739 (45%) Training Loss: 0.048476\n",
      " Val Accuracy: 258/435 (59%) Val Loss: 0.025375\n",
      "trigger times: 0\n",
      "Epoch: 2 , Training Accuracy: 1386/1739 (80%) Training Loss: 0.011135\n",
      " Val Accuracy: 356/435 (82%) Val Loss: 0.010368\n",
      "trigger times: 0\n",
      "Epoch: 3 , Training Accuracy: 1594/1739 (92%) Training Loss: 0.003592\n",
      " Val Accuracy: 393/435 (90%) Val Loss: 0.004864\n",
      "trigger times: 0\n",
      "Epoch: 4 , Training Accuracy: 1625/1739 (93%) Training Loss: 0.002903\n",
      " Val Accuracy: 398/435 (91%) Val Loss: 0.004356\n",
      "breakout\n"
     ]
    }
   ],
   "source": [
    "trainloader, validloader = load_dataloaders(batch_size=16,start=60, end=70)#73 not included \n",
    "scheduler = torch.optim.lr_scheduler.StepLR(optimizer, step_size=2, gamma=0.1) \n",
    "model, optimizer = train(model,device,trainloader,validloader,scheduler,optimizer,30,1e-2)"
   ]
  },
  {
   "cell_type": "code",
   "execution_count": 22,
   "id": "290fd065",
   "metadata": {
    "execution": {
     "iopub.execute_input": "2022-06-19T04:11:24.908561Z",
     "iopub.status.busy": "2022-06-19T04:11:24.908059Z",
     "iopub.status.idle": "2022-06-19T04:19:19.624038Z",
     "shell.execute_reply": "2022-06-19T04:19:19.623148Z"
    },
    "papermill": {
     "duration": 474.837011,
     "end_time": "2022-06-19T04:19:19.626154",
     "exception": false,
     "start_time": "2022-06-19T04:11:24.789143",
     "status": "completed"
    },
    "tags": []
   },
   "outputs": [
    {
     "name": "stdout",
     "output_type": "stream",
     "text": [
      "file p04_n091\n",
      "file p05_n075\n",
      "file p01_n012\n",
      "file p05_n076\n",
      "file p04_n005\n",
      "file p04_n046\n",
      "file p01_n045\n",
      "file p05_n041\n",
      "file p01_n008\n",
      "file p02_n101\n",
      "Train start\n",
      "Epoch: 1 , Training Accuracy: 969/1809 (54%) Training Loss: 0.037591\n",
      " Val Accuracy: 234/453 (52%) Val Loss: 0.034637\n",
      "trigger times: 0\n",
      "Epoch: 2 , Training Accuracy: 1532/1809 (85%) Training Loss: 0.009030\n",
      " Val Accuracy: 383/453 (85%) Val Loss: 0.007378\n",
      "trigger times: 0\n",
      "Epoch: 3 , Training Accuracy: 1725/1809 (95%) Training Loss: 0.002369\n",
      " Val Accuracy: 417/453 (92%) Val Loss: 0.003265\n",
      "breakout\n"
     ]
    }
   ],
   "source": [
    "trainloader, validloader = load_dataloaders(batch_size=16,start=70, end=80)#73 not included \n",
    "scheduler = torch.optim.lr_scheduler.StepLR(optimizer, step_size=5, gamma=0.1) \n",
    "model, optimizer = train(model,device,trainloader,validloader,scheduler,optimizer,30,1e-2)"
   ]
  },
  {
   "cell_type": "code",
   "execution_count": 23,
   "id": "d4c8cfb1",
   "metadata": {
    "execution": {
     "iopub.execute_input": "2022-06-19T04:19:19.865308Z",
     "iopub.status.busy": "2022-06-19T04:19:19.865037Z",
     "iopub.status.idle": "2022-06-19T04:21:58.263928Z",
     "shell.execute_reply": "2022-06-19T04:21:58.262336Z"
    },
    "papermill": {
     "duration": 158.520599,
     "end_time": "2022-06-19T04:21:58.265982",
     "exception": false,
     "start_time": "2022-06-19T04:19:19.745383",
     "status": "completed"
    },
    "tags": []
   },
   "outputs": [
    {
     "name": "stdout",
     "output_type": "stream",
     "text": [
      "file p01_n102\n",
      "file p06_n096\n",
      "Train start\n",
      "Epoch: 1 , Training Accuracy: 125/332 (38%) Training Loss: 0.061469\n",
      " Val Accuracy: 12/84 (14%) Val Loss: 0.146240\n",
      "trigger times: 0\n",
      "Epoch: 2 , Training Accuracy: 264/332 (80%) Training Loss: 0.008834\n",
      " Val Accuracy: 44/84 (52%) Val Loss: 0.042236\n",
      "trigger times: 0\n",
      "Epoch: 3 , Training Accuracy: 293/332 (88%) Training Loss: 0.004346\n",
      " Val Accuracy: 72/84 (86%) Val Loss: 0.007935\n",
      "trigger times: 0\n",
      "Epoch: 4 , Training Accuracy: 308/332 (93%) Training Loss: 0.003076\n",
      " Val Accuracy: 74/84 (88%) Val Loss: 0.006844\n",
      "trigger times: 0\n",
      "Epoch: 5 , Training Accuracy: 302/332 (91%) Training Loss: 0.003467\n",
      " Val Accuracy: 72/84 (86%) Val Loss: 0.005493\n",
      "trigger times: 0\n",
      "Epoch: 6 , Training Accuracy: 310/332 (93%) Training Loss: 0.002723\n",
      " Val Accuracy: 73/84 (87%) Val Loss: 0.006680\n",
      "breakout\n"
     ]
    }
   ],
   "source": [
    "trainloader, validloader = load_dataloaders(batch_size=16,start=28, end=30)#73 not included \n",
    "scheduler = torch.optim.lr_scheduler.StepLR(optimizer, step_size=2, gamma=0.1) \n",
    "model, optimizer = train(model,device,trainloader,validloader,scheduler,optimizer,30,1e-2)"
   ]
  },
  {
   "cell_type": "code",
   "execution_count": 24,
   "id": "a36ff011",
   "metadata": {
    "execution": {
     "iopub.execute_input": "2022-06-19T04:21:58.515061Z",
     "iopub.status.busy": "2022-06-19T04:21:58.514320Z",
     "iopub.status.idle": "2022-06-19T05:25:21.268931Z",
     "shell.execute_reply": "2022-06-19T05:25:21.268075Z"
    },
    "papermill": {
     "duration": 3802.881144,
     "end_time": "2022-06-19T05:25:21.271140",
     "exception": false,
     "start_time": "2022-06-19T04:21:58.389996",
     "status": "completed"
    },
    "tags": []
   },
   "outputs": [
    {
     "name": "stdout",
     "output_type": "stream",
     "text": [
      "file p01_n085\n",
      "file p05_n064\n",
      "file p05_n017\n",
      "file p01_n028\n",
      "file p02_n079\n",
      "file p01_n010\n",
      "file p01_n082\n",
      "file p01_n107\n",
      "file p02_n088\n",
      "file p01_n087\n",
      "Train start\n",
      "Epoch: 1 , Training Accuracy: 497/1949 (26%) Training Loss: 0.080088\n",
      " Val Accuracy: 157/488 (32%) Val Loss: 0.049652\n",
      "trigger times: 0\n",
      "Epoch: 2 , Training Accuracy: 500/1949 (26%) Training Loss: 0.067394\n",
      " Val Accuracy: 92/488 (19%) Val Loss: 0.074402\n",
      "Trigger Times for early stopping: 1\n",
      "Epoch: 3 , Training Accuracy: 628/1949 (32%) Training Loss: 0.050374\n",
      " Val Accuracy: 174/488 (36%) Val Loss: 0.051788\n",
      "trigger times: 0\n",
      "Epoch: 4 , Training Accuracy: 711/1949 (36%) Training Loss: 0.043214\n",
      " Val Accuracy: 204/488 (42%) Val Loss: 0.045410\n",
      "trigger times: 0\n",
      "Epoch: 5 , Training Accuracy: 767/1949 (39%) Training Loss: 0.040177\n",
      " Val Accuracy: 205/488 (42%) Val Loss: 0.041870\n",
      "trigger times: 0\n",
      "Epoch: 6 , Training Accuracy: 860/1949 (44%) Training Loss: 0.036845\n",
      " Val Accuracy: 227/488 (47%) Val Loss: 0.038818\n",
      "trigger times: 0\n",
      "Epoch: 7 , Training Accuracy: 865/1949 (44%) Training Loss: 0.034331\n",
      " Val Accuracy: 242/488 (50%) Val Loss: 0.035828\n",
      "trigger times: 0\n",
      "Epoch: 8 , Training Accuracy: 924/1949 (47%) Training Loss: 0.032042\n",
      " Val Accuracy: 245/488 (50%) Val Loss: 0.033691\n",
      "trigger times: 0\n",
      "Epoch: 9 , Training Accuracy: 974/1949 (50%) Training Loss: 0.029967\n",
      " Val Accuracy: 268/488 (55%) Val Loss: 0.030991\n",
      "trigger times: 0\n",
      "Epoch: 10 , Training Accuracy: 1019/1949 (52%) Training Loss: 0.028092\n",
      " Val Accuracy: 268/488 (55%) Val Loss: 0.029938\n",
      "trigger times: 0\n",
      "Epoch: 11 , Training Accuracy: 1058/1949 (54%) Training Loss: 0.026856\n",
      " Val Accuracy: 276/488 (57%) Val Loss: 0.027573\n",
      "trigger times: 0\n",
      "Epoch: 12 , Training Accuracy: 1096/1949 (56%) Training Loss: 0.024843\n",
      " Val Accuracy: 278/488 (57%) Val Loss: 0.026062\n",
      "trigger times: 0\n",
      "Epoch: 13 , Training Accuracy: 1138/1949 (58%) Training Loss: 0.023671\n",
      " Val Accuracy: 279/488 (57%) Val Loss: 0.024185\n",
      "trigger times: 0\n",
      "Epoch: 14 , Training Accuracy: 1149/1949 (59%) Training Loss: 0.021947\n",
      " Val Accuracy: 299/488 (61%) Val Loss: 0.023666\n",
      "trigger times: 0\n",
      "Epoch: 15 , Training Accuracy: 1180/1949 (61%) Training Loss: 0.020468\n",
      " Val Accuracy: 305/488 (62%) Val Loss: 0.021667\n",
      "trigger times: 0\n",
      "Epoch: 16 , Training Accuracy: 1215/1949 (62%) Training Loss: 0.019108\n",
      " Val Accuracy: 310/488 (64%) Val Loss: 0.020630\n",
      "trigger times: 0\n",
      "Epoch: 17 , Training Accuracy: 1237/1949 (63%) Training Loss: 0.018413\n",
      " Val Accuracy: 316/488 (65%) Val Loss: 0.019897\n",
      "trigger times: 0\n",
      "Epoch: 18 , Training Accuracy: 1259/1949 (65%) Training Loss: 0.017662\n",
      " Val Accuracy: 319/488 (65%) Val Loss: 0.018951\n",
      "trigger times: 0\n",
      "Epoch: 19 , Training Accuracy: 1310/1949 (67%) Training Loss: 0.015856\n",
      " Val Accuracy: 343/488 (70%) Val Loss: 0.017059\n",
      "trigger times: 0\n",
      "Epoch: 20 , Training Accuracy: 1340/1949 (69%) Training Loss: 0.015314\n",
      " Val Accuracy: 342/488 (70%) Val Loss: 0.015900\n",
      "trigger times: 0\n",
      "Epoch: 21 , Training Accuracy: 1319/1949 (68%) Training Loss: 0.015994\n",
      " Val Accuracy: 341/488 (70%) Val Loss: 0.017548\n",
      "Trigger Times for early stopping: 1\n",
      "Epoch: 22 , Training Accuracy: 1366/1949 (70%) Training Loss: 0.013934\n",
      " Val Accuracy: 354/488 (73%) Val Loss: 0.015305\n",
      "trigger times: 0\n",
      "Epoch: 23 , Training Accuracy: 1408/1949 (72%) Training Loss: 0.013037\n",
      " Val Accuracy: 367/488 (75%) Val Loss: 0.013802\n",
      "trigger times: 0\n",
      "Epoch: 24 , Training Accuracy: 1415/1949 (73%) Training Loss: 0.011692\n",
      " Val Accuracy: 369/488 (76%) Val Loss: 0.013229\n",
      "trigger times: 0\n",
      "Epoch: 25 , Training Accuracy: 1443/1949 (74%) Training Loss: 0.010991\n",
      " Val Accuracy: 382/488 (78%) Val Loss: 0.011566\n",
      "trigger times: 0\n",
      "Epoch: 26 , Training Accuracy: 1484/1949 (76%) Training Loss: 0.010146\n",
      " Val Accuracy: 377/488 (77%) Val Loss: 0.011597\n",
      "Trigger Times for early stopping: 1\n",
      "Epoch: 27 , Training Accuracy: 1540/1949 (79%) Training Loss: 0.009462\n",
      " Val Accuracy: 384/488 (79%) Val Loss: 0.010796\n",
      "trigger times: 0\n",
      "Epoch: 28 , Training Accuracy: 1539/1949 (79%) Training Loss: 0.008829\n",
      " Val Accuracy: 396/488 (81%) Val Loss: 0.009285\n",
      "trigger times: 0\n",
      "Epoch: 29 , Training Accuracy: 1553/1949 (80%) Training Loss: 0.008103\n",
      " Val Accuracy: 396/488 (81%) Val Loss: 0.009918\n",
      "Trigger Times for early stopping: 1\n",
      "Epoch: 30 , Training Accuracy: 1594/1949 (82%) Training Loss: 0.007561\n",
      " Val Accuracy: 407/488 (83%) Val Loss: 0.008835\n",
      "trigger times: 0\n"
     ]
    }
   ],
   "source": [
    "trainloader, validloader = load_dataloaders(batch_size=16,start=80, end=90)#73 not included \n",
    "scheduler = torch.optim.lr_scheduler.StepLR(optimizer, step_size=2, gamma=0.1) \n",
    "model, optimizer = train(model,device,trainloader,validloader,scheduler,optimizer,30,1e-2)"
   ]
  },
  {
   "cell_type": "code",
   "execution_count": 25,
   "id": "edb6c4b3",
   "metadata": {
    "execution": {
     "iopub.execute_input": "2022-06-19T05:25:21.568513Z",
     "iopub.status.busy": "2022-06-19T05:25:21.567763Z",
     "iopub.status.idle": "2022-06-19T05:49:28.356534Z",
     "shell.execute_reply": "2022-06-19T05:49:28.355665Z"
    },
    "papermill": {
     "duration": 1446.938407,
     "end_time": "2022-06-19T05:49:28.358642",
     "exception": false,
     "start_time": "2022-06-19T05:25:21.420235",
     "status": "completed"
    },
    "tags": []
   },
   "outputs": [
    {
     "name": "stdout",
     "output_type": "stream",
     "text": [
      "file p05_n086\n",
      "file p06_n024\n",
      "file p05_n070\n",
      "file p04_n016\n",
      "file p04_n068\n",
      "file p04_n026\n",
      "file p06_n039\n",
      "file p06_n014\n",
      "file p05_n059\n",
      "file p02_n051\n",
      "Train start\n",
      "Epoch: 1 , Training Accuracy: 697/1748 (40%) Training Loss: 0.050032\n",
      " Val Accuracy: 246/437 (56%) Val Loss: 0.028030\n",
      "trigger times: 0\n",
      "Epoch: 2 , Training Accuracy: 1252/1748 (72%) Training Loss: 0.014475\n",
      " Val Accuracy: 275/437 (63%) Val Loss: 0.020523\n",
      "trigger times: 0\n",
      "Epoch: 3 , Training Accuracy: 1457/1748 (83%) Training Loss: 0.007226\n",
      " Val Accuracy: 362/437 (83%) Val Loss: 0.009514\n",
      "trigger times: 0\n",
      "Epoch: 4 , Training Accuracy: 1520/1748 (87%) Training Loss: 0.005606\n",
      " Val Accuracy: 368/437 (84%) Val Loss: 0.007828\n",
      "trigger times: 0\n",
      "Epoch: 5 , Training Accuracy: 1550/1748 (89%) Training Loss: 0.004430\n",
      " Val Accuracy: 373/437 (85%) Val Loss: 0.007797\n",
      "trigger times: 0\n",
      "Epoch: 6 , Training Accuracy: 1562/1748 (89%) Training Loss: 0.004418\n",
      " Val Accuracy: 375/437 (86%) Val Loss: 0.007919\n",
      "Trigger Times for early stopping: 1\n",
      "Epoch: 7 , Training Accuracy: 1577/1748 (90%) Training Loss: 0.003892\n",
      " Val Accuracy: 374/437 (86%) Val Loss: 0.006439\n",
      "trigger times: 0\n",
      "Epoch: 8 , Training Accuracy: 1601/1748 (92%) Training Loss: 0.003763\n",
      " Val Accuracy: 381/437 (87%) Val Loss: 0.006710\n",
      "Trigger Times for early stopping: 1\n",
      "Epoch: 9 , Training Accuracy: 1595/1748 (91%) Training Loss: 0.003635\n",
      " Val Accuracy: 376/437 (86%) Val Loss: 0.006222\n",
      "trigger times: 0\n",
      "Epoch: 10 , Training Accuracy: 1609/1748 (92%) Training Loss: 0.003386\n",
      " Val Accuracy: 384/437 (88%) Val Loss: 0.005730\n",
      "trigger times: 0\n",
      "Epoch: 11 , Training Accuracy: 1618/1748 (93%) Training Loss: 0.003109\n",
      " Val Accuracy: 381/437 (87%) Val Loss: 0.005642\n",
      "trigger times: 0\n",
      "Epoch: 12 , Training Accuracy: 1627/1748 (93%) Training Loss: 0.002965\n",
      " Val Accuracy: 383/437 (88%) Val Loss: 0.006321\n",
      "breakout\n"
     ]
    }
   ],
   "source": [
    "trainloader, validloader = load_dataloaders(batch_size=16,start=90, end=100)#73 not included \n",
    "scheduler = torch.optim.lr_scheduler.StepLR(optimizer, step_size=2, gamma=0.1) \n",
    "model, optimizer = train(model,device,trainloader,validloader,scheduler,optimizer,30,1e-2)"
   ]
  },
  {
   "cell_type": "code",
   "execution_count": 26,
   "id": "0349734a",
   "metadata": {
    "execution": {
     "iopub.execute_input": "2022-06-19T05:49:28.670833Z",
     "iopub.status.busy": "2022-06-19T05:49:28.670566Z",
     "iopub.status.idle": "2022-06-19T05:56:07.846294Z",
     "shell.execute_reply": "2022-06-19T05:56:07.844692Z"
    },
    "papermill": {
     "duration": 399.333312,
     "end_time": "2022-06-19T05:56:07.848256",
     "exception": false,
     "start_time": "2022-06-19T05:49:28.514944",
     "status": "completed"
    },
    "tags": []
   },
   "outputs": [
    {
     "name": "stdout",
     "output_type": "stream",
     "text": [
      "file p06_n056\n",
      "file p04_n080\n",
      "file p05_n062\n",
      "file p04_n034\n",
      "file p04_n049\n",
      "file p06_n033\n",
      "file p02_n100\n",
      "file p04_n030\n",
      "Train start\n",
      "Epoch: 1 , Training Accuracy: 626/1263 (50%) Training Loss: 0.034528\n",
      " Val Accuracy: 232/316 (73%) Val Loss: 0.011246\n",
      "trigger times: 0\n",
      "Epoch: 2 , Training Accuracy: 1054/1263 (83%) Training Loss: 0.005957\n",
      " Val Accuracy: 284/316 (90%) Val Loss: 0.004120\n",
      "trigger times: 0\n",
      "Epoch: 3 , Training Accuracy: 1167/1263 (92%) Training Loss: 0.002587\n",
      " Val Accuracy: 293/316 (93%) Val Loss: 0.002394\n",
      "trigger times: 0\n",
      "Epoch: 4 , Training Accuracy: 1201/1263 (95%) Training Loss: 0.002158\n",
      " Val Accuracy: 297/316 (94%) Val Loss: 0.002142\n",
      "breakout\n"
     ]
    }
   ],
   "source": [
    "trainloader, validloader = load_dataloaders(batch_size=16,start=100, end=108)#73 not included \n",
    "scheduler = torch.optim.lr_scheduler.StepLR(optimizer, step_size=2, gamma=0.1) \n",
    "model, optimizer = train(model,device,trainloader,validloader,scheduler,optimizer,30,1e-2)"
   ]
  },
  {
   "cell_type": "code",
   "execution_count": 27,
   "id": "03993c86",
   "metadata": {
    "execution": {
     "iopub.execute_input": "2022-06-19T05:56:08.172552Z",
     "iopub.status.busy": "2022-06-19T05:56:08.172054Z",
     "iopub.status.idle": "2022-06-19T06:01:52.511488Z",
     "shell.execute_reply": "2022-06-19T06:01:52.510584Z"
    },
    "papermill": {
     "duration": 344.502818,
     "end_time": "2022-06-19T06:01:52.513687",
     "exception": false,
     "start_time": "2022-06-19T05:56:08.010869",
     "status": "completed"
    },
    "tags": []
   },
   "outputs": [
    {
     "name": "stdout",
     "output_type": "stream",
     "text": [
      "file p04_n032\n",
      "file p05_n084\n",
      "file p01_n102\n",
      "file p06_n096\n",
      "Train start\n",
      "Epoch: 1 , Training Accuracy: 374/881 (42%) Training Loss: 0.045083\n",
      " Val Accuracy: 136/221 (62%) Val Loss: 0.017426\n",
      "trigger times: 0\n",
      "Epoch: 2 , Training Accuracy: 690/881 (78%) Training Loss: 0.010378\n",
      " Val Accuracy: 183/221 (83%) Val Loss: 0.007427\n",
      "trigger times: 0\n",
      "Epoch: 3 , Training Accuracy: 803/881 (91%) Training Loss: 0.004221\n",
      " Val Accuracy: 201/221 (91%) Val Loss: 0.003416\n",
      "trigger times: 0\n",
      "Epoch: 4 , Training Accuracy: 811/881 (92%) Training Loss: 0.003453\n",
      " Val Accuracy: 204/221 (92%) Val Loss: 0.003267\n",
      "trigger times: 0\n",
      "Epoch: 5 , Training Accuracy: 821/881 (93%) Training Loss: 0.002941\n",
      " Val Accuracy: 200/221 (90%) Val Loss: 0.003618\n",
      "breakout\n"
     ]
    }
   ],
   "source": [
    "trainloader, validloader = load_dataloaders(batch_size=16,start=26, end=30)#73 not included \n",
    "scheduler = torch.optim.lr_scheduler.StepLR(optimizer, step_size=2, gamma=0.1) \n",
    "model, optimizer = train(model,device,trainloader,validloader,scheduler,optimizer,30,1e-2)"
   ]
  },
  {
   "cell_type": "code",
   "execution_count": null,
   "id": "f90b65aa",
   "metadata": {
    "papermill": {
     "duration": 0.166538,
     "end_time": "2022-06-19T06:01:52.845281",
     "exception": false,
     "start_time": "2022-06-19T06:01:52.678743",
     "status": "completed"
    },
    "tags": []
   },
   "outputs": [],
   "source": []
  },
  {
   "cell_type": "code",
   "execution_count": null,
   "id": "c424d3c2",
   "metadata": {
    "papermill": {
     "duration": 0.167183,
     "end_time": "2022-06-19T06:01:53.182664",
     "exception": false,
     "start_time": "2022-06-19T06:01:53.015481",
     "status": "completed"
    },
    "tags": []
   },
   "outputs": [],
   "source": []
  },
  {
   "cell_type": "code",
   "execution_count": null,
   "id": "d33b39bd",
   "metadata": {
    "papermill": {
     "duration": 0.180544,
     "end_time": "2022-06-19T06:01:53.532041",
     "exception": false,
     "start_time": "2022-06-19T06:01:53.351497",
     "status": "completed"
    },
    "tags": []
   },
   "outputs": [],
   "source": []
  },
  {
   "cell_type": "code",
   "execution_count": 28,
   "id": "d946712f",
   "metadata": {
    "execution": {
     "iopub.execute_input": "2022-06-19T06:01:53.871510Z",
     "iopub.status.busy": "2022-06-19T06:01:53.870675Z",
     "iopub.status.idle": "2022-06-19T06:02:55.420589Z",
     "shell.execute_reply": "2022-06-19T06:02:55.419770Z"
    },
    "papermill": {
     "duration": 61.722181,
     "end_time": "2022-06-19T06:02:55.422337",
     "exception": false,
     "start_time": "2022-06-19T06:01:53.700156",
     "status": "completed"
    },
    "tags": []
   },
   "outputs": [
    {
     "name": "stdout",
     "output_type": "stream",
     "text": [
      "file p06_n054\n",
      "file p05_n047\n",
      "file p06_n021\n",
      "file p01_n081\n",
      " Val Accuracy: 194/1013 (19%) Val Loss: 0.164185\n"
     ]
    },
    {
     "data": {
      "text/plain": [
       "tensor(0.1642, device='cuda:0', dtype=torch.float16)"
      ]
     },
     "execution_count": 28,
     "metadata": {},
     "output_type": "execute_result"
    }
   ],
   "source": [
    "trainloader = load_testloader(batch_size=16,start=108, end=112)#73 not included \n",
    "test(model,device,trainloader)"
   ]
  },
  {
   "cell_type": "code",
   "execution_count": 29,
   "id": "70620dc9",
   "metadata": {
    "execution": {
     "iopub.execute_input": "2022-06-19T06:02:55.758148Z",
     "iopub.status.busy": "2022-06-19T06:02:55.757448Z",
     "iopub.status.idle": "2022-06-19T06:02:56.203967Z",
     "shell.execute_reply": "2022-06-19T06:02:56.203062Z"
    },
    "papermill": {
     "duration": 0.615425,
     "end_time": "2022-06-19T06:02:56.206084",
     "exception": false,
     "start_time": "2022-06-19T06:02:55.590659",
     "status": "completed"
    },
    "tags": []
   },
   "outputs": [],
   "source": [
    "torch.save({\n",
    "            'model_state_dict': model.state_dict(),\n",
    "            'optimizer_state_dict': optimizer.state_dict()}, \"./model_optimizer1.pt\")"
   ]
  },
  {
   "cell_type": "code",
   "execution_count": null,
   "id": "08745053",
   "metadata": {
    "papermill": {
     "duration": 0.167796,
     "end_time": "2022-06-19T06:02:56.541760",
     "exception": false,
     "start_time": "2022-06-19T06:02:56.373964",
     "status": "completed"
    },
    "tags": []
   },
   "outputs": [],
   "source": []
  },
  {
   "cell_type": "code",
   "execution_count": null,
   "id": "bf086ce6",
   "metadata": {
    "papermill": {
     "duration": 0.166357,
     "end_time": "2022-06-19T06:02:56.873864",
     "exception": false,
     "start_time": "2022-06-19T06:02:56.707507",
     "status": "completed"
    },
    "tags": []
   },
   "outputs": [],
   "source": []
  },
  {
   "cell_type": "markdown",
   "id": "4f882af2",
   "metadata": {
    "papermill": {
     "duration": 0.167978,
     "end_time": "2022-06-19T06:02:57.209602",
     "exception": false,
     "start_time": "2022-06-19T06:02:57.041624",
     "status": "completed"
    },
    "tags": []
   },
   "source": []
  },
  {
   "cell_type": "code",
   "execution_count": 30,
   "id": "c5772f59",
   "metadata": {
    "execution": {
     "iopub.execute_input": "2022-06-19T06:02:57.544670Z",
     "iopub.status.busy": "2022-06-19T06:02:57.544397Z",
     "iopub.status.idle": "2022-06-19T06:02:57.547693Z",
     "shell.execute_reply": "2022-06-19T06:02:57.547005Z"
    },
    "papermill": {
     "duration": 0.172945,
     "end_time": "2022-06-19T06:02:57.549331",
     "exception": false,
     "start_time": "2022-06-19T06:02:57.376386",
     "status": "completed"
    },
    "tags": []
   },
   "outputs": [],
   "source": [
    "# trainloader= load_vid(batch_size=16,start=7000, end=12000)#73 not included \n",
    "# evluate(model,device,trainloader)"
   ]
  },
  {
   "cell_type": "code",
   "execution_count": null,
   "id": "5d80501e",
   "metadata": {
    "papermill": {
     "duration": 0.168663,
     "end_time": "2022-06-19T06:02:57.883909",
     "exception": false,
     "start_time": "2022-06-19T06:02:57.715246",
     "status": "completed"
    },
    "tags": []
   },
   "outputs": [],
   "source": []
  }
 ],
 "metadata": {
  "kernelspec": {
   "display_name": "Python 3",
   "language": "python",
   "name": "python3"
  },
  "language_info": {
   "codemirror_mode": {
    "name": "ipython",
    "version": 3
   },
   "file_extension": ".py",
   "mimetype": "text/x-python",
   "name": "python",
   "nbconvert_exporter": "python",
   "pygments_lexer": "ipython3",
   "version": "3.7.12"
  },
  "papermill": {
   "default_parameters": {},
   "duration": 16464.107883,
   "end_time": "2022-06-19T06:02:59.900488",
   "environment_variables": {},
   "exception": null,
   "input_path": "__notebook__.ipynb",
   "output_path": "__notebook__.ipynb",
   "parameters": {},
   "start_time": "2022-06-19T01:28:35.792605",
   "version": "2.3.4"
  }
 },
 "nbformat": 4,
 "nbformat_minor": 5
}
