{
 "cells": [
  {
   "cell_type": "code",
   "execution_count": 1,
   "id": "cba9ba21",
   "metadata": {
    "execution": {
     "iopub.execute_input": "2022-05-13T11:16:20.763552Z",
     "iopub.status.busy": "2022-05-13T11:16:20.762910Z",
     "iopub.status.idle": "2022-05-13T11:16:37.349919Z",
     "shell.execute_reply": "2022-05-13T11:16:37.349059Z"
    },
    "papermill": {
     "duration": 16.601212,
     "end_time": "2022-05-13T11:16:37.352165",
     "exception": false,
     "start_time": "2022-05-13T11:16:20.750953",
     "status": "completed"
    },
    "tags": []
   },
   "outputs": [
    {
     "name": "stdout",
     "output_type": "stream",
     "text": [
      "Collecting pytorchvideo\r\n",
      "  Downloading pytorchvideo-0.1.5.tar.gz (132 kB)\r\n",
      "\u001b[2K     \u001b[90m━━━━━━━━━━━━━━━━━━━━━━━━━━━━━━━━━━━━━\u001b[0m \u001b[32m132.7/132.7 KB\u001b[0m \u001b[31m972.8 kB/s\u001b[0m eta \u001b[36m0:00:00\u001b[0m\r\n",
      "\u001b[?25h  Preparing metadata (setup.py) ... \u001b[?25l-\b \bdone\r\n",
      "\u001b[?25hCollecting fvcore\r\n",
      "  Downloading fvcore-0.1.5.post20220512.tar.gz (50 kB)\r\n",
      "\u001b[2K     \u001b[90m━━━━━━━━━━━━━━━━━━━━━━━━━━━━━━━━━━━━━━━━\u001b[0m \u001b[32m50.1/50.1 KB\u001b[0m \u001b[31m3.3 MB/s\u001b[0m eta \u001b[36m0:00:00\u001b[0m\r\n",
      "\u001b[?25h  Preparing metadata (setup.py) ... \u001b[?25l-\b \bdone\r\n",
      "\u001b[?25hCollecting av\r\n",
      "  Downloading av-9.2.0-cp37-cp37m-manylinux_2_17_x86_64.manylinux2014_x86_64.whl (28.2 MB)\r\n",
      "\u001b[2K     \u001b[90m━━━━━━━━━━━━━━━━━━━━━━━━━━━━━━━━━━━━━━━━\u001b[0m \u001b[32m28.2/28.2 MB\u001b[0m \u001b[31m30.5 MB/s\u001b[0m eta \u001b[36m0:00:00\u001b[0m\r\n",
      "\u001b[?25hCollecting parameterized\r\n",
      "  Downloading parameterized-0.8.1-py2.py3-none-any.whl (26 kB)\r\n",
      "Collecting iopath\r\n",
      "  Downloading iopath-0.1.9-py3-none-any.whl (27 kB)\r\n",
      "Requirement already satisfied: networkx in /opt/conda/lib/python3.7/site-packages (from pytorchvideo) (2.5)\r\n",
      "Requirement already satisfied: numpy in /opt/conda/lib/python3.7/site-packages (from fvcore->pytorchvideo) (1.21.6)\r\n",
      "Requirement already satisfied: yacs>=0.1.6 in /opt/conda/lib/python3.7/site-packages (from fvcore->pytorchvideo) (0.1.8)\r\n",
      "Requirement already satisfied: pyyaml>=5.1 in /opt/conda/lib/python3.7/site-packages (from fvcore->pytorchvideo) (6.0)\r\n",
      "Requirement already satisfied: tqdm in /opt/conda/lib/python3.7/site-packages (from fvcore->pytorchvideo) (4.63.0)\r\n",
      "Requirement already satisfied: termcolor>=1.1 in /opt/conda/lib/python3.7/site-packages (from fvcore->pytorchvideo) (1.1.0)\r\n",
      "Requirement already satisfied: Pillow in /opt/conda/lib/python3.7/site-packages (from fvcore->pytorchvideo) (9.0.1)\r\n",
      "Requirement already satisfied: tabulate in /opt/conda/lib/python3.7/site-packages (from fvcore->pytorchvideo) (0.8.9)\r\n",
      "Requirement already satisfied: portalocker in /opt/conda/lib/python3.7/site-packages (from iopath->pytorchvideo) (2.4.0)\r\n",
      "Requirement already satisfied: decorator>=4.3.0 in /opt/conda/lib/python3.7/site-packages (from networkx->pytorchvideo) (5.1.1)\r\n",
      "Building wheels for collected packages: pytorchvideo, fvcore\r\n",
      "  Building wheel for pytorchvideo (setup.py) ... \u001b[?25l-\b \b\\\b \bdone\r\n",
      "\u001b[?25h  Created wheel for pytorchvideo: filename=pytorchvideo-0.1.5-py3-none-any.whl size=188714 sha256=5e159dcac5306d1138de3e9d2b2ef05d28aef2684091784feca3d0d36fd77c5a\r\n",
      "  Stored in directory: /root/.cache/pip/wheels/e8/51/05/053b29bac2400cbbae2fb7cfc41afd280d627bca7c9363ca80\r\n",
      "  Building wheel for fvcore (setup.py) ... \u001b[?25l-\b \bdone\r\n",
      "\u001b[?25h  Created wheel for fvcore: filename=fvcore-0.1.5.post20220512-py3-none-any.whl size=61288 sha256=d86d6dfb0646305cc5b48e24fa91eab09adbbe276279c6ac656610da901f7d5c\r\n",
      "  Stored in directory: /root/.cache/pip/wheels/68/20/f9/a11a0dd63f4c13678b2a5ec488e48078756505c7777b75b29e\r\n",
      "Successfully built pytorchvideo fvcore\r\n",
      "Installing collected packages: parameterized, av, iopath, fvcore, pytorchvideo\r\n",
      "Successfully installed av-9.2.0 fvcore-0.1.5.post20220512 iopath-0.1.9 parameterized-0.8.1 pytorchvideo-0.1.5\r\n",
      "\u001b[33mWARNING: Running pip as the 'root' user can result in broken permissions and conflicting behaviour with the system package manager. It is recommended to use a virtual environment instead: https://pip.pypa.io/warnings/venv\u001b[0m\u001b[33m\r\n",
      "\u001b[0m"
     ]
    }
   ],
   "source": [
    "!pip install pytorchvideo"
   ]
  },
  {
   "cell_type": "code",
   "execution_count": 2,
   "id": "92bcc9c1",
   "metadata": {
    "_cell_guid": "b1076dfc-b9ad-4769-8c92-a6c4dae69d19",
    "_uuid": "8f2839f25d086af736a60e9eeb907d3b93b6e0e5",
    "execution": {
     "iopub.execute_input": "2022-05-13T11:16:37.398835Z",
     "iopub.status.busy": "2022-05-13T11:16:37.398225Z",
     "iopub.status.idle": "2022-05-13T11:16:39.408855Z",
     "shell.execute_reply": "2022-05-13T11:16:39.406973Z"
    },
    "papermill": {
     "duration": 2.036282,
     "end_time": "2022-05-13T11:16:39.411364",
     "exception": false,
     "start_time": "2022-05-13T11:16:37.375082",
     "status": "completed"
    },
    "tags": []
   },
   "outputs": [
    {
     "name": "stderr",
     "output_type": "stream",
     "text": [
      "/opt/conda/lib/python3.7/site-packages/torchvision/transforms/_functional_video.py:6: UserWarning: The _functional_video module is deprecated. Please use the functional module instead.\n",
      "  \"The _functional_video module is deprecated. Please use the functional module instead.\"\n",
      "/opt/conda/lib/python3.7/site-packages/torchvision/transforms/_transforms_video.py:26: UserWarning: The _transforms_video module is deprecated. Please use the transforms module instead.\n",
      "  \"The _transforms_video module is deprecated. Please use the transforms module instead.\"\n"
     ]
    }
   ],
   "source": [
    "import torch\n",
    "import numpy as np\n",
    "from torch.utils.data import (\n",
    "    Dataset,\n",
    "    DataLoader,\n",
    ") \n",
    "import pickle\n",
    "\n",
    "import os\n",
    "\n",
    "import math\n",
    "import torch.nn as nn\n",
    "import torch.nn.functional as F\n",
    "\n",
    "from torchvision.transforms import Compose, Lambda, Grayscale,Normalize\n",
    "from torchvision.transforms._transforms_video import CenterCropVideo\n",
    "from pytorchvideo.data.encoded_video import EncodedVideo\n",
    "from pytorchvideo.transforms import (\n",
    "    ApplyTransformToKey,\n",
    "    UniformTemporalSubsample,\n",
    ")\n",
    "\n",
    "from tqdm import tqdm\n",
    "\n",
    "from collections import OrderedDict\n",
    "\n",
    "import torch.optim as optim\n",
    "\n",
    "\n",
    "\n",
    "class SignDataset(Dataset):\n",
    "    def __init__(self,x,y):\n",
    "        self.x = x\n",
    "        self.y = y\n",
    "\n",
    "\n",
    "    def __len__(self):\n",
    "\n",
    "        return len(self.y)\n",
    "\n",
    "        # length = 0\n",
    "        # with open(self.file, 'rb') as f:\n",
    "        #     data = pickle.load(f)\n",
    "\n",
    "        # for x in data:\n",
    "        #     length += len(data[x])\n",
    "        # return length\n",
    "\n",
    "\n",
    "    def __getitem__(self, index):\n",
    "        return self.x[index], self.y[index]\n",
    "        "
   ]
  },
  {
   "cell_type": "code",
   "execution_count": 3,
   "id": "2ab72481",
   "metadata": {
    "execution": {
     "iopub.execute_input": "2022-05-13T11:16:39.458811Z",
     "iopub.status.busy": "2022-05-13T11:16:39.458608Z",
     "iopub.status.idle": "2022-05-13T11:16:39.471968Z",
     "shell.execute_reply": "2022-05-13T11:16:39.471353Z"
    },
    "papermill": {
     "duration": 0.03829,
     "end_time": "2022-05-13T11:16:39.473543",
     "exception": false,
     "start_time": "2022-05-13T11:16:39.435253",
     "status": "completed"
    },
    "tags": []
   },
   "outputs": [],
   "source": [
    "IMAGE_HEIGHT = 720\n",
    "IMAGE_WIDTH = 800\n",
    "IMAGE_CHANNEL = 1\n",
    "NUM_FRAMES = 25\n",
    "NUM_CLASSES = 60\n",
    "\n",
    "\n",
    "\n",
    "inputs =[] #x\n",
    "classes = [] #y\n",
    "\n",
    "def transform_data(x, mean, std):\n",
    "    \n",
    "    transform =  ApplyTransformToKey(\n",
    "        key=\"video\",\n",
    "        transform=Compose(\n",
    "            [\n",
    "\n",
    "                Lambda(lambda x: x.permute(1,0,2,3)),#(frames(depth), channel, height, width) -> (channel, frames(depth), height, width)\n",
    "\n",
    "                UniformTemporalSubsample(NUM_FRAMES),\n",
    "                Lambda(lambda x: x.permute(1,0,2,3)),#(frames(depth), channel, height, width)\n",
    "                Lambda(lambda x: x/255.0),\n",
    "                \n",
    "                Normalize((mean,), (std,)),\n",
    "\n",
    "                CenterCropVideo([720,800]),\n",
    "                Lambda(lambda x: x.permute(1,0,2,3)),#(channel, frames(depth), height, width)\n",
    "\n",
    "            ]\n",
    "\n",
    "        ),\n",
    "    )\n",
    "    \n",
    "    return transform(x)\n",
    "\n",
    "\n",
    "\n",
    "    \n",
    "\n",
    "def get_data_info(f):\n",
    "    for line in f:\n",
    "        a = line.split(',')\n",
    "        yield a\n",
    "        \n",
    "\n",
    "\n",
    "def load_dataloader(batch_size):\n",
    "    with open('../input/signdataset/sign/MSSL_Train_Set/TRAIN/MSSL_TRAIN_SET_GT.pkl', 'rb') as f:\n",
    "        data = pickle.load(f)\n",
    "\n",
    "\n",
    "# keys are files so iterate only limited files due to memory limitations.\n",
    "    for key in list(data.keys())[30:33]:\n",
    "        filename = key\n",
    "        print(\"file\",filename)\n",
    "        video = EncodedVideo.from_path(\"../input/signdataset/sign/MSSL_Train_Set/TRAIN/MSSL_TRAIN_SET_VIDEOS_ELAN/\"+filename+\".mp4\")\n",
    "    # file functions\n",
    "\n",
    "        for x in data[key]:\n",
    "            classes.append(x[0])\n",
    "            start_time = x[1]\n",
    "            end_time = x[2]\n",
    "   #give path\n",
    "            \n",
    "    \n",
    "            \n",
    "            \n",
    "            video_data = video.get_clip(start_sec=float(start_time)/1000.0, end_sec=float(end_time)/1000.0)\n",
    "\n",
    "            \n",
    "            video_data[\"video\"] = Grayscale(num_output_channels=1)((video_data[\"video\"]).permute(1,0,2,3))\n",
    "#             video_data[\"video\"] = video_data[\"video\"]/255\n",
    "            #print(video_data[\"video\"].shape)\n",
    "            \n",
    "            std, mean = torch.std_mean(video_data[\"video\"])\n",
    "            std = std/255.0\n",
    "            mean = mean/255.0\n",
    "        \n",
    "            \n",
    "            \n",
    "            video_data = transform_data( video_data, mean, std)\n",
    "\n",
    "        # Move the inputs to the desired device\n",
    "            inputs.append(video_data[\"video\"])\n",
    "\n",
    "    signds = SignDataset(inputs, classes)\n",
    "    dataloader = DataLoader(signds, batch_size=batch_size, shuffle=True, num_workers=1)\n",
    "\n",
    "    return dataloader\n",
    "        \n",
    "\n"
   ]
  },
  {
   "cell_type": "code",
   "execution_count": 4,
   "id": "f0600341",
   "metadata": {
    "execution": {
     "iopub.execute_input": "2022-05-13T11:16:39.519549Z",
     "iopub.status.busy": "2022-05-13T11:16:39.519196Z",
     "iopub.status.idle": "2022-05-13T11:16:39.531704Z",
     "shell.execute_reply": "2022-05-13T11:16:39.531044Z"
    },
    "papermill": {
     "duration": 0.037046,
     "end_time": "2022-05-13T11:16:39.533272",
     "exception": false,
     "start_time": "2022-05-13T11:16:39.496226",
     "status": "completed"
    },
    "tags": []
   },
   "outputs": [],
   "source": [
    "class conv_3d(nn.Module):\n",
    "    def __init__(self):\n",
    "        super(conv_3d, self).__init__()\n",
    "        self.conv1 = nn.Sequential(\n",
    "            nn.Conv3d(1, 64, kernel_size=5, padding=1),\n",
    "            nn.ReLU(),\n",
    "            nn.MaxPool3d(kernel_size=(2, 2, 2), stride=(2, 2, 2)))\n",
    "        \n",
    "        self.conv2 = nn.Sequential(\n",
    "            nn.Conv3d(64, 128, kernel_size=3, padding=1),\n",
    "            nn.ReLU(),\n",
    "            nn.MaxPool3d(kernel_size=(2, 2, 2), stride=(2, 2, 2)))\n",
    "        \n",
    "\n",
    "        self._features = nn.Sequential(\n",
    "            self.conv1,\n",
    "            self.conv2\n",
    "        )\n",
    "\n",
    "\n",
    "    def forward(self, x):\n",
    "        out = self._features(x)\n",
    "        \n",
    "        out= out.reshape(out.shape[0], out.shape[1]*out.shape[2], out.shape[3], out.shape[4])\n",
    "        return out\n",
    "\n",
    "class conv_2d(nn.Module):\n",
    "    def __init__(self):\n",
    "        super(conv_2d, self).__init__()\n",
    "        self.conv1 = nn.Sequential(\n",
    "            nn.Conv2d(640, 640, kernel_size = 3, padding =1),\n",
    "            nn.ReLU(),\n",
    "            nn.MaxPool2d(kernel_size=(2, 2), stride=(2, 2)))\n",
    "            \n",
    "        \n",
    "        self.conv2 = nn.Sequential(\n",
    "            nn.Conv2d(640, 512, kernel_size = 3, padding =1),\n",
    "            nn.ReLU(),\n",
    "            nn.MaxPool2d(kernel_size=(2, 2), stride=(2, 2)))\n",
    "        \n",
    "        self.conv3 = nn.Sequential(\n",
    "            nn.Conv2d(512, 256, kernel_size = 3, padding =1),\n",
    "            nn.ReLU(),\n",
    "            nn.MaxPool2d(kernel_size=(2, 2), stride=(2, 2)))\n",
    "        \n",
    "    \n",
    "    def forward(self,x):\n",
    "        out = self.conv2(self.conv1(x))\n",
    "        out = self.conv3(out)\n",
    "       \n",
    "        out = out.view(out.shape[0],-1)\n",
    "       \n",
    "        return out\n",
    "\n",
    "\n",
    "  "
   ]
  },
  {
   "cell_type": "code",
   "execution_count": 5,
   "id": "558c95ca",
   "metadata": {
    "execution": {
     "iopub.execute_input": "2022-05-13T11:16:39.579053Z",
     "iopub.status.busy": "2022-05-13T11:16:39.578846Z",
     "iopub.status.idle": "2022-05-13T11:16:50.894216Z",
     "shell.execute_reply": "2022-05-13T11:16:50.893494Z"
    },
    "papermill": {
     "duration": 11.341136,
     "end_time": "2022-05-13T11:16:50.896656",
     "exception": false,
     "start_time": "2022-05-13T11:16:39.555520",
     "status": "completed"
    },
    "tags": []
   },
   "outputs": [],
   "source": [
    "\n",
    "\n",
    "\n",
    "n_classes = 60\n",
    "\n",
    "model = nn.Sequential(OrderedDict([\n",
    "    ('frontend', conv_3d()),\n",
    "    ('mid', conv_2d()),\n",
    "    ('fc', nn.Sequential( nn.Dropout(p=0.4), nn.Linear(135168, 1024),nn.Linear(1024,256), nn.Linear(256,60) ))\n",
    "]))\n",
    "\n",
    "\n",
    "\n",
    "\n",
    "\n",
    "# specify loss function (categorical cross-entropy)\n",
    "criterion = nn.CrossEntropyLoss()\n",
    "# specify optimizer and learning rate\n",
    "optimizer = optim.SGD(\n",
    "  [\n",
    "        {\"params\": model.fc.parameters(), \"lr\": 1e-3},\n",
    "        {\"params\": model.mid.parameters(), \"lr\": 1e-5},\n",
    "        {\"params\": model.frontend.parameters(), \"lr\": 1e-4},\n",
    "  ],\n",
    "  momentum = 0.9\n",
    ")\n",
    "device = torch.device(\"cuda\" if torch.cuda.is_available() else \"cpu\")\n",
    "state = torch.load(\"../input/sign-classification/model_optimizer.pt\")\n",
    "model.load_state_dict(state['model_state_dict'])\n",
    "model.half()\n",
    "model.cuda()\n",
    "\n",
    "optimizer.load_state_dict(state['optimizer_state_dict'])\n",
    "\n",
    "\n",
    "def train(model, device, train_loader, optimizer, criterion, epoch):\n",
    "    \n",
    "    \n",
    "    model.train()\n",
    "    \n",
    "    \n",
    "    \n",
    "    \n",
    "    \n",
    "    for epoch in range(epoch):\n",
    "        correct = 0\n",
    "        num_samples = 0\n",
    "        train_loss = 0\n",
    "        \n",
    "        for batch_idx, (data, target) in enumerate(train_loader):\n",
    "            \n",
    "            data = data.to(device)\n",
    "            target = (target).to(device)\n",
    "\n",
    "    \n",
    "    \n",
    "            optimizer.zero_grad()\n",
    "            output = model(data.half())\n",
    "            \n",
    "            loss = criterion(output, target)\n",
    "            loss.backward()\n",
    "            optimizer.step()\n",
    "            \n",
    "            train_loss += loss.item()\n",
    "            \n",
    "            pred = output.max(1, keepdim=True)[1]# get the index of the max log-probability\n",
    "            num_samples += pred.shape[0]\n",
    "            correct += int(pred==target)\n",
    "            \n",
    "        \n",
    "        train_loss /= num_samples\n",
    "    \n",
    "        print('Epoch: {} , Training Accuracy: {}/{} ({:.0f}%) Training Loss: {:.6f}'.format(\n",
    "                epoch, correct, num_samples,\n",
    "                100. * correct / num_samples, train_loss))\n",
    "    torch.save({\n",
    "            'model_state_dict': model.state_dict(),\n",
    "            'optimizer_state_dict': optimizer.state_dict()}, \"./model_optimizer.pt\")\n",
    "        \n"
   ]
  },
  {
   "cell_type": "code",
   "execution_count": 6,
   "id": "fb4293e3",
   "metadata": {
    "execution": {
     "iopub.execute_input": "2022-05-13T11:16:50.943613Z",
     "iopub.status.busy": "2022-05-13T11:16:50.943399Z",
     "iopub.status.idle": "2022-05-13T11:17:32.262064Z",
     "shell.execute_reply": "2022-05-13T11:17:32.261338Z"
    },
    "papermill": {
     "duration": 41.345142,
     "end_time": "2022-05-13T11:17:32.264514",
     "exception": false,
     "start_time": "2022-05-13T11:16:50.919372",
     "status": "completed"
    },
    "tags": []
   },
   "outputs": [
    {
     "name": "stdout",
     "output_type": "stream",
     "text": [
      "file p02_n104\n",
      "file p01_n090\n",
      "file p01_n040\n"
     ]
    }
   ],
   "source": [
    "device = torch.device(\"cuda\" if torch.cuda.is_available() else \"cpu\")\n",
    "dataloader = load_dataloader(batch_size=1)\n"
   ]
  },
  {
   "cell_type": "code",
   "execution_count": 7,
   "id": "96ab043c",
   "metadata": {
    "execution": {
     "iopub.execute_input": "2022-05-13T11:17:32.315713Z",
     "iopub.status.busy": "2022-05-13T11:17:32.315495Z",
     "iopub.status.idle": "2022-05-13T11:38:35.495051Z",
     "shell.execute_reply": "2022-05-13T11:38:35.494071Z"
    },
    "papermill": {
     "duration": 1263.206058,
     "end_time": "2022-05-13T11:38:35.497282",
     "exception": false,
     "start_time": "2022-05-13T11:17:32.291224",
     "status": "completed"
    },
    "tags": []
   },
   "outputs": [
    {
     "name": "stdout",
     "output_type": "stream",
     "text": [
      "Epoch: 0 , Training Accuracy: 9/66 (14%) Training Loss: 3.791829\n",
      "Epoch: 1 , Training Accuracy: 29/66 (44%) Training Loss: 2.026028\n",
      "Epoch: 2 , Training Accuracy: 55/66 (83%) Training Loss: 0.655791\n",
      "Epoch: 3 , Training Accuracy: 65/66 (98%) Training Loss: 0.169657\n",
      "Epoch: 4 , Training Accuracy: 66/66 (100%) Training Loss: 0.032141\n",
      "Epoch: 5 , Training Accuracy: 66/66 (100%) Training Loss: 0.020577\n",
      "Epoch: 6 , Training Accuracy: 66/66 (100%) Training Loss: 0.014855\n",
      "Epoch: 7 , Training Accuracy: 66/66 (100%) Training Loss: 0.013450\n",
      "Epoch: 8 , Training Accuracy: 66/66 (100%) Training Loss: 0.012506\n",
      "Epoch: 9 , Training Accuracy: 66/66 (100%) Training Loss: 0.011878\n",
      "Epoch: 10 , Training Accuracy: 66/66 (100%) Training Loss: 0.012413\n",
      "Epoch: 11 , Training Accuracy: 66/66 (100%) Training Loss: 0.010412\n",
      "Epoch: 12 , Training Accuracy: 66/66 (100%) Training Loss: 0.011570\n",
      "Epoch: 13 , Training Accuracy: 66/66 (100%) Training Loss: 0.009344\n",
      "Epoch: 14 , Training Accuracy: 66/66 (100%) Training Loss: 0.008990\n"
     ]
    }
   ],
   "source": [
    "train(model,device,dataloader,optimizer,criterion,15)"
   ]
  },
  {
   "cell_type": "code",
   "execution_count": 8,
   "id": "13869e84",
   "metadata": {
    "execution": {
     "iopub.execute_input": "2022-05-13T11:38:35.559423Z",
     "iopub.status.busy": "2022-05-13T11:38:35.559152Z",
     "iopub.status.idle": "2022-05-13T11:38:35.564483Z",
     "shell.execute_reply": "2022-05-13T11:38:35.563710Z"
    },
    "papermill": {
     "duration": 0.040378,
     "end_time": "2022-05-13T11:38:35.567451",
     "exception": false,
     "start_time": "2022-05-13T11:38:35.527073",
     "status": "completed"
    },
    "tags": []
   },
   "outputs": [
    {
     "name": "stdout",
     "output_type": "stream",
     "text": [
      "Number of model parameters: 146736828\n"
     ]
    }
   ],
   "source": [
    "print('Number of model parameters: {}'.format(sum([p.data.nelement() for p in model.parameters()])))"
   ]
  },
  {
   "cell_type": "code",
   "execution_count": 9,
   "id": "ac0c3f73",
   "metadata": {
    "execution": {
     "iopub.execute_input": "2022-05-13T11:38:35.631637Z",
     "iopub.status.busy": "2022-05-13T11:38:35.631026Z",
     "iopub.status.idle": "2022-05-13T11:38:35.634915Z",
     "shell.execute_reply": "2022-05-13T11:38:35.634156Z"
    },
    "papermill": {
     "duration": 0.038331,
     "end_time": "2022-05-13T11:38:35.636861",
     "exception": false,
     "start_time": "2022-05-13T11:38:35.598530",
     "status": "completed"
    },
    "tags": []
   },
   "outputs": [],
   "source": [
    "#from 21 15 epochs"
   ]
  },
  {
   "cell_type": "code",
   "execution_count": null,
   "id": "c3675b08",
   "metadata": {
    "papermill": {
     "duration": 0.031235,
     "end_time": "2022-05-13T11:38:35.699828",
     "exception": false,
     "start_time": "2022-05-13T11:38:35.668593",
     "status": "completed"
    },
    "tags": []
   },
   "outputs": [],
   "source": []
  }
 ],
 "metadata": {
  "kernelspec": {
   "display_name": "Python 3",
   "language": "python",
   "name": "python3"
  },
  "language_info": {
   "codemirror_mode": {
    "name": "ipython",
    "version": 3
   },
   "file_extension": ".py",
   "mimetype": "text/x-python",
   "name": "python",
   "nbconvert_exporter": "python",
   "pygments_lexer": "ipython3",
   "version": "3.7.12"
  },
  "papermill": {
   "default_parameters": {},
   "duration": 1344.605077,
   "end_time": "2022-05-13T11:38:37.558188",
   "environment_variables": {},
   "exception": null,
   "input_path": "__notebook__.ipynb",
   "output_path": "__notebook__.ipynb",
   "parameters": {},
   "start_time": "2022-05-13T11:16:12.953111",
   "version": "2.3.4"
  }
 },
 "nbformat": 4,
 "nbformat_minor": 5
}
