{
 "cells": [
  {
   "cell_type": "code",
   "execution_count": 1,
   "id": "15e93830",
   "metadata": {
    "execution": {
     "iopub.execute_input": "2022-06-10T17:55:39.893511Z",
     "iopub.status.busy": "2022-06-10T17:55:39.892895Z",
     "iopub.status.idle": "2022-06-10T17:56:10.786154Z",
     "shell.execute_reply": "2022-06-10T17:56:10.785207Z"
    },
    "papermill": {
     "duration": 30.920681,
     "end_time": "2022-06-10T17:56:10.788458",
     "exception": false,
     "start_time": "2022-06-10T17:55:39.867777",
     "status": "completed"
    },
    "tags": []
   },
   "outputs": [
    {
     "name": "stdout",
     "output_type": "stream",
     "text": [
      "Collecting pytorchvideo\r\n",
      "  Downloading pytorchvideo-0.1.5.tar.gz (132 kB)\r\n",
      "\u001b[2K     \u001b[90m━━━━━━━━━━━━━━━━━━━━━━━━━━━━━━━━━━━━━\u001b[0m \u001b[32m132.7/132.7 KB\u001b[0m \u001b[31m299.3 kB/s\u001b[0m eta \u001b[36m0:00:00\u001b[0m\r\n",
      "\u001b[?25h  Preparing metadata (setup.py) ... \u001b[?25l-\b \bdone\r\n",
      "\u001b[?25hCollecting fvcore\r\n",
      "  Downloading fvcore-0.1.5.post20220512.tar.gz (50 kB)\r\n",
      "\u001b[2K     \u001b[90m━━━━━━━━━━━━━━━━━━━━━━━━━━━━━━━━━━━━━━━━\u001b[0m \u001b[32m50.1/50.1 KB\u001b[0m \u001b[31m1.4 MB/s\u001b[0m eta \u001b[36m0:00:00\u001b[0m\r\n",
      "\u001b[?25h  Preparing metadata (setup.py) ... \u001b[?25l-\b \bdone\r\n",
      "\u001b[?25hCollecting av\r\n",
      "  Downloading av-9.2.0-cp37-cp37m-manylinux_2_17_x86_64.manylinux2014_x86_64.whl (28.2 MB)\r\n",
      "\u001b[2K     \u001b[90m━━━━━━━━━━━━━━━━━━━━━━━━━━━━━━━━━━━━━━━━\u001b[0m \u001b[32m28.2/28.2 MB\u001b[0m \u001b[31m11.8 MB/s\u001b[0m eta \u001b[36m0:00:00\u001b[0m\r\n",
      "\u001b[?25hCollecting parameterized\r\n",
      "  Downloading parameterized-0.8.1-py2.py3-none-any.whl (26 kB)\r\n",
      "Collecting iopath\r\n",
      "  Downloading iopath-0.1.9-py3-none-any.whl (27 kB)\r\n",
      "Requirement already satisfied: networkx in /opt/conda/lib/python3.7/site-packages (from pytorchvideo) (2.5)\r\n",
      "Requirement already satisfied: numpy in /opt/conda/lib/python3.7/site-packages (from fvcore->pytorchvideo) (1.21.6)\r\n",
      "Requirement already satisfied: yacs>=0.1.6 in /opt/conda/lib/python3.7/site-packages (from fvcore->pytorchvideo) (0.1.8)\r\n",
      "Requirement already satisfied: pyyaml>=5.1 in /opt/conda/lib/python3.7/site-packages (from fvcore->pytorchvideo) (6.0)\r\n",
      "Requirement already satisfied: tqdm in /opt/conda/lib/python3.7/site-packages (from fvcore->pytorchvideo) (4.63.0)\r\n",
      "Requirement already satisfied: termcolor>=1.1 in /opt/conda/lib/python3.7/site-packages (from fvcore->pytorchvideo) (1.1.0)\r\n",
      "Requirement already satisfied: Pillow in /opt/conda/lib/python3.7/site-packages (from fvcore->pytorchvideo) (9.0.1)\r\n",
      "Requirement already satisfied: tabulate in /opt/conda/lib/python3.7/site-packages (from fvcore->pytorchvideo) (0.8.9)\r\n",
      "Requirement already satisfied: portalocker in /opt/conda/lib/python3.7/site-packages (from iopath->pytorchvideo) (2.4.0)\r\n",
      "Requirement already satisfied: decorator>=4.3.0 in /opt/conda/lib/python3.7/site-packages (from networkx->pytorchvideo) (5.1.1)\r\n",
      "Building wheels for collected packages: pytorchvideo, fvcore\r\n",
      "  Building wheel for pytorchvideo (setup.py) ... \u001b[?25l-\b \b\\\b \bdone\r\n",
      "\u001b[?25h  Created wheel for pytorchvideo: filename=pytorchvideo-0.1.5-py3-none-any.whl size=188714 sha256=b5798900571c170b127c0d4038869a2262a25677942d829750b2bbb666d92a45\r\n",
      "  Stored in directory: /root/.cache/pip/wheels/e8/51/05/053b29bac2400cbbae2fb7cfc41afd280d627bca7c9363ca80\r\n",
      "  Building wheel for fvcore (setup.py) ... \u001b[?25l-\b \b\\\b \bdone\r\n",
      "\u001b[?25h  Created wheel for fvcore: filename=fvcore-0.1.5.post20220512-py3-none-any.whl size=61288 sha256=5599ec5c03cab892641f5b401fd4db9f06992393f6c8ebf86f3b96faa6921700\r\n",
      "  Stored in directory: /root/.cache/pip/wheels/68/20/f9/a11a0dd63f4c13678b2a5ec488e48078756505c7777b75b29e\r\n",
      "Successfully built pytorchvideo fvcore\r\n",
      "Installing collected packages: parameterized, av, iopath, fvcore, pytorchvideo\r\n",
      "Successfully installed av-9.2.0 fvcore-0.1.5.post20220512 iopath-0.1.9 parameterized-0.8.1 pytorchvideo-0.1.5\r\n",
      "\u001b[33mWARNING: Running pip as the 'root' user can result in broken permissions and conflicting behaviour with the system package manager. It is recommended to use a virtual environment instead: https://pip.pypa.io/warnings/venv\u001b[0m\u001b[33m\r\n",
      "\u001b[0mCollecting torchsummary\r\n",
      "  Downloading torchsummary-1.5.1-py3-none-any.whl (2.8 kB)\r\n",
      "Installing collected packages: torchsummary\r\n",
      "Successfully installed torchsummary-1.5.1\r\n",
      "\u001b[33mWARNING: Running pip as the 'root' user can result in broken permissions and conflicting behaviour with the system package manager. It is recommended to use a virtual environment instead: https://pip.pypa.io/warnings/venv\u001b[0m\u001b[33m\r\n",
      "\u001b[0m"
     ]
    }
   ],
   "source": [
    "!pip install pytorchvideo\n",
    "!pip install torchsummary"
   ]
  },
  {
   "cell_type": "code",
   "execution_count": 2,
   "id": "bec508dd",
   "metadata": {
    "_cell_guid": "b1076dfc-b9ad-4769-8c92-a6c4dae69d19",
    "_uuid": "8f2839f25d086af736a60e9eeb907d3b93b6e0e5",
    "execution": {
     "iopub.execute_input": "2022-06-10T17:56:10.892918Z",
     "iopub.status.busy": "2022-06-10T17:56:10.892226Z",
     "iopub.status.idle": "2022-06-10T17:56:12.672565Z",
     "shell.execute_reply": "2022-06-10T17:56:12.671845Z"
    },
    "papermill": {
     "duration": 1.835625,
     "end_time": "2022-06-10T17:56:12.674602",
     "exception": false,
     "start_time": "2022-06-10T17:56:10.838977",
     "status": "completed"
    },
    "tags": []
   },
   "outputs": [],
   "source": [
    "import torch\n",
    "import numpy as np\n",
    "from torch.utils.data import (\n",
    "    Dataset,\n",
    "    DataLoader,\n",
    ") \n",
    "import pickle\n",
    "\n",
    "\n",
    "import os\n",
    "\n",
    "import math\n",
    "import torch.nn as nn\n",
    "import torch.nn.functional as F\n",
    "\n",
    "from torchvision.transforms import Compose, Lambda, Grayscale,Normalize, CenterCrop,Resize\n",
    "#from torchvision.transforms._transforms_video import CenterCropVideo\n",
    "from pytorchvideo.data.encoded_video import EncodedVideo\n",
    "from pytorchvideo.transforms import (\n",
    "    ApplyTransformToKey,\n",
    "    UniformTemporalSubsample,\n",
    ")\n",
    "\n",
    "from tqdm import tqdm\n",
    "\n",
    "from collections import OrderedDict\n",
    "\n",
    "import torch.optim as optim\n",
    "\n",
    "from torch.autograd import Variable\n",
    "\n",
    "\n",
    "import torchvision.models as models\n",
    "\n",
    "import sys\n",
    "from torchsummary import summary\n",
    "\n",
    "\n",
    "\n",
    "\n",
    "\n",
    "\n",
    "class SignDataset(Dataset):\n",
    "    def __init__(self,x,y):\n",
    "        self.x = x\n",
    "        self.y = y\n",
    "\n",
    "\n",
    "    def __len__(self):\n",
    "\n",
    "        return len(self.y)\n",
    "\n",
    "        # length = 0\n",
    "        # with open(self.file, 'rb') as f:\n",
    "        #     data = pickle.load(f)\n",
    "\n",
    "        # for x in data:\n",
    "        #     length += len(data[x])\n",
    "        # return length\n",
    "\n",
    "\n",
    "    def __getitem__(self, index):\n",
    "        return self.x[index], self.y[index]\n",
    "        "
   ]
  },
  {
   "cell_type": "code",
   "execution_count": 3,
   "id": "eb8c8be1",
   "metadata": {
    "execution": {
     "iopub.execute_input": "2022-06-10T17:56:12.775176Z",
     "iopub.status.busy": "2022-06-10T17:56:12.774931Z",
     "iopub.status.idle": "2022-06-10T17:56:12.793632Z",
     "shell.execute_reply": "2022-06-10T17:56:12.792955Z"
    },
    "papermill": {
     "duration": 0.071238,
     "end_time": "2022-06-10T17:56:12.795368",
     "exception": false,
     "start_time": "2022-06-10T17:56:12.724130",
     "status": "completed"
    },
    "tags": []
   },
   "outputs": [],
   "source": [
    "IMAGE_HEIGHT = 720\n",
    "IMAGE_WIDTH = 800\n",
    "IMAGE_CHANNEL = 1\n",
    "NUM_FRAMES = 25\n",
    "NUM_CLASSES = 60\n",
    "\n",
    "\n",
    "\n",
    "\n",
    "\n",
    "\n",
    "def transform_data(x):\n",
    "    \n",
    "    transform =  ApplyTransformToKey(\n",
    "        key=\"video\",\n",
    "        transform=Compose(\n",
    "            [\n",
    "                Lambda(lambda x: x/255.0),\n",
    "                Normalize(([0.2948, 0.4811, 0.6757]), ([0.1593, 0.1641, 0.2440])),\n",
    "                Grayscale(num_output_channels=1),\n",
    "                CenterCrop([720,900]),\n",
    "                Resize([512,512]),\n",
    "                Lambda(lambda x: x.permute(1,2,3,0)),#(channel, frames(depth), height, width)\n",
    "\n",
    "            ]\n",
    "\n",
    "        ),\n",
    "    )\n",
    "    \n",
    "    return transform(x)\n",
    "\n",
    "def lp_video(video,start_time, end_time):\n",
    "    video_data = video.get_clip(start_sec=float(start_time)/1000.0, end_sec=float(end_time)/1000.0)\n",
    "            #print(video_data[\"video\"].shape)\n",
    " \n",
    "    if video_data[\"video\"] is None:\n",
    "        return None        # or pass\n",
    "    else:\n",
    "    \n",
    "        #video_data[\"video\"] = Grayscale(num_output_channels=1)((video_data[\"video\"]).permute(1,0,2,3))\n",
    "    #             video_data[\"video\"] = video_data[\"video\"]/255\n",
    "                #print(video_data[\"video\"].shape)\n",
    "        video_data[\"video\"] = video_data[\"video\"].permute(1,0,2,3)\n",
    "#         std, mean = torch.std_mean(video_data[\"video\"],dim=[0,2,3])\n",
    "#         std = std/255.0\n",
    "#         #print(std)\n",
    "#         mean = mean/255.0\n",
    "        #print(mean)\n",
    "        video_data = transform_data( video_data)\n",
    "\n",
    "        return video_data[\"video\"]\n",
    "\n",
    "def load_dataloaders(batch_size,start,end):\n",
    "\n",
    "    time_start = []\n",
    "    time_end = []\n",
    "    train_inputs =[] #x\n",
    "    train_classes = [] #y\n",
    "    neg = 0\n",
    "\n",
    "    with open('../input/signdataset/sign/MSSL_Train_Set/TRAIN/MSSL_TRAIN_SET_GT.pkl', 'rb') as f:\n",
    "        data = pickle.load(f)\n",
    "\n",
    "\n",
    "# keys are files so iterate only limited files due to memory limitations.\n",
    "    for key in list(data.keys())[start:end]:\n",
    "        filename = key\n",
    "        print(\"file\",filename)\n",
    "        video = EncodedVideo.from_path(\"../input/signdataset/sign/MSSL_Train_Set/TRAIN/MSSL_TRAIN_SET_VIDEOS_ELAN/\"+filename+\".mp4\")\n",
    "    # file functions\n",
    "\n",
    "        for x in data[key]:\n",
    "            img_cls = x[0]\n",
    "            time_start.append(x[1])\n",
    "            time_end.append(x[2])\n",
    "            \n",
    "            \n",
    "            # start_time = x[1]\n",
    "            # end_time = x[2]\n",
    "            vid = lp_video(video,x[1], x[2])\n",
    "\n",
    "            for m in torch.unbind(vid, dim=3):\n",
    "                train_classes.append(img_cls)\n",
    "                train_inputs.append(m)\n",
    "\n",
    "\n",
    "            #some negative classes too\n",
    "        for i in range(len(time_start)//2):\n",
    "            if (time_start[i+1]- time_end[i])>1000.0:\n",
    "                start_t = time_end[i]+800.0\n",
    "                end_t = time_end[i]+840.0\n",
    "                vid = lp_video(video,start_t, end_t)\n",
    "                if vid is None:\n",
    "                    break\n",
    "                else:\n",
    "                    for m in torch.unbind(vid, dim=3):\n",
    "                        if neg <= 700:\n",
    "                            train_classes.append(60)\n",
    "                            train_inputs.append(m)\n",
    "                            neg += 1\n",
    "                        else:\n",
    "                            print(\"Neg Count:\",neg)\n",
    "                            break\n",
    "            \n",
    "        \n",
    "            \n",
    "\n",
    "    signds = SignDataset(train_inputs, train_classes)\n",
    "    trainlen = int(len(signds)*0.8)\n",
    "    torch.manual_seed(0)\n",
    "    \n",
    "    train_set, val_test_set = torch.utils.data.random_split(signds, [trainlen, len(signds)-trainlen])\n",
    "    trainloader = DataLoader(train_set, batch_size=batch_size, shuffle=True, num_workers=2)\n",
    "\n",
    "    valloader = DataLoader(val_test_set, batch_size=batch_size, shuffle=True, num_workers=2)\n",
    "  \n",
    "    return trainloader, valloader\n",
    "        \n",
    "    "
   ]
  },
  {
   "cell_type": "code",
   "execution_count": 4,
   "id": "85edc23c",
   "metadata": {
    "execution": {
     "iopub.execute_input": "2022-06-10T17:56:12.896925Z",
     "iopub.status.busy": "2022-06-10T17:56:12.896677Z",
     "iopub.status.idle": "2022-06-10T17:56:12.908017Z",
     "shell.execute_reply": "2022-06-10T17:56:12.907374Z"
    },
    "papermill": {
     "duration": 0.063624,
     "end_time": "2022-06-10T17:56:12.909635",
     "exception": false,
     "start_time": "2022-06-10T17:56:12.846011",
     "status": "completed"
    },
    "tags": []
   },
   "outputs": [],
   "source": [
    "def load_testloader(batch_size,start,end):\n",
    "\n",
    "    time_start = []\n",
    "    time_end = []\n",
    "    train_inputs =[] #x\n",
    "    train_classes = [] #y\n",
    "    \n",
    "\n",
    "    with open('../input/signdataset/sign/MSSL_Train_Set/TRAIN/MSSL_TRAIN_SET_GT.pkl', 'rb') as f:\n",
    "        data = pickle.load(f)\n",
    "\n",
    "\n",
    "# keys are files so iterate only limited files due to memory limitations.\n",
    "    for key in list(data.keys())[start:end]:\n",
    "        filename = key\n",
    "        print(\"file\",filename)\n",
    "        video = EncodedVideo.from_path(\"../input/signdataset/sign/MSSL_Train_Set/TRAIN/MSSL_TRAIN_SET_VIDEOS_ELAN/\"+filename+\".mp4\")\n",
    "    # file functions\n",
    "\n",
    "        for x in data[key]:\n",
    "            img_cls = x[0]\n",
    "            time_start.append(x[1])\n",
    "            time_end.append(x[2])\n",
    "            \n",
    "            \n",
    "            # start_time = x[1]\n",
    "            # end_time = x[2]\n",
    "            vid = lp_video(video,x[1], x[2])\n",
    "\n",
    "            for m in torch.unbind(vid, dim=3):\n",
    "                train_classes.append(img_cls)\n",
    "                train_inputs.append(m)\n",
    "\n",
    "\n",
    "            #some negative classes too\n",
    "        for i in range(0,len(time_start)//2):\n",
    "            if (time_start[i+1]- time_end[i])>1000.0:\n",
    "                start_t = time_end[i]+700.0\n",
    "                end_t = time_end[i]+780.0\n",
    "                vid = lp_video(video,start_t, end_t)\n",
    "                if vid is None:\n",
    "                    break\n",
    "                else:\n",
    "                    for m in torch.unbind(vid, dim=3):\n",
    "                        train_classes.append(60)\n",
    "                        train_inputs.append(m)\n",
    "\n",
    "            \n",
    "        \n",
    "            \n",
    "\n",
    "    signds = SignDataset(train_inputs, train_classes)\n",
    "    \n",
    "    \n",
    "\n",
    "    testloader = DataLoader(signds, batch_size=batch_size, shuffle=True, num_workers=2)\n",
    "\n",
    "    return testloader"
   ]
  },
  {
   "cell_type": "code",
   "execution_count": 5,
   "id": "a72fe88d",
   "metadata": {
    "execution": {
     "iopub.execute_input": "2022-06-10T17:56:13.015372Z",
     "iopub.status.busy": "2022-06-10T17:56:13.015118Z",
     "iopub.status.idle": "2022-06-10T17:56:13.020759Z",
     "shell.execute_reply": "2022-06-10T17:56:13.019991Z"
    },
    "papermill": {
     "duration": 0.061587,
     "end_time": "2022-06-10T17:56:13.022619",
     "exception": false,
     "start_time": "2022-06-10T17:56:12.961032",
     "status": "completed"
    },
    "tags": []
   },
   "outputs": [],
   "source": [
    "def load_vid(batch_size,start,end):\n",
    "\n",
    "\n",
    "    train_inputs =[] #x\n",
    "\n",
    "    video = EncodedVideo.from_path(\"../input/signdataset/sign/MSSL_Val_Set/VALIDATION/MSSL_VAL_SET_VIDEOS/p01_n131.mp4\")\n",
    "    # file functions\n",
    "\n",
    "    vid = lp_video(video,start, end)\n",
    "\n",
    "    for m in torch.unbind(vid, dim=3):\n",
    "        train_inputs.append(m)\n",
    "\n",
    "    \n",
    "\n",
    "    testloader = DataLoader(train_inputs, batch_size=batch_size, shuffle=True, num_workers=2)\n",
    "\n",
    "    return testloader"
   ]
  },
  {
   "cell_type": "code",
   "execution_count": 6,
   "id": "056cb3ff",
   "metadata": {
    "execution": {
     "iopub.execute_input": "2022-06-10T17:56:13.133689Z",
     "iopub.status.busy": "2022-06-10T17:56:13.133406Z",
     "iopub.status.idle": "2022-06-10T17:56:13.173150Z",
     "shell.execute_reply": "2022-06-10T17:56:13.172437Z"
    },
    "papermill": {
     "duration": 0.096411,
     "end_time": "2022-06-10T17:56:13.175077",
     "exception": false,
     "start_time": "2022-06-10T17:56:13.078666",
     "status": "completed"
    },
    "tags": []
   },
   "outputs": [],
   "source": [
    "\"\"\"\n",
    "Creates a EfficientNetV2 Model as defined in:\n",
    "Mingxing Tan, Quoc V. Le. (2021). \n",
    "EfficientNetV2: Smaller Models and Faster Training\n",
    "arXiv preprint arXiv:2104.00298.\n",
    "import from https://github.com/d-li14/mobilenetv2.pytorch\n",
    "\"\"\"\n",
    "\n",
    "\n",
    "\n",
    "__all__ = ['effnetv2_s', 'effnetv2_m', 'effnetv2_l', 'effnetv2_xl']\n",
    "\n",
    "\n",
    "def _make_divisible(v, divisor, min_value=None):\n",
    "    \"\"\"\n",
    "    This function is taken from the original tf repo.\n",
    "    It ensures that all layers have a channel number that is divisible by 8\n",
    "    It can be seen here:\n",
    "    https://github.com/tensorflow/models/blob/master/research/slim/nets/mobilenet/mobilenet.py\n",
    "    :param v:\n",
    "    :param divisor:\n",
    "    :param min_value:\n",
    "    :return:\n",
    "    \"\"\"\n",
    "    if min_value is None:\n",
    "        min_value = divisor\n",
    "    new_v = max(min_value, int(v + divisor / 2) // divisor * divisor)\n",
    "    # Make sure that round down does not go down by more than 10%.\n",
    "    if new_v < 0.9 * v:\n",
    "        new_v += divisor\n",
    "    return new_v\n",
    "\n",
    "\n",
    "# SiLU (Swish) activation function\n",
    "if hasattr(nn, 'SiLU'):\n",
    "    SiLU = nn.SiLU\n",
    "else:\n",
    "    # For compatibility with old PyTorch versions\n",
    "    class SiLU(nn.Module):\n",
    "        def forward(self, x):\n",
    "            return x * torch.sigmoid(x)\n",
    "\n",
    " \n",
    "class SELayer(nn.Module):\n",
    "    def __init__(self, inp, oup, reduction=4):\n",
    "        super(SELayer, self).__init__()\n",
    "        self.avg_pool = nn.AdaptiveAvgPool2d(1)\n",
    "        self.fc = nn.Sequential(\n",
    "                nn.Linear(oup, _make_divisible(inp // reduction, 8)),\n",
    "                SiLU(),\n",
    "                nn.Linear(_make_divisible(inp // reduction, 8), oup),\n",
    "                nn.Sigmoid()\n",
    "        )\n",
    "\n",
    "    def forward(self, x):\n",
    "        b, c, _, _ = x.size()\n",
    "        y = self.avg_pool(x).view(b, c)\n",
    "        y = self.fc(y).view(b, c, 1, 1)\n",
    "        return x * y\n",
    "\n",
    "\n",
    "def conv_3x3_bn(inp, oup, stride):\n",
    "    return nn.Sequential(\n",
    "        nn.Conv2d(inp, oup, 3, stride, 1, bias=False),\n",
    "        nn.BatchNorm2d(oup),\n",
    "        SiLU()\n",
    "    )\n",
    "\n",
    "\n",
    "def conv_1x1_bn(inp, oup):\n",
    "    return nn.Sequential(\n",
    "        nn.Conv2d(inp, oup, 1, 1, 0, bias=False),\n",
    "        nn.BatchNorm2d(oup),\n",
    "        SiLU()\n",
    "    )\n",
    "\n",
    "\n",
    "class MBConv(nn.Module):\n",
    "    def __init__(self, inp, oup, stride, expand_ratio, use_se):\n",
    "        super(MBConv, self).__init__()\n",
    "        assert stride in [1, 2]\n",
    "\n",
    "        hidden_dim = round(inp * expand_ratio)\n",
    "        self.identity = stride == 1 and inp == oup\n",
    "        if use_se:\n",
    "            self.conv = nn.Sequential(\n",
    "                # pw\n",
    "                nn.Conv2d(inp, hidden_dim, 1, 1, 0, bias=False),\n",
    "                nn.BatchNorm2d(hidden_dim),\n",
    "                SiLU(),\n",
    "                # dw\n",
    "                nn.Conv2d(hidden_dim, hidden_dim, 3, stride, 1, groups=hidden_dim, bias=False),\n",
    "                nn.BatchNorm2d(hidden_dim),\n",
    "                SiLU(),\n",
    "                SELayer(inp, hidden_dim),\n",
    "                # pw-linear\n",
    "                nn.Conv2d(hidden_dim, oup, 1, 1, 0, bias=False),\n",
    "                nn.BatchNorm2d(oup),\n",
    "            )\n",
    "        else:\n",
    "            self.conv = nn.Sequential(\n",
    "                # fused\n",
    "                nn.Conv2d(inp, hidden_dim, 3, stride, 1, bias=False),\n",
    "                nn.BatchNorm2d(hidden_dim),\n",
    "                SiLU(),\n",
    "                # pw-linear\n",
    "                nn.Conv2d(hidden_dim, oup, 1, 1, 0, bias=False),\n",
    "                nn.BatchNorm2d(oup),\n",
    "            )\n",
    "\n",
    "\n",
    "    def forward(self, x):\n",
    "        if self.identity:\n",
    "            return x + self.conv(x)\n",
    "        else:\n",
    "            return self.conv(x)\n",
    "\n",
    "\n",
    "class EffNetV2(nn.Module):\n",
    "    def __init__(self, cfgs, num_classes=61, width_mult=1.):\n",
    "        super(EffNetV2, self).__init__()\n",
    "        self.cfgs = cfgs\n",
    "\n",
    "        # building first layer\n",
    "        input_channel = _make_divisible(24 * width_mult, 8)\n",
    "        layers = [conv_3x3_bn(1, input_channel, 2)]\n",
    "        # building inverted residual blocks\n",
    "        block = MBConv\n",
    "        for t, c, n, s, use_se in self.cfgs:\n",
    "            output_channel = _make_divisible(c * width_mult, 8)\n",
    "            for i in range(n):\n",
    "                layers.append(block(input_channel, output_channel, s if i == 0 else 1, t, use_se))\n",
    "                input_channel = output_channel\n",
    "        self.features = nn.Sequential(*layers)\n",
    "        # building last several layers\n",
    "        output_channel = _make_divisible(1792 * width_mult, 8) if width_mult > 1.0 else 1792\n",
    "        self.conv = conv_1x1_bn(input_channel, output_channel)\n",
    "        self.avgpool = nn.AdaptiveAvgPool2d((1, 1))\n",
    "        self.classifier = nn.Linear(output_channel, num_classes)\n",
    "\n",
    "        self._initialize_weights()\n",
    "\n",
    "    def forward(self, x):\n",
    "        x = self.features(x)\n",
    "        x = self.conv(x)\n",
    "        x = self.avgpool(x)\n",
    "        x = x.view(x.size(0), -1)\n",
    "        x = self.classifier(x)\n",
    "        return x\n",
    "\n",
    "    def _initialize_weights(self):\n",
    "        for m in self.modules():\n",
    "            if isinstance(m, nn.Conv2d):\n",
    "                n = m.kernel_size[0] * m.kernel_size[1] * m.out_channels\n",
    "                m.weight.data.normal_(0, math.sqrt(2. / n))\n",
    "                if m.bias is not None:\n",
    "                    m.bias.data.zero_()\n",
    "            elif isinstance(m, nn.BatchNorm2d):\n",
    "                m.weight.data.fill_(1)\n",
    "                m.bias.data.zero_()\n",
    "            elif isinstance(m, nn.Linear):\n",
    "                m.weight.data.normal_(0, 0.001)\n",
    "                m.bias.data.zero_()\n",
    "\n",
    "\n",
    "def effnetv2_s(**kwargs):\n",
    "    \"\"\"\n",
    "    Constructs a EfficientNetV2-S model\n",
    "    \"\"\"\n",
    "    cfgs = [\n",
    "        # t, c, n, s, SE\n",
    "        [1,  24,  2, 1, 0],\n",
    "        [4,  48,  4, 2, 0],\n",
    "        [4,  64,  4, 2, 0],\n",
    "        [4, 128,  6, 2, 1],\n",
    "        [6, 160,  9, 1, 1],\n",
    "        [6, 256, 15, 2, 1],\n",
    "    ]\n",
    "    return EffNetV2(cfgs, **kwargs)\n",
    "\n",
    "\n",
    "def effnetv2_m(**kwargs):\n",
    "    \"\"\"\n",
    "    Constructs a EfficientNetV2-M model\n",
    "    \"\"\"\n",
    "    cfgs = [\n",
    "        # t, c, n, s, SE\n",
    "        [1,  24,  3, 1, 0],\n",
    "        [4,  48,  5, 2, 0],\n",
    "        [4,  80,  5, 2, 0],\n",
    "        [4, 160,  7, 2, 1],\n",
    "        [6, 176, 14, 1, 1],\n",
    "        [6, 304, 18, 2, 1],\n",
    "        [6, 512,  5, 1, 1],\n",
    "    ]\n",
    "    return EffNetV2(cfgs, **kwargs)\n",
    "\n",
    "\n",
    "def effnetv2_l(**kwargs):\n",
    "    \"\"\"\n",
    "    Constructs a EfficientNetV2-L model\n",
    "    \"\"\"\n",
    "    cfgs = [\n",
    "        # t, c, n, s, SE\n",
    "        [1,  32,  4, 1, 0],\n",
    "        [4,  64,  7, 2, 0],\n",
    "        [4,  96,  7, 2, 0],\n",
    "        [4, 192, 10, 2, 1],\n",
    "        [6, 224, 19, 1, 1],\n",
    "        [6, 384, 25, 2, 1],\n",
    "        [6, 640,  7, 1, 1],\n",
    "    ]\n",
    "    return EffNetV2(cfgs, **kwargs)\n",
    "\n",
    "\n",
    "def effnetv2_xl(**kwargs):\n",
    "    \"\"\"\n",
    "    Constructs a EfficientNetV2-XL model\n",
    "    \"\"\"\n",
    "    cfgs = [\n",
    "        # t, c, n, s, SE\n",
    "        [1,  32,  4, 1, 0],\n",
    "        [4,  64,  8, 2, 0],\n",
    "        [4,  96,  8, 2, 0],\n",
    "        [4, 192, 16, 2, 1],\n",
    "        [6, 256, 24, 1, 1],\n",
    "        [6, 512, 32, 2, 1],\n",
    "        [6, 640,  8, 1, 1],\n",
    "    ]\n",
    "    return EffNetV2(cfgs, **kwargs)"
   ]
  },
  {
   "cell_type": "code",
   "execution_count": null,
   "id": "31ec1188",
   "metadata": {
    "papermill": {
     "duration": 0.049882,
     "end_time": "2022-06-10T17:56:13.276167",
     "exception": false,
     "start_time": "2022-06-10T17:56:13.226285",
     "status": "completed"
    },
    "tags": []
   },
   "outputs": [],
   "source": []
  },
  {
   "cell_type": "code",
   "execution_count": 7,
   "id": "f260be10",
   "metadata": {
    "execution": {
     "iopub.execute_input": "2022-06-10T17:56:13.377242Z",
     "iopub.status.busy": "2022-06-10T17:56:13.376990Z",
     "iopub.status.idle": "2022-06-10T17:56:13.382167Z",
     "shell.execute_reply": "2022-06-10T17:56:13.381526Z"
    },
    "papermill": {
     "duration": 0.057701,
     "end_time": "2022-06-10T17:56:13.383764",
     "exception": false,
     "start_time": "2022-06-10T17:56:13.326063",
     "status": "completed"
    },
    "tags": []
   },
   "outputs": [],
   "source": [
    "\n",
    "def evluate(model, device, loader, mode=\"Validate\"):\n",
    "    \n",
    "    \n",
    "    model.eval()\n",
    "\n",
    "    correct = 0\n",
    "    num_samples = 0\n",
    "    \n",
    "        \n",
    "    for batch_idx, data in enumerate(loader):\n",
    "        with torch.no_grad():    \n",
    "            data = data.to(device)\n",
    "            \n",
    "\n",
    "            output = model(data.half())  \n",
    "            \n",
    "            _,pred = output.max(1)# get the index of the max log-probability\n",
    "            print(pred)\n",
    "\n"
   ]
  },
  {
   "cell_type": "code",
   "execution_count": 8,
   "id": "06bea04a",
   "metadata": {
    "execution": {
     "iopub.execute_input": "2022-06-10T17:56:13.484745Z",
     "iopub.status.busy": "2022-06-10T17:56:13.484495Z",
     "iopub.status.idle": "2022-06-10T17:56:13.491258Z",
     "shell.execute_reply": "2022-06-10T17:56:13.490521Z"
    },
    "papermill": {
     "duration": 0.059516,
     "end_time": "2022-06-10T17:56:13.493354",
     "exception": false,
     "start_time": "2022-06-10T17:56:13.433838",
     "status": "completed"
    },
    "tags": []
   },
   "outputs": [],
   "source": [
    "\n",
    "def test(model, device, loader, mode=\"Validate\"):\n",
    "    \n",
    "    \n",
    "    model.eval()\n",
    "\n",
    "    correct = 0\n",
    "    num_samples = 0\n",
    "    \n",
    "        \n",
    "    for batch_idx, (data, target) in enumerate(loader):\n",
    "        with torch.no_grad():    \n",
    "            data = data.to(device)\n",
    "            target = (target).to(device)\n",
    "\n",
    "            output = model(data.half())  \n",
    "            \n",
    "            _,pred = output.max(1)# get the index of the max log-probability\n",
    "            num_samples += target.size(0)\n",
    "            correct += (pred==target).sum().item()\n",
    "            #print(\"correct\", correct)\n",
    "\n",
    "    acc = 100.0 * correct / num_samples\n",
    "    \n",
    "    print('{} Accuracy: {}/{} ({:.0f}%)'.format(\n",
    "                mode,correct, num_samples,\n",
    "                100. * correct / num_samples, acc))"
   ]
  },
  {
   "cell_type": "code",
   "execution_count": 9,
   "id": "7dc6b453",
   "metadata": {
    "execution": {
     "iopub.execute_input": "2022-06-10T17:56:13.593531Z",
     "iopub.status.busy": "2022-06-10T17:56:13.593243Z",
     "iopub.status.idle": "2022-06-10T17:56:13.606203Z",
     "shell.execute_reply": "2022-06-10T17:56:13.605549Z"
    },
    "papermill": {
     "duration": 0.065193,
     "end_time": "2022-06-10T17:56:13.607812",
     "exception": false,
     "start_time": "2022-06-10T17:56:13.542619",
     "status": "completed"
    },
    "scrolled": true,
    "tags": []
   },
   "outputs": [],
   "source": [
    "\n",
    "    \n",
    "\n",
    "\n",
    "def train(model, device, train_loader,validloader,scheduler, optimizer,criterion,epochs,lr):\n",
    "    print(\"Train start\")\n",
    "    breakout = False\n",
    "    model.half()\n",
    "    model.cuda()\n",
    "\n",
    "    \n",
    "    model.train()\n",
    "\n",
    "    optimizer.param_groups[0]['lr'] = lr\n",
    "    \n",
    "    for epoch in range(epochs):\n",
    "        correct = 0\n",
    "        num_samples = 0\n",
    "        train_loss = 0\n",
    "        \n",
    "        for batch_idx, (data, target) in enumerate(train_loader):\n",
    "            \n",
    "            data = data.to(device)\n",
    "            target = target.to(device)\n",
    "\n",
    "            optimizer.zero_grad()\n",
    "            output = model(data.half())\n",
    "            \n",
    "            loss = criterion(output, target)\n",
    "            loss.backward()\n",
    "            optimizer.step()\n",
    "            \n",
    "            \n",
    "            train_loss += loss.item()\n",
    "            \n",
    "            \n",
    "            _,pred = output.max(1)# get the index of the max log-probability\n",
    "            num_samples += target.size(0)\n",
    "            correct += (pred==target).sum().item()\n",
    "            \n",
    "        if optimizer.param_groups[0]['lr'] != 1e-3:    \n",
    "            scheduler.step()\n",
    "        #print(\"lr:\",optimizer.param_groups[0]['lr'])\n",
    "        \n",
    "        \n",
    "        train_loss /= num_samples\n",
    "        \n",
    "        if (100 * correct / num_samples) >= 95:\n",
    "            \n",
    "            print('Epoch: {} , Training Accuracy: {}/{} ({:.0f}%) Training Loss: {:.6f}'.format(\n",
    "                epoch+1, correct, num_samples,100. * correct / num_samples, train_loss))\n",
    "            \n",
    "            test(model,device,validloader, mode = \"Validating\")\n",
    "#             test(model, device, testloader, mode = \"Test before Training on validation set\")\n",
    "           # model, optimizer = trainonval(model, device, validloader, optimizer, criterion, epochs)\n",
    "#             test(model, device, testloader, mode = \"Test after training on validation set\")\n",
    "            \n",
    "            \n",
    "            \n",
    "            torch.save({\n",
    "            'model_state_dict': model.state_dict(),\n",
    "            'optimizer_state_dict': optimizer.state_dict()}, \"./model_optimizer3.pt\")\n",
    "            \n",
    "            breakout = True\n",
    "            print(\"breakout\")\n",
    "            return model, optimizer\n",
    "            \n",
    "            \n",
    "            \n",
    "       \n",
    "        \n",
    "\n",
    "        print('Epoch: {} , Training Accuracy: {}/{} ({:.0f}%) Training Loss: {:.6f}'.format(\n",
    "                epoch+1, correct, num_samples,\n",
    "                100. * correct / num_samples, train_loss))\n",
    "        if (((epoch+1)%5) == 0) :\n",
    "            test(model,device,validloader)\n",
    "            model.train()\n",
    "            \n",
    "    if breakout:\n",
    "            print(\"breakout\")\n",
    "            return\n",
    "    \n",
    "    \n",
    "    \n",
    "    #model, optimizer = trainonval(model, device, validloader, optimizer, criterion, epochs)\n",
    "    test(model, device, validloader, mode= \"test set \")\n",
    "    \n",
    "    \n",
    "        \n",
    "    torch.save({\n",
    "            'model_state_dict': model.state_dict(),\n",
    "            'optimizer_state_dict': optimizer.state_dict()}, \"./model_optimizer3.pt\")\n",
    "    return model, optimizer\n",
    "    \n",
    "    \n",
    "        \n"
   ]
  },
  {
   "cell_type": "code",
   "execution_count": 10,
   "id": "178fc7eb",
   "metadata": {
    "execution": {
     "iopub.execute_input": "2022-06-10T17:56:13.708687Z",
     "iopub.status.busy": "2022-06-10T17:56:13.708427Z",
     "iopub.status.idle": "2022-06-10T17:56:17.464764Z",
     "shell.execute_reply": "2022-06-10T17:56:17.463995Z"
    },
    "papermill": {
     "duration": 3.809868,
     "end_time": "2022-06-10T17:56:17.467688",
     "exception": false,
     "start_time": "2022-06-10T17:56:13.657820",
     "status": "completed"
    },
    "tags": []
   },
   "outputs": [],
   "source": [
    "n_classes = 61\n",
    "\n",
    "\n",
    "model = nn.Sequential(OrderedDict([\n",
    "    ('frontend',effnetv2_m())\n",
    "]))\n",
    "\n",
    "\n",
    "\n",
    "\n",
    "\n",
    "# specify loss function (categorical cross-entropy)\n",
    "\n",
    "# specify optimizer and learning rate\n",
    "optimizer = optim.SGD(\n",
    "    [\n",
    "        \n",
    "        {\"params\": model.frontend.parameters(), \"lr\": 1e-2},\n",
    "  ],\n",
    "  momentum = 0.9\n",
    ")\n",
    "device = torch.device(\"cuda\" if torch.cuda.is_available() else \"cpu\")\n",
    "\n",
    "\n",
    "samples_per_cls = [166.0, 370.0, 63.0, 232.0, 905.0, 102.0, 537.0, 993.0, 133.0, 154.0, 286.0, 435.0, 452.0, 779.0, 354.0, 136.0, 232.0, 2154.0, 374.0, 787.0, 337.0, 268.0, 954.0, 167.0, 543.0, 324.0, 669.0, 333.0, 211.0, 433.0, 140.0, 665.0, 107.0, 305.0, 162.0, 61.0, 1229.0, 958.0, 897.0, 543.0, 625.0, 334.0, 776.0, 111.0, 412.0, 583.0, 255.0, 103.0, 108.0, 201.0, 384.0, 632.0, 13.0, 322.0, 664.0, 435.0, 194.0, 322.0, 113.0, 462.0,700.0]\n",
    "no_of_classes=61\n",
    "beta=0.9999\n",
    "effective_num = 1.0 - np.power(beta, samples_per_cls)\n",
    "weights = (1.0 - beta) / np.array(effective_num)\n",
    "weights = weights / np.sum(weights) * no_of_classes\n",
    "    \n",
    "\n",
    "weights = torch.FloatTensor(weights).cuda()\n",
    "\n",
    "criterion = nn.CrossEntropyLoss(weight = weights.half())\n",
    "\n",
    "# state = torch.load(\"../input/fmosel/model_optimizer.pt\")\n",
    "# model.load_state_dict(state['model_state_dict'])\n",
    "# model.half()\n",
    "# model.cuda()\n",
    "# optimizer.load_state_dict(state['optimizer_state_dict'])"
   ]
  },
  {
   "cell_type": "code",
   "execution_count": 11,
   "id": "46c7b777",
   "metadata": {
    "execution": {
     "iopub.execute_input": "2022-06-10T17:56:17.644976Z",
     "iopub.status.busy": "2022-06-10T17:56:17.644535Z",
     "iopub.status.idle": "2022-06-10T17:56:17.648530Z",
     "shell.execute_reply": "2022-06-10T17:56:17.647916Z"
    },
    "papermill": {
     "duration": 0.093189,
     "end_time": "2022-06-10T17:56:17.652354",
     "exception": false,
     "start_time": "2022-06-10T17:56:17.559165",
     "status": "completed"
    },
    "tags": []
   },
   "outputs": [],
   "source": [
    "#print('Number of model parameters: {}'.format(sum([p.data.nelement() for p in model.parameters()])))"
   ]
  },
  {
   "cell_type": "code",
   "execution_count": 12,
   "id": "c6133876",
   "metadata": {
    "execution": {
     "iopub.execute_input": "2022-06-10T17:56:17.812916Z",
     "iopub.status.busy": "2022-06-10T17:56:17.812660Z",
     "iopub.status.idle": "2022-06-10T17:56:17.815874Z",
     "shell.execute_reply": "2022-06-10T17:56:17.815211Z"
    },
    "papermill": {
     "duration": 0.082587,
     "end_time": "2022-06-10T17:56:17.817594",
     "exception": false,
     "start_time": "2022-06-10T17:56:17.735007",
     "status": "completed"
    },
    "tags": []
   },
   "outputs": [],
   "source": [
    "#summary(model, (1, 512, 640), device='cpu')"
   ]
  },
  {
   "cell_type": "code",
   "execution_count": 13,
   "id": "8a2b302c",
   "metadata": {
    "execution": {
     "iopub.execute_input": "2022-06-10T17:56:17.919357Z",
     "iopub.status.busy": "2022-06-10T17:56:17.919139Z",
     "iopub.status.idle": "2022-06-10T18:17:21.250029Z",
     "shell.execute_reply": "2022-06-10T18:17:21.248852Z"
    },
    "papermill": {
     "duration": 1263.38341,
     "end_time": "2022-06-10T18:17:21.252059",
     "exception": false,
     "start_time": "2022-06-10T17:56:17.868649",
     "status": "completed"
    },
    "tags": []
   },
   "outputs": [
    {
     "name": "stdout",
     "output_type": "stream",
     "text": [
      "file p01_n002\n",
      "file p06_n019\n",
      "file p06_n007\n",
      "file p01_n053\n",
      "file p04_n074\n",
      "file p05_n077\n",
      "Train start\n",
      "Epoch: 1 , Training Accuracy: 110/1272 (9%) Training Loss: 0.213747\n",
      "Epoch: 2 , Training Accuracy: 208/1272 (16%) Training Loss: 0.171295\n",
      "Epoch: 3 , Training Accuracy: 440/1272 (35%) Training Loss: 0.130218\n",
      "Epoch: 4 , Training Accuracy: 582/1272 (46%) Training Loss: 0.097697\n",
      "Epoch: 5 , Training Accuracy: 736/1272 (58%) Training Loss: 0.074942\n",
      "Validate Accuracy: 174/319 (55%)\n",
      "Epoch: 6 , Training Accuracy: 951/1272 (75%) Training Loss: 0.041361\n",
      "Epoch: 7 , Training Accuracy: 1050/1272 (83%) Training Loss: 0.030689\n",
      "Epoch: 8 , Training Accuracy: 1067/1272 (84%) Training Loss: 0.028226\n",
      "Epoch: 9 , Training Accuracy: 1104/1272 (87%) Training Loss: 0.023735\n",
      "Epoch: 10 , Training Accuracy: 1145/1272 (90%) Training Loss: 0.021412\n",
      "Validate Accuracy: 267/319 (84%)\n",
      "Epoch: 11 , Training Accuracy: 1154/1272 (91%) Training Loss: 0.019759\n",
      "Epoch: 12 , Training Accuracy: 1180/1272 (93%) Training Loss: 0.017395\n",
      "Epoch: 13 , Training Accuracy: 1191/1272 (94%) Training Loss: 0.015848\n",
      "Epoch: 14 , Training Accuracy: 1202/1272 (94%) Training Loss: 0.014160\n",
      "Epoch: 15 , Training Accuracy: 1215/1272 (96%) Training Loss: 0.012424\n",
      "Validating Accuracy: 285/319 (89%)\n",
      "breakout\n"
     ]
    }
   ],
   "source": [
    "trainloader, valloader = load_dataloaders(batch_size=16,start=0, end=6)#73 not included \n",
    "scheduler = torch.optim.lr_scheduler.StepLR(optimizer, step_size=5, gamma=0.1) \n",
    "model, optimizer = train(model,device,trainloader,valloader,scheduler,optimizer,criterion,30,1e-2)"
   ]
  },
  {
   "cell_type": "code",
   "execution_count": 14,
   "id": "9a4f61bf",
   "metadata": {
    "execution": {
     "iopub.execute_input": "2022-06-10T18:17:21.367669Z",
     "iopub.status.busy": "2022-06-10T18:17:21.366985Z",
     "iopub.status.idle": "2022-06-10T18:44:57.361942Z",
     "shell.execute_reply": "2022-06-10T18:44:57.361123Z"
    },
    "papermill": {
     "duration": 1656.055662,
     "end_time": "2022-06-10T18:44:57.364575",
     "exception": false,
     "start_time": "2022-06-10T18:17:21.308913",
     "status": "completed"
    },
    "tags": []
   },
   "outputs": [
    {
     "name": "stdout",
     "output_type": "stream",
     "text": [
      "file p05_n027\n",
      "file p05_n022\n",
      "file p01_n110\n",
      "file p06_n036\n",
      "file p01_n069\n",
      "file p06_n109\n",
      "Train start\n",
      "Epoch: 1 , Training Accuracy: 229/1403 (16%) Training Loss: 0.217533\n",
      "Epoch: 2 , Training Accuracy: 521/1403 (37%) Training Loss: 0.111333\n",
      "Epoch: 3 , Training Accuracy: 681/1403 (49%) Training Loss: 0.081298\n",
      "Epoch: 4 , Training Accuracy: 894/1403 (64%) Training Loss: 0.055581\n",
      "Epoch: 5 , Training Accuracy: 1002/1403 (71%) Training Loss: 0.042522\n",
      "Validate Accuracy: 241/351 (69%)\n",
      "Epoch: 6 , Training Accuracy: 1147/1403 (82%) Training Loss: 0.024346\n",
      "Epoch: 7 , Training Accuracy: 1209/1403 (86%) Training Loss: 0.019936\n",
      "Epoch: 8 , Training Accuracy: 1243/1403 (89%) Training Loss: 0.017838\n",
      "Epoch: 9 , Training Accuracy: 1255/1403 (89%) Training Loss: 0.016124\n",
      "Epoch: 10 , Training Accuracy: 1271/1403 (91%) Training Loss: 0.015827\n",
      "Validate Accuracy: 309/351 (88%)\n",
      "Epoch: 11 , Training Accuracy: 1278/1403 (91%) Training Loss: 0.014162\n",
      "Epoch: 12 , Training Accuracy: 1297/1403 (92%) Training Loss: 0.012880\n",
      "Epoch: 13 , Training Accuracy: 1309/1403 (93%) Training Loss: 0.012905\n",
      "Epoch: 14 , Training Accuracy: 1306/1403 (93%) Training Loss: 0.011608\n",
      "Epoch: 15 , Training Accuracy: 1313/1403 (94%) Training Loss: 0.011538\n",
      "Validate Accuracy: 319/351 (91%)\n",
      "Epoch: 16 , Training Accuracy: 1330/1403 (95%) Training Loss: 0.010358\n",
      "Epoch: 17 , Training Accuracy: 1326/1403 (95%) Training Loss: 0.010381\n",
      "Epoch: 18 , Training Accuracy: 1338/1403 (95%) Training Loss: 0.009525\n",
      "Validating Accuracy: 317/351 (90%)\n",
      "breakout\n"
     ]
    }
   ],
   "source": [
    "trainloader, valloader = load_dataloaders(batch_size=16,start=6, end=12)#73 not included \n",
    "scheduler = torch.optim.lr_scheduler.StepLR(optimizer, step_size=5, gamma=0.1) \n",
    "model, optimizer = train(model,device,trainloader,valloader,scheduler,optimizer,criterion,30,1e-2)"
   ]
  },
  {
   "cell_type": "code",
   "execution_count": 15,
   "id": "4b1629cd",
   "metadata": {
    "execution": {
     "iopub.execute_input": "2022-06-10T18:44:57.503116Z",
     "iopub.status.busy": "2022-06-10T18:44:57.502868Z",
     "iopub.status.idle": "2022-06-10T18:56:39.342739Z",
     "shell.execute_reply": "2022-06-10T18:56:39.341787Z"
    },
    "papermill": {
     "duration": 701.912613,
     "end_time": "2022-06-10T18:56:39.345542",
     "exception": false,
     "start_time": "2022-06-10T18:44:57.432929",
     "status": "completed"
    },
    "tags": []
   },
   "outputs": [
    {
     "name": "stdout",
     "output_type": "stream",
     "text": [
      "file p04_n089\n",
      "file p01_n044\n",
      "file p05_n037\n",
      "file p04_n038\n",
      "file p06_n055\n",
      "file p01_n099\n",
      "Train start\n",
      "Epoch: 1 , Training Accuracy: 528/1352 (39%) Training Loss: 0.157332\n",
      "Epoch: 2 , Training Accuracy: 890/1352 (66%) Training Loss: 0.063129\n",
      "Epoch: 3 , Training Accuracy: 1102/1352 (82%) Training Loss: 0.032085\n",
      "Epoch: 4 , Training Accuracy: 1185/1352 (88%) Training Loss: 0.020341\n",
      "Epoch: 5 , Training Accuracy: 1213/1352 (90%) Training Loss: 0.018310\n",
      "Validate Accuracy: 304/339 (90%)\n",
      "Epoch: 6 , Training Accuracy: 1271/1352 (94%) Training Loss: 0.010566\n",
      "Epoch: 7 , Training Accuracy: 1301/1352 (96%) Training Loss: 0.007424\n",
      "Validating Accuracy: 327/339 (96%)\n",
      "breakout\n"
     ]
    }
   ],
   "source": [
    "trainloader, valloader = load_dataloaders(batch_size=16,start=12, end=18)#73 not included \n",
    "scheduler = torch.optim.lr_scheduler.StepLR(optimizer, step_size=5, gamma=0.1) \n",
    "model, optimizer = train(model,device,trainloader,valloader,scheduler,optimizer,criterion,30,1e-2)"
   ]
  },
  {
   "cell_type": "code",
   "execution_count": 16,
   "id": "7d60c931",
   "metadata": {
    "execution": {
     "iopub.execute_input": "2022-06-10T18:56:39.494920Z",
     "iopub.status.busy": "2022-06-10T18:56:39.494682Z",
     "iopub.status.idle": "2022-06-10T19:03:35.418080Z",
     "shell.execute_reply": "2022-06-10T19:03:35.417291Z"
    },
    "papermill": {
     "duration": 415.997907,
     "end_time": "2022-06-10T19:03:35.420468",
     "exception": false,
     "start_time": "2022-06-10T18:56:39.422561",
     "status": "completed"
    },
    "tags": []
   },
   "outputs": [
    {
     "name": "stdout",
     "output_type": "stream",
     "text": [
      "file p02_n066\n",
      "file p04_n035\n",
      "file p01_n057\n",
      "file p01_n105\n",
      "file p04_n058\n",
      "file p05_n043\n",
      "Train start\n",
      "Epoch: 1 , Training Accuracy: 467/1044 (45%) Training Loss: 0.159004\n",
      "Epoch: 2 , Training Accuracy: 810/1044 (78%) Training Loss: 0.044754\n",
      "Epoch: 3 , Training Accuracy: 912/1044 (87%) Training Loss: 0.024389\n",
      "Epoch: 4 , Training Accuracy: 965/1044 (92%) Training Loss: 0.013873\n",
      "Epoch: 5 , Training Accuracy: 1007/1044 (96%) Training Loss: 0.007027\n",
      "Validating Accuracy: 245/262 (94%)\n",
      "breakout\n"
     ]
    }
   ],
   "source": [
    "trainloader, valloader = load_dataloaders(batch_size=16,start=18, end=24)#73 not included \n",
    "scheduler = torch.optim.lr_scheduler.StepLR(optimizer, step_size=5, gamma=0.1) \n",
    "model, optimizer = train(model,device,trainloader,valloader,scheduler,optimizer,criterion,30,1e-2)"
   ]
  },
  {
   "cell_type": "code",
   "execution_count": 17,
   "id": "1a207b00",
   "metadata": {
    "execution": {
     "iopub.execute_input": "2022-06-10T19:03:35.575672Z",
     "iopub.status.busy": "2022-06-10T19:03:35.575430Z",
     "iopub.status.idle": "2022-06-10T19:13:26.581930Z",
     "shell.execute_reply": "2022-06-10T19:13:26.581000Z"
    },
    "papermill": {
     "duration": 591.088525,
     "end_time": "2022-06-10T19:13:26.584776",
     "exception": false,
     "start_time": "2022-06-10T19:03:35.496251",
     "status": "completed"
    },
    "tags": []
   },
   "outputs": [
    {
     "name": "stdout",
     "output_type": "stream",
     "text": [
      "file p06_n020\n",
      "file p02_n001\n",
      "file p04_n032\n",
      "file p05_n084\n",
      "file p01_n102\n",
      "file p06_n096\n",
      "Train start\n",
      "Epoch: 1 , Training Accuracy: 433/1296 (33%) Training Loss: 0.162473\n",
      "Epoch: 2 , Training Accuracy: 892/1296 (69%) Training Loss: 0.058299\n",
      "Epoch: 3 , Training Accuracy: 1028/1296 (79%) Training Loss: 0.037306\n",
      "Epoch: 4 , Training Accuracy: 1168/1296 (90%) Training Loss: 0.018811\n",
      "Epoch: 5 , Training Accuracy: 1199/1296 (93%) Training Loss: 0.012626\n",
      "Validate Accuracy: 280/325 (86%)\n",
      "Epoch: 6 , Training Accuracy: 1238/1296 (96%) Training Loss: 0.008873\n",
      "Validating Accuracy: 298/325 (92%)\n",
      "breakout\n"
     ]
    }
   ],
   "source": [
    "trainloader, valloader = load_dataloaders(batch_size=16,start=24, end=30)#73 not included \n",
    "scheduler = torch.optim.lr_scheduler.StepLR(optimizer, step_size=5, gamma=0.1) \n",
    "model, optimizer = train(model,device,trainloader,valloader,scheduler,optimizer,criterion,30,1e-2)"
   ]
  },
  {
   "cell_type": "code",
   "execution_count": 18,
   "id": "ce6104ae",
   "metadata": {
    "execution": {
     "iopub.execute_input": "2022-06-10T19:13:26.760648Z",
     "iopub.status.busy": "2022-06-10T19:13:26.760392Z",
     "iopub.status.idle": "2022-06-10T19:31:21.055204Z",
     "shell.execute_reply": "2022-06-10T19:31:21.054441Z"
    },
    "papermill": {
     "duration": 1074.380103,
     "end_time": "2022-06-10T19:31:21.057848",
     "exception": false,
     "start_time": "2022-06-10T19:13:26.677745",
     "status": "completed"
    },
    "tags": []
   },
   "outputs": [
    {
     "name": "stdout",
     "output_type": "stream",
     "text": [
      "file p02_n104\n",
      "file p01_n090\n",
      "file p01_n040\n",
      "file p04_n073\n",
      "file p01_n067\n",
      "file p05_n004\n",
      "Train start\n",
      "Epoch: 1 , Training Accuracy: 499/1235 (40%) Training Loss: 0.156367\n",
      "Epoch: 2 , Training Accuracy: 908/1235 (74%) Training Loss: 0.055746\n",
      "Epoch: 3 , Training Accuracy: 1055/1235 (85%) Training Loss: 0.025875\n",
      "Epoch: 4 , Training Accuracy: 1103/1235 (89%) Training Loss: 0.021239\n",
      "Epoch: 5 , Training Accuracy: 1113/1235 (90%) Training Loss: 0.017476\n",
      "Validate Accuracy: 263/309 (85%)\n",
      "Epoch: 6 , Training Accuracy: 1139/1235 (92%) Training Loss: 0.016608\n",
      "Epoch: 7 , Training Accuracy: 1134/1235 (92%) Training Loss: 0.015552\n",
      "Epoch: 8 , Training Accuracy: 1158/1235 (94%) Training Loss: 0.013992\n",
      "Epoch: 9 , Training Accuracy: 1151/1235 (93%) Training Loss: 0.014297\n",
      "Epoch: 10 , Training Accuracy: 1153/1235 (93%) Training Loss: 0.013970\n",
      "Validate Accuracy: 274/309 (89%)\n",
      "Epoch: 11 , Training Accuracy: 1172/1235 (95%) Training Loss: 0.014197\n",
      "Epoch: 12 , Training Accuracy: 1172/1235 (95%) Training Loss: 0.011711\n",
      "Epoch: 13 , Training Accuracy: 1177/1235 (95%) Training Loss: 0.011356\n",
      "Validating Accuracy: 274/309 (89%)\n",
      "breakout\n"
     ]
    }
   ],
   "source": [
    "trainloader, valloader = load_dataloaders(batch_size=16,start=30, end=36)#73 not included \n",
    "scheduler = torch.optim.lr_scheduler.StepLR(optimizer, step_size=2, gamma=0.1) \n",
    "model, optimizer = train(model,device,trainloader,valloader,scheduler,optimizer,criterion,30,1e-2)"
   ]
  },
  {
   "cell_type": "code",
   "execution_count": 19,
   "id": "a674ad96",
   "metadata": {
    "execution": {
     "iopub.execute_input": "2022-06-10T19:31:21.241780Z",
     "iopub.status.busy": "2022-06-10T19:31:21.241523Z",
     "iopub.status.idle": "2022-06-10T19:38:48.838091Z",
     "shell.execute_reply": "2022-06-10T19:38:48.836879Z"
    },
    "papermill": {
     "duration": 447.691676,
     "end_time": "2022-06-10T19:38:48.840338",
     "exception": false,
     "start_time": "2022-06-10T19:31:21.148662",
     "status": "completed"
    },
    "tags": []
   },
   "outputs": [
    {
     "name": "stdout",
     "output_type": "stream",
     "text": [
      "file p06_n061\n",
      "file p05_n092\n",
      "file p06_n015\n",
      "file p04_n106\n",
      "file p05_n095\n",
      "file p02_n072\n",
      "Train start\n",
      "Epoch: 1 , Training Accuracy: 779/1356 (57%) Training Loss: 0.098153\n",
      "Epoch: 2 , Training Accuracy: 1167/1356 (86%) Training Loss: 0.026264\n",
      "Epoch: 3 , Training Accuracy: 1273/1356 (94%) Training Loss: 0.012185\n",
      "Epoch: 4 , Training Accuracy: 1319/1356 (97%) Training Loss: 0.005601\n",
      "Validating Accuracy: 312/340 (92%)\n",
      "breakout\n"
     ]
    }
   ],
   "source": [
    "trainloader, valloader = load_dataloaders(batch_size=16,start=36, end=42)#73 not included \n",
    "scheduler = torch.optim.lr_scheduler.StepLR(optimizer, step_size=5, gamma=0.1) \n",
    "model, optimizer = train(model,device,trainloader,valloader,scheduler,optimizer,criterion,30,1e-2)"
   ]
  },
  {
   "cell_type": "code",
   "execution_count": 20,
   "id": "78857231",
   "metadata": {
    "execution": {
     "iopub.execute_input": "2022-06-10T19:38:49.030437Z",
     "iopub.status.busy": "2022-06-10T19:38:49.030197Z",
     "iopub.status.idle": "2022-06-10T19:47:02.498629Z",
     "shell.execute_reply": "2022-06-10T19:47:02.497660Z"
    },
    "papermill": {
     "duration": 493.565855,
     "end_time": "2022-06-10T19:47:02.501038",
     "exception": false,
     "start_time": "2022-06-10T19:38:48.935183",
     "status": "completed"
    },
    "tags": []
   },
   "outputs": [
    {
     "name": "stdout",
     "output_type": "stream",
     "text": [
      "file p05_n031\n",
      "file p01_n060\n",
      "file p05_n048\n",
      "file p05_n029\n",
      "file p01_n000\n",
      "file p01_n050\n",
      "Train start\n",
      "Epoch: 1 , Training Accuracy: 572/1208 (47%) Training Loss: 0.134313\n",
      "Epoch: 2 , Training Accuracy: 953/1208 (79%) Training Loss: 0.036783\n",
      "Epoch: 3 , Training Accuracy: 1108/1208 (92%) Training Loss: 0.016697\n",
      "Epoch: 4 , Training Accuracy: 1139/1208 (94%) Training Loss: 0.012422\n",
      "Epoch: 5 , Training Accuracy: 1150/1208 (95%) Training Loss: 0.011099\n",
      "Validating Accuracy: 269/303 (89%)\n",
      "breakout\n"
     ]
    }
   ],
   "source": [
    "trainloader, valloader = load_dataloaders(batch_size=16,start=42, end=48)#73 not included \n",
    "scheduler = torch.optim.lr_scheduler.StepLR(optimizer, step_size=2, gamma=0.1) \n",
    "model, optimizer = train(model,device,trainloader,valloader,scheduler,optimizer,criterion,30,1e-2)"
   ]
  },
  {
   "cell_type": "code",
   "execution_count": 21,
   "id": "ee8b7988",
   "metadata": {
    "execution": {
     "iopub.execute_input": "2022-06-10T19:47:02.696664Z",
     "iopub.status.busy": "2022-06-10T19:47:02.696404Z",
     "iopub.status.idle": "2022-06-10T19:54:17.945556Z",
     "shell.execute_reply": "2022-06-10T19:54:17.944282Z"
    },
    "papermill": {
     "duration": 435.350352,
     "end_time": "2022-06-10T19:54:17.948467",
     "exception": false,
     "start_time": "2022-06-10T19:47:02.598115",
     "status": "completed"
    },
    "tags": []
   },
   "outputs": [
    {
     "name": "stdout",
     "output_type": "stream",
     "text": [
      "file p05_n025\n",
      "file p04_n011\n",
      "file p01_n023\n",
      "file p01_n042\n",
      "file p01_n111\n",
      "file p05_n083\n",
      "Train start\n",
      "Epoch: 1 , Training Accuracy: 610/1141 (53%) Training Loss: 0.120601\n",
      "Epoch: 2 , Training Accuracy: 977/1141 (86%) Training Loss: 0.028063\n",
      "Epoch: 3 , Training Accuracy: 1050/1141 (92%) Training Loss: 0.015780\n",
      "Epoch: 4 , Training Accuracy: 1079/1141 (95%) Training Loss: 0.009173\n",
      "Epoch: 5 , Training Accuracy: 1109/1141 (97%) Training Loss: 0.006078\n",
      "Validating Accuracy: 267/286 (93%)\n",
      "breakout\n"
     ]
    }
   ],
   "source": [
    "trainloader, valloader = load_dataloaders(batch_size=16,start=48, end=54)#73 not included \n",
    "scheduler = torch.optim.lr_scheduler.StepLR(optimizer, step_size=5, gamma=0.1) \n",
    "model, optimizer = train(model,device,trainloader,valloader,scheduler,optimizer,criterion,30,1e-2)"
   ]
  },
  {
   "cell_type": "code",
   "execution_count": 22,
   "id": "fa8302f5",
   "metadata": {
    "execution": {
     "iopub.execute_input": "2022-06-10T19:54:18.833047Z",
     "iopub.status.busy": "2022-06-10T19:54:18.832304Z",
     "iopub.status.idle": "2022-06-10T19:58:47.143035Z",
     "shell.execute_reply": "2022-06-10T19:58:47.142261Z"
    },
    "papermill": {
     "duration": 269.094531,
     "end_time": "2022-06-10T19:58:47.145117",
     "exception": false,
     "start_time": "2022-06-10T19:54:18.050586",
     "status": "completed"
    },
    "tags": []
   },
   "outputs": [
    {
     "name": "stdout",
     "output_type": "stream",
     "text": [
      "file p05_n094\n",
      "file p04_n103\n",
      "file p01_n093\n",
      "file p04_n003\n",
      "file p05_n078\n",
      "file p01_n052\n",
      "Train start\n",
      "Epoch: 1 , Training Accuracy: 494/792 (62%) Training Loss: 0.094048\n",
      "Epoch: 2 , Training Accuracy: 698/792 (88%) Training Loss: 0.019031\n",
      "Epoch: 3 , Training Accuracy: 742/792 (94%) Training Loss: 0.013897\n",
      "Epoch: 4 , Training Accuracy: 773/792 (98%) Training Loss: 0.005530\n",
      "Validating Accuracy: 180/199 (90%)\n",
      "breakout\n"
     ]
    }
   ],
   "source": [
    "trainloader, valloader = load_dataloaders(batch_size=16,start=54, end=60)#73 not included \n",
    "scheduler = torch.optim.lr_scheduler.StepLR(optimizer, step_size=5, gamma=0.1) \n",
    "model, optimizer = train(model,device,trainloader,valloader,scheduler,optimizer,criterion,30,1e-2)"
   ]
  },
  {
   "cell_type": "code",
   "execution_count": null,
   "id": "ff8752a0",
   "metadata": {
    "papermill": {
     "duration": 0.106505,
     "end_time": "2022-06-10T19:58:47.357923",
     "exception": false,
     "start_time": "2022-06-10T19:58:47.251418",
     "status": "completed"
    },
    "tags": []
   },
   "outputs": [],
   "source": []
  },
  {
   "cell_type": "code",
   "execution_count": null,
   "id": "d0e3f207",
   "metadata": {
    "papermill": {
     "duration": 0.106019,
     "end_time": "2022-06-10T19:58:47.572191",
     "exception": false,
     "start_time": "2022-06-10T19:58:47.466172",
     "status": "completed"
    },
    "tags": []
   },
   "outputs": [],
   "source": []
  },
  {
   "cell_type": "code",
   "execution_count": 23,
   "id": "e0a3b6bc",
   "metadata": {
    "execution": {
     "iopub.execute_input": "2022-06-10T19:58:47.786014Z",
     "iopub.status.busy": "2022-06-10T19:58:47.785758Z",
     "iopub.status.idle": "2022-06-10T20:00:11.546980Z",
     "shell.execute_reply": "2022-06-10T20:00:11.545576Z"
    },
    "papermill": {
     "duration": 83.97711,
     "end_time": "2022-06-10T20:00:11.656521",
     "exception": false,
     "start_time": "2022-06-10T19:58:47.679411",
     "status": "completed"
    },
    "tags": []
   },
   "outputs": [
    {
     "name": "stdout",
     "output_type": "stream",
     "text": [
      "file p06_n054\n",
      "file p05_n047\n",
      "file p06_n021\n",
      "file p01_n081\n",
      "Validate Accuracy: 139/1157 (12%)\n"
     ]
    }
   ],
   "source": [
    "trainloader = load_testloader(batch_size=16,start=108, end=112)#73 not included \n",
    "test(model,device,trainloader)"
   ]
  },
  {
   "cell_type": "markdown",
   "id": "1065c2cf",
   "metadata": {
    "papermill": {
     "duration": 0.106678,
     "end_time": "2022-06-10T20:00:11.870239",
     "exception": false,
     "start_time": "2022-06-10T20:00:11.763561",
     "status": "completed"
    },
    "tags": []
   },
   "source": []
  },
  {
   "cell_type": "code",
   "execution_count": 24,
   "id": "9a686fc2",
   "metadata": {
    "execution": {
     "iopub.execute_input": "2022-06-10T20:00:12.085278Z",
     "iopub.status.busy": "2022-06-10T20:00:12.085022Z",
     "iopub.status.idle": "2022-06-10T20:00:16.948813Z",
     "shell.execute_reply": "2022-06-10T20:00:16.947892Z"
    },
    "papermill": {
     "duration": 4.974509,
     "end_time": "2022-06-10T20:00:16.950921",
     "exception": false,
     "start_time": "2022-06-10T20:00:11.976412",
     "status": "completed"
    },
    "tags": []
   },
   "outputs": [
    {
     "name": "stdout",
     "output_type": "stream",
     "text": [
      "tensor([59, 60, 60, 60, 59, 60, 59, 59, 60, 59, 38, 38, 38, 59, 59, 60],\n",
      "       device='cuda:0')\n",
      "tensor([17, 59, 59, 59, 17, 17, 59, 60, 59, 16, 59, 59, 59, 17, 60, 59],\n",
      "       device='cuda:0')\n",
      "tensor([59, 59, 38, 59, 60, 59, 59, 60, 59, 60, 60, 59, 59, 38, 59, 59],\n",
      "       device='cuda:0')\n",
      "tensor([59, 60], device='cuda:0')\n"
     ]
    }
   ],
   "source": [
    "trainloader= load_vid(batch_size=16,start=1000, end=3000)#73 not included \n",
    "evluate(model,device,trainloader)"
   ]
  }
 ],
 "metadata": {
  "kernelspec": {
   "display_name": "Python 3",
   "language": "python",
   "name": "python3"
  },
  "language_info": {
   "codemirror_mode": {
    "name": "ipython",
    "version": 3
   },
   "file_extension": ".py",
   "mimetype": "text/x-python",
   "name": "python",
   "nbconvert_exporter": "python",
   "pygments_lexer": "ipython3",
   "version": "3.7.12"
  },
  "papermill": {
   "default_parameters": {},
   "duration": 7487.501429,
   "end_time": "2022-06-10T20:00:19.463798",
   "environment_variables": {},
   "exception": null,
   "input_path": "__notebook__.ipynb",
   "output_path": "__notebook__.ipynb",
   "parameters": {},
   "start_time": "2022-06-10T17:55:31.962369",
   "version": "2.3.4"
  }
 },
 "nbformat": 4,
 "nbformat_minor": 5
}
