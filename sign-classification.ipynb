{
 "cells": [
  {
   "cell_type": "code",
   "execution_count": 1,
   "id": "9013825d",
   "metadata": {
    "execution": {
     "iopub.execute_input": "2022-05-13T10:28:10.044230Z",
     "iopub.status.busy": "2022-05-13T10:28:10.043098Z",
     "iopub.status.idle": "2022-05-13T10:28:31.433714Z",
     "shell.execute_reply": "2022-05-13T10:28:31.432498Z"
    },
    "papermill": {
     "duration": 21.407894,
     "end_time": "2022-05-13T10:28:31.436652",
     "exception": false,
     "start_time": "2022-05-13T10:28:10.028758",
     "status": "completed"
    },
    "tags": []
   },
   "outputs": [
    {
     "name": "stdout",
     "output_type": "stream",
     "text": [
      "Collecting pytorchvideo\r\n",
      "  Downloading pytorchvideo-0.1.5.tar.gz (132 kB)\r\n",
      "\u001b[2K     \u001b[90m━━━━━━━━━━━━━━━━━━━━━━━━━━━━━━━━━━━━━\u001b[0m \u001b[32m132.7/132.7 KB\u001b[0m \u001b[31m674.1 kB/s\u001b[0m eta \u001b[36m0:00:00\u001b[0m\r\n",
      "\u001b[?25h  Preparing metadata (setup.py) ... \u001b[?25l-\b \bdone\r\n",
      "\u001b[?25hCollecting fvcore\r\n",
      "  Downloading fvcore-0.1.5.post20220512.tar.gz (50 kB)\r\n",
      "\u001b[2K     \u001b[90m━━━━━━━━━━━━━━━━━━━━━━━━━━━━━━━━━━━━━━━━\u001b[0m \u001b[32m50.1/50.1 KB\u001b[0m \u001b[31m2.2 MB/s\u001b[0m eta \u001b[36m0:00:00\u001b[0m\r\n",
      "\u001b[?25h  Preparing metadata (setup.py) ... \u001b[?25l-\b \bdone\r\n",
      "\u001b[?25hCollecting av\r\n",
      "  Downloading av-9.2.0-cp37-cp37m-manylinux_2_17_x86_64.manylinux2014_x86_64.whl (28.2 MB)\r\n",
      "\u001b[2K     \u001b[90m━━━━━━━━━━━━━━━━━━━━━━━━━━━━━━━━━━━━━━━━\u001b[0m \u001b[32m28.2/28.2 MB\u001b[0m \u001b[31m19.5 MB/s\u001b[0m eta \u001b[36m0:00:00\u001b[0m\r\n",
      "\u001b[?25hCollecting parameterized\r\n",
      "  Downloading parameterized-0.8.1-py2.py3-none-any.whl (26 kB)\r\n",
      "Collecting iopath\r\n",
      "  Downloading iopath-0.1.9-py3-none-any.whl (27 kB)\r\n",
      "Requirement already satisfied: networkx in /opt/conda/lib/python3.7/site-packages (from pytorchvideo) (2.5)\r\n",
      "Requirement already satisfied: numpy in /opt/conda/lib/python3.7/site-packages (from fvcore->pytorchvideo) (1.21.6)\r\n",
      "Requirement already satisfied: yacs>=0.1.6 in /opt/conda/lib/python3.7/site-packages (from fvcore->pytorchvideo) (0.1.8)\r\n",
      "Requirement already satisfied: pyyaml>=5.1 in /opt/conda/lib/python3.7/site-packages (from fvcore->pytorchvideo) (6.0)\r\n",
      "Requirement already satisfied: tqdm in /opt/conda/lib/python3.7/site-packages (from fvcore->pytorchvideo) (4.63.0)\r\n",
      "Requirement already satisfied: termcolor>=1.1 in /opt/conda/lib/python3.7/site-packages (from fvcore->pytorchvideo) (1.1.0)\r\n",
      "Requirement already satisfied: Pillow in /opt/conda/lib/python3.7/site-packages (from fvcore->pytorchvideo) (9.0.1)\r\n",
      "Requirement already satisfied: tabulate in /opt/conda/lib/python3.7/site-packages (from fvcore->pytorchvideo) (0.8.9)\r\n",
      "Requirement already satisfied: portalocker in /opt/conda/lib/python3.7/site-packages (from iopath->pytorchvideo) (2.4.0)\r\n",
      "Requirement already satisfied: decorator>=4.3.0 in /opt/conda/lib/python3.7/site-packages (from networkx->pytorchvideo) (5.1.1)\r\n",
      "Building wheels for collected packages: pytorchvideo, fvcore\r\n",
      "  Building wheel for pytorchvideo (setup.py) ... \u001b[?25l-\b \b\\\b \b|\b \bdone\r\n",
      "\u001b[?25h  Created wheel for pytorchvideo: filename=pytorchvideo-0.1.5-py3-none-any.whl size=188714 sha256=aae57c79b6f7d12545c6604a6fcad5a88e5ad15647e719583699965d38248010\r\n",
      "  Stored in directory: /root/.cache/pip/wheels/e8/51/05/053b29bac2400cbbae2fb7cfc41afd280d627bca7c9363ca80\r\n",
      "  Building wheel for fvcore (setup.py) ... \u001b[?25l-\b \b\\\b \bdone\r\n",
      "\u001b[?25h  Created wheel for fvcore: filename=fvcore-0.1.5.post20220512-py3-none-any.whl size=61288 sha256=291495c5f2fa5a247c2c319a70063df6e5d0bc85d39860d528cb3fa20f0bbecd\r\n",
      "  Stored in directory: /root/.cache/pip/wheels/68/20/f9/a11a0dd63f4c13678b2a5ec488e48078756505c7777b75b29e\r\n",
      "Successfully built pytorchvideo fvcore\r\n",
      "Installing collected packages: parameterized, av, iopath, fvcore, pytorchvideo\r\n",
      "Successfully installed av-9.2.0 fvcore-0.1.5.post20220512 iopath-0.1.9 parameterized-0.8.1 pytorchvideo-0.1.5\r\n",
      "\u001b[33mWARNING: Running pip as the 'root' user can result in broken permissions and conflicting behaviour with the system package manager. It is recommended to use a virtual environment instead: https://pip.pypa.io/warnings/venv\u001b[0m\u001b[33m\r\n",
      "\u001b[0m"
     ]
    }
   ],
   "source": [
    "!pip install pytorchvideo"
   ]
  },
  {
   "cell_type": "code",
   "execution_count": 2,
   "id": "069e8c21",
   "metadata": {
    "_cell_guid": "b1076dfc-b9ad-4769-8c92-a6c4dae69d19",
    "_uuid": "8f2839f25d086af736a60e9eeb907d3b93b6e0e5",
    "execution": {
     "iopub.execute_input": "2022-05-13T10:28:31.508633Z",
     "iopub.status.busy": "2022-05-13T10:28:31.508373Z",
     "iopub.status.idle": "2022-05-13T10:28:34.048627Z",
     "shell.execute_reply": "2022-05-13T10:28:34.047688Z"
    },
    "papermill": {
     "duration": 2.578628,
     "end_time": "2022-05-13T10:28:34.051120",
     "exception": false,
     "start_time": "2022-05-13T10:28:31.472492",
     "status": "completed"
    },
    "tags": []
   },
   "outputs": [
    {
     "name": "stderr",
     "output_type": "stream",
     "text": [
      "/opt/conda/lib/python3.7/site-packages/torchvision/transforms/_functional_video.py:6: UserWarning: The _functional_video module is deprecated. Please use the functional module instead.\n",
      "  \"The _functional_video module is deprecated. Please use the functional module instead.\"\n",
      "/opt/conda/lib/python3.7/site-packages/torchvision/transforms/_transforms_video.py:26: UserWarning: The _transforms_video module is deprecated. Please use the transforms module instead.\n",
      "  \"The _transforms_video module is deprecated. Please use the transforms module instead.\"\n"
     ]
    }
   ],
   "source": [
    "import torch\n",
    "import numpy as np\n",
    "from torch.utils.data import (\n",
    "    Dataset,\n",
    "    DataLoader,\n",
    ") \n",
    "import pickle\n",
    "\n",
    "import os\n",
    "\n",
    "import math\n",
    "import torch.nn as nn\n",
    "import torch.nn.functional as F\n",
    "\n",
    "from torchvision.transforms import Compose, Lambda, Grayscale,Normalize\n",
    "from torchvision.transforms._transforms_video import CenterCropVideo\n",
    "from pytorchvideo.data.encoded_video import EncodedVideo\n",
    "from pytorchvideo.transforms import (\n",
    "    ApplyTransformToKey,\n",
    "    UniformTemporalSubsample,\n",
    ")\n",
    "\n",
    "from tqdm import tqdm\n",
    "\n",
    "from collections import OrderedDict\n",
    "\n",
    "import torch.optim as optim\n",
    "\n",
    "\n",
    "\n",
    "class SignDataset(Dataset):\n",
    "    def __init__(self,x,y):\n",
    "        self.x = x\n",
    "        self.y = y\n",
    "\n",
    "\n",
    "    def __len__(self):\n",
    "\n",
    "        return len(self.y)\n",
    "\n",
    "        # length = 0\n",
    "        # with open(self.file, 'rb') as f:\n",
    "        #     data = pickle.load(f)\n",
    "\n",
    "        # for x in data:\n",
    "        #     length += len(data[x])\n",
    "        # return length\n",
    "\n",
    "\n",
    "    def __getitem__(self, index):\n",
    "        return self.x[index], self.y[index]\n",
    "        "
   ]
  },
  {
   "cell_type": "code",
   "execution_count": 3,
   "id": "7de30aeb",
   "metadata": {
    "execution": {
     "iopub.execute_input": "2022-05-13T10:28:34.122568Z",
     "iopub.status.busy": "2022-05-13T10:28:34.122296Z",
     "iopub.status.idle": "2022-05-13T10:28:34.138761Z",
     "shell.execute_reply": "2022-05-13T10:28:34.137744Z"
    },
    "papermill": {
     "duration": 0.055201,
     "end_time": "2022-05-13T10:28:34.141064",
     "exception": false,
     "start_time": "2022-05-13T10:28:34.085863",
     "status": "completed"
    },
    "tags": []
   },
   "outputs": [],
   "source": [
    "IMAGE_HEIGHT = 720\n",
    "IMAGE_WIDTH = 800\n",
    "IMAGE_CHANNEL = 1\n",
    "NUM_FRAMES = 25\n",
    "NUM_CLASSES = 60\n",
    "\n",
    "\n",
    "\n",
    "inputs =[] #x\n",
    "classes = [] #y\n",
    "\n",
    "def transform_data(x, mean, std):\n",
    "    \n",
    "    transform =  ApplyTransformToKey(\n",
    "        key=\"video\",\n",
    "        transform=Compose(\n",
    "            [\n",
    "\n",
    "                Lambda(lambda x: x.permute(1,0,2,3)),#(frames(depth), channel, height, width) -> (channel, frames(depth), height, width)\n",
    "\n",
    "                UniformTemporalSubsample(NUM_FRAMES),\n",
    "                Lambda(lambda x: x.permute(1,0,2,3)),#(frames(depth), channel, height, width)\n",
    "                Lambda(lambda x: x/255.0),\n",
    "                \n",
    "                Normalize((mean,), (std,)),\n",
    "\n",
    "                CenterCropVideo([720,800]),\n",
    "                Lambda(lambda x: x.permute(1,0,2,3)),#(channel, frames(depth), height, width)\n",
    "\n",
    "            ]\n",
    "\n",
    "        ),\n",
    "    )\n",
    "    \n",
    "    return transform(x)\n",
    "\n",
    "\n",
    "\n",
    "    \n",
    "\n",
    "def get_data_info(f):\n",
    "    for line in f:\n",
    "        a = line.split(',')\n",
    "        yield a\n",
    "        \n",
    "\n",
    "\n",
    "def load_dataloader(batch_size):\n",
    "    with open('../input/signdataset/sign/MSSL_Train_Set/TRAIN/MSSL_TRAIN_SET_GT.pkl', 'rb') as f:\n",
    "        data = pickle.load(f)\n",
    "\n",
    "\n",
    "# keys are files so iterate only limited files due to memory limitations.\n",
    "    for key in list(data.keys())[24:27]:\n",
    "        filename = key\n",
    "        print(\"file\",filename)\n",
    "        video = EncodedVideo.from_path(\"../input/signdataset/sign/MSSL_Train_Set/TRAIN/MSSL_TRAIN_SET_VIDEOS_ELAN/\"+filename+\".mp4\")\n",
    "    # file functions\n",
    "\n",
    "        for x in data[key]:\n",
    "            classes.append(x[0])\n",
    "            start_time = x[1]\n",
    "            end_time = x[2]\n",
    "   #give path\n",
    "            \n",
    "    \n",
    "            \n",
    "            \n",
    "            video_data = video.get_clip(start_sec=float(start_time)/1000.0, end_sec=float(end_time)/1000.0)\n",
    "\n",
    "            \n",
    "            video_data[\"video\"] = Grayscale(num_output_channels=1)((video_data[\"video\"]).permute(1,0,2,3))\n",
    "#             video_data[\"video\"] = video_data[\"video\"]/255\n",
    "            #print(video_data[\"video\"].shape)\n",
    "            \n",
    "            std, mean = torch.std_mean(video_data[\"video\"])\n",
    "            std = std/255.0\n",
    "            mean = mean/255.0\n",
    "        \n",
    "            \n",
    "            \n",
    "            video_data = transform_data( video_data, mean, std)\n",
    "\n",
    "        # Move the inputs to the desired device\n",
    "            inputs.append(video_data[\"video\"])\n",
    "\n",
    "    signds = SignDataset(inputs, classes)\n",
    "    dataloader = DataLoader(signds, batch_size=batch_size, shuffle=True, num_workers=1)\n",
    "\n",
    "    return dataloader\n",
    "        \n",
    "\n"
   ]
  },
  {
   "cell_type": "code",
   "execution_count": 4,
   "id": "94860c2c",
   "metadata": {
    "execution": {
     "iopub.execute_input": "2022-05-13T10:28:34.213420Z",
     "iopub.status.busy": "2022-05-13T10:28:34.212837Z",
     "iopub.status.idle": "2022-05-13T10:28:34.229816Z",
     "shell.execute_reply": "2022-05-13T10:28:34.228836Z"
    },
    "papermill": {
     "duration": 0.056051,
     "end_time": "2022-05-13T10:28:34.232173",
     "exception": false,
     "start_time": "2022-05-13T10:28:34.176122",
     "status": "completed"
    },
    "tags": []
   },
   "outputs": [],
   "source": [
    "class conv_3d(nn.Module):\n",
    "    def __init__(self):\n",
    "        super(conv_3d, self).__init__()\n",
    "        self.conv1 = nn.Sequential(\n",
    "            nn.Conv3d(1, 64, kernel_size=5, padding=1),\n",
    "            nn.ReLU(),\n",
    "            nn.MaxPool3d(kernel_size=(2, 2, 2), stride=(2, 2, 2)))\n",
    "        \n",
    "        self.conv2 = nn.Sequential(\n",
    "            nn.Conv3d(64, 128, kernel_size=3, padding=1),\n",
    "            nn.ReLU(),\n",
    "            nn.MaxPool3d(kernel_size=(2, 2, 2), stride=(2, 2, 2)))\n",
    "        \n",
    "\n",
    "        self._features = nn.Sequential(\n",
    "            self.conv1,\n",
    "            self.conv2\n",
    "        )\n",
    "\n",
    "\n",
    "    def forward(self, x):\n",
    "        out = self._features(x)\n",
    "        \n",
    "        out= out.reshape(out.shape[0], out.shape[1]*out.shape[2], out.shape[3], out.shape[4])\n",
    "        return out\n",
    "\n",
    "class conv_2d(nn.Module):\n",
    "    def __init__(self):\n",
    "        super(conv_2d, self).__init__()\n",
    "        self.conv1 = nn.Sequential(\n",
    "            nn.Conv2d(640, 640, kernel_size = 3, padding =1),\n",
    "            nn.ReLU(),\n",
    "            nn.MaxPool2d(kernel_size=(2, 2), stride=(2, 2)))\n",
    "            \n",
    "        \n",
    "        self.conv2 = nn.Sequential(\n",
    "            nn.Conv2d(640, 512, kernel_size = 3, padding =1),\n",
    "            nn.ReLU(),\n",
    "            nn.MaxPool2d(kernel_size=(2, 2), stride=(2, 2)))\n",
    "        \n",
    "        self.conv3 = nn.Sequential(\n",
    "            nn.Conv2d(512, 256, kernel_size = 3, padding =1),\n",
    "            nn.ReLU(),\n",
    "            nn.MaxPool2d(kernel_size=(2, 2), stride=(2, 2)))\n",
    "        \n",
    "    \n",
    "    def forward(self,x):\n",
    "        out = self.conv2(self.conv1(x))\n",
    "        out = self.conv3(out)\n",
    "       \n",
    "        out = out.view(out.shape[0],-1)\n",
    "       \n",
    "        return out\n",
    "\n",
    "\n",
    "  "
   ]
  },
  {
   "cell_type": "code",
   "execution_count": 5,
   "id": "d908f3f2",
   "metadata": {
    "execution": {
     "iopub.execute_input": "2022-05-13T10:28:34.300816Z",
     "iopub.status.busy": "2022-05-13T10:28:34.300569Z",
     "iopub.status.idle": "2022-05-13T10:28:45.541846Z",
     "shell.execute_reply": "2022-05-13T10:28:45.540348Z"
    },
    "papermill": {
     "duration": 11.27872,
     "end_time": "2022-05-13T10:28:45.544544",
     "exception": false,
     "start_time": "2022-05-13T10:28:34.265824",
     "status": "completed"
    },
    "tags": []
   },
   "outputs": [],
   "source": [
    "\n",
    "\n",
    "\n",
    "n_classes = 60\n",
    "\n",
    "model = nn.Sequential(OrderedDict([\n",
    "    ('frontend', conv_3d()),\n",
    "    ('mid', conv_2d()),\n",
    "    ('fc', nn.Sequential( nn.Dropout(p=0.4), nn.Linear(135168, 1024),nn.Linear(1024,256), nn.Linear(256,60) ))\n",
    "]))\n",
    "\n",
    "\n",
    "\n",
    "\n",
    "\n",
    "# specify loss function (categorical cross-entropy)\n",
    "criterion = nn.CrossEntropyLoss()\n",
    "# specify optimizer and learning rate\n",
    "optimizer = optim.SGD(\n",
    "  [\n",
    "        {\"params\": model.fc.parameters(), \"lr\": 1e-3},\n",
    "        {\"params\": model.mid.parameters(), \"lr\": 1e-5},\n",
    "        {\"params\": model.frontend.parameters(), \"lr\": 1e-4},\n",
    "  ],\n",
    "  momentum = 0.9\n",
    ")\n",
    "device = torch.device(\"cuda\" if torch.cuda.is_available() else \"cpu\")\n",
    "state = torch.load(\"../input/sign-classification/model_optimizer.pt\")\n",
    "model.load_state_dict(state['model_state_dict'])\n",
    "model.half()\n",
    "model.cuda()\n",
    "\n",
    "optimizer.load_state_dict(state['optimizer_state_dict'])\n",
    "\n",
    "\n",
    "def train(model, device, train_loader, optimizer, criterion, epoch):\n",
    "    \n",
    "    \n",
    "    model.train()\n",
    "    \n",
    "    \n",
    "    \n",
    "    \n",
    "    \n",
    "    for epoch in range(epoch):\n",
    "        correct = 0\n",
    "        num_samples = 0\n",
    "        train_loss = 0\n",
    "        \n",
    "        for batch_idx, (data, target) in enumerate(train_loader):\n",
    "            \n",
    "            data = data.to(device)\n",
    "            target = (target).to(device)\n",
    "\n",
    "    \n",
    "    \n",
    "            optimizer.zero_grad()\n",
    "            output = model(data.half())\n",
    "            \n",
    "            loss = criterion(output, target)\n",
    "            loss.backward()\n",
    "            optimizer.step()\n",
    "            \n",
    "            train_loss += loss.item()\n",
    "            \n",
    "            pred = output.max(1, keepdim=True)[1]# get the index of the max log-probability\n",
    "            num_samples += pred.shape[0]\n",
    "            correct += int(pred==target)\n",
    "            \n",
    "        \n",
    "        train_loss /= num_samples\n",
    "    \n",
    "        print('Epoch: {} , Training Accuracy: {}/{} ({:.0f}%) Training Loss: {:.6f}'.format(\n",
    "                epoch, correct, num_samples,\n",
    "                100. * correct / num_samples, train_loss))\n",
    "    torch.save({\n",
    "            'model_state_dict': model.state_dict(),\n",
    "            'optimizer_state_dict': optimizer.state_dict()}, \"./model_optimizer.pt\")\n",
    "        \n"
   ]
  },
  {
   "cell_type": "code",
   "execution_count": 6,
   "id": "b5a728ff",
   "metadata": {
    "execution": {
     "iopub.execute_input": "2022-05-13T10:28:45.615636Z",
     "iopub.status.busy": "2022-05-13T10:28:45.615385Z",
     "iopub.status.idle": "2022-05-13T10:29:51.271044Z",
     "shell.execute_reply": "2022-05-13T10:29:51.270018Z"
    },
    "papermill": {
     "duration": 65.694641,
     "end_time": "2022-05-13T10:29:51.273891",
     "exception": false,
     "start_time": "2022-05-13T10:28:45.579250",
     "status": "completed"
    },
    "tags": []
   },
   "outputs": [
    {
     "name": "stdout",
     "output_type": "stream",
     "text": [
      "file p06_n020\n",
      "file p02_n001\n",
      "file p04_n032\n"
     ]
    }
   ],
   "source": [
    "device = torch.device(\"cuda\" if torch.cuda.is_available() else \"cpu\")\n",
    "dataloader = load_dataloader(batch_size=1)\n"
   ]
  },
  {
   "cell_type": "code",
   "execution_count": 7,
   "id": "c5c14397",
   "metadata": {
    "execution": {
     "iopub.execute_input": "2022-05-13T10:29:51.346818Z",
     "iopub.status.busy": "2022-05-13T10:29:51.346556Z",
     "iopub.status.idle": "2022-05-13T10:51:56.712331Z",
     "shell.execute_reply": "2022-05-13T10:51:56.711283Z"
    },
    "papermill": {
     "duration": 1325.405007,
     "end_time": "2022-05-13T10:51:56.715230",
     "exception": false,
     "start_time": "2022-05-13T10:29:51.310223",
     "status": "completed"
    },
    "tags": []
   },
   "outputs": [
    {
     "name": "stdout",
     "output_type": "stream",
     "text": [
      "Epoch: 0 , Training Accuracy: 11/68 (16%) Training Loss: 3.673290\n",
      "Epoch: 1 , Training Accuracy: 46/68 (68%) Training Loss: 1.443278\n",
      "Epoch: 2 , Training Accuracy: 64/68 (94%) Training Loss: 0.322848\n",
      "Epoch: 3 , Training Accuracy: 67/68 (99%) Training Loss: 0.108278\n",
      "Epoch: 4 , Training Accuracy: 68/68 (100%) Training Loss: 0.028242\n",
      "Epoch: 5 , Training Accuracy: 68/68 (100%) Training Loss: 0.021653\n",
      "Epoch: 6 , Training Accuracy: 68/68 (100%) Training Loss: 0.016169\n",
      "Epoch: 7 , Training Accuracy: 68/68 (100%) Training Loss: 0.013646\n",
      "Epoch: 8 , Training Accuracy: 68/68 (100%) Training Loss: 0.012560\n",
      "Epoch: 9 , Training Accuracy: 68/68 (100%) Training Loss: 0.011239\n",
      "Epoch: 10 , Training Accuracy: 68/68 (100%) Training Loss: 0.013161\n",
      "Epoch: 11 , Training Accuracy: 68/68 (100%) Training Loss: 0.010031\n",
      "Epoch: 12 , Training Accuracy: 68/68 (100%) Training Loss: 0.010542\n",
      "Epoch: 13 , Training Accuracy: 68/68 (100%) Training Loss: 0.009595\n",
      "Epoch: 14 , Training Accuracy: 68/68 (100%) Training Loss: 0.007889\n"
     ]
    }
   ],
   "source": [
    "train(model,device,dataloader,optimizer,criterion,15)"
   ]
  },
  {
   "cell_type": "code",
   "execution_count": 8,
   "id": "871fba99",
   "metadata": {
    "execution": {
     "iopub.execute_input": "2022-05-13T10:51:56.807145Z",
     "iopub.status.busy": "2022-05-13T10:51:56.806278Z",
     "iopub.status.idle": "2022-05-13T10:51:56.812936Z",
     "shell.execute_reply": "2022-05-13T10:51:56.812036Z"
    },
    "papermill": {
     "duration": 0.05983,
     "end_time": "2022-05-13T10:51:56.816137",
     "exception": false,
     "start_time": "2022-05-13T10:51:56.756307",
     "status": "completed"
    },
    "tags": []
   },
   "outputs": [
    {
     "name": "stdout",
     "output_type": "stream",
     "text": [
      "Number of model parameters: 146736828\n"
     ]
    }
   ],
   "source": [
    "print('Number of model parameters: {}'.format(sum([p.data.nelement() for p in model.parameters()])))"
   ]
  },
  {
   "cell_type": "code",
   "execution_count": 9,
   "id": "76ea5024",
   "metadata": {
    "execution": {
     "iopub.execute_input": "2022-05-13T10:51:56.899206Z",
     "iopub.status.busy": "2022-05-13T10:51:56.898488Z",
     "iopub.status.idle": "2022-05-13T10:51:56.903308Z",
     "shell.execute_reply": "2022-05-13T10:51:56.902065Z"
    },
    "papermill": {
     "duration": 0.048087,
     "end_time": "2022-05-13T10:51:56.905695",
     "exception": false,
     "start_time": "2022-05-13T10:51:56.857608",
     "status": "completed"
    },
    "tags": []
   },
   "outputs": [],
   "source": [
    "#from 21 15 epochs"
   ]
  },
  {
   "cell_type": "code",
   "execution_count": null,
   "id": "b626eb83",
   "metadata": {
    "papermill": {
     "duration": 0.043069,
     "end_time": "2022-05-13T10:51:56.990613",
     "exception": false,
     "start_time": "2022-05-13T10:51:56.947544",
     "status": "completed"
    },
    "tags": []
   },
   "outputs": [],
   "source": []
  }
 ],
 "metadata": {
  "kernelspec": {
   "display_name": "Python 3",
   "language": "python",
   "name": "python3"
  },
  "language_info": {
   "codemirror_mode": {
    "name": "ipython",
    "version": 3
   },
   "file_extension": ".py",
   "mimetype": "text/x-python",
   "name": "python",
   "nbconvert_exporter": "python",
   "pygments_lexer": "ipython3",
   "version": "3.7.12"
  },
  "papermill": {
   "default_parameters": {},
   "duration": 1439.270211,
   "end_time": "2022-05-13T10:51:59.640465",
   "environment_variables": {},
   "exception": null,
   "input_path": "__notebook__.ipynb",
   "output_path": "__notebook__.ipynb",
   "parameters": {},
   "start_time": "2022-05-13T10:28:00.370254",
   "version": "2.3.4"
  }
 },
 "nbformat": 4,
 "nbformat_minor": 5
}
