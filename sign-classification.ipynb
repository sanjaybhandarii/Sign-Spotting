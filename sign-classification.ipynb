{
 "cells": [
  {
   "cell_type": "code",
   "execution_count": 1,
   "id": "e59dcba2",
   "metadata": {
    "execution": {
     "iopub.execute_input": "2022-05-12T12:32:34.115614Z",
     "iopub.status.busy": "2022-05-12T12:32:34.115246Z",
     "iopub.status.idle": "2022-05-12T12:32:50.802106Z",
     "shell.execute_reply": "2022-05-12T12:32:50.801276Z"
    },
    "papermill": {
     "duration": 16.701227,
     "end_time": "2022-05-12T12:32:50.804346",
     "exception": false,
     "start_time": "2022-05-12T12:32:34.103119",
     "status": "completed"
    },
    "tags": []
   },
   "outputs": [
    {
     "name": "stdout",
     "output_type": "stream",
     "text": [
      "Collecting pytorchvideo\r\n",
      "  Downloading pytorchvideo-0.1.5.tar.gz (132 kB)\r\n",
      "\u001b[2K     \u001b[90m━━━━━━━━━━━━━━━━━━━━━━━━━━━━━━━━━━━━━━━\u001b[0m \u001b[32m132.7/132.7 KB\u001b[0m \u001b[31m1.0 MB/s\u001b[0m eta \u001b[36m0:00:00\u001b[0m\r\n",
      "\u001b[?25h  Preparing metadata (setup.py) ... \u001b[?25l-\b \bdone\r\n",
      "\u001b[?25hCollecting fvcore\r\n",
      "  Downloading fvcore-0.1.5.post20220512.tar.gz (50 kB)\r\n",
      "\u001b[2K     \u001b[90m━━━━━━━━━━━━━━━━━━━━━━━━━━━━━━━━━━━━━━━━\u001b[0m \u001b[32m50.1/50.1 KB\u001b[0m \u001b[31m3.5 MB/s\u001b[0m eta \u001b[36m0:00:00\u001b[0m\r\n",
      "\u001b[?25h  Preparing metadata (setup.py) ... \u001b[?25l-\b \bdone\r\n",
      "\u001b[?25hCollecting av\r\n",
      "  Downloading av-9.2.0-cp37-cp37m-manylinux_2_17_x86_64.manylinux2014_x86_64.whl (28.2 MB)\r\n",
      "\u001b[2K     \u001b[90m━━━━━━━━━━━━━━━━━━━━━━━━━━━━━━━━━━━━━━━━\u001b[0m \u001b[32m28.2/28.2 MB\u001b[0m \u001b[31m28.0 MB/s\u001b[0m eta \u001b[36m0:00:00\u001b[0m\r\n",
      "\u001b[?25hCollecting parameterized\r\n",
      "  Downloading parameterized-0.8.1-py2.py3-none-any.whl (26 kB)\r\n",
      "Collecting iopath\r\n",
      "  Downloading iopath-0.1.9-py3-none-any.whl (27 kB)\r\n",
      "Requirement already satisfied: networkx in /opt/conda/lib/python3.7/site-packages (from pytorchvideo) (2.5)\r\n",
      "Requirement already satisfied: numpy in /opt/conda/lib/python3.7/site-packages (from fvcore->pytorchvideo) (1.21.6)\r\n",
      "Requirement already satisfied: yacs>=0.1.6 in /opt/conda/lib/python3.7/site-packages (from fvcore->pytorchvideo) (0.1.8)\r\n",
      "Requirement already satisfied: pyyaml>=5.1 in /opt/conda/lib/python3.7/site-packages (from fvcore->pytorchvideo) (6.0)\r\n",
      "Requirement already satisfied: tqdm in /opt/conda/lib/python3.7/site-packages (from fvcore->pytorchvideo) (4.63.0)\r\n",
      "Requirement already satisfied: termcolor>=1.1 in /opt/conda/lib/python3.7/site-packages (from fvcore->pytorchvideo) (1.1.0)\r\n",
      "Requirement already satisfied: Pillow in /opt/conda/lib/python3.7/site-packages (from fvcore->pytorchvideo) (9.0.1)\r\n",
      "Requirement already satisfied: tabulate in /opt/conda/lib/python3.7/site-packages (from fvcore->pytorchvideo) (0.8.9)\r\n",
      "Requirement already satisfied: portalocker in /opt/conda/lib/python3.7/site-packages (from iopath->pytorchvideo) (2.4.0)\r\n",
      "Requirement already satisfied: decorator>=4.3.0 in /opt/conda/lib/python3.7/site-packages (from networkx->pytorchvideo) (5.1.1)\r\n",
      "Building wheels for collected packages: pytorchvideo, fvcore\r\n",
      "  Building wheel for pytorchvideo (setup.py) ... \u001b[?25l-\b \b\\\b \bdone\r\n",
      "\u001b[?25h  Created wheel for pytorchvideo: filename=pytorchvideo-0.1.5-py3-none-any.whl size=188714 sha256=0a3ebc90b7b9ec9f6cb5edd6ec40a67e2a512f36a830917a5ff4a2400d110ed9\r\n",
      "  Stored in directory: /root/.cache/pip/wheels/e8/51/05/053b29bac2400cbbae2fb7cfc41afd280d627bca7c9363ca80\r\n",
      "  Building wheel for fvcore (setup.py) ... \u001b[?25l-\b \bdone\r\n",
      "\u001b[?25h  Created wheel for fvcore: filename=fvcore-0.1.5.post20220512-py3-none-any.whl size=61288 sha256=aa7ceb95815a64665b818dbda1685d62de2c2a31bc4adbb0be39368f17426871\r\n",
      "  Stored in directory: /root/.cache/pip/wheels/68/20/f9/a11a0dd63f4c13678b2a5ec488e48078756505c7777b75b29e\r\n",
      "Successfully built pytorchvideo fvcore\r\n",
      "Installing collected packages: parameterized, av, iopath, fvcore, pytorchvideo\r\n",
      "Successfully installed av-9.2.0 fvcore-0.1.5.post20220512 iopath-0.1.9 parameterized-0.8.1 pytorchvideo-0.1.5\r\n",
      "\u001b[33mWARNING: Running pip as the 'root' user can result in broken permissions and conflicting behaviour with the system package manager. It is recommended to use a virtual environment instead: https://pip.pypa.io/warnings/venv\u001b[0m\u001b[33m\r\n",
      "\u001b[0m"
     ]
    }
   ],
   "source": [
    "!pip install pytorchvideo"
   ]
  },
  {
   "cell_type": "code",
   "execution_count": 2,
   "id": "15ab8a58",
   "metadata": {
    "_cell_guid": "b1076dfc-b9ad-4769-8c92-a6c4dae69d19",
    "_uuid": "8f2839f25d086af736a60e9eeb907d3b93b6e0e5",
    "execution": {
     "iopub.execute_input": "2022-05-12T12:32:50.852159Z",
     "iopub.status.busy": "2022-05-12T12:32:50.851935Z",
     "iopub.status.idle": "2022-05-12T12:32:53.068128Z",
     "shell.execute_reply": "2022-05-12T12:32:53.067322Z"
    },
    "papermill": {
     "duration": 2.242375,
     "end_time": "2022-05-12T12:32:53.070289",
     "exception": false,
     "start_time": "2022-05-12T12:32:50.827914",
     "status": "completed"
    },
    "tags": []
   },
   "outputs": [
    {
     "name": "stderr",
     "output_type": "stream",
     "text": [
      "/opt/conda/lib/python3.7/site-packages/torchvision/transforms/_functional_video.py:6: UserWarning: The _functional_video module is deprecated. Please use the functional module instead.\n",
      "  \"The _functional_video module is deprecated. Please use the functional module instead.\"\n",
      "/opt/conda/lib/python3.7/site-packages/torchvision/transforms/_transforms_video.py:26: UserWarning: The _transforms_video module is deprecated. Please use the transforms module instead.\n",
      "  \"The _transforms_video module is deprecated. Please use the transforms module instead.\"\n"
     ]
    }
   ],
   "source": [
    "import torch\n",
    "import numpy as np\n",
    "from torch.utils.data import (\n",
    "    Dataset,\n",
    "    DataLoader,\n",
    ") \n",
    "import pickle\n",
    "\n",
    "import os\n",
    "\n",
    "import math\n",
    "import torch.nn as nn\n",
    "import torch.nn.functional as F\n",
    "\n",
    "from torchvision.transforms import Compose, Lambda, Grayscale,Normalize\n",
    "from torchvision.transforms._transforms_video import CenterCropVideo\n",
    "from pytorchvideo.data.encoded_video import EncodedVideo\n",
    "from pytorchvideo.transforms import (\n",
    "    ApplyTransformToKey,\n",
    "    UniformTemporalSubsample,\n",
    ")\n",
    "\n",
    "from tqdm import tqdm\n",
    "\n",
    "from collections import OrderedDict\n",
    "\n",
    "import torch.optim as optim\n",
    "\n",
    "\n",
    "\n",
    "class SignDataset(Dataset):\n",
    "    def __init__(self,x,y):\n",
    "        self.x = x\n",
    "        self.y = y\n",
    "\n",
    "\n",
    "    def __len__(self):\n",
    "\n",
    "        return len(self.y)\n",
    "\n",
    "        # length = 0\n",
    "        # with open(self.file, 'rb') as f:\n",
    "        #     data = pickle.load(f)\n",
    "\n",
    "        # for x in data:\n",
    "        #     length += len(data[x])\n",
    "        # return length\n",
    "\n",
    "\n",
    "    def __getitem__(self, index):\n",
    "        return self.x[index], self.y[index]\n",
    "        "
   ]
  },
  {
   "cell_type": "code",
   "execution_count": 3,
   "id": "eb318438",
   "metadata": {
    "execution": {
     "iopub.execute_input": "2022-05-12T12:32:53.117384Z",
     "iopub.status.busy": "2022-05-12T12:32:53.116706Z",
     "iopub.status.idle": "2022-05-12T12:32:53.130733Z",
     "shell.execute_reply": "2022-05-12T12:32:53.130064Z"
    },
    "papermill": {
     "duration": 0.039175,
     "end_time": "2022-05-12T12:32:53.132336",
     "exception": false,
     "start_time": "2022-05-12T12:32:53.093161",
     "status": "completed"
    },
    "tags": []
   },
   "outputs": [],
   "source": [
    "IMAGE_HEIGHT = 720\n",
    "IMAGE_WIDTH = 800\n",
    "IMAGE_CHANNEL = 1\n",
    "NUM_FRAMES = 25\n",
    "NUM_CLASSES = 60\n",
    "\n",
    "\n",
    "\n",
    "inputs =[] #x\n",
    "classes = [] #y\n",
    "\n",
    "def transform_data(x, mean, std):\n",
    "    \n",
    "    transform =  ApplyTransformToKey(\n",
    "        key=\"video\",\n",
    "        transform=Compose(\n",
    "            [\n",
    "\n",
    "                Lambda(lambda x: x.permute(1,0,2,3)),#(frames(depth), channel, height, width) -> (channel, frames(depth), height, width)\n",
    "\n",
    "                UniformTemporalSubsample(NUM_FRAMES),\n",
    "                Lambda(lambda x: x.permute(1,0,2,3)),#(frames(depth), channel, height, width)\n",
    "                Lambda(lambda x: x/255.0),\n",
    "                \n",
    "                Normalize((mean,), (std,)),\n",
    "\n",
    "                CenterCropVideo([720,800]),\n",
    "                Lambda(lambda x: x.permute(1,0,2,3)),#(channel, frames(depth), height, width)\n",
    "\n",
    "            ]\n",
    "\n",
    "        ),\n",
    "    )\n",
    "    \n",
    "    return transform(x)\n",
    "\n",
    "\n",
    "\n",
    "    \n",
    "\n",
    "def get_data_info(f):\n",
    "    for line in f:\n",
    "        a = line.split(',')\n",
    "        yield a\n",
    "        \n",
    "\n",
    "\n",
    "def load_dataloader(batch_size):\n",
    "    with open('../input/signdataset/sign/MSSL_Train_Set/TRAIN/MSSL_TRAIN_SET_GT.pkl', 'rb') as f:\n",
    "        data = pickle.load(f)\n",
    "\n",
    "\n",
    "# keys are files so iterate only limited files due to memory limitations.\n",
    "    for key in list(data.keys())[9:12]:\n",
    "        filename = key\n",
    "        print(\"file\",filename)\n",
    "        video = EncodedVideo.from_path(\"../input/signdataset/sign/MSSL_Train_Set/TRAIN/MSSL_TRAIN_SET_VIDEOS_ELAN/\"+filename+\".mp4\")\n",
    "    # file functions\n",
    "\n",
    "        for x in data[key]:\n",
    "            classes.append(x[0])\n",
    "            start_time = x[1]\n",
    "            end_time = x[2]\n",
    "   #give path\n",
    "            \n",
    "    \n",
    "            \n",
    "            \n",
    "            video_data = video.get_clip(start_sec=float(start_time)/1000.0, end_sec=float(end_time)/1000.0)\n",
    "\n",
    "            \n",
    "            video_data[\"video\"] = Grayscale(num_output_channels=1)((video_data[\"video\"]).permute(1,0,2,3))\n",
    "#             video_data[\"video\"] = video_data[\"video\"]/255\n",
    "            #print(video_data[\"video\"].shape)\n",
    "            \n",
    "            std, mean = torch.std_mean(video_data[\"video\"])\n",
    "            std = std/255.0\n",
    "            mean = mean/255.0\n",
    "        \n",
    "            \n",
    "            \n",
    "            video_data = transform_data( video_data, mean, std)\n",
    "\n",
    "        # Move the inputs to the desired device\n",
    "            inputs.append(video_data[\"video\"])\n",
    "\n",
    "    signds = SignDataset(inputs, classes)\n",
    "    dataloader = DataLoader(signds, batch_size=batch_size, shuffle=True, num_workers=1)\n",
    "\n",
    "    return dataloader\n",
    "        \n",
    "\n"
   ]
  },
  {
   "cell_type": "code",
   "execution_count": 4,
   "id": "b6b51c34",
   "metadata": {
    "execution": {
     "iopub.execute_input": "2022-05-12T12:32:53.178952Z",
     "iopub.status.busy": "2022-05-12T12:32:53.178484Z",
     "iopub.status.idle": "2022-05-12T12:32:53.190517Z",
     "shell.execute_reply": "2022-05-12T12:32:53.189874Z"
    },
    "papermill": {
     "duration": 0.037319,
     "end_time": "2022-05-12T12:32:53.192130",
     "exception": false,
     "start_time": "2022-05-12T12:32:53.154811",
     "status": "completed"
    },
    "tags": []
   },
   "outputs": [],
   "source": [
    "class conv_3d(nn.Module):\n",
    "    def __init__(self):\n",
    "        super(conv_3d, self).__init__()\n",
    "        self.conv1 = nn.Sequential(\n",
    "            nn.Conv3d(1, 64, kernel_size=5, padding=1),\n",
    "            nn.ReLU(),\n",
    "            nn.MaxPool3d(kernel_size=(2, 2, 2), stride=(2, 2, 2)))\n",
    "        \n",
    "        self.conv2 = nn.Sequential(\n",
    "            nn.Conv3d(64, 128, kernel_size=3, padding=1),\n",
    "            nn.ReLU(),\n",
    "            nn.MaxPool3d(kernel_size=(2, 2, 2), stride=(2, 2, 2)))\n",
    "        \n",
    "\n",
    "        self._features = nn.Sequential(\n",
    "            self.conv1,\n",
    "            self.conv2\n",
    "        )\n",
    "\n",
    "\n",
    "    def forward(self, x):\n",
    "        out = self._features(x)\n",
    "        \n",
    "        out= out.reshape(out.shape[0], out.shape[1]*out.shape[2], out.shape[3], out.shape[4])\n",
    "        return out\n",
    "\n",
    "class conv_2d(nn.Module):\n",
    "    def __init__(self):\n",
    "        super(conv_2d, self).__init__()\n",
    "        self.conv1 = nn.Sequential(\n",
    "            nn.Conv2d(640, 640, kernel_size = 3, padding =1),\n",
    "            nn.ReLU(),\n",
    "            nn.MaxPool2d(kernel_size=(2, 2), stride=(2, 2)))\n",
    "            \n",
    "        \n",
    "        self.conv2 = nn.Sequential(\n",
    "            nn.Conv2d(640, 512, kernel_size = 3, padding =1),\n",
    "            nn.ReLU(),\n",
    "            nn.MaxPool2d(kernel_size=(2, 2), stride=(2, 2)))\n",
    "        \n",
    "        self.conv3 = nn.Sequential(\n",
    "            nn.Conv2d(512, 256, kernel_size = 3, padding =1),\n",
    "            nn.ReLU(),\n",
    "            nn.MaxPool2d(kernel_size=(2, 2), stride=(2, 2)))\n",
    "        \n",
    "    \n",
    "    def forward(self,x):\n",
    "        out = self.conv2(self.conv1(x))\n",
    "        out = self.conv3(out)\n",
    "       \n",
    "        out = out.view(out.shape[0],-1)\n",
    "       \n",
    "        return out\n",
    "\n",
    "\n",
    "  "
   ]
  },
  {
   "cell_type": "code",
   "execution_count": 5,
   "id": "d54fb493",
   "metadata": {
    "execution": {
     "iopub.execute_input": "2022-05-12T12:32:53.237982Z",
     "iopub.status.busy": "2022-05-12T12:32:53.237780Z",
     "iopub.status.idle": "2022-05-12T12:33:04.270451Z",
     "shell.execute_reply": "2022-05-12T12:33:04.269692Z"
    },
    "papermill": {
     "duration": 11.058262,
     "end_time": "2022-05-12T12:33:04.272739",
     "exception": false,
     "start_time": "2022-05-12T12:32:53.214477",
     "status": "completed"
    },
    "tags": []
   },
   "outputs": [],
   "source": [
    "\n",
    "\n",
    "\n",
    "n_classes = 60\n",
    "\n",
    "model = nn.Sequential(OrderedDict([\n",
    "    ('frontend', conv_3d()),\n",
    "    ('mid', conv_2d()),\n",
    "    ('fc', nn.Sequential( nn.Dropout(p=0.4), nn.Linear(135168, 1024),nn.Linear(1024,256), nn.Linear(256,60) ))\n",
    "]))\n",
    "\n",
    "\n",
    "\n",
    "\n",
    "\n",
    "# specify loss function (categorical cross-entropy)\n",
    "criterion = nn.CrossEntropyLoss()\n",
    "# specify optimizer and learning rate\n",
    "optimizer = optim.SGD(\n",
    "  [\n",
    "        {\"params\": model.fc.parameters(), \"lr\": 1e-3},\n",
    "        {\"params\": model.mid.parameters(), \"lr\": 1e-5},\n",
    "        {\"params\": model.frontend.parameters(), \"lr\": 1e-4},\n",
    "  ],\n",
    "  momentum = 0.9\n",
    ")\n",
    "device = torch.device(\"cuda\" if torch.cuda.is_available() else \"cpu\")\n",
    "state = torch.load(\"../input/sign-classification/model_optimizer.pt\")\n",
    "model.load_state_dict(state['model_state_dict'])\n",
    "model.half()\n",
    "model.cuda()\n",
    "\n",
    "optimizer.load_state_dict(state['optimizer_state_dict'])\n",
    "\n",
    "\n",
    "def train(model, device, train_loader, optimizer, criterion, epoch):\n",
    "    \n",
    "    \n",
    "    model.train()\n",
    "    \n",
    "    \n",
    "    \n",
    "    \n",
    "    \n",
    "    for epoch in range(epoch):\n",
    "        correct = 0\n",
    "        num_samples = 0\n",
    "        train_loss = 0\n",
    "        \n",
    "        for batch_idx, (data, target) in enumerate(train_loader):\n",
    "            \n",
    "            data = data.to(device)\n",
    "            target = (target).to(device)\n",
    "\n",
    "    \n",
    "    \n",
    "            optimizer.zero_grad()\n",
    "            output = model(data.half())\n",
    "            loss = criterion(output, target)\n",
    "            loss.backward()\n",
    "            optimizer.step()\n",
    "            \n",
    "            train_loss += loss.item()\n",
    "            \n",
    "            pred = output.max(1, keepdim=True)[1] # get the index of the max log-probability\n",
    "            num_samples += pred.shape[0]\n",
    "            correct += int(pred==target)\n",
    "            \n",
    "        \n",
    "        train_loss /= num_samples\n",
    "    \n",
    "        print('Epoch: {} , Training Accuracy: {}/{} ({:.0f}%) Training Loss: {:.6f}'.format(\n",
    "                epoch, correct, num_samples,\n",
    "                100. * correct / num_samples, train_loss))\n",
    "    torch.save({\n",
    "            'model_state_dict': model.state_dict(),\n",
    "            'optimizer_state_dict': optimizer.state_dict()}, \"./model_optimizer.pt\")\n",
    "        \n"
   ]
  },
  {
   "cell_type": "code",
   "execution_count": 6,
   "id": "b9674ae6",
   "metadata": {
    "execution": {
     "iopub.execute_input": "2022-05-12T12:33:04.320214Z",
     "iopub.status.busy": "2022-05-12T12:33:04.320009Z",
     "iopub.status.idle": "2022-05-12T12:33:53.391623Z",
     "shell.execute_reply": "2022-05-12T12:33:53.390860Z"
    },
    "papermill": {
     "duration": 49.097903,
     "end_time": "2022-05-12T12:33:53.394139",
     "exception": false,
     "start_time": "2022-05-12T12:33:04.296236",
     "status": "completed"
    },
    "tags": []
   },
   "outputs": [
    {
     "name": "stdout",
     "output_type": "stream",
     "text": [
      "file p06_n036\n",
      "file p01_n069\n",
      "file p06_n109\n"
     ]
    }
   ],
   "source": [
    "device = torch.device(\"cuda\" if torch.cuda.is_available() else \"cpu\")\n",
    "dataloader = load_dataloader(batch_size=1)\n"
   ]
  },
  {
   "cell_type": "code",
   "execution_count": 7,
   "id": "e92c1715",
   "metadata": {
    "execution": {
     "iopub.execute_input": "2022-05-12T12:33:53.449945Z",
     "iopub.status.busy": "2022-05-12T12:33:53.449609Z",
     "iopub.status.idle": "2022-05-12T13:09:28.373451Z",
     "shell.execute_reply": "2022-05-12T13:09:28.372475Z"
    },
    "papermill": {
     "duration": 2134.957921,
     "end_time": "2022-05-12T13:09:28.376066",
     "exception": false,
     "start_time": "2022-05-12T12:33:53.418145",
     "status": "completed"
    },
    "tags": []
   },
   "outputs": [
    {
     "name": "stdout",
     "output_type": "stream",
     "text": [
      "Epoch: 0 , Training Accuracy: 14/67 (21%) Training Loss: 3.859788\n",
      "Epoch: 1 , Training Accuracy: 35/67 (52%) Training Loss: 1.943696\n",
      "Epoch: 2 , Training Accuracy: 47/67 (70%) Training Loss: 1.043562\n",
      "Epoch: 3 , Training Accuracy: 60/67 (90%) Training Loss: 0.380740\n",
      "Epoch: 4 , Training Accuracy: 66/67 (99%) Training Loss: 0.129594\n",
      "Epoch: 5 , Training Accuracy: 67/67 (100%) Training Loss: 0.028974\n",
      "Epoch: 6 , Training Accuracy: 67/67 (100%) Training Loss: 0.021085\n",
      "Epoch: 7 , Training Accuracy: 67/67 (100%) Training Loss: 0.016857\n",
      "Epoch: 8 , Training Accuracy: 67/67 (100%) Training Loss: 0.014343\n",
      "Epoch: 9 , Training Accuracy: 67/67 (100%) Training Loss: 0.014044\n",
      "Epoch: 10 , Training Accuracy: 67/67 (100%) Training Loss: 0.011922\n",
      "Epoch: 11 , Training Accuracy: 67/67 (100%) Training Loss: 0.012304\n",
      "Epoch: 12 , Training Accuracy: 67/67 (100%) Training Loss: 0.011105\n",
      "Epoch: 13 , Training Accuracy: 67/67 (100%) Training Loss: 0.010318\n",
      "Epoch: 14 , Training Accuracy: 67/67 (100%) Training Loss: 0.009787\n",
      "Epoch: 15 , Training Accuracy: 67/67 (100%) Training Loss: 0.009502\n",
      "Epoch: 16 , Training Accuracy: 67/67 (100%) Training Loss: 0.008821\n",
      "Epoch: 17 , Training Accuracy: 67/67 (100%) Training Loss: 0.008797\n",
      "Epoch: 18 , Training Accuracy: 67/67 (100%) Training Loss: 0.007721\n",
      "Epoch: 19 , Training Accuracy: 67/67 (100%) Training Loss: 0.007660\n",
      "Epoch: 20 , Training Accuracy: 67/67 (100%) Training Loss: 0.008029\n",
      "Epoch: 21 , Training Accuracy: 67/67 (100%) Training Loss: 0.007558\n",
      "Epoch: 22 , Training Accuracy: 67/67 (100%) Training Loss: 0.006976\n",
      "Epoch: 23 , Training Accuracy: 67/67 (100%) Training Loss: 0.006865\n",
      "Epoch: 24 , Training Accuracy: 67/67 (100%) Training Loss: 0.006988\n"
     ]
    }
   ],
   "source": [
    "train(model,device,dataloader,optimizer,criterion,25)"
   ]
  },
  {
   "cell_type": "code",
   "execution_count": 8,
   "id": "21c929e0",
   "metadata": {
    "execution": {
     "iopub.execute_input": "2022-05-12T13:09:28.440495Z",
     "iopub.status.busy": "2022-05-12T13:09:28.440234Z",
     "iopub.status.idle": "2022-05-12T13:09:28.445684Z",
     "shell.execute_reply": "2022-05-12T13:09:28.444882Z"
    },
    "papermill": {
     "duration": 0.040789,
     "end_time": "2022-05-12T13:09:28.448557",
     "exception": false,
     "start_time": "2022-05-12T13:09:28.407768",
     "status": "completed"
    },
    "tags": []
   },
   "outputs": [
    {
     "name": "stdout",
     "output_type": "stream",
     "text": [
      "Number of model parameters: 146736828\n"
     ]
    }
   ],
   "source": [
    "print('Number of model parameters: {}'.format(sum([p.data.nelement() for p in model.parameters()])))"
   ]
  },
  {
   "cell_type": "code",
   "execution_count": null,
   "id": "5c79f456",
   "metadata": {
    "papermill": {
     "duration": 0.031161,
     "end_time": "2022-05-12T13:09:28.510855",
     "exception": false,
     "start_time": "2022-05-12T13:09:28.479694",
     "status": "completed"
    },
    "tags": []
   },
   "outputs": [],
   "source": []
  },
  {
   "cell_type": "code",
   "execution_count": null,
   "id": "3bc94b05",
   "metadata": {
    "papermill": {
     "duration": 0.03157,
     "end_time": "2022-05-12T13:09:28.573932",
     "exception": false,
     "start_time": "2022-05-12T13:09:28.542362",
     "status": "completed"
    },
    "tags": []
   },
   "outputs": [],
   "source": []
  }
 ],
 "metadata": {
  "kernelspec": {
   "display_name": "Python 3",
   "language": "python",
   "name": "python3"
  },
  "language_info": {
   "codemirror_mode": {
    "name": "ipython",
    "version": 3
   },
   "file_extension": ".py",
   "mimetype": "text/x-python",
   "name": "python",
   "nbconvert_exporter": "python",
   "pygments_lexer": "ipython3",
   "version": "3.7.12"
  },
  "papermill": {
   "default_parameters": {},
   "duration": 2225.287718,
   "end_time": "2022-05-12T13:09:31.113572",
   "environment_variables": {},
   "exception": null,
   "input_path": "__notebook__.ipynb",
   "output_path": "__notebook__.ipynb",
   "parameters": {},
   "start_time": "2022-05-12T12:32:25.825854",
   "version": "2.3.4"
  }
 },
 "nbformat": 4,
 "nbformat_minor": 5
}
