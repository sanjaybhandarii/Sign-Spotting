{
 "cells": [
  {
   "cell_type": "code",
   "execution_count": 1,
   "id": "24f648ea",
   "metadata": {
    "execution": {
     "iopub.execute_input": "2022-06-11T12:18:38.822555Z",
     "iopub.status.busy": "2022-06-11T12:18:38.821896Z",
     "iopub.status.idle": "2022-06-11T12:19:05.289733Z",
     "shell.execute_reply": "2022-06-11T12:19:05.288921Z"
    },
    "papermill": {
     "duration": 26.495764,
     "end_time": "2022-06-11T12:19:05.292037",
     "exception": false,
     "start_time": "2022-06-11T12:18:38.796273",
     "status": "completed"
    },
    "tags": []
   },
   "outputs": [
    {
     "name": "stdout",
     "output_type": "stream",
     "text": [
      "Collecting pytorchvideo\r\n",
      "  Downloading pytorchvideo-0.1.5.tar.gz (132 kB)\r\n",
      "\u001b[2K     \u001b[90m━━━━━━━━━━━━━━━━━━━━━━━━━━━━━━━━━━━━━\u001b[0m \u001b[32m132.7/132.7 KB\u001b[0m \u001b[31m978.8 kB/s\u001b[0m eta \u001b[36m0:00:00\u001b[0m\r\n",
      "\u001b[?25h  Preparing metadata (setup.py) ... \u001b[?25l-\b \bdone\r\n",
      "\u001b[?25hCollecting fvcore\r\n",
      "  Downloading fvcore-0.1.5.post20220512.tar.gz (50 kB)\r\n",
      "\u001b[2K     \u001b[90m━━━━━━━━━━━━━━━━━━━━━━━━━━━━━━━━━━━━━━━━\u001b[0m \u001b[32m50.1/50.1 KB\u001b[0m \u001b[31m3.2 MB/s\u001b[0m eta \u001b[36m0:00:00\u001b[0m\r\n",
      "\u001b[?25h  Preparing metadata (setup.py) ... \u001b[?25l-\b \bdone\r\n",
      "\u001b[?25hCollecting av\r\n",
      "  Downloading av-9.2.0-cp37-cp37m-manylinux_2_17_x86_64.manylinux2014_x86_64.whl (28.2 MB)\r\n",
      "\u001b[2K     \u001b[90m━━━━━━━━━━━━━━━━━━━━━━━━━━━━━━━━━━━━━━━━\u001b[0m \u001b[32m28.2/28.2 MB\u001b[0m \u001b[31m28.3 MB/s\u001b[0m eta \u001b[36m0:00:00\u001b[0m\r\n",
      "\u001b[?25hCollecting parameterized\r\n",
      "  Downloading parameterized-0.8.1-py2.py3-none-any.whl (26 kB)\r\n",
      "Collecting iopath\r\n",
      "  Downloading iopath-0.1.9-py3-none-any.whl (27 kB)\r\n",
      "Requirement already satisfied: networkx in /opt/conda/lib/python3.7/site-packages (from pytorchvideo) (2.5)\r\n",
      "Requirement already satisfied: numpy in /opt/conda/lib/python3.7/site-packages (from fvcore->pytorchvideo) (1.21.6)\r\n",
      "Requirement already satisfied: yacs>=0.1.6 in /opt/conda/lib/python3.7/site-packages (from fvcore->pytorchvideo) (0.1.8)\r\n",
      "Requirement already satisfied: pyyaml>=5.1 in /opt/conda/lib/python3.7/site-packages (from fvcore->pytorchvideo) (6.0)\r\n",
      "Requirement already satisfied: tqdm in /opt/conda/lib/python3.7/site-packages (from fvcore->pytorchvideo) (4.63.0)\r\n",
      "Requirement already satisfied: termcolor>=1.1 in /opt/conda/lib/python3.7/site-packages (from fvcore->pytorchvideo) (1.1.0)\r\n",
      "Requirement already satisfied: Pillow in /opt/conda/lib/python3.7/site-packages (from fvcore->pytorchvideo) (9.0.1)\r\n",
      "Requirement already satisfied: tabulate in /opt/conda/lib/python3.7/site-packages (from fvcore->pytorchvideo) (0.8.9)\r\n",
      "Requirement already satisfied: portalocker in /opt/conda/lib/python3.7/site-packages (from iopath->pytorchvideo) (2.4.0)\r\n",
      "Requirement already satisfied: decorator>=4.3.0 in /opt/conda/lib/python3.7/site-packages (from networkx->pytorchvideo) (5.1.1)\r\n",
      "Building wheels for collected packages: pytorchvideo, fvcore\r\n",
      "  Building wheel for pytorchvideo (setup.py) ... \u001b[?25l-\b \b\\\b \bdone\r\n",
      "\u001b[?25h  Created wheel for pytorchvideo: filename=pytorchvideo-0.1.5-py3-none-any.whl size=188714 sha256=f086138c6457dba63b0dd259d8805b9edef9e3829fa8bca2047c60448cf5937c\r\n",
      "  Stored in directory: /root/.cache/pip/wheels/e8/51/05/053b29bac2400cbbae2fb7cfc41afd280d627bca7c9363ca80\r\n",
      "  Building wheel for fvcore (setup.py) ... \u001b[?25l-\b \b\\\b \bdone\r\n",
      "\u001b[?25h  Created wheel for fvcore: filename=fvcore-0.1.5.post20220512-py3-none-any.whl size=61288 sha256=1a91fd7fa0de9f70e3510b6ed7b4ae43b88ae16c08ec64097f226eaacfeecc68\r\n",
      "  Stored in directory: /root/.cache/pip/wheels/68/20/f9/a11a0dd63f4c13678b2a5ec488e48078756505c7777b75b29e\r\n",
      "Successfully built pytorchvideo fvcore\r\n",
      "Installing collected packages: parameterized, av, iopath, fvcore, pytorchvideo\r\n",
      "Successfully installed av-9.2.0 fvcore-0.1.5.post20220512 iopath-0.1.9 parameterized-0.8.1 pytorchvideo-0.1.5\r\n",
      "\u001b[33mWARNING: Running pip as the 'root' user can result in broken permissions and conflicting behaviour with the system package manager. It is recommended to use a virtual environment instead: https://pip.pypa.io/warnings/venv\u001b[0m\u001b[33m\r\n",
      "\u001b[0mCollecting torchsummary\r\n",
      "  Downloading torchsummary-1.5.1-py3-none-any.whl (2.8 kB)\r\n",
      "Installing collected packages: torchsummary\r\n",
      "Successfully installed torchsummary-1.5.1\r\n",
      "\u001b[33mWARNING: Running pip as the 'root' user can result in broken permissions and conflicting behaviour with the system package manager. It is recommended to use a virtual environment instead: https://pip.pypa.io/warnings/venv\u001b[0m\u001b[33m\r\n",
      "\u001b[0m"
     ]
    }
   ],
   "source": [
    "!pip install pytorchvideo\n",
    "!pip install torchsummary"
   ]
  },
  {
   "cell_type": "code",
   "execution_count": 2,
   "id": "ed2a7209",
   "metadata": {
    "_cell_guid": "b1076dfc-b9ad-4769-8c92-a6c4dae69d19",
    "_uuid": "8f2839f25d086af736a60e9eeb907d3b93b6e0e5",
    "execution": {
     "iopub.execute_input": "2022-06-11T12:19:05.368418Z",
     "iopub.status.busy": "2022-06-11T12:19:05.368188Z",
     "iopub.status.idle": "2022-06-11T12:19:07.454259Z",
     "shell.execute_reply": "2022-06-11T12:19:07.453424Z"
    },
    "papermill": {
     "duration": 2.127277,
     "end_time": "2022-06-11T12:19:07.457141",
     "exception": false,
     "start_time": "2022-06-11T12:19:05.329864",
     "status": "completed"
    },
    "tags": []
   },
   "outputs": [],
   "source": [
    "import torch\n",
    "import numpy as np\n",
    "from torch.utils.data import (\n",
    "    Dataset,\n",
    "    DataLoader,\n",
    ") \n",
    "import pickle\n",
    "\n",
    "\n",
    "import os\n",
    "\n",
    "import math\n",
    "import torch.nn as nn\n",
    "import torch.nn.functional as F\n",
    "\n",
    "from torchvision.transforms import Compose, Lambda, Grayscale,Normalize, CenterCrop,Resize\n",
    "#from torchvision.transforms._transforms_video import CenterCropVideo\n",
    "from pytorchvideo.data.encoded_video import EncodedVideo\n",
    "from pytorchvideo.transforms import (\n",
    "    ApplyTransformToKey,\n",
    "    UniformTemporalSubsample,\n",
    ")\n",
    "\n",
    "from tqdm import tqdm\n",
    "\n",
    "from collections import OrderedDict\n",
    "\n",
    "import torch.optim as optim\n",
    "\n",
    "from torch.autograd import Variable\n",
    "\n",
    "\n",
    "import torchvision.models as models\n",
    "\n",
    "import sys\n",
    "from torchsummary import summary\n",
    "\n",
    "\n",
    "\n",
    "\n",
    "\n",
    "\n",
    "class SignDataset(Dataset):\n",
    "    def __init__(self,x,y):\n",
    "        self.x = x\n",
    "        self.y = y\n",
    "\n",
    "\n",
    "    def __len__(self):\n",
    "\n",
    "        return len(self.y)\n",
    "\n",
    "        # length = 0\n",
    "        # with open(self.file, 'rb') as f:\n",
    "        #     data = pickle.load(f)\n",
    "\n",
    "        # for x in data:\n",
    "        #     length += len(data[x])\n",
    "        # return length\n",
    "\n",
    "\n",
    "    def __getitem__(self, index):\n",
    "        return self.x[index], self.y[index]\n",
    "        "
   ]
  },
  {
   "cell_type": "code",
   "execution_count": 3,
   "id": "f8f8b0dc",
   "metadata": {
    "execution": {
     "iopub.execute_input": "2022-06-11T12:19:07.532621Z",
     "iopub.status.busy": "2022-06-11T12:19:07.532408Z",
     "iopub.status.idle": "2022-06-11T12:19:07.551188Z",
     "shell.execute_reply": "2022-06-11T12:19:07.550538Z"
    },
    "papermill": {
     "duration": 0.058528,
     "end_time": "2022-06-11T12:19:07.552937",
     "exception": false,
     "start_time": "2022-06-11T12:19:07.494409",
     "status": "completed"
    },
    "tags": []
   },
   "outputs": [],
   "source": [
    "IMAGE_HEIGHT = 720\n",
    "IMAGE_WIDTH = 800\n",
    "IMAGE_CHANNEL = 1\n",
    "NUM_FRAMES = 25\n",
    "NUM_CLASSES = 60\n",
    "neg = 0\n",
    "\n",
    "\n",
    "\n",
    "\n",
    "\n",
    "def transform_data(x):\n",
    "    \n",
    "    transform =  ApplyTransformToKey(\n",
    "        key=\"video\",\n",
    "        transform=Compose(\n",
    "            [\n",
    "                Lambda(lambda x: x/255.0),\n",
    "                Normalize(([0.2948, 0.4811, 0.6757]), ([0.1593, 0.1641, 0.2440])),\n",
    "                Grayscale(num_output_channels=1),\n",
    "                CenterCrop([720,900]),\n",
    "                Resize([512,512]),\n",
    "                Lambda(lambda x: x.permute(1,2,3,0)),#(channel, frames(depth), height, width)\n",
    "\n",
    "            ]\n",
    "\n",
    "        ),\n",
    "    )\n",
    "    \n",
    "    return transform(x)\n",
    "\n",
    "def lp_video(video,start_time, end_time):\n",
    "    video_data = video.get_clip(start_sec=float(start_time)/1000.0, end_sec=float(end_time)/1000.0)\n",
    "            #print(video_data[\"video\"].shape)\n",
    " \n",
    "    if video_data[\"video\"] is None:\n",
    "        return None        # or pass\n",
    "    else:\n",
    "    \n",
    "        #video_data[\"video\"] = Grayscale(num_output_channels=1)((video_data[\"video\"]).permute(1,0,2,3))\n",
    "    #             video_data[\"video\"] = video_data[\"video\"]/255\n",
    "                #print(video_data[\"video\"].shape)\n",
    "        video_data[\"video\"] = video_data[\"video\"].permute(1,0,2,3)\n",
    "#         std, mean = torch.std_mean(video_data[\"video\"],dim=[0,2,3])\n",
    "#         std = std/255.0\n",
    "#         #print(std)\n",
    "#         mean = mean/255.0\n",
    "        #print(mean)\n",
    "        video_data = transform_data( video_data)\n",
    "\n",
    "        return video_data[\"video\"]\n",
    "\n",
    "def load_dataloaders(batch_size,start,end):\n",
    "\n",
    "    time_start = []\n",
    "    time_end = []\n",
    "    train_inputs =[] #x\n",
    "    train_classes = [] #y\n",
    "    global neg\n",
    "\n",
    "    with open('../input/signdataset/sign/MSSL_Train_Set/TRAIN/MSSL_TRAIN_SET_GT.pkl', 'rb') as f:\n",
    "        data = pickle.load(f)\n",
    "\n",
    "\n",
    "# keys are files so iterate only limited files due to memory limitations.\n",
    "    for key in list(data.keys())[start:end]:\n",
    "        filename = key\n",
    "        print(\"file\",filename)\n",
    "        video = EncodedVideo.from_path(\"../input/signdataset/sign/MSSL_Train_Set/TRAIN/MSSL_TRAIN_SET_VIDEOS_ELAN/\"+filename+\".mp4\")\n",
    "    # file functions\n",
    "\n",
    "        for x in data[key]:\n",
    "            img_cls = x[0]\n",
    "            time_start.append(x[1])\n",
    "            time_end.append(x[2])\n",
    "            \n",
    "            \n",
    "            # start_time = x[1]\n",
    "            # end_time = x[2]\n",
    "            vid = lp_video(video,x[1], x[2])\n",
    "\n",
    "            for m in torch.unbind(vid, dim=3):\n",
    "                train_classes.append(img_cls)\n",
    "                train_inputs.append(m)\n",
    "\n",
    "\n",
    "            #some negative classes too\n",
    "        for i in range(len(time_start)-2):\n",
    "            if (time_start[i+1]- time_end[i])>1000.0:\n",
    "                start_t = time_end[i]+800.0\n",
    "                end_t = time_end[i]+920.0\n",
    "                vid = lp_video(video,start_t, end_t)\n",
    "                if vid is None:\n",
    "                    break\n",
    "                else:\n",
    "                    for m in torch.unbind(vid, dim=3):\n",
    "                        if neg <= 1300:\n",
    "                            train_classes.append(60)\n",
    "                            train_inputs.append(m)\n",
    "                            neg += 1\n",
    "        print(neg)\n",
    "            \n",
    "        \n",
    "            \n",
    "\n",
    "    signds = SignDataset(train_inputs, train_classes)\n",
    "    trainlen = int(len(signds)*0.8)\n",
    "    torch.manual_seed(0)\n",
    "    \n",
    "    train_set, val_test_set = torch.utils.data.random_split(signds, [trainlen, len(signds)-trainlen])\n",
    "    trainloader = DataLoader(train_set, batch_size=batch_size, shuffle=True, num_workers=2)\n",
    "\n",
    "    valloader = DataLoader(val_test_set, batch_size=batch_size, shuffle=True, num_workers=2)\n",
    "  \n",
    "    return trainloader, valloader\n",
    "        \n",
    "    "
   ]
  },
  {
   "cell_type": "code",
   "execution_count": 4,
   "id": "b9a330a3",
   "metadata": {
    "execution": {
     "iopub.execute_input": "2022-06-11T12:19:07.629735Z",
     "iopub.status.busy": "2022-06-11T12:19:07.629545Z",
     "iopub.status.idle": "2022-06-11T12:19:07.639420Z",
     "shell.execute_reply": "2022-06-11T12:19:07.638789Z"
    },
    "papermill": {
     "duration": 0.049499,
     "end_time": "2022-06-11T12:19:07.641007",
     "exception": false,
     "start_time": "2022-06-11T12:19:07.591508",
     "status": "completed"
    },
    "tags": []
   },
   "outputs": [],
   "source": [
    "def load_testloader(batch_size,start,end):\n",
    "\n",
    "    time_start = []\n",
    "    time_end = []\n",
    "    train_inputs =[] #x\n",
    "    train_classes = [] #y\n",
    "    \n",
    "\n",
    "    with open('../input/signdataset/sign/MSSL_Train_Set/TRAIN/MSSL_TRAIN_SET_GT.pkl', 'rb') as f:\n",
    "        data = pickle.load(f)\n",
    "\n",
    "\n",
    "# keys are files so iterate only limited files due to memory limitations.\n",
    "    for key in list(data.keys())[start:end]:\n",
    "        filename = key\n",
    "        print(\"file\",filename)\n",
    "        video = EncodedVideo.from_path(\"../input/signdataset/sign/MSSL_Train_Set/TRAIN/MSSL_TRAIN_SET_VIDEOS_ELAN/\"+filename+\".mp4\")\n",
    "    # file functions\n",
    "\n",
    "        for x in data[key]:\n",
    "            img_cls = x[0]\n",
    "            time_start.append(x[1])\n",
    "            time_end.append(x[2])\n",
    "            \n",
    "            \n",
    "            # start_time = x[1]\n",
    "            # end_time = x[2]\n",
    "            vid = lp_video(video,x[1], x[2])\n",
    "\n",
    "            for m in torch.unbind(vid, dim=3):\n",
    "                train_classes.append(img_cls)\n",
    "                train_inputs.append(m)\n",
    "\n",
    "\n",
    "            #some negative classes too\n",
    "        for i in range(0,len(time_start)//2):\n",
    "            if (time_start[i+1]- time_end[i])>1000.0:\n",
    "                start_t = time_end[i]+700.0\n",
    "                end_t = time_end[i]+780.0\n",
    "                vid = lp_video(video,start_t, end_t)\n",
    "                if vid is None:\n",
    "                    break\n",
    "                else:\n",
    "                    for m in torch.unbind(vid, dim=3):\n",
    "                        train_classes.append(60)\n",
    "                        train_inputs.append(m)\n",
    "\n",
    "            \n",
    "        \n",
    "            \n",
    "\n",
    "    signds = SignDataset(train_inputs, train_classes)\n",
    "    \n",
    "    \n",
    "\n",
    "    testloader = DataLoader(signds, batch_size=batch_size, shuffle=True, num_workers=2)\n",
    "\n",
    "    return testloader"
   ]
  },
  {
   "cell_type": "code",
   "execution_count": 5,
   "id": "962eb5ca",
   "metadata": {
    "execution": {
     "iopub.execute_input": "2022-06-11T12:19:07.715797Z",
     "iopub.status.busy": "2022-06-11T12:19:07.715584Z",
     "iopub.status.idle": "2022-06-11T12:19:07.720321Z",
     "shell.execute_reply": "2022-06-11T12:19:07.719612Z"
    },
    "papermill": {
     "duration": 0.044208,
     "end_time": "2022-06-11T12:19:07.721945",
     "exception": false,
     "start_time": "2022-06-11T12:19:07.677737",
     "status": "completed"
    },
    "tags": []
   },
   "outputs": [],
   "source": [
    "def load_vid(batch_size,start,end):\n",
    "\n",
    "\n",
    "    train_inputs =[] #x\n",
    "\n",
    "    video = EncodedVideo.from_path(\"../input/signdataset/sign/MSSL_Val_Set/VALIDATION/MSSL_VAL_SET_VIDEOS/p01_n131.mp4\")\n",
    "    # file functions\n",
    "\n",
    "    vid = lp_video(video,start, end)\n",
    "\n",
    "    for m in torch.unbind(vid, dim=3):\n",
    "        train_inputs.append(m)\n",
    "\n",
    "    \n",
    "\n",
    "    testloader = DataLoader(train_inputs, batch_size=batch_size, shuffle=True, num_workers=2)\n",
    "\n",
    "    return testloader"
   ]
  },
  {
   "cell_type": "code",
   "execution_count": 6,
   "id": "e17d8550",
   "metadata": {
    "execution": {
     "iopub.execute_input": "2022-06-11T12:19:07.796293Z",
     "iopub.status.busy": "2022-06-11T12:19:07.796104Z",
     "iopub.status.idle": "2022-06-11T12:19:07.831984Z",
     "shell.execute_reply": "2022-06-11T12:19:07.831344Z"
    },
    "papermill": {
     "duration": 0.07528,
     "end_time": "2022-06-11T12:19:07.833582",
     "exception": false,
     "start_time": "2022-06-11T12:19:07.758302",
     "status": "completed"
    },
    "tags": []
   },
   "outputs": [],
   "source": [
    "\"\"\"\n",
    "Creates a EfficientNetV2 Model as defined in:\n",
    "Mingxing Tan, Quoc V. Le. (2021). \n",
    "EfficientNetV2: Smaller Models and Faster Training\n",
    "arXiv preprint arXiv:2104.00298.\n",
    "import from https://github.com/d-li14/mobilenetv2.pytorch\n",
    "\"\"\"\n",
    "\n",
    "\n",
    "\n",
    "__all__ = ['effnetv2_s', 'effnetv2_m', 'effnetv2_l', 'effnetv2_xl']\n",
    "\n",
    "\n",
    "def _make_divisible(v, divisor, min_value=None):\n",
    "    \"\"\"\n",
    "    This function is taken from the original tf repo.\n",
    "    It ensures that all layers have a channel number that is divisible by 8\n",
    "    It can be seen here:\n",
    "    https://github.com/tensorflow/models/blob/master/research/slim/nets/mobilenet/mobilenet.py\n",
    "    :param v:\n",
    "    :param divisor:\n",
    "    :param min_value:\n",
    "    :return:\n",
    "    \"\"\"\n",
    "    if min_value is None:\n",
    "        min_value = divisor\n",
    "    new_v = max(min_value, int(v + divisor / 2) // divisor * divisor)\n",
    "    # Make sure that round down does not go down by more than 10%.\n",
    "    if new_v < 0.9 * v:\n",
    "        new_v += divisor\n",
    "    return new_v\n",
    "\n",
    "\n",
    "# SiLU (Swish) activation function\n",
    "if hasattr(nn, 'SiLU'):\n",
    "    SiLU = nn.SiLU\n",
    "else:\n",
    "    # For compatibility with old PyTorch versions\n",
    "    class SiLU(nn.Module):\n",
    "        def forward(self, x):\n",
    "            return x * torch.sigmoid(x)\n",
    "\n",
    " \n",
    "class SELayer(nn.Module):\n",
    "    def __init__(self, inp, oup, reduction=4):\n",
    "        super(SELayer, self).__init__()\n",
    "        self.avg_pool = nn.AdaptiveAvgPool2d(1)\n",
    "        self.fc = nn.Sequential(\n",
    "                nn.Linear(oup, _make_divisible(inp // reduction, 8)),\n",
    "                SiLU(),\n",
    "                nn.Linear(_make_divisible(inp // reduction, 8), oup),\n",
    "                nn.Sigmoid()\n",
    "        )\n",
    "\n",
    "    def forward(self, x):\n",
    "        b, c, _, _ = x.size()\n",
    "        y = self.avg_pool(x).view(b, c)\n",
    "        y = self.fc(y).view(b, c, 1, 1)\n",
    "        return x * y\n",
    "\n",
    "\n",
    "def conv_3x3_bn(inp, oup, stride):\n",
    "    return nn.Sequential(\n",
    "        nn.Conv2d(inp, oup, 3, stride, 1, bias=False),\n",
    "        nn.BatchNorm2d(oup),\n",
    "        SiLU()\n",
    "    )\n",
    "\n",
    "\n",
    "def conv_1x1_bn(inp, oup):\n",
    "    return nn.Sequential(\n",
    "        nn.Conv2d(inp, oup, 1, 1, 0, bias=False),\n",
    "        nn.BatchNorm2d(oup),\n",
    "        SiLU()\n",
    "    )\n",
    "\n",
    "\n",
    "class MBConv(nn.Module):\n",
    "    def __init__(self, inp, oup, stride, expand_ratio, use_se):\n",
    "        super(MBConv, self).__init__()\n",
    "        assert stride in [1, 2]\n",
    "\n",
    "        hidden_dim = round(inp * expand_ratio)\n",
    "        self.identity = stride == 1 and inp == oup\n",
    "        if use_se:\n",
    "            self.conv = nn.Sequential(\n",
    "                # pw\n",
    "                nn.Conv2d(inp, hidden_dim, 1, 1, 0, bias=False),\n",
    "                nn.BatchNorm2d(hidden_dim),\n",
    "                SiLU(),\n",
    "                # dw\n",
    "                nn.Conv2d(hidden_dim, hidden_dim, 3, stride, 1, groups=hidden_dim, bias=False),\n",
    "                nn.BatchNorm2d(hidden_dim),\n",
    "                SiLU(),\n",
    "                SELayer(inp, hidden_dim),\n",
    "                # pw-linear\n",
    "                nn.Conv2d(hidden_dim, oup, 1, 1, 0, bias=False),\n",
    "                nn.BatchNorm2d(oup),\n",
    "            )\n",
    "        else:\n",
    "            self.conv = nn.Sequential(\n",
    "                # fused\n",
    "                nn.Conv2d(inp, hidden_dim, 3, stride, 1, bias=False),\n",
    "                nn.BatchNorm2d(hidden_dim),\n",
    "                SiLU(),\n",
    "                # pw-linear\n",
    "                nn.Conv2d(hidden_dim, oup, 1, 1, 0, bias=False),\n",
    "                nn.BatchNorm2d(oup),\n",
    "            )\n",
    "\n",
    "\n",
    "    def forward(self, x):\n",
    "        if self.identity:\n",
    "            return x + self.conv(x)\n",
    "        else:\n",
    "            return self.conv(x)\n",
    "\n",
    "\n",
    "class EffNetV2(nn.Module):\n",
    "    def __init__(self, cfgs, num_classes=61, width_mult=1.):\n",
    "        super(EffNetV2, self).__init__()\n",
    "        self.cfgs = cfgs\n",
    "\n",
    "        # building first layer\n",
    "        input_channel = _make_divisible(24 * width_mult, 8)\n",
    "        layers = [conv_3x3_bn(1, input_channel, 2)]\n",
    "        # building inverted residual blocks\n",
    "        block = MBConv\n",
    "        for t, c, n, s, use_se in self.cfgs:\n",
    "            output_channel = _make_divisible(c * width_mult, 8)\n",
    "            for i in range(n):\n",
    "                layers.append(block(input_channel, output_channel, s if i == 0 else 1, t, use_se))\n",
    "                input_channel = output_channel\n",
    "        self.features = nn.Sequential(*layers)\n",
    "        # building last several layers\n",
    "        output_channel = _make_divisible(1792 * width_mult, 8) if width_mult > 1.0 else 1792\n",
    "        self.conv = conv_1x1_bn(input_channel, output_channel)\n",
    "        self.avgpool = nn.AdaptiveAvgPool2d((1, 1))\n",
    "        self.classifier = nn.Linear(output_channel, num_classes)\n",
    "\n",
    "        self._initialize_weights()\n",
    "\n",
    "    def forward(self, x):\n",
    "        x = self.features(x)\n",
    "        x = self.conv(x)\n",
    "        x = self.avgpool(x)\n",
    "        x = x.view(x.size(0), -1)\n",
    "        x = self.classifier(x)\n",
    "        return x\n",
    "\n",
    "    def _initialize_weights(self):\n",
    "        for m in self.modules():\n",
    "            if isinstance(m, nn.Conv2d):\n",
    "                n = m.kernel_size[0] * m.kernel_size[1] * m.out_channels\n",
    "                m.weight.data.normal_(0, math.sqrt(2. / n))\n",
    "                if m.bias is not None:\n",
    "                    m.bias.data.zero_()\n",
    "            elif isinstance(m, nn.BatchNorm2d):\n",
    "                m.weight.data.fill_(1)\n",
    "                m.bias.data.zero_()\n",
    "            elif isinstance(m, nn.Linear):\n",
    "                m.weight.data.normal_(0, 0.001)\n",
    "                m.bias.data.zero_()\n",
    "\n",
    "\n",
    "def effnetv2_s(**kwargs):\n",
    "    \"\"\"\n",
    "    Constructs a EfficientNetV2-S model\n",
    "    \"\"\"\n",
    "    cfgs = [\n",
    "        # t, c, n, s, SE\n",
    "        [1,  24,  2, 1, 0],\n",
    "        [4,  48,  4, 2, 0],\n",
    "        [4,  64,  4, 2, 0],\n",
    "        [4, 128,  6, 2, 1],\n",
    "        [6, 160,  9, 1, 1],\n",
    "        [6, 256, 15, 2, 1],\n",
    "    ]\n",
    "    return EffNetV2(cfgs, **kwargs)\n",
    "\n",
    "\n",
    "def effnetv2_m(**kwargs):\n",
    "    \"\"\"\n",
    "    Constructs a EfficientNetV2-M model\n",
    "    \"\"\"\n",
    "    cfgs = [\n",
    "        # t, c, n, s, SE\n",
    "        [1,  24,  3, 1, 0],\n",
    "        [4,  48,  5, 2, 0],\n",
    "        [4,  80,  5, 2, 0],\n",
    "        [4, 160,  7, 2, 1],\n",
    "        [6, 176, 14, 1, 1],\n",
    "        [6, 304, 18, 2, 1],\n",
    "        [6, 512,  5, 1, 1],\n",
    "    ]\n",
    "    return EffNetV2(cfgs, **kwargs)\n",
    "\n",
    "\n",
    "def effnetv2_l(**kwargs):\n",
    "    \"\"\"\n",
    "    Constructs a EfficientNetV2-L model\n",
    "    \"\"\"\n",
    "    cfgs = [\n",
    "        # t, c, n, s, SE\n",
    "        [1,  32,  4, 1, 0],\n",
    "        [4,  64,  7, 2, 0],\n",
    "        [4,  96,  7, 2, 0],\n",
    "        [4, 192, 10, 2, 1],\n",
    "        [6, 224, 19, 1, 1],\n",
    "        [6, 384, 25, 2, 1],\n",
    "        [6, 640,  7, 1, 1],\n",
    "    ]\n",
    "    return EffNetV2(cfgs, **kwargs)\n",
    "\n",
    "\n",
    "def effnetv2_xl(**kwargs):\n",
    "    \"\"\"\n",
    "    Constructs a EfficientNetV2-XL model\n",
    "    \"\"\"\n",
    "    cfgs = [\n",
    "        # t, c, n, s, SE\n",
    "        [1,  32,  4, 1, 0],\n",
    "        [4,  64,  8, 2, 0],\n",
    "        [4,  96,  8, 2, 0],\n",
    "        [4, 192, 16, 2, 1],\n",
    "        [6, 256, 24, 1, 1],\n",
    "        [6, 512, 32, 2, 1],\n",
    "        [6, 640,  8, 1, 1],\n",
    "    ]\n",
    "    return EffNetV2(cfgs, **kwargs)"
   ]
  },
  {
   "cell_type": "code",
   "execution_count": null,
   "id": "bb80ae81",
   "metadata": {
    "papermill": {
     "duration": 0.040601,
     "end_time": "2022-06-11T12:19:07.911573",
     "exception": false,
     "start_time": "2022-06-11T12:19:07.870972",
     "status": "completed"
    },
    "tags": []
   },
   "outputs": [],
   "source": []
  },
  {
   "cell_type": "code",
   "execution_count": 7,
   "id": "d9afa49e",
   "metadata": {
    "execution": {
     "iopub.execute_input": "2022-06-11T12:19:07.986535Z",
     "iopub.status.busy": "2022-06-11T12:19:07.986295Z",
     "iopub.status.idle": "2022-06-11T12:19:07.991413Z",
     "shell.execute_reply": "2022-06-11T12:19:07.990716Z"
    },
    "papermill": {
     "duration": 0.044876,
     "end_time": "2022-06-11T12:19:07.993020",
     "exception": false,
     "start_time": "2022-06-11T12:19:07.948144",
     "status": "completed"
    },
    "tags": []
   },
   "outputs": [],
   "source": [
    "\n",
    "def evluate(model, device, loader, mode=\"Validate\"):\n",
    "    \n",
    "    \n",
    "    model.eval()\n",
    "\n",
    "    correct = 0\n",
    "    num_samples = 0\n",
    "    \n",
    "        \n",
    "    for batch_idx, data in enumerate(loader):\n",
    "        with torch.no_grad():    \n",
    "            data = data.to(device)\n",
    "            \n",
    "\n",
    "            output = model(data.half())  \n",
    "            \n",
    "            _,pred = output.max(1)# get the index of the max log-probability\n",
    "            print(pred)\n",
    "\n"
   ]
  },
  {
   "cell_type": "code",
   "execution_count": 8,
   "id": "0dfc9d56",
   "metadata": {
    "execution": {
     "iopub.execute_input": "2022-06-11T12:19:08.069254Z",
     "iopub.status.busy": "2022-06-11T12:19:08.069037Z",
     "iopub.status.idle": "2022-06-11T12:19:08.075331Z",
     "shell.execute_reply": "2022-06-11T12:19:08.074630Z"
    },
    "papermill": {
     "duration": 0.045039,
     "end_time": "2022-06-11T12:19:08.076983",
     "exception": false,
     "start_time": "2022-06-11T12:19:08.031944",
     "status": "completed"
    },
    "tags": []
   },
   "outputs": [],
   "source": [
    "\n",
    "def test(model, device, loader, mode=\"Validate\"):\n",
    "    \n",
    "    \n",
    "    model.eval()\n",
    "\n",
    "    correct = 0\n",
    "    num_samples = 0\n",
    "    \n",
    "        \n",
    "    for batch_idx, (data, target) in enumerate(loader):\n",
    "        with torch.no_grad():    \n",
    "            data = data.to(device)\n",
    "            target = (target).to(device)\n",
    "\n",
    "            output = model(data.half())  \n",
    "            \n",
    "            _,pred = output.max(1)# get the index of the max log-probability\n",
    "            num_samples += target.size(0)\n",
    "            correct += (pred==target).sum().item()\n",
    "            #print(\"correct\", correct)\n",
    "\n",
    "    acc = 100.0 * correct / num_samples\n",
    "    \n",
    "    print('{} Accuracy: {}/{} ({:.0f}%)'.format(\n",
    "                mode,correct, num_samples,\n",
    "                100. * correct / num_samples, acc))"
   ]
  },
  {
   "cell_type": "code",
   "execution_count": 9,
   "id": "4a1e312c",
   "metadata": {
    "execution": {
     "iopub.execute_input": "2022-06-11T12:19:08.151209Z",
     "iopub.status.busy": "2022-06-11T12:19:08.150999Z",
     "iopub.status.idle": "2022-06-11T12:19:08.163363Z",
     "shell.execute_reply": "2022-06-11T12:19:08.162735Z"
    },
    "papermill": {
     "duration": 0.05159,
     "end_time": "2022-06-11T12:19:08.164997",
     "exception": false,
     "start_time": "2022-06-11T12:19:08.113407",
     "status": "completed"
    },
    "scrolled": true,
    "tags": []
   },
   "outputs": [],
   "source": [
    "\n",
    "    \n",
    "\n",
    "\n",
    "def train(model, device, train_loader,validloader,scheduler, optimizer,criterion,epochs,lr):\n",
    "    print(\"Train start\")\n",
    "    breakout = False\n",
    "    model.half()\n",
    "    model.cuda()\n",
    "\n",
    "    \n",
    "    model.train()\n",
    "\n",
    "    optimizer.param_groups[0]['lr'] = lr\n",
    "    \n",
    "    for epoch in range(epochs):\n",
    "        correct = 0\n",
    "        num_samples = 0\n",
    "        train_loss = 0\n",
    "        \n",
    "        for batch_idx, (data, target) in enumerate(train_loader):\n",
    "            \n",
    "            data = data.to(device)\n",
    "            target = target.to(device)\n",
    "\n",
    "            optimizer.zero_grad()\n",
    "            output = model(data.half())\n",
    "            \n",
    "            loss = criterion(output, target)\n",
    "            loss.backward()\n",
    "            optimizer.step()\n",
    "            \n",
    "            \n",
    "            train_loss += loss.item()\n",
    "            \n",
    "            \n",
    "            _,pred = output.max(1)# get the index of the max log-probability\n",
    "            num_samples += target.size(0)\n",
    "            correct += (pred==target).sum().item()\n",
    "            \n",
    "        if optimizer.param_groups[0]['lr'] != 1e-3:    \n",
    "            scheduler.step()\n",
    "        #print(\"lr:\",optimizer.param_groups[0]['lr'])\n",
    "        \n",
    "        \n",
    "        train_loss /= num_samples\n",
    "        \n",
    "        if (100 * correct / num_samples) >= 95:\n",
    "            \n",
    "            print('Epoch: {} , Training Accuracy: {}/{} ({:.0f}%) Training Loss: {:.6f}'.format(\n",
    "                epoch+1, correct, num_samples,100. * correct / num_samples, train_loss))\n",
    "            \n",
    "            test(model,device,validloader, mode = \"Validating\")\n",
    "#             test(model, device, testloader, mode = \"Test before Training on validation set\")\n",
    "           # model, optimizer = trainonval(model, device, validloader, optimizer, criterion, epochs)\n",
    "#             test(model, device, testloader, mode = \"Test after training on validation set\")\n",
    "            \n",
    "            \n",
    "            \n",
    "            torch.save({\n",
    "            'model_state_dict': model.state_dict(),\n",
    "            'optimizer_state_dict': optimizer.state_dict()}, \"./model_optimizer34.pt\")\n",
    "            \n",
    "            breakout = True\n",
    "            print(\"breakout\")\n",
    "            return model, optimizer\n",
    "            \n",
    "            \n",
    "            \n",
    "       \n",
    "        \n",
    "\n",
    "        print('Epoch: {} , Training Accuracy: {}/{} ({:.0f}%) Training Loss: {:.6f}'.format(\n",
    "                epoch+1, correct, num_samples,\n",
    "                100. * correct / num_samples, train_loss))\n",
    "        if (((epoch+1)%5) == 0) :\n",
    "            test(model,device,validloader)\n",
    "            model.train()\n",
    "            \n",
    "    if breakout:\n",
    "            print(\"breakout\")\n",
    "            return\n",
    "    \n",
    "    \n",
    "    \n",
    "    #model, optimizer = trainonval(model, device, validloader, optimizer, criterion, epochs)\n",
    "    test(model, device, validloader, mode= \"test set \")\n",
    "    \n",
    "    \n",
    "        \n",
    "    torch.save({\n",
    "            'model_state_dict': model.state_dict(),\n",
    "            'optimizer_state_dict': optimizer.state_dict()}, \"./model_optimizer34.pt\")\n",
    "    return model, optimizer\n",
    "    \n",
    "    \n",
    "        \n"
   ]
  },
  {
   "cell_type": "code",
   "execution_count": 10,
   "id": "c9fbf2cf",
   "metadata": {
    "execution": {
     "iopub.execute_input": "2022-06-11T12:19:08.241318Z",
     "iopub.status.busy": "2022-06-11T12:19:08.241115Z",
     "iopub.status.idle": "2022-06-11T12:19:15.646709Z",
     "shell.execute_reply": "2022-06-11T12:19:15.646001Z"
    },
    "papermill": {
     "duration": 7.444986,
     "end_time": "2022-06-11T12:19:15.648747",
     "exception": false,
     "start_time": "2022-06-11T12:19:08.203761",
     "status": "completed"
    },
    "tags": []
   },
   "outputs": [],
   "source": [
    "n_classes = 61\n",
    "\n",
    "\n",
    "model = nn.Sequential(OrderedDict([\n",
    "    ('frontend',effnetv2_m())\n",
    "]))\n",
    "\n",
    "\n",
    "\n",
    "\n",
    "\n",
    "# specify loss function (categorical cross-entropy)\n",
    "\n",
    "# specify optimizer and learning rate\n",
    "optimizer = optim.SGD(\n",
    "    [\n",
    "        \n",
    "        {\"params\": model.frontend.parameters(), \"lr\": 1e-2},\n",
    "  ],\n",
    "  momentum = 0.9\n",
    ")\n",
    "device = torch.device(\"cuda\" if torch.cuda.is_available() else \"cpu\")\n",
    "\n",
    "\n",
    "samples_per_cls = [166.0, 370.0, 63.0, 232.0, 905.0, 102.0, 537.0, 993.0, 133.0, 154.0, 286.0, 435.0, 452.0, 779.0, 354.0, 136.0, 232.0, 2154.0, 374.0, 787.0, 337.0, 268.0, 954.0, 167.0, 543.0, 324.0, 669.0, 333.0, 211.0, 433.0, 140.0, 665.0, 107.0, 305.0, 162.0, 61.0, 1229.0, 958.0, 897.0, 543.0, 625.0, 334.0, 776.0, 111.0, 412.0, 583.0, 255.0, 103.0, 108.0, 201.0, 384.0, 632.0, 13.0, 322.0, 664.0, 435.0, 194.0, 322.0, 113.0, 462.0,2000.0]\n",
    "no_of_classes=61\n",
    "beta=0.9999\n",
    "effective_num = 1.0 - np.power(beta, samples_per_cls)\n",
    "weights = (1.0 - beta) / np.array(effective_num)\n",
    "weights = weights / np.sum(weights) * no_of_classes\n",
    "    \n",
    "\n",
    "weights = torch.FloatTensor(weights).cuda()\n",
    "\n",
    "criterion = nn.CrossEntropyLoss(weight = weights.half())\n",
    "\n",
    "state = torch.load(\"../input/fmosel/model_optimizer34.pt\")\n",
    "model.load_state_dict(state['model_state_dict'])\n",
    "model.half()\n",
    "model.cuda()\n",
    "optimizer.load_state_dict(state['optimizer_state_dict'])"
   ]
  },
  {
   "cell_type": "code",
   "execution_count": 11,
   "id": "88a87ce2",
   "metadata": {
    "execution": {
     "iopub.execute_input": "2022-06-11T12:19:15.723620Z",
     "iopub.status.busy": "2022-06-11T12:19:15.723409Z",
     "iopub.status.idle": "2022-06-11T12:19:15.727106Z",
     "shell.execute_reply": "2022-06-11T12:19:15.726332Z"
    },
    "papermill": {
     "duration": 0.043142,
     "end_time": "2022-06-11T12:19:15.728903",
     "exception": false,
     "start_time": "2022-06-11T12:19:15.685761",
     "status": "completed"
    },
    "tags": []
   },
   "outputs": [],
   "source": [
    "#print('Number of model parameters: {}'.format(sum([p.data.nelement() for p in model.parameters()])))"
   ]
  },
  {
   "cell_type": "code",
   "execution_count": 12,
   "id": "e35b6f6e",
   "metadata": {
    "execution": {
     "iopub.execute_input": "2022-06-11T12:19:15.806110Z",
     "iopub.status.busy": "2022-06-11T12:19:15.805898Z",
     "iopub.status.idle": "2022-06-11T12:19:15.809212Z",
     "shell.execute_reply": "2022-06-11T12:19:15.808513Z"
    },
    "papermill": {
     "duration": 0.043643,
     "end_time": "2022-06-11T12:19:15.810880",
     "exception": false,
     "start_time": "2022-06-11T12:19:15.767237",
     "status": "completed"
    },
    "tags": []
   },
   "outputs": [],
   "source": [
    "#summary(model, (1, 512, 640), device='cpu')"
   ]
  },
  {
   "cell_type": "code",
   "execution_count": 13,
   "id": "0ffb1a53",
   "metadata": {
    "execution": {
     "iopub.execute_input": "2022-06-11T12:19:15.896013Z",
     "iopub.status.busy": "2022-06-11T12:19:15.895785Z",
     "iopub.status.idle": "2022-06-11T12:35:36.679142Z",
     "shell.execute_reply": "2022-06-11T12:35:36.677892Z"
    },
    "papermill": {
     "duration": 980.828402,
     "end_time": "2022-06-11T12:35:36.681055",
     "exception": false,
     "start_time": "2022-06-11T12:19:15.852653",
     "status": "completed"
    },
    "tags": []
   },
   "outputs": [
    {
     "name": "stdout",
     "output_type": "stream",
     "text": [
      "file p01_n002\n",
      "35\n",
      "file p06_n019\n",
      "122\n",
      "file p06_n007\n",
      "248\n",
      "file p01_n053\n",
      "422\n",
      "file p04_n074\n",
      "502\n",
      "file p05_n077\n",
      "746\n",
      "Train start\n",
      "Epoch: 1 , Training Accuracy: 719/1840 (39%) Training Loss: 0.134406\n",
      "Epoch: 2 , Training Accuracy: 1308/1840 (71%) Training Loss: 0.047060\n",
      "Epoch: 3 , Training Accuracy: 1516/1840 (82%) Training Loss: 0.026578\n",
      "Epoch: 4 , Training Accuracy: 1619/1840 (88%) Training Loss: 0.015843\n",
      "Epoch: 5 , Training Accuracy: 1665/1840 (90%) Training Loss: 0.014491\n",
      "Validate Accuracy: 403/461 (87%)\n",
      "Epoch: 6 , Training Accuracy: 1733/1840 (94%) Training Loss: 0.007759\n",
      "Epoch: 7 , Training Accuracy: 1760/1840 (96%) Training Loss: 0.006111\n",
      "Validating Accuracy: 421/461 (91%)\n",
      "breakout\n"
     ]
    }
   ],
   "source": [
    "trainloader, valloader = load_dataloaders(batch_size=16,start=0, end=6)#73 not included \n",
    "scheduler = torch.optim.lr_scheduler.StepLR(optimizer, step_size=5, gamma=0.1) \n",
    "model, optimizer = train(model,device,trainloader,valloader,scheduler,optimizer,criterion,30,1e-2)"
   ]
  },
  {
   "cell_type": "code",
   "execution_count": 14,
   "id": "e28584d1",
   "metadata": {
    "execution": {
     "iopub.execute_input": "2022-06-11T12:35:36.768327Z",
     "iopub.status.busy": "2022-06-11T12:35:36.767515Z",
     "iopub.status.idle": "2022-06-11T12:48:37.632658Z",
     "shell.execute_reply": "2022-06-11T12:48:37.631727Z"
    },
    "papermill": {
     "duration": 780.913835,
     "end_time": "2022-06-11T12:48:37.636855",
     "exception": false,
     "start_time": "2022-06-11T12:35:36.723020",
     "status": "completed"
    },
    "tags": []
   },
   "outputs": [
    {
     "name": "stdout",
     "output_type": "stream",
     "text": [
      "file p05_n027\n",
      "786\n",
      "file p05_n022\n",
      "880\n",
      "file p01_n110\n",
      "962\n",
      "file p06_n036\n",
      "1047\n",
      "file p01_n069\n",
      "1141\n",
      "file p06_n109\n",
      "1223\n",
      "Train start\n",
      "Epoch: 1 , Training Accuracy: 619/1677 (37%) Training Loss: 0.143640\n",
      "Epoch: 2 , Training Accuracy: 1155/1677 (69%) Training Loss: 0.040137\n",
      "Epoch: 3 , Training Accuracy: 1412/1677 (84%) Training Loss: 0.017420\n",
      "Epoch: 4 , Training Accuracy: 1482/1677 (88%) Training Loss: 0.012525\n",
      "Epoch: 5 , Training Accuracy: 1569/1677 (94%) Training Loss: 0.007255\n",
      "Validate Accuracy: 365/420 (87%)\n",
      "Epoch: 6 , Training Accuracy: 1612/1677 (96%) Training Loss: 0.005220\n",
      "Validating Accuracy: 380/420 (90%)\n",
      "breakout\n"
     ]
    }
   ],
   "source": [
    "trainloader, valloader = load_dataloaders(batch_size=16,start=6, end=12)#73 not included \n",
    "scheduler = torch.optim.lr_scheduler.StepLR(optimizer, step_size=5, gamma=0.1) \n",
    "model, optimizer = train(model,device,trainloader,valloader,scheduler,optimizer,criterion,30,1e-2)"
   ]
  },
  {
   "cell_type": "code",
   "execution_count": 15,
   "id": "82e56d63",
   "metadata": {
    "execution": {
     "iopub.execute_input": "2022-06-11T12:48:37.753860Z",
     "iopub.status.busy": "2022-06-11T12:48:37.753577Z",
     "iopub.status.idle": "2022-06-11T12:57:53.884879Z",
     "shell.execute_reply": "2022-06-11T12:57:53.884106Z"
    },
    "papermill": {
     "duration": 556.188728,
     "end_time": "2022-06-11T12:57:53.887184",
     "exception": false,
     "start_time": "2022-06-11T12:48:37.698456",
     "status": "completed"
    },
    "tags": []
   },
   "outputs": [
    {
     "name": "stdout",
     "output_type": "stream",
     "text": [
      "file p04_n089\n",
      "1280\n",
      "file p01_n044\n",
      "1301\n",
      "file p05_n037\n",
      "1301\n",
      "file p04_n038\n",
      "1301\n",
      "file p06_n055\n",
      "1301\n",
      "file p01_n099\n",
      "1301\n",
      "Train start\n",
      "Epoch: 1 , Training Accuracy: 726/1331 (55%) Training Loss: 0.115861\n",
      "Epoch: 2 , Training Accuracy: 1050/1331 (79%) Training Loss: 0.035707\n",
      "Epoch: 3 , Training Accuracy: 1177/1331 (88%) Training Loss: 0.022559\n",
      "Epoch: 4 , Training Accuracy: 1246/1331 (94%) Training Loss: 0.008467\n",
      "Epoch: 5 , Training Accuracy: 1299/1331 (98%) Training Loss: 0.004915\n",
      "Validating Accuracy: 306/333 (92%)\n",
      "breakout\n"
     ]
    }
   ],
   "source": [
    "trainloader, valloader = load_dataloaders(batch_size=16,start=12, end=18)#73 not included \n",
    "scheduler = torch.optim.lr_scheduler.StepLR(optimizer, step_size=5, gamma=0.1) \n",
    "model, optimizer = train(model,device,trainloader,valloader,scheduler,optimizer,criterion,30,1e-2)"
   ]
  },
  {
   "cell_type": "code",
   "execution_count": 16,
   "id": "fdcb3a6d",
   "metadata": {
    "execution": {
     "iopub.execute_input": "2022-06-11T12:57:53.995574Z",
     "iopub.status.busy": "2022-06-11T12:57:53.995301Z",
     "iopub.status.idle": "2022-06-11T13:03:14.163359Z",
     "shell.execute_reply": "2022-06-11T13:03:14.162413Z"
    },
    "papermill": {
     "duration": 320.224205,
     "end_time": "2022-06-11T13:03:14.165999",
     "exception": false,
     "start_time": "2022-06-11T12:57:53.941794",
     "status": "completed"
    },
    "tags": []
   },
   "outputs": [
    {
     "name": "stdout",
     "output_type": "stream",
     "text": [
      "file p02_n066\n",
      "1301\n",
      "file p04_n035\n",
      "1301\n",
      "file p01_n057\n",
      "1301\n",
      "file p01_n105\n",
      "1301\n",
      "file p04_n058\n",
      "1301\n",
      "file p05_n043\n",
      "1301\n",
      "Train start\n",
      "Epoch: 1 , Training Accuracy: 591/1017 (58%) Training Loss: 0.112199\n",
      "Epoch: 2 , Training Accuracy: 933/1017 (92%) Training Loss: 0.015662\n",
      "Epoch: 3 , Training Accuracy: 983/1017 (97%) Training Loss: 0.007398\n",
      "Validating Accuracy: 251/255 (98%)\n",
      "breakout\n"
     ]
    }
   ],
   "source": [
    "trainloader, valloader = load_dataloaders(batch_size=16,start=18, end=24)#73 not included \n",
    "scheduler = torch.optim.lr_scheduler.StepLR(optimizer, step_size=5, gamma=0.1) \n",
    "model, optimizer = train(model,device,trainloader,valloader,scheduler,optimizer,criterion,30,1e-2)"
   ]
  },
  {
   "cell_type": "code",
   "execution_count": 17,
   "id": "c1c2a595",
   "metadata": {
    "execution": {
     "iopub.execute_input": "2022-06-11T13:03:14.284207Z",
     "iopub.status.busy": "2022-06-11T13:03:14.283901Z",
     "iopub.status.idle": "2022-06-11T13:20:20.826765Z",
     "shell.execute_reply": "2022-06-11T13:20:20.825774Z"
    },
    "papermill": {
     "duration": 1026.60643,
     "end_time": "2022-06-11T13:20:20.828904",
     "exception": false,
     "start_time": "2022-06-11T13:03:14.222474",
     "status": "completed"
    },
    "tags": []
   },
   "outputs": [
    {
     "name": "stdout",
     "output_type": "stream",
     "text": [
      "file p06_n020\n",
      "1301\n",
      "file p02_n001\n",
      "1301\n",
      "file p04_n032\n",
      "1301\n",
      "file p05_n084\n",
      "1301\n",
      "file p01_n102\n",
      "1301\n",
      "file p06_n096\n",
      "1301\n",
      "Train start\n",
      "Epoch: 1 , Training Accuracy: 330/1236 (27%) Training Loss: 0.232928\n",
      "Epoch: 2 , Training Accuracy: 695/1236 (56%) Training Loss: 0.096336\n",
      "Epoch: 3 , Training Accuracy: 872/1236 (71%) Training Loss: 0.064310\n",
      "Epoch: 4 , Training Accuracy: 949/1236 (77%) Training Loss: 0.048376\n",
      "Epoch: 5 , Training Accuracy: 1041/1236 (84%) Training Loss: 0.036695\n",
      "Validate Accuracy: 267/309 (86%)\n",
      "Epoch: 6 , Training Accuracy: 1064/1236 (86%) Training Loss: 0.029889\n",
      "Epoch: 7 , Training Accuracy: 1103/1236 (89%) Training Loss: 0.024797\n",
      "Epoch: 8 , Training Accuracy: 1118/1236 (90%) Training Loss: 0.021729\n",
      "Epoch: 9 , Training Accuracy: 1145/1236 (93%) Training Loss: 0.018516\n",
      "Epoch: 10 , Training Accuracy: 1169/1236 (95%) Training Loss: 0.015621\n",
      "Validate Accuracy: 285/309 (92%)\n",
      "Epoch: 11 , Training Accuracy: 1163/1236 (94%) Training Loss: 0.013800\n",
      "Epoch: 12 , Training Accuracy: 1188/1236 (96%) Training Loss: 0.012147\n",
      "Validating Accuracy: 288/309 (93%)\n",
      "breakout\n"
     ]
    }
   ],
   "source": [
    "trainloader, valloader = load_dataloaders(batch_size=16,start=24, end=30)#73 not included \n",
    "scheduler = torch.optim.lr_scheduler.StepLR(optimizer, step_size=5, gamma=0.1) \n",
    "model, optimizer = train(model,device,trainloader,valloader,scheduler,optimizer,criterion,30,1e-3)"
   ]
  },
  {
   "cell_type": "code",
   "execution_count": 18,
   "id": "75c79706",
   "metadata": {
    "execution": {
     "iopub.execute_input": "2022-06-11T13:20:20.958611Z",
     "iopub.status.busy": "2022-06-11T13:20:20.956853Z",
     "iopub.status.idle": "2022-06-11T13:29:34.154049Z",
     "shell.execute_reply": "2022-06-11T13:29:34.152855Z"
    },
    "papermill": {
     "duration": 553.263953,
     "end_time": "2022-06-11T13:29:34.156540",
     "exception": false,
     "start_time": "2022-06-11T13:20:20.892587",
     "status": "completed"
    },
    "tags": []
   },
   "outputs": [
    {
     "name": "stdout",
     "output_type": "stream",
     "text": [
      "file p02_n104\n",
      "1301\n",
      "file p01_n090\n",
      "1301\n",
      "file p01_n040\n",
      "1301\n",
      "file p04_n073\n",
      "1301\n",
      "file p01_n067\n",
      "1301\n",
      "file p05_n004\n",
      "1301\n",
      "Train start\n",
      "Epoch: 1 , Training Accuracy: 499/1156 (43%) Training Loss: 0.152251\n",
      "Epoch: 2 , Training Accuracy: 864/1156 (75%) Training Loss: 0.056329\n",
      "Epoch: 3 , Training Accuracy: 996/1156 (86%) Training Loss: 0.033952\n",
      "Epoch: 4 , Training Accuracy: 1046/1156 (90%) Training Loss: 0.024560\n",
      "Epoch: 5 , Training Accuracy: 1068/1156 (92%) Training Loss: 0.018389\n",
      "Validate Accuracy: 268/290 (92%)\n",
      "Epoch: 6 , Training Accuracy: 1099/1156 (95%) Training Loss: 0.013454\n",
      "Validating Accuracy: 269/290 (93%)\n",
      "breakout\n"
     ]
    }
   ],
   "source": [
    "trainloader, valloader = load_dataloaders(batch_size=16,start=30, end=36)#73 not included \n",
    "scheduler = torch.optim.lr_scheduler.StepLR(optimizer, step_size=2, gamma=0.1) \n",
    "model, optimizer = train(model,device,trainloader,valloader,scheduler,optimizer,criterion,30,1e-3)"
   ]
  },
  {
   "cell_type": "code",
   "execution_count": 19,
   "id": "b978fe96",
   "metadata": {
    "execution": {
     "iopub.execute_input": "2022-06-11T13:29:34.293168Z",
     "iopub.status.busy": "2022-06-11T13:29:34.292906Z",
     "iopub.status.idle": "2022-06-11T13:36:55.147292Z",
     "shell.execute_reply": "2022-06-11T13:36:55.146396Z"
    },
    "papermill": {
     "duration": 440.924475,
     "end_time": "2022-06-11T13:36:55.149327",
     "exception": false,
     "start_time": "2022-06-11T13:29:34.224852",
     "status": "completed"
    },
    "tags": []
   },
   "outputs": [
    {
     "name": "stdout",
     "output_type": "stream",
     "text": [
      "file p06_n061\n",
      "1301\n",
      "file p05_n092\n",
      "1301\n",
      "file p06_n015\n",
      "1301\n",
      "file p04_n106\n",
      "1301\n",
      "file p05_n095\n",
      "1301\n",
      "file p02_n072\n",
      "1301\n",
      "Train start\n",
      "Epoch: 1 , Training Accuracy: 809/1322 (61%) Training Loss: 0.097048\n",
      "Epoch: 2 , Training Accuracy: 1151/1322 (87%) Training Loss: 0.028669\n",
      "Epoch: 3 , Training Accuracy: 1236/1322 (93%) Training Loss: 0.016512\n",
      "Epoch: 4 , Training Accuracy: 1256/1322 (95%) Training Loss: 0.012194\n",
      "Validating Accuracy: 315/331 (95%)\n",
      "breakout\n"
     ]
    }
   ],
   "source": [
    "trainloader, valloader = load_dataloaders(batch_size=16,start=36, end=42)#73 not included \n",
    "scheduler = torch.optim.lr_scheduler.StepLR(optimizer, step_size=5, gamma=0.1) \n",
    "model, optimizer = train(model,device,trainloader,valloader,scheduler,optimizer,criterion,30,1e-3)"
   ]
  },
  {
   "cell_type": "code",
   "execution_count": 20,
   "id": "2b60b77d",
   "metadata": {
    "execution": {
     "iopub.execute_input": "2022-06-11T13:36:55.295457Z",
     "iopub.status.busy": "2022-06-11T13:36:55.295208Z",
     "iopub.status.idle": "2022-06-11T13:43:52.645153Z",
     "shell.execute_reply": "2022-06-11T13:43:52.644019Z"
    },
    "papermill": {
     "duration": 417.426894,
     "end_time": "2022-06-11T13:43:52.647913",
     "exception": false,
     "start_time": "2022-06-11T13:36:55.221019",
     "status": "completed"
    },
    "tags": []
   },
   "outputs": [
    {
     "name": "stdout",
     "output_type": "stream",
     "text": [
      "file p05_n031\n",
      "1301\n",
      "file p01_n060\n",
      "1301\n",
      "file p05_n048\n",
      "1301\n",
      "file p05_n029\n",
      "1301\n",
      "file p01_n000\n",
      "1301\n",
      "file p01_n050\n",
      "1301\n",
      "Train start\n",
      "Epoch: 1 , Training Accuracy: 609/1117 (55%) Training Loss: 0.129732\n",
      "Epoch: 2 , Training Accuracy: 961/1117 (86%) Training Loss: 0.026497\n",
      "Epoch: 3 , Training Accuracy: 1028/1117 (92%) Training Loss: 0.015863\n",
      "Epoch: 4 , Training Accuracy: 1074/1117 (96%) Training Loss: 0.010852\n",
      "Validating Accuracy: 265/280 (95%)\n",
      "breakout\n"
     ]
    }
   ],
   "source": [
    "trainloader, valloader = load_dataloaders(batch_size=16,start=42, end=48)#73 not included \n",
    "scheduler = torch.optim.lr_scheduler.StepLR(optimizer, step_size=2, gamma=0.1) \n",
    "model, optimizer = train(model,device,trainloader,valloader,scheduler,optimizer,criterion,30,1e-3)"
   ]
  },
  {
   "cell_type": "code",
   "execution_count": 21,
   "id": "40b3dfe8",
   "metadata": {
    "execution": {
     "iopub.execute_input": "2022-06-11T13:43:53.507511Z",
     "iopub.status.busy": "2022-06-11T13:43:53.507198Z",
     "iopub.status.idle": "2022-06-11T13:50:00.422130Z",
     "shell.execute_reply": "2022-06-11T13:50:00.420470Z"
    },
    "papermill": {
     "duration": 367.700207,
     "end_time": "2022-06-11T13:50:00.424548",
     "exception": false,
     "start_time": "2022-06-11T13:43:52.724341",
     "status": "completed"
    },
    "tags": []
   },
   "outputs": [
    {
     "name": "stdout",
     "output_type": "stream",
     "text": [
      "file p05_n025\n",
      "1301\n",
      "file p04_n011\n",
      "1301\n",
      "file p01_n023\n",
      "1301\n",
      "file p01_n042\n",
      "1301\n",
      "file p01_n111\n",
      "1301\n",
      "file p05_n083\n",
      "1301\n",
      "Train start\n",
      "Epoch: 1 , Training Accuracy: 721/1096 (66%) Training Loss: 0.089608\n",
      "Epoch: 2 , Training Accuracy: 997/1096 (91%) Training Loss: 0.021502\n",
      "Epoch: 3 , Training Accuracy: 1036/1096 (95%) Training Loss: 0.013227\n",
      "Epoch: 4 , Training Accuracy: 1071/1096 (98%) Training Loss: 0.008386\n",
      "Validating Accuracy: 262/275 (95%)\n",
      "breakout\n"
     ]
    }
   ],
   "source": [
    "trainloader, valloader = load_dataloaders(batch_size=16,start=48, end=54)#73 not included \n",
    "scheduler = torch.optim.lr_scheduler.StepLR(optimizer, step_size=2, gamma=0.1) \n",
    "model, optimizer = train(model,device,trainloader,valloader,scheduler,optimizer,criterion,30,1e-3)"
   ]
  },
  {
   "cell_type": "code",
   "execution_count": 22,
   "id": "af36cfdc",
   "metadata": {
    "execution": {
     "iopub.execute_input": "2022-06-11T13:50:00.590841Z",
     "iopub.status.busy": "2022-06-11T13:50:00.590341Z",
     "iopub.status.idle": "2022-06-11T13:53:43.970419Z",
     "shell.execute_reply": "2022-06-11T13:53:43.969552Z"
    },
    "papermill": {
     "duration": 223.467354,
     "end_time": "2022-06-11T13:53:43.972862",
     "exception": false,
     "start_time": "2022-06-11T13:50:00.505508",
     "status": "completed"
    },
    "tags": []
   },
   "outputs": [
    {
     "name": "stdout",
     "output_type": "stream",
     "text": [
      "file p05_n094\n",
      "1301\n",
      "file p04_n103\n",
      "1301\n",
      "file p01_n093\n",
      "1301\n",
      "file p04_n003\n",
      "1301\n",
      "file p05_n078\n",
      "1301\n",
      "file p01_n052\n",
      "1301\n",
      "Train start\n",
      "Epoch: 1 , Training Accuracy: 460/728 (63%) Training Loss: 0.091438\n",
      "Epoch: 2 , Training Accuracy: 658/728 (90%) Training Loss: 0.016368\n",
      "Epoch: 3 , Training Accuracy: 701/728 (96%) Training Loss: 0.008233\n",
      "Validating Accuracy: 171/182 (94%)\n",
      "breakout\n"
     ]
    }
   ],
   "source": [
    "trainloader, valloader = load_dataloaders(batch_size=16,start=54, end=60)#73 not included \n",
    "scheduler = torch.optim.lr_scheduler.StepLR(optimizer, step_size=2, gamma=0.1) \n",
    "model, optimizer = train(model,device,trainloader,valloader,scheduler,optimizer,criterion,30,1e-3)"
   ]
  },
  {
   "cell_type": "code",
   "execution_count": 23,
   "id": "a3079abe",
   "metadata": {
    "execution": {
     "iopub.execute_input": "2022-06-11T13:53:44.209789Z",
     "iopub.status.busy": "2022-06-11T13:53:44.209526Z",
     "iopub.status.idle": "2022-06-11T13:55:06.357722Z",
     "shell.execute_reply": "2022-06-11T13:55:06.356768Z"
    },
    "papermill": {
     "duration": 82.409887,
     "end_time": "2022-06-11T13:55:06.521849",
     "exception": false,
     "start_time": "2022-06-11T13:53:44.111962",
     "status": "completed"
    },
    "tags": []
   },
   "outputs": [
    {
     "name": "stdout",
     "output_type": "stream",
     "text": [
      "file p06_n054\n",
      "file p05_n047\n",
      "file p06_n021\n",
      "file p01_n081\n",
      "Validate Accuracy: 240/1157 (21%)\n"
     ]
    }
   ],
   "source": [
    "trainloader = load_testloader(batch_size=16,start=108, end=112)#73 not included \n",
    "test(model,device,trainloader)"
   ]
  },
  {
   "cell_type": "markdown",
   "id": "dd97990c",
   "metadata": {
    "papermill": {
     "duration": 0.145185,
     "end_time": "2022-06-11T13:55:06.806830",
     "exception": false,
     "start_time": "2022-06-11T13:55:06.661645",
     "status": "completed"
    },
    "tags": []
   },
   "source": []
  },
  {
   "cell_type": "code",
   "execution_count": 24,
   "id": "166a0c6c",
   "metadata": {
    "execution": {
     "iopub.execute_input": "2022-06-11T13:55:07.009607Z",
     "iopub.status.busy": "2022-06-11T13:55:07.008904Z",
     "iopub.status.idle": "2022-06-11T13:55:11.204337Z",
     "shell.execute_reply": "2022-06-11T13:55:11.202922Z"
    },
    "papermill": {
     "duration": 4.284142,
     "end_time": "2022-06-11T13:55:11.206666",
     "exception": false,
     "start_time": "2022-06-11T13:55:06.922524",
     "status": "completed"
    },
    "tags": []
   },
   "outputs": [
    {
     "name": "stdout",
     "output_type": "stream",
     "text": [
      "tensor([12, 25, 25, 25, 12, 25, 25, 25, 12, 25, 25, 25, 12, 12, 25, 12],\n",
      "       device='cuda:0')\n",
      "tensor([25, 12, 12, 25, 10, 25, 25, 25, 12, 12, 25, 12, 25, 25,  1, 25],\n",
      "       device='cuda:0')\n",
      "tensor([25, 25, 25, 12, 25, 25, 25, 12, 25, 25, 12, 25, 25, 25, 25, 25],\n",
      "       device='cuda:0')\n",
      "tensor([12, 25], device='cuda:0')\n"
     ]
    }
   ],
   "source": [
    "trainloader= load_vid(batch_size=16,start=1000, end=3000)#73 not included \n",
    "evluate(model,device,trainloader)"
   ]
  },
  {
   "cell_type": "code",
   "execution_count": null,
   "id": "c309dd6c",
   "metadata": {
    "papermill": {
     "duration": 0.086081,
     "end_time": "2022-06-11T13:55:11.378978",
     "exception": false,
     "start_time": "2022-06-11T13:55:11.292897",
     "status": "completed"
    },
    "tags": []
   },
   "outputs": [],
   "source": []
  },
  {
   "cell_type": "code",
   "execution_count": null,
   "id": "338c5477",
   "metadata": {
    "execution": {
     "iopub.execute_input": "2022-06-11T05:14:57.294674Z",
     "iopub.status.busy": "2022-06-11T05:14:57.294393Z",
     "iopub.status.idle": "2022-06-11T05:21:50.529745Z",
     "shell.execute_reply": "2022-06-11T05:21:50.528621Z",
     "shell.execute_reply.started": "2022-06-11T05:14:57.294643Z"
    },
    "papermill": {
     "duration": 0.085265,
     "end_time": "2022-06-11T13:55:11.549950",
     "exception": false,
     "start_time": "2022-06-11T13:55:11.464685",
     "status": "completed"
    },
    "tags": []
   },
   "outputs": [],
   "source": []
  }
 ],
 "metadata": {
  "kernelspec": {
   "display_name": "Python 3",
   "language": "python",
   "name": "python3"
  },
  "language_info": {
   "codemirror_mode": {
    "name": "ipython",
    "version": 3
   },
   "file_extension": ".py",
   "mimetype": "text/x-python",
   "name": "python",
   "nbconvert_exporter": "python",
   "pygments_lexer": "ipython3",
   "version": "3.7.12"
  },
  "papermill": {
   "default_parameters": {},
   "duration": 5803.83184,
   "end_time": "2022-06-11T13:55:14.465923",
   "environment_variables": {},
   "exception": null,
   "input_path": "__notebook__.ipynb",
   "output_path": "__notebook__.ipynb",
   "parameters": {},
   "start_time": "2022-06-11T12:18:30.634083",
   "version": "2.3.4"
  }
 },
 "nbformat": 4,
 "nbformat_minor": 5
}
