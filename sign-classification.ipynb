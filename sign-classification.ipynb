{
 "cells": [
  {
   "cell_type": "code",
   "execution_count": 1,
   "id": "571fa9ea",
   "metadata": {
    "execution": {
     "iopub.execute_input": "2022-06-18T11:21:17.483167Z",
     "iopub.status.busy": "2022-06-18T11:21:17.482571Z",
     "iopub.status.idle": "2022-06-18T11:21:51.824662Z",
     "shell.execute_reply": "2022-06-18T11:21:51.823535Z"
    },
    "papermill": {
     "duration": 34.401137,
     "end_time": "2022-06-18T11:21:51.827427",
     "exception": false,
     "start_time": "2022-06-18T11:21:17.426290",
     "status": "completed"
    },
    "tags": []
   },
   "outputs": [
    {
     "name": "stdout",
     "output_type": "stream",
     "text": [
      "Collecting pytorchvideo\r\n",
      "  Downloading pytorchvideo-0.1.5.tar.gz (132 kB)\r\n",
      "\u001b[2K     \u001b[90m━━━━━━━━━━━━━━━━━━━━━━━━━━━━━━━━━━━━━\u001b[0m \u001b[32m132.7/132.7 KB\u001b[0m \u001b[31m680.6 kB/s\u001b[0m eta \u001b[36m0:00:00\u001b[0m\r\n",
      "\u001b[?25h  Preparing metadata (setup.py) ... \u001b[?25l-\b \bdone\r\n",
      "\u001b[?25hCollecting fvcore\r\n",
      "  Downloading fvcore-0.1.5.post20220512.tar.gz (50 kB)\r\n",
      "\u001b[2K     \u001b[90m━━━━━━━━━━━━━━━━━━━━━━━━━━━━━━━━━━━━━━━━\u001b[0m \u001b[32m50.1/50.1 KB\u001b[0m \u001b[31m2.5 MB/s\u001b[0m eta \u001b[36m0:00:00\u001b[0m\r\n",
      "\u001b[?25h  Preparing metadata (setup.py) ... \u001b[?25l-\b \bdone\r\n",
      "\u001b[?25hCollecting av\r\n",
      "  Downloading av-9.2.0-cp37-cp37m-manylinux_2_17_x86_64.manylinux2014_x86_64.whl (28.2 MB)\r\n",
      "\u001b[2K     \u001b[90m━━━━━━━━━━━━━━━━━━━━━━━━━━━━━━━━━━━━━━━━\u001b[0m \u001b[32m28.2/28.2 MB\u001b[0m \u001b[31m21.4 MB/s\u001b[0m eta \u001b[36m0:00:00\u001b[0m\r\n",
      "\u001b[?25hCollecting parameterized\r\n",
      "  Downloading parameterized-0.8.1-py2.py3-none-any.whl (26 kB)\r\n",
      "Collecting iopath\r\n",
      "  Downloading iopath-0.1.9-py3-none-any.whl (27 kB)\r\n",
      "Requirement already satisfied: networkx in /opt/conda/lib/python3.7/site-packages (from pytorchvideo) (2.5)\r\n",
      "Requirement already satisfied: numpy in /opt/conda/lib/python3.7/site-packages (from fvcore->pytorchvideo) (1.21.6)\r\n",
      "Requirement already satisfied: yacs>=0.1.6 in /opt/conda/lib/python3.7/site-packages (from fvcore->pytorchvideo) (0.1.8)\r\n",
      "Requirement already satisfied: pyyaml>=5.1 in /opt/conda/lib/python3.7/site-packages (from fvcore->pytorchvideo) (6.0)\r\n",
      "Requirement already satisfied: tqdm in /opt/conda/lib/python3.7/site-packages (from fvcore->pytorchvideo) (4.63.0)\r\n",
      "Requirement already satisfied: termcolor>=1.1 in /opt/conda/lib/python3.7/site-packages (from fvcore->pytorchvideo) (1.1.0)\r\n",
      "Requirement already satisfied: Pillow in /opt/conda/lib/python3.7/site-packages (from fvcore->pytorchvideo) (9.0.1)\r\n",
      "Requirement already satisfied: tabulate in /opt/conda/lib/python3.7/site-packages (from fvcore->pytorchvideo) (0.8.9)\r\n",
      "Requirement already satisfied: portalocker in /opt/conda/lib/python3.7/site-packages (from iopath->pytorchvideo) (2.4.0)\r\n",
      "Requirement already satisfied: decorator>=4.3.0 in /opt/conda/lib/python3.7/site-packages (from networkx->pytorchvideo) (5.1.1)\r\n",
      "Building wheels for collected packages: pytorchvideo, fvcore\r\n",
      "  Building wheel for pytorchvideo (setup.py) ... \u001b[?25l-\b \b\\\b \b|\b \bdone\r\n",
      "\u001b[?25h  Created wheel for pytorchvideo: filename=pytorchvideo-0.1.5-py3-none-any.whl size=188714 sha256=9a70793dc5cbd60bcd09813800a911b325b43f7d73dc2c827ae725e94a50da0c\r\n",
      "  Stored in directory: /root/.cache/pip/wheels/e8/51/05/053b29bac2400cbbae2fb7cfc41afd280d627bca7c9363ca80\r\n",
      "  Building wheel for fvcore (setup.py) ... \u001b[?25l-\b \b\\\b \bdone\r\n",
      "\u001b[?25h  Created wheel for fvcore: filename=fvcore-0.1.5.post20220512-py3-none-any.whl size=61288 sha256=cd91648dd02c291ba6839a946fc36a1db6d8d651fad7cc5f3cdde42668a5654d\r\n",
      "  Stored in directory: /root/.cache/pip/wheels/68/20/f9/a11a0dd63f4c13678b2a5ec488e48078756505c7777b75b29e\r\n",
      "Successfully built pytorchvideo fvcore\r\n",
      "Installing collected packages: parameterized, av, iopath, fvcore, pytorchvideo\r\n",
      "Successfully installed av-9.2.0 fvcore-0.1.5.post20220512 iopath-0.1.9 parameterized-0.8.1 pytorchvideo-0.1.5\r\n",
      "\u001b[33mWARNING: Running pip as the 'root' user can result in broken permissions and conflicting behaviour with the system package manager. It is recommended to use a virtual environment instead: https://pip.pypa.io/warnings/venv\u001b[0m\u001b[33m\r\n",
      "\u001b[0mCollecting torchsummary\r\n",
      "  Downloading torchsummary-1.5.1-py3-none-any.whl (2.8 kB)\r\n",
      "Installing collected packages: torchsummary\r\n",
      "Successfully installed torchsummary-1.5.1\r\n",
      "\u001b[33mWARNING: Running pip as the 'root' user can result in broken permissions and conflicting behaviour with the system package manager. It is recommended to use a virtual environment instead: https://pip.pypa.io/warnings/venv\u001b[0m\u001b[33m\r\n",
      "\u001b[0m"
     ]
    }
   ],
   "source": [
    "!pip install pytorchvideo\n",
    "!pip install torchsummary"
   ]
  },
  {
   "cell_type": "code",
   "execution_count": 2,
   "id": "f6b9c6a3",
   "metadata": {
    "_cell_guid": "b1076dfc-b9ad-4769-8c92-a6c4dae69d19",
    "_uuid": "8f2839f25d086af736a60e9eeb907d3b93b6e0e5",
    "execution": {
     "iopub.execute_input": "2022-06-18T11:21:51.938800Z",
     "iopub.status.busy": "2022-06-18T11:21:51.938452Z",
     "iopub.status.idle": "2022-06-18T11:21:54.437026Z",
     "shell.execute_reply": "2022-06-18T11:21:54.436016Z"
    },
    "papermill": {
     "duration": 2.557761,
     "end_time": "2022-06-18T11:21:54.439934",
     "exception": false,
     "start_time": "2022-06-18T11:21:51.882173",
     "status": "completed"
    },
    "tags": []
   },
   "outputs": [],
   "source": [
    "import torch\n",
    "import numpy as np\n",
    "from torch.utils.data import (\n",
    "    Dataset,\n",
    "    DataLoader,\n",
    ") \n",
    "import pickle\n",
    "\n",
    "\n",
    "import os\n",
    "\n",
    "import math\n",
    "import torch.nn as nn\n",
    "import torch.nn.functional as F\n",
    "\n",
    "from torchvision.transforms import Compose, Lambda, Grayscale,Normalize, CenterCrop,Resize\n",
    "#from torchvision.transforms._transforms_video import CenterCropVideo\n",
    "from pytorchvideo.data.encoded_video import EncodedVideo\n",
    "from pytorchvideo.transforms import (\n",
    "    ApplyTransformToKey,\n",
    "    UniformTemporalSubsample,\n",
    ")\n",
    "\n",
    "from tqdm import tqdm\n",
    "\n",
    "from collections import OrderedDict\n",
    "\n",
    "import torch.optim as optim\n",
    "\n",
    "from torch.autograd import Variable\n",
    "\n",
    "\n",
    "import torchvision.models as models\n",
    "\n",
    "import sys\n",
    "from torchsummary import summary\n",
    "\n",
    "\n",
    "\n",
    "\n",
    "\n",
    "\n",
    "class SignDataset(Dataset):\n",
    "    def __init__(self,x,y):\n",
    "        self.x = x\n",
    "        self.y = y\n",
    "\n",
    "\n",
    "    def __len__(self):\n",
    "\n",
    "        return len(self.y)\n",
    "\n",
    "        # length = 0\n",
    "        # with open(self.file, 'rb') as f:\n",
    "        #     data = pickle.load(f)\n",
    "\n",
    "        # for x in data:\n",
    "        #     length += len(data[x])\n",
    "        # return length\n",
    "\n",
    "\n",
    "    def __getitem__(self, index):\n",
    "        return self.x[index], self.y[index]\n",
    "        "
   ]
  },
  {
   "cell_type": "code",
   "execution_count": 3,
   "id": "5b44ea0d",
   "metadata": {
    "execution": {
     "iopub.execute_input": "2022-06-18T11:21:54.554976Z",
     "iopub.status.busy": "2022-06-18T11:21:54.554430Z",
     "iopub.status.idle": "2022-06-18T11:21:54.574544Z",
     "shell.execute_reply": "2022-06-18T11:21:54.573620Z"
    },
    "papermill": {
     "duration": 0.079183,
     "end_time": "2022-06-18T11:21:54.576839",
     "exception": false,
     "start_time": "2022-06-18T11:21:54.497656",
     "status": "completed"
    },
    "tags": []
   },
   "outputs": [],
   "source": [
    "IMAGE_HEIGHT = 720\n",
    "IMAGE_WIDTH = 800\n",
    "IMAGE_CHANNEL = 1\n",
    "NUM_FRAMES = 25\n",
    "NUM_CLASSES = 60\n",
    "\n",
    "\n",
    "\n",
    "\n",
    "\n",
    "\n",
    "\n",
    "def transform_data(x):\n",
    "    \n",
    "    transform =  ApplyTransformToKey(\n",
    "        key=\"video\",\n",
    "        transform=Compose(\n",
    "            [\n",
    "                Lambda(lambda x: x/255.0),\n",
    "                Normalize(([0.2933, 0.4799, 0.6723]), ([0.1576, 0.1674, 0.2477])),\n",
    "                Grayscale(num_output_channels=1),\n",
    "                CenterCrop([720,900]),\n",
    "                Resize([512,512]),\n",
    "                Lambda(lambda x: x.permute(1,2,3,0)),#(channel, frames(depth), height, width)\n",
    "#                 Lambda(lambda x: print(x.shape))\n",
    "\n",
    "            ]\n",
    "\n",
    "        ),\n",
    "    )\n",
    "    \n",
    "    return transform(x)\n",
    "\n",
    "def lp_video(video,start_time, end_time):\n",
    "    global means,stds\n",
    "    global nst\n",
    "    \n",
    "    video_data = video.get_clip(start_sec=float(start_time)/1000.0, end_sec=float(end_time)/1000.0)\n",
    "            #print(video_data[\"video\"].shape)\n",
    " \n",
    "    if video_data[\"video\"] is None:\n",
    "        return None        # or pass\n",
    "    else:\n",
    "    \n",
    "        #video_data[\"video\"] = Grayscale(num_output_channels=1)((video_data[\"video\"]).permute(1,0,2,3))\n",
    "    #             video_data[\"video\"] = video_data[\"video\"]/255\n",
    "                #print(video_data[\"video\"].shape)\n",
    "        video_data[\"video\"] = video_data[\"video\"].permute(1,0,2,3)\n",
    "        \n",
    "#         std, mean = torch.std_mean(video_data[\"video\"],dim=[0,2,3])\n",
    "#         std = std/255.0\n",
    "#         #print(std)\n",
    "#         mean = mean/255.0\n",
    "#         #print(mean)\n",
    "#         means += mean\n",
    "#         stds +=std\n",
    "#         nst += 1\n",
    "        video_data = transform_data( video_data)\n",
    "\n",
    "        return video_data[\"video\"]\n",
    "\n",
    "def load_dataloaders(batch_size,start,end):\n",
    "\n",
    "    \n",
    "    train_inputs =[] #x\n",
    "    train_classes = [] #y\n",
    "    global neg\n",
    "\n",
    "    with open('../input/signdataset/sign/MSSL_Train_Set/TRAIN/MSSL_TRAIN_SET_GT.pkl', 'rb') as f:\n",
    "        data = pickle.load(f)\n",
    "\n",
    "\n",
    "# keys are files so iterate only limited files due to memory limitations.\n",
    "    for key in list(data.keys())[start:end]:\n",
    "        time_start = []\n",
    "        time_end = []\n",
    "        filename = key\n",
    "        print(\"file\",filename)\n",
    "        video = EncodedVideo.from_path(\"../input/signdataset/sign/MSSL_Train_Set/TRAIN/MSSL_TRAIN_SET_VIDEOS_ELAN/\"+filename+\".mp4\")\n",
    "    # file functions\n",
    "        \n",
    "        for x in data[key]:\n",
    "            img_cls = x[0]\n",
    "            time_start.append(x[1])\n",
    "            time_end.append(x[2])\n",
    "            \n",
    "            \n",
    "            # start_time = x[1]\n",
    "            # end_time = x[2]\n",
    "            vid = lp_video(video,x[1], x[2])\n",
    "\n",
    "            for m in torch.unbind(vid, dim=3):\n",
    "                train_classes.append(img_cls)\n",
    "                train_inputs.append(m)\n",
    "            \n",
    "        \n",
    "            \n",
    "    signds = SignDataset(train_inputs, train_classes)\n",
    "    trainlen = int(len(signds)*0.8)\n",
    "    torch.manual_seed(0)\n",
    "    \n",
    "#     train_set, val_test_set = torch.utils.data.random_split(signds, [trainlen, len(signds)-trainlen])\n",
    "    trainloader = DataLoader(signds, batch_size=batch_size, shuffle=True, num_workers=2)\n",
    "\n",
    "#      = DataLoader(val_test_set, batch_size=batch_size, shuffle=True, num_workers=2)\n",
    "  \n",
    "    return trainloader\n",
    "        \n",
    "    "
   ]
  },
  {
   "cell_type": "code",
   "execution_count": 4,
   "id": "116df201",
   "metadata": {
    "execution": {
     "iopub.execute_input": "2022-06-18T11:21:54.688560Z",
     "iopub.status.busy": "2022-06-18T11:21:54.688266Z",
     "iopub.status.idle": "2022-06-18T11:21:54.699173Z",
     "shell.execute_reply": "2022-06-18T11:21:54.698232Z"
    },
    "papermill": {
     "duration": 0.069735,
     "end_time": "2022-06-18T11:21:54.701493",
     "exception": false,
     "start_time": "2022-06-18T11:21:54.631758",
     "status": "completed"
    },
    "tags": []
   },
   "outputs": [],
   "source": [
    "def load_testloader(batch_size,start,end):\n",
    "\n",
    "    time_start = []\n",
    "    time_end = []\n",
    "    train_inputs =[] #x\n",
    "    train_classes = [] #y\n",
    "    \n",
    "\n",
    "    with open('../input/signdataset/sign/MSSL_Train_Set/TRAIN/MSSL_TRAIN_SET_GT.pkl', 'rb') as f:\n",
    "        data = pickle.load(f)\n",
    "\n",
    "\n",
    "# keys are files so iterate only limited files due to memory limitations.\n",
    "    for key in list(data.keys())[start:end]:\n",
    "        filename = key\n",
    "        print(\"file\",filename)\n",
    "        video = EncodedVideo.from_path(\"../input/signdataset/sign/MSSL_Train_Set/TRAIN/MSSL_TRAIN_SET_VIDEOS_ELAN/\"+filename+\".mp4\")\n",
    "    # file functions\n",
    "\n",
    "        for x in data[key]:\n",
    "            img_cls = x[0]\n",
    "            time_start.append(x[1])\n",
    "            time_end.append(x[2])\n",
    "            \n",
    "            \n",
    "            # start_time = x[1]\n",
    "            # end_time = x[2]\n",
    "            vid = lp_video(video,x[1], x[2])\n",
    "\n",
    "            for m in torch.unbind(vid, dim=3):\n",
    "                train_classes.append(img_cls)\n",
    "                train_inputs.append(m)\n",
    "\n",
    "\n",
    "\n",
    "            \n",
    "        \n",
    "            \n",
    "\n",
    "    signds = SignDataset(train_inputs, train_classes)\n",
    "    \n",
    "    \n",
    "\n",
    "    testloader = DataLoader(signds, batch_size=batch_size, shuffle=True, num_workers=2)\n",
    "\n",
    "    return testloader"
   ]
  },
  {
   "cell_type": "code",
   "execution_count": 5,
   "id": "5df1c83c",
   "metadata": {
    "execution": {
     "iopub.execute_input": "2022-06-18T11:21:54.816331Z",
     "iopub.status.busy": "2022-06-18T11:21:54.816028Z",
     "iopub.status.idle": "2022-06-18T11:21:54.822680Z",
     "shell.execute_reply": "2022-06-18T11:21:54.821548Z"
    },
    "papermill": {
     "duration": 0.067202,
     "end_time": "2022-06-18T11:21:54.825005",
     "exception": false,
     "start_time": "2022-06-18T11:21:54.757803",
     "status": "completed"
    },
    "tags": []
   },
   "outputs": [],
   "source": [
    "def load_vid(batch_size,start,end):\n",
    "\n",
    "\n",
    "    train_inputs =[] #x\n",
    "\n",
    "    video = EncodedVideo.from_path(\"../input/signdataset/sign/MSSL_Val_Set/VALIDATION/MSSL_VAL_SET_VIDEOS/p01_n131.mp4\")\n",
    "    # file functions\n",
    "\n",
    "    vid = lp_video(video,start, end)\n",
    "\n",
    "    for m in torch.unbind(vid, dim=3):\n",
    "        train_inputs.append(m)\n",
    "\n",
    "    \n",
    "\n",
    "    testloader = DataLoader(train_inputs, batch_size=batch_size, shuffle=True, num_workers=2)\n",
    "\n",
    "    return testloader"
   ]
  },
  {
   "cell_type": "code",
   "execution_count": 6,
   "id": "2bd13f16",
   "metadata": {
    "execution": {
     "iopub.execute_input": "2022-06-18T11:21:54.937285Z",
     "iopub.status.busy": "2022-06-18T11:21:54.936717Z",
     "iopub.status.idle": "2022-06-18T11:21:54.981907Z",
     "shell.execute_reply": "2022-06-18T11:21:54.980899Z"
    },
    "papermill": {
     "duration": 0.104709,
     "end_time": "2022-06-18T11:21:54.984411",
     "exception": false,
     "start_time": "2022-06-18T11:21:54.879702",
     "status": "completed"
    },
    "tags": []
   },
   "outputs": [],
   "source": [
    "\"\"\"\n",
    "Creates a EfficientNetV2 Model as defined in:\n",
    "Mingxing Tan, Quoc V. Le. (2021). \n",
    "EfficientNetV2: Smaller Models and Faster Training\n",
    "arXiv preprint arXiv:2104.00298.\n",
    "import from https://github.com/d-li14/mobilenetv2.pytorch\n",
    "\"\"\"\n",
    "\n",
    "\n",
    "\n",
    "__all__ = ['effnetv2_s', 'effnetv2_m', 'effnetv2_l', 'effnetv2_xl']\n",
    "\n",
    "\n",
    "def _make_divisible(v, divisor, min_value=None):\n",
    "    \"\"\"\n",
    "    This function is taken from the original tf repo.\n",
    "    It ensures that all layers have a channel number that is divisible by 8\n",
    "    It can be seen here:\n",
    "    https://github.com/tensorflow/models/blob/master/research/slim/nets/mobilenet/mobilenet.py\n",
    "    :param v:\n",
    "    :param divisor:\n",
    "    :param min_value:\n",
    "    :return:\n",
    "    \"\"\"\n",
    "    if min_value is None:\n",
    "        min_value = divisor\n",
    "    new_v = max(min_value, int(v + divisor / 2) // divisor * divisor)\n",
    "    # Make sure that round down does not go down by more than 10%.\n",
    "    if new_v < 0.9 * v:\n",
    "        new_v += divisor\n",
    "    return new_v\n",
    "\n",
    "\n",
    "# SiLU (Swish) activation function\n",
    "if hasattr(nn, 'SiLU'):\n",
    "    SiLU = nn.SiLU\n",
    "else:\n",
    "    # For compatibility with old PyTorch versions\n",
    "    class SiLU(nn.Module):\n",
    "        def forward(self, x):\n",
    "            return x * torch.sigmoid(x)\n",
    "\n",
    " \n",
    "class SELayer(nn.Module):\n",
    "    def __init__(self, inp, oup, reduction=4):\n",
    "        super(SELayer, self).__init__()\n",
    "        self.avg_pool = nn.AdaptiveAvgPool2d(1)\n",
    "        self.fc = nn.Sequential(\n",
    "                nn.Linear(oup, _make_divisible(inp // reduction, 8)),\n",
    "                SiLU(),\n",
    "                nn.Linear(_make_divisible(inp // reduction, 8), oup),\n",
    "                nn.Sigmoid()\n",
    "        )\n",
    "\n",
    "    def forward(self, x):\n",
    "        b, c, _, _ = x.size()\n",
    "        y = self.avg_pool(x).view(b, c)\n",
    "        y = self.fc(y).view(b, c, 1, 1)\n",
    "        return x * y\n",
    "\n",
    "\n",
    "def conv_3x3_bn(inp, oup, stride):\n",
    "    return nn.Sequential(\n",
    "        nn.Conv2d(inp, oup, 3, stride, 1, bias=False),\n",
    "        nn.BatchNorm2d(oup),\n",
    "        SiLU()\n",
    "    )\n",
    "\n",
    "\n",
    "def conv_1x1_bn(inp, oup):\n",
    "    return nn.Sequential(\n",
    "        nn.Conv2d(inp, oup, 1, 1, 0, bias=False),\n",
    "        nn.BatchNorm2d(oup),\n",
    "        SiLU()\n",
    "    )\n",
    "\n",
    "\n",
    "class MBConv(nn.Module):\n",
    "    def __init__(self, inp, oup, stride, expand_ratio, use_se):\n",
    "        super(MBConv, self).__init__()\n",
    "        assert stride in [1, 2]\n",
    "\n",
    "        hidden_dim = round(inp * expand_ratio)\n",
    "        self.identity = stride == 1 and inp == oup\n",
    "        if use_se:\n",
    "            self.conv = nn.Sequential(\n",
    "                # pw\n",
    "                nn.Conv2d(inp, hidden_dim, 1, 1, 0, bias=False),\n",
    "                nn.BatchNorm2d(hidden_dim),\n",
    "                SiLU(),\n",
    "                # dw\n",
    "                nn.Conv2d(hidden_dim, hidden_dim, 3, stride, 1, groups=hidden_dim, bias=False),\n",
    "                nn.BatchNorm2d(hidden_dim),\n",
    "                SiLU(),\n",
    "                SELayer(inp, hidden_dim),\n",
    "                # pw-linear\n",
    "                nn.Conv2d(hidden_dim, oup, 1, 1, 0, bias=False),\n",
    "                nn.BatchNorm2d(oup),\n",
    "            )\n",
    "        else:\n",
    "            self.conv = nn.Sequential(\n",
    "                # fused\n",
    "                nn.Conv2d(inp, hidden_dim, 3, stride, 1, bias=False),\n",
    "                nn.BatchNorm2d(hidden_dim),\n",
    "                SiLU(),\n",
    "                # pw-linear\n",
    "                nn.Conv2d(hidden_dim, oup, 1, 1, 0, bias=False),\n",
    "                nn.BatchNorm2d(oup),\n",
    "            )\n",
    "\n",
    "\n",
    "    def forward(self, x):\n",
    "        if self.identity:\n",
    "            return x + self.conv(x)\n",
    "        else:\n",
    "            return self.conv(x)\n",
    "\n",
    "\n",
    "class EffNetV2(nn.Module):\n",
    "    def __init__(self, cfgs, num_classes=60, width_mult=1.):\n",
    "        super(EffNetV2, self).__init__()\n",
    "        self.cfgs = cfgs\n",
    "\n",
    "        # building first layer\n",
    "        input_channel = _make_divisible(24 * width_mult, 8)\n",
    "        layers = [conv_3x3_bn(1, input_channel, 2)]\n",
    "        # building inverted residual blocks\n",
    "        block = MBConv\n",
    "        for t, c, n, s, use_se in self.cfgs:\n",
    "            output_channel = _make_divisible(c * width_mult, 8)\n",
    "            for i in range(n):\n",
    "                layers.append(block(input_channel, output_channel, s if i == 0 else 1, t, use_se))\n",
    "                input_channel = output_channel\n",
    "        self.features = nn.Sequential(*layers)\n",
    "        # building last several layers\n",
    "        output_channel = _make_divisible(1792 * width_mult, 8) if width_mult > 1.0 else 1792\n",
    "        self.conv = conv_1x1_bn(input_channel, output_channel)\n",
    "        self.avgpool = nn.AdaptiveAvgPool2d((1, 1))\n",
    "        self.classifier = nn.Linear(output_channel, num_classes)\n",
    "\n",
    "        self._initialize_weights()\n",
    "\n",
    "    def forward(self, x):\n",
    "        x = self.features(x)\n",
    "        x = self.conv(x)\n",
    "        x = self.avgpool(x)\n",
    "        x = x.view(x.size(0), -1)\n",
    "        x = self.classifier(x)\n",
    "        return x\n",
    "\n",
    "    def _initialize_weights(self):\n",
    "        for m in self.modules():\n",
    "            if isinstance(m, nn.Conv2d):\n",
    "                n = m.kernel_size[0] * m.kernel_size[1] * m.out_channels\n",
    "                m.weight.data.normal_(0, math.sqrt(2. / n))\n",
    "                if m.bias is not None:\n",
    "                    m.bias.data.zero_()\n",
    "            elif isinstance(m, nn.BatchNorm2d):\n",
    "                m.weight.data.fill_(1)\n",
    "                m.bias.data.zero_()\n",
    "            elif isinstance(m, nn.Linear):\n",
    "                m.weight.data.normal_(0, 0.001)\n",
    "                m.bias.data.zero_()\n",
    "\n",
    "\n",
    "def effnetv2_s(**kwargs):\n",
    "    \"\"\"\n",
    "    Constructs a EfficientNetV2-S model\n",
    "    \"\"\"\n",
    "    cfgs = [\n",
    "        # t, c, n, s, SE\n",
    "        [1,  24,  2, 1, 0],\n",
    "        [4,  48,  4, 2, 0],\n",
    "        [4,  64,  4, 2, 0],\n",
    "        [4, 128,  6, 2, 1],\n",
    "        [6, 160,  9, 1, 1],\n",
    "        [6, 256, 15, 2, 1],\n",
    "    ]\n",
    "    return EffNetV2(cfgs, **kwargs)\n",
    "\n",
    "\n",
    "def effnetv2_m(**kwargs):\n",
    "    \"\"\"\n",
    "    Constructs a EfficientNetV2-M model\n",
    "    \"\"\"\n",
    "    cfgs = [\n",
    "        # t, c, n, s, SE\n",
    "        [1,  24,  3, 1, 0],\n",
    "        [4,  48,  5, 2, 0],\n",
    "        [4,  80,  5, 2, 0],\n",
    "        [4, 160,  7, 2, 1],\n",
    "        [6, 176, 14, 1, 1],\n",
    "        [6, 304, 18, 2, 1],\n",
    "        [6, 512,  5, 1, 1],\n",
    "    ]\n",
    "    return EffNetV2(cfgs, **kwargs)\n",
    "\n",
    "\n",
    "def effnetv2_l(**kwargs):\n",
    "    \"\"\"\n",
    "    Constructs a EfficientNetV2-L model\n",
    "    \"\"\"\n",
    "    cfgs = [\n",
    "        # t, c, n, s, SE\n",
    "        [1,  32,  4, 1, 0],\n",
    "        [4,  64,  7, 2, 0],\n",
    "        [4,  96,  7, 2, 0],\n",
    "        [4, 192, 10, 2, 1],\n",
    "        [6, 224, 19, 1, 1],\n",
    "        [6, 384, 25, 2, 1],\n",
    "        [6, 640,  7, 1, 1],\n",
    "    ]\n",
    "    return EffNetV2(cfgs, **kwargs)\n",
    "\n",
    "\n",
    "def effnetv2_xl(**kwargs):\n",
    "    \"\"\"\n",
    "    Constructs a EfficientNetV2-XL model\n",
    "    \"\"\"\n",
    "    cfgs = [\n",
    "        # t, c, n, s, SE\n",
    "        [1,  32,  4, 1, 0],\n",
    "        [4,  64,  8, 2, 0],\n",
    "        [4,  96,  8, 2, 0],\n",
    "        [4, 192, 16, 2, 1],\n",
    "        [6, 256, 24, 1, 1],\n",
    "        [6, 512, 32, 2, 1],\n",
    "        [6, 640,  8, 1, 1],\n",
    "    ]\n",
    "    return EffNetV2(cfgs, **kwargs)"
   ]
  },
  {
   "cell_type": "code",
   "execution_count": null,
   "id": "f57f1482",
   "metadata": {
    "papermill": {
     "duration": 0.053825,
     "end_time": "2022-06-18T11:21:55.093020",
     "exception": false,
     "start_time": "2022-06-18T11:21:55.039195",
     "status": "completed"
    },
    "tags": []
   },
   "outputs": [],
   "source": []
  },
  {
   "cell_type": "code",
   "execution_count": 7,
   "id": "f1b74d4c",
   "metadata": {
    "execution": {
     "iopub.execute_input": "2022-06-18T11:21:55.205235Z",
     "iopub.status.busy": "2022-06-18T11:21:55.204412Z",
     "iopub.status.idle": "2022-06-18T11:21:55.211201Z",
     "shell.execute_reply": "2022-06-18T11:21:55.210149Z"
    },
    "papermill": {
     "duration": 0.065983,
     "end_time": "2022-06-18T11:21:55.213545",
     "exception": false,
     "start_time": "2022-06-18T11:21:55.147562",
     "status": "completed"
    },
    "tags": []
   },
   "outputs": [],
   "source": [
    "\n",
    "def evluate(model, device, loader, mode=\"Validate\"):\n",
    "    \n",
    "    \n",
    "    model.eval()\n",
    "\n",
    "    correct = 0\n",
    "    num_samples = 0\n",
    "    \n",
    "        \n",
    "    for batch_idx, data in enumerate(loader):\n",
    "        with torch.no_grad():    \n",
    "            data = data.to(device)\n",
    "            \n",
    "\n",
    "            output = model(data.half())  \n",
    "            \n",
    "            _,pred = output.max(1)# get the index of the max log-probability\n",
    "            print(pred)\n",
    "\n"
   ]
  },
  {
   "cell_type": "code",
   "execution_count": 8,
   "id": "7c3be5b9",
   "metadata": {
    "execution": {
     "iopub.execute_input": "2022-06-18T11:21:55.336211Z",
     "iopub.status.busy": "2022-06-18T11:21:55.335445Z",
     "iopub.status.idle": "2022-06-18T11:21:55.343888Z",
     "shell.execute_reply": "2022-06-18T11:21:55.342869Z"
    },
    "papermill": {
     "duration": 0.07773,
     "end_time": "2022-06-18T11:21:55.346036",
     "exception": false,
     "start_time": "2022-06-18T11:21:55.268306",
     "status": "completed"
    },
    "tags": []
   },
   "outputs": [],
   "source": [
    "def test(model, device, loader,criterion, mode=\"Validate\"):\n",
    "    \n",
    "    \n",
    "    model.eval()\n",
    "\n",
    "    correct = 0\n",
    "    num_samples = 0\n",
    "    test_loss = 0\n",
    "    \n",
    "        \n",
    "    for batch_idx, (data, target) in enumerate(loader):\n",
    "        with torch.no_grad():    \n",
    "            data = data.to(device)\n",
    "            target = (target).to(device)\n",
    "\n",
    "            output = model(data.half())  \n",
    "            test_loss += criterion(output, target)\n",
    "            \n",
    "            _,pred = output.max(1)# get the index of the max log-probability\n",
    "            num_samples += target.size(0)\n",
    "            correct += (pred==target).sum().item()\n",
    "            #print(\"correct\", correct)\n",
    "    test_loss /= num_samples\n",
    "    print(' Val Accuracy: {}/{} ({:.0f}%) Val Loss: {:.6f}'.format(correct, num_samples,100. * correct / num_samples, test_loss))\n",
    "    return  test_loss"
   ]
  },
  {
   "cell_type": "code",
   "execution_count": 9,
   "id": "f0383554",
   "metadata": {
    "execution": {
     "iopub.execute_input": "2022-06-18T11:21:55.457376Z",
     "iopub.status.busy": "2022-06-18T11:21:55.456483Z",
     "iopub.status.idle": "2022-06-18T11:21:55.469516Z",
     "shell.execute_reply": "2022-06-18T11:21:55.468522Z"
    },
    "papermill": {
     "duration": 0.07122,
     "end_time": "2022-06-18T11:21:55.471752",
     "exception": false,
     "start_time": "2022-06-18T11:21:55.400532",
     "status": "completed"
    },
    "scrolled": true,
    "tags": []
   },
   "outputs": [],
   "source": [
    "def train(model, device, train_loader,scheduler, optimizer,criterion,epochs,lr):\n",
    "    print(\"Train start\")\n",
    "    breakout = False\n",
    "    \n",
    "#     last_loss = 100\n",
    "#     patience = 3\n",
    "#     triggertimes = 0\n",
    "      \n",
    "    model.half()\n",
    "    model.cuda()\n",
    "\n",
    "    optimizer.param_groups[0]['lr'] = lr\n",
    "    \n",
    "    for epoch in range(epochs):\n",
    "        model.train()\n",
    "        correct = 0\n",
    "        num_samples = 0\n",
    "        train_loss = 0\n",
    "        \n",
    "        for batch_idx, (data, target) in enumerate(train_loader):\n",
    "            \n",
    "            data = data.to(device)\n",
    "            target = target.to(device)\n",
    "\n",
    "            optimizer.zero_grad()\n",
    "            output = model(data.half())\n",
    "            \n",
    "            loss = criterion(output, target)\n",
    "            loss.backward()\n",
    "            optimizer.step()\n",
    "            \n",
    "            \n",
    "            train_loss += loss.item()\n",
    "            \n",
    "            \n",
    "            _,pred = output.max(1)# get the index of the max log-probability\n",
    "            num_samples += target.size(0)\n",
    "            correct += (pred==target).sum().item()\n",
    "            \n",
    "        if optimizer.param_groups[0]['lr'] < 1e-5:    \n",
    "            scheduler.step()\n",
    "        #print(\"lr:\",optimizer.param_groups[0]['lr'])\n",
    "        \n",
    "        \n",
    "        train_loss /= num_samples\n",
    "        \n",
    "        if (100 * correct / num_samples) >= 93:\n",
    "            \n",
    "            print('Epoch: {} , Training Accuracy: {}/{} ({:.0f}%) Training Loss: {:.6f}'.format(\n",
    "                epoch+1, correct, num_samples,100. * correct / num_samples, train_loss))\n",
    "            \n",
    "#             current_loss = test(model,device,validloader,criterion, mode = \"Validating\")\n",
    "            \n",
    "        \n",
    "            print(\"breakout\")\n",
    "            return model, optimizer\n",
    "            \n",
    "            \n",
    "\n",
    "        print('Epoch: {} , Training Accuracy: {}/{} ({:.0f}%) Training Loss: {:.6f}'.format(\n",
    "                epoch+1, correct, num_samples,\n",
    "                100. * correct / num_samples, train_loss))\n",
    "        \n",
    "#         current_loss = test(model,device,validloader,criterion)\n",
    "#         if current_loss > last_loss:\n",
    "#             trigger_times += 1\n",
    "#             print('Trigger Times for early stopping:', trigger_times)\n",
    "\n",
    "#             if trigger_times >= patience:\n",
    "#                 print('Early stopping!\\nStart to test process.')\n",
    "#                 return model, optimizer\n",
    "\n",
    "#         else:\n",
    "#             trigger_times = 0\n",
    "\n",
    "#         last_loss = current_loss\n",
    "    \n",
    "    \n",
    "        \n",
    "    return model, optimizer"
   ]
  },
  {
   "cell_type": "code",
   "execution_count": 10,
   "id": "75ad49c2",
   "metadata": {
    "execution": {
     "iopub.execute_input": "2022-06-18T11:21:55.581731Z",
     "iopub.status.busy": "2022-06-18T11:21:55.581247Z",
     "iopub.status.idle": "2022-06-18T11:22:00.163127Z",
     "shell.execute_reply": "2022-06-18T11:22:00.162131Z"
    },
    "papermill": {
     "duration": 4.64008,
     "end_time": "2022-06-18T11:22:00.165898",
     "exception": false,
     "start_time": "2022-06-18T11:21:55.525818",
     "status": "completed"
    },
    "tags": []
   },
   "outputs": [],
   "source": [
    "n_classes = 60\n",
    "\n",
    "\n",
    "model = nn.Sequential(OrderedDict([\n",
    "    ('frontend',effnetv2_m())\n",
    "]))\n",
    "\n",
    "\n",
    "\n",
    "\n",
    "\n",
    "# specify loss function (categorical cross-entropy)\n",
    "\n",
    "# specify optimizer and learning rate\n",
    "optimizer = optim.SGD(\n",
    "    [\n",
    "        \n",
    "        {\"params\": model.frontend.parameters(), \"lr\": 1e-2},\n",
    "  ],\n",
    "  momentum = 0.9\n",
    ")\n",
    "device = torch.device(\"cuda\" if torch.cuda.is_available() else \"cpu\")\n",
    "\n",
    "\n",
    "samples_per_cls = [166.0, 370.0, 63.0, 232.0, 905.0, 102.0, 537.0, 993.0, 133.0, 154.0, 286.0, 435.0, 452.0, 779.0, 354.0, 136.0, 232.0, 2154.0, 374.0, 787.0, 337.0, 268.0, 954.0, 167.0, 543.0, 324.0, 669.0, 333.0, 211.0, 433.0, 140.0, 665.0, 107.0, 305.0, 162.0, 61.0, 1229.0, 958.0, 897.0, 543.0, 625.0, 334.0, 776.0, 111.0, 412.0, 583.0, 255.0, 103.0, 108.0, 201.0, 384.0, 632.0, 13.0, 322.0, 664.0, 435.0, 194.0, 322.0, 113.0, 462.0]\n",
    "no_of_classes=60\n",
    "beta=0.9999\n",
    "effective_num = 1.0 - np.power(beta, samples_per_cls)\n",
    "weights = (1.0 - beta) / np.array(effective_num)\n",
    "weights = weights / np.sum(weights) * no_of_classes\n",
    "    \n",
    "\n",
    "weights = torch.FloatTensor(weights).cuda()\n",
    "\n",
    "criterion = nn.CrossEntropyLoss(weight = weights.half())\n",
    "\n",
    "# state = torch.load(\"../input/fmosel/model_optimizer34.pt\")\n",
    "# model.load_state_dict(state['model_state_dict'])\n",
    "# model.half()\n",
    "# model.cuda()\n",
    "# optimizer.load_state_dict(state['optimizer_state_dict'])"
   ]
  },
  {
   "cell_type": "code",
   "execution_count": 11,
   "id": "e95d356c",
   "metadata": {
    "execution": {
     "iopub.execute_input": "2022-06-18T11:22:00.276170Z",
     "iopub.status.busy": "2022-06-18T11:22:00.275314Z",
     "iopub.status.idle": "2022-06-18T11:22:00.279883Z",
     "shell.execute_reply": "2022-06-18T11:22:00.278889Z"
    },
    "papermill": {
     "duration": 0.062081,
     "end_time": "2022-06-18T11:22:00.282089",
     "exception": false,
     "start_time": "2022-06-18T11:22:00.220008",
     "status": "completed"
    },
    "tags": []
   },
   "outputs": [],
   "source": [
    "#print('Number of model parameters: {}'.format(sum([p.data.nelement() for p in model.parameters()])))"
   ]
  },
  {
   "cell_type": "code",
   "execution_count": 12,
   "id": "e93b0650",
   "metadata": {
    "execution": {
     "iopub.execute_input": "2022-06-18T11:22:00.395049Z",
     "iopub.status.busy": "2022-06-18T11:22:00.394766Z",
     "iopub.status.idle": "2022-06-18T11:22:00.398877Z",
     "shell.execute_reply": "2022-06-18T11:22:00.397910Z"
    },
    "papermill": {
     "duration": 0.060818,
     "end_time": "2022-06-18T11:22:00.401114",
     "exception": false,
     "start_time": "2022-06-18T11:22:00.340296",
     "status": "completed"
    },
    "tags": []
   },
   "outputs": [],
   "source": [
    "#summary(model, (1, 512, 640), device='cpu')#1334+986 =2330"
   ]
  },
  {
   "cell_type": "code",
   "execution_count": null,
   "id": "c80622d9",
   "metadata": {
    "execution": {
     "iopub.execute_input": "2022-06-12T15:00:18.76358Z",
     "iopub.status.busy": "2022-06-12T15:00:18.763314Z"
    },
    "papermill": {
     "duration": 0.052852,
     "end_time": "2022-06-18T11:22:00.507016",
     "exception": false,
     "start_time": "2022-06-18T11:22:00.454164",
     "status": "completed"
    },
    "tags": []
   },
   "outputs": [],
   "source": []
  },
  {
   "cell_type": "code",
   "execution_count": 13,
   "id": "5c9c3729",
   "metadata": {
    "execution": {
     "iopub.execute_input": "2022-06-18T11:22:00.615359Z",
     "iopub.status.busy": "2022-06-18T11:22:00.614540Z",
     "iopub.status.idle": "2022-06-18T11:49:26.792457Z",
     "shell.execute_reply": "2022-06-18T11:49:26.791301Z"
    },
    "papermill": {
     "duration": 1646.296748,
     "end_time": "2022-06-18T11:49:26.857033",
     "exception": false,
     "start_time": "2022-06-18T11:22:00.560285",
     "status": "completed"
    },
    "tags": []
   },
   "outputs": [
    {
     "name": "stdout",
     "output_type": "stream",
     "text": [
      "file p01_n002\n",
      "file p06_n019\n",
      "file p06_n007\n",
      "file p01_n053\n",
      "file p04_n074\n",
      "file p05_n077\n",
      "file p05_n027\n",
      "file p05_n022\n",
      "file p01_n110\n",
      "file p06_n036\n",
      "Train start\n",
      "Epoch: 1 , Training Accuracy: 223/2632 (8%) Training Loss: 0.217447\n",
      "Epoch: 2 , Training Accuracy: 491/2632 (19%) Training Loss: 0.171553\n",
      "Epoch: 3 , Training Accuracy: 826/2632 (31%) Training Loss: 0.135447\n",
      "Epoch: 4 , Training Accuracy: 1247/2632 (47%) Training Loss: 0.098673\n",
      "Epoch: 5 , Training Accuracy: 1607/2632 (61%) Training Loss: 0.070707\n",
      "Epoch: 6 , Training Accuracy: 1909/2632 (73%) Training Loss: 0.047369\n",
      "Epoch: 7 , Training Accuracy: 2186/2632 (83%) Training Loss: 0.030370\n",
      "Epoch: 8 , Training Accuracy: 2376/2632 (90%) Training Loss: 0.017029\n",
      "Epoch: 9 , Training Accuracy: 2509/2632 (95%) Training Loss: 0.009160\n",
      "breakout\n"
     ]
    }
   ],
   "source": [
    "trainloader= load_dataloaders(batch_size=16,start=0, end=10)#73 not included \n",
    "scheduler = torch.optim.lr_scheduler.StepLR(optimizer, step_size=5, gamma=0.1) \n",
    "model, optimizer = train(model,device,trainloader,scheduler,optimizer,criterion,30,1e-2)"
   ]
  },
  {
   "cell_type": "code",
   "execution_count": 14,
   "id": "99af6407",
   "metadata": {
    "execution": {
     "iopub.execute_input": "2022-06-18T11:49:26.981082Z",
     "iopub.status.busy": "2022-06-18T11:49:26.980782Z",
     "iopub.status.idle": "2022-06-18T12:03:39.501065Z",
     "shell.execute_reply": "2022-06-18T12:03:39.497658Z"
    },
    "papermill": {
     "duration": 852.66483,
     "end_time": "2022-06-18T12:03:39.583409",
     "exception": false,
     "start_time": "2022-06-18T11:49:26.918579",
     "status": "completed"
    },
    "tags": []
   },
   "outputs": [
    {
     "name": "stdout",
     "output_type": "stream",
     "text": [
      "file p01_n069\n",
      "file p06_n109\n",
      "file p04_n089\n",
      "file p01_n044\n",
      "file p05_n037\n",
      "file p04_n038\n",
      "file p06_n055\n",
      "file p01_n099\n",
      "file p02_n066\n",
      "file p04_n035\n",
      "Train start\n",
      "Epoch: 1 , Training Accuracy: 1088/2618 (42%) Training Loss: 0.151377\n",
      "Epoch: 2 , Training Accuracy: 2078/2618 (79%) Training Loss: 0.033331\n",
      "Epoch: 3 , Training Accuracy: 2354/2618 (90%) Training Loss: 0.016726\n",
      "Epoch: 4 , Training Accuracy: 2494/2618 (95%) Training Loss: 0.008139\n",
      "breakout\n"
     ]
    }
   ],
   "source": [
    "trainloader = load_dataloaders(batch_size=16,start=10, end=20)#73 not included \n",
    "scheduler = torch.optim.lr_scheduler.StepLR(optimizer, step_size=5, gamma=0.1) \n",
    "model, optimizer = train(model,device,trainloader,scheduler,optimizer,criterion,30,1e-2)"
   ]
  },
  {
   "cell_type": "code",
   "execution_count": 15,
   "id": "861f05f5",
   "metadata": {
    "execution": {
     "iopub.execute_input": "2022-06-18T12:03:39.744279Z",
     "iopub.status.busy": "2022-06-18T12:03:39.743164Z",
     "iopub.status.idle": "2022-06-18T12:14:06.542116Z",
     "shell.execute_reply": "2022-06-18T12:14:06.540734Z"
    },
    "papermill": {
     "duration": 626.967871,
     "end_time": "2022-06-18T12:14:06.628899",
     "exception": false,
     "start_time": "2022-06-18T12:03:39.661028",
     "status": "completed"
    },
    "tags": []
   },
   "outputs": [
    {
     "name": "stdout",
     "output_type": "stream",
     "text": [
      "file p01_n057\n",
      "file p01_n105\n",
      "file p04_n058\n",
      "file p05_n043\n",
      "file p06_n020\n",
      "file p02_n001\n",
      "file p04_n032\n",
      "file p05_n084\n",
      "file p01_n102\n",
      "file p06_n096\n",
      "Train start\n",
      "Epoch: 1 , Training Accuracy: 1113/2328 (48%) Training Loss: 0.134082\n",
      "Epoch: 2 , Training Accuracy: 1958/2328 (84%) Training Loss: 0.028606\n",
      "Epoch: 3 , Training Accuracy: 2191/2328 (94%) Training Loss: 0.010101\n",
      "breakout\n"
     ]
    }
   ],
   "source": [
    "trainloader = load_dataloaders(batch_size=16,start=20, end=30)#73 not included \n",
    "scheduler = torch.optim.lr_scheduler.StepLR(optimizer, step_size=5, gamma=0.1) \n",
    "model, optimizer = train(model,device,trainloader,scheduler,optimizer,criterion,30,1e-2)"
   ]
  },
  {
   "cell_type": "code",
   "execution_count": 16,
   "id": "2a9f8230",
   "metadata": {
    "execution": {
     "iopub.execute_input": "2022-06-18T12:14:06.802917Z",
     "iopub.status.busy": "2022-06-18T12:14:06.802406Z",
     "iopub.status.idle": "2022-06-18T12:28:13.022438Z",
     "shell.execute_reply": "2022-06-18T12:28:13.021299Z"
    },
    "papermill": {
     "duration": 846.394471,
     "end_time": "2022-06-18T12:28:13.107391",
     "exception": false,
     "start_time": "2022-06-18T12:14:06.712920",
     "status": "completed"
    },
    "tags": []
   },
   "outputs": [
    {
     "name": "stdout",
     "output_type": "stream",
     "text": [
      "file p02_n104\n",
      "file p01_n090\n",
      "file p01_n040\n",
      "file p04_n073\n",
      "file p01_n067\n",
      "file p05_n004\n",
      "file p06_n061\n",
      "file p05_n092\n",
      "file p06_n015\n",
      "file p04_n106\n",
      "Train start\n",
      "Epoch: 1 , Training Accuracy: 1459/2641 (55%) Training Loss: 0.136919\n",
      "Epoch: 2 , Training Accuracy: 2142/2641 (81%) Training Loss: 0.041458\n",
      "Epoch: 3 , Training Accuracy: 2394/2641 (91%) Training Loss: 0.023787\n",
      "Epoch: 4 , Training Accuracy: 2499/2641 (95%) Training Loss: 0.016690\n",
      "breakout\n"
     ]
    }
   ],
   "source": [
    "trainloader  = load_dataloaders(batch_size=16,start=30, end=40)#73 not included \n",
    "scheduler = torch.optim.lr_scheduler.StepLR(optimizer, step_size=5, gamma=0.1) \n",
    "model, optimizer = train(model,device,trainloader,scheduler,optimizer,criterion,30,1e-3)"
   ]
  },
  {
   "cell_type": "code",
   "execution_count": 17,
   "id": "302a7853",
   "metadata": {
    "execution": {
     "iopub.execute_input": "2022-06-18T12:28:13.268548Z",
     "iopub.status.busy": "2022-06-18T12:28:13.267692Z",
     "iopub.status.idle": "2022-06-18T12:32:03.511693Z",
     "shell.execute_reply": "2022-06-18T12:32:03.510262Z"
    },
    "papermill": {
     "duration": 230.51216,
     "end_time": "2022-06-18T12:32:03.698155",
     "exception": false,
     "start_time": "2022-06-18T12:28:13.185995",
     "status": "completed"
    },
    "tags": []
   },
   "outputs": [
    {
     "name": "stdout",
     "output_type": "stream",
     "text": [
      "file p06_n020\n",
      "file p02_n001\n",
      "file p04_n032\n",
      "file p05_n084\n",
      "file p01_n102\n",
      "file p06_n096\n",
      "Train start\n",
      "Epoch: 1 , Training Accuracy: 1446/1545 (94%) Training Loss: 0.010978\n",
      "breakout\n"
     ]
    }
   ],
   "source": [
    "trainloader  = load_dataloaders(batch_size=16,start=24, end=30)#73 not included \n",
    "scheduler = torch.optim.lr_scheduler.StepLR(optimizer, step_size=5, gamma=0.1) \n",
    "model, optimizer = train(model,device,trainloader,scheduler,optimizer,criterion,30,1e-2)"
   ]
  },
  {
   "cell_type": "code",
   "execution_count": 18,
   "id": "41765bf6",
   "metadata": {
    "execution": {
     "iopub.execute_input": "2022-06-18T12:32:03.987715Z",
     "iopub.status.busy": "2022-06-18T12:32:03.987171Z",
     "iopub.status.idle": "2022-06-18T12:46:00.840344Z",
     "shell.execute_reply": "2022-06-18T12:46:00.837479Z"
    },
    "papermill": {
     "duration": 837.091443,
     "end_time": "2022-06-18T12:46:00.932518",
     "exception": false,
     "start_time": "2022-06-18T12:32:03.841075",
     "status": "completed"
    },
    "tags": []
   },
   "outputs": [
    {
     "name": "stdout",
     "output_type": "stream",
     "text": [
      "file p05_n095\n",
      "file p02_n072\n",
      "file p05_n031\n",
      "file p01_n060\n",
      "file p05_n048\n",
      "file p05_n029\n",
      "file p01_n000\n",
      "file p01_n050\n",
      "file p05_n025\n",
      "file p04_n011\n",
      "Train start\n",
      "Epoch: 1 , Training Accuracy: 1338/2691 (50%) Training Loss: 0.117913\n",
      "Epoch: 2 , Training Accuracy: 2297/2691 (85%) Training Loss: 0.026312\n",
      "Epoch: 3 , Training Accuracy: 2467/2691 (92%) Training Loss: 0.018340\n",
      "Epoch: 4 , Training Accuracy: 2568/2691 (95%) Training Loss: 0.010228\n",
      "breakout\n"
     ]
    }
   ],
   "source": [
    "trainloader  = load_dataloaders(batch_size=16,start=40, end=50)#73 not included \n",
    "scheduler = torch.optim.lr_scheduler.StepLR(optimizer, step_size=5, gamma=0.1) \n",
    "model, optimizer = train(model,device,trainloader,scheduler,optimizer,criterion,30,1e-2)"
   ]
  },
  {
   "cell_type": "code",
   "execution_count": 19,
   "id": "b4e588ba",
   "metadata": {
    "execution": {
     "iopub.execute_input": "2022-06-18T12:46:01.114982Z",
     "iopub.status.busy": "2022-06-18T12:46:01.114694Z",
     "iopub.status.idle": "2022-06-18T12:55:05.536617Z",
     "shell.execute_reply": "2022-06-18T12:55:05.535290Z"
    },
    "papermill": {
     "duration": 544.614637,
     "end_time": "2022-06-18T12:55:05.637844",
     "exception": false,
     "start_time": "2022-06-18T12:46:01.023207",
     "status": "completed"
    },
    "tags": []
   },
   "outputs": [
    {
     "name": "stdout",
     "output_type": "stream",
     "text": [
      "file p01_n023\n",
      "file p01_n042\n",
      "file p01_n111\n",
      "file p05_n083\n",
      "file p05_n094\n",
      "file p04_n103\n",
      "file p01_n093\n",
      "file p04_n003\n",
      "file p05_n078\n",
      "file p01_n052\n",
      "Train start\n",
      "Epoch: 1 , Training Accuracy: 802/1445 (56%) Training Loss: 0.139057\n",
      "Epoch: 2 , Training Accuracy: 1215/1445 (84%) Training Loss: 0.045156\n",
      "Epoch: 3 , Training Accuracy: 1303/1445 (90%) Training Loss: 0.026840\n",
      "Epoch: 4 , Training Accuracy: 1330/1445 (92%) Training Loss: 0.021695\n",
      "Epoch: 5 , Training Accuracy: 1356/1445 (94%) Training Loss: 0.017987\n",
      "breakout\n"
     ]
    }
   ],
   "source": [
    "trainloader  = load_dataloaders(batch_size=16,start=50, end=60)#73 not included \n",
    "scheduler = torch.optim.lr_scheduler.StepLR(optimizer, step_size=5, gamma=0.1) \n",
    "model, optimizer = train(model,device,trainloader,scheduler,optimizer,criterion,30,1e-3)"
   ]
  },
  {
   "cell_type": "code",
   "execution_count": 20,
   "id": "21483c62",
   "metadata": {
    "execution": {
     "iopub.execute_input": "2022-06-18T12:55:05.838707Z",
     "iopub.status.busy": "2022-06-18T12:55:05.837861Z",
     "iopub.status.idle": "2022-06-18T13:04:17.751531Z",
     "shell.execute_reply": "2022-06-18T13:04:17.750301Z"
    },
    "papermill": {
     "duration": 552.118881,
     "end_time": "2022-06-18T13:04:17.856723",
     "exception": false,
     "start_time": "2022-06-18T12:55:05.737842",
     "status": "completed"
    },
    "tags": []
   },
   "outputs": [
    {
     "name": "stdout",
     "output_type": "stream",
     "text": [
      "file p02_n098\n",
      "file p06_n013\n",
      "file p05_n006\n",
      "file p01_n063\n",
      "file p02_n097\n",
      "file p05_n065\n",
      "file p01_n108\n",
      "file p06_n018\n",
      "file p05_n009\n",
      "file p05_n071\n",
      "Train start\n",
      "Epoch: 1 , Training Accuracy: 1269/2174 (58%) Training Loss: 0.103137\n",
      "Epoch: 2 , Training Accuracy: 1974/2174 (91%) Training Loss: 0.017596\n",
      "Epoch: 3 , Training Accuracy: 2094/2174 (96%) Training Loss: 0.007337\n",
      "breakout\n"
     ]
    }
   ],
   "source": [
    "trainloader  = load_dataloaders(batch_size=16,start=60, end=70)#73 not included \n",
    "scheduler = torch.optim.lr_scheduler.StepLR(optimizer, step_size=5, gamma=0.1) \n",
    "model, optimizer = train(model,device,trainloader,scheduler,optimizer,criterion,30,1e-2)"
   ]
  },
  {
   "cell_type": "code",
   "execution_count": 21,
   "id": "c436dae0",
   "metadata": {
    "execution": {
     "iopub.execute_input": "2022-06-18T13:04:18.062815Z",
     "iopub.status.busy": "2022-06-18T13:04:18.062466Z",
     "iopub.status.idle": "2022-06-18T13:11:38.456176Z",
     "shell.execute_reply": "2022-06-18T13:11:38.455104Z"
    },
    "papermill": {
     "duration": 440.605405,
     "end_time": "2022-06-18T13:11:38.562150",
     "exception": false,
     "start_time": "2022-06-18T13:04:17.956745",
     "status": "completed"
    },
    "tags": []
   },
   "outputs": [
    {
     "name": "stdout",
     "output_type": "stream",
     "text": [
      "file p04_n091\n",
      "file p05_n075\n",
      "file p01_n012\n",
      "file p05_n076\n",
      "file p04_n005\n",
      "file p04_n046\n",
      "file p01_n045\n",
      "file p05_n041\n",
      "file p01_n008\n",
      "file p02_n101\n",
      "Train start\n",
      "Epoch: 1 , Training Accuracy: 1396/2262 (62%) Training Loss: 0.098993\n",
      "Epoch: 2 , Training Accuracy: 2108/2262 (93%) Training Loss: 0.014502\n",
      "breakout\n"
     ]
    }
   ],
   "source": [
    "trainloader  = load_dataloaders(batch_size=16,start=70, end=80)#73 not included \n",
    "scheduler = torch.optim.lr_scheduler.StepLR(optimizer, step_size=2, gamma=0.1) \n",
    "model, optimizer = train(model,device,trainloader,scheduler,optimizer,criterion,30,1e-2)"
   ]
  },
  {
   "cell_type": "code",
   "execution_count": 22,
   "id": "f1619829",
   "metadata": {
    "execution": {
     "iopub.execute_input": "2022-06-18T13:11:38.770014Z",
     "iopub.status.busy": "2022-06-18T13:11:38.769109Z",
     "iopub.status.idle": "2022-06-18T13:20:02.202507Z",
     "shell.execute_reply": "2022-06-18T13:20:02.201300Z"
    },
    "papermill": {
     "duration": 503.650517,
     "end_time": "2022-06-18T13:20:02.316241",
     "exception": false,
     "start_time": "2022-06-18T13:11:38.665724",
     "status": "completed"
    },
    "tags": []
   },
   "outputs": [
    {
     "name": "stdout",
     "output_type": "stream",
     "text": [
      "file p05_n025\n",
      "file p04_n011\n",
      "file p01_n023\n",
      "file p01_n042\n",
      "file p01_n111\n",
      "file p05_n083\n",
      "Train start\n",
      "Epoch: 1 , Training Accuracy: 915/1371 (67%) Training Loss: 0.090655\n",
      "Epoch: 2 , Training Accuracy: 1173/1371 (86%) Training Loss: 0.027169\n",
      "Epoch: 3 , Training Accuracy: 1247/1371 (91%) Training Loss: 0.017993\n",
      "Epoch: 4 , Training Accuracy: 1269/1371 (93%) Training Loss: 0.015129\n",
      "Epoch: 5 , Training Accuracy: 1302/1371 (95%) Training Loss: 0.010910\n",
      "breakout\n"
     ]
    }
   ],
   "source": [
    "trainloader  = load_dataloaders(batch_size=16,start=48, end=54)#73 not included \n",
    "scheduler = torch.optim.lr_scheduler.StepLR(optimizer, step_size=5, gamma=0.1) \n",
    "model, optimizer = train(model,device,trainloader,scheduler,optimizer,criterion,30,1e-3)"
   ]
  },
  {
   "cell_type": "code",
   "execution_count": 23,
   "id": "bdf930cd",
   "metadata": {
    "execution": {
     "iopub.execute_input": "2022-06-18T13:20:02.542577Z",
     "iopub.status.busy": "2022-06-18T13:20:02.542271Z",
     "iopub.status.idle": "2022-06-18T13:32:57.035450Z",
     "shell.execute_reply": "2022-06-18T13:32:57.034194Z"
    },
    "papermill": {
     "duration": 774.730007,
     "end_time": "2022-06-18T13:32:57.159852",
     "exception": false,
     "start_time": "2022-06-18T13:20:02.429845",
     "status": "completed"
    },
    "tags": []
   },
   "outputs": [
    {
     "name": "stdout",
     "output_type": "stream",
     "text": [
      "file p01_n085\n",
      "file p05_n064\n",
      "file p05_n017\n",
      "file p01_n028\n",
      "file p02_n079\n",
      "file p01_n010\n",
      "file p01_n082\n",
      "file p01_n107\n",
      "file p02_n088\n",
      "file p01_n087\n",
      "Train start\n",
      "Epoch: 1 , Training Accuracy: 1314/2437 (54%) Training Loss: 0.111985\n",
      "Epoch: 2 , Training Accuracy: 2025/2437 (83%) Training Loss: 0.031712\n",
      "Epoch: 3 , Training Accuracy: 2225/2437 (91%) Training Loss: 0.013997\n",
      "Epoch: 4 , Training Accuracy: 2362/2437 (97%) Training Loss: 0.004942\n",
      "breakout\n"
     ]
    }
   ],
   "source": [
    "trainloader  = load_dataloaders(batch_size=16,start=80, end=90)#73 not included \n",
    "scheduler = torch.optim.lr_scheduler.StepLR(optimizer, step_size=2, gamma=0.1) \n",
    "model, optimizer = train(model,device,trainloader,scheduler,optimizer,criterion,30,1e-2)"
   ]
  },
  {
   "cell_type": "code",
   "execution_count": 24,
   "id": "7cb40856",
   "metadata": {
    "execution": {
     "iopub.execute_input": "2022-06-18T13:32:57.404125Z",
     "iopub.status.busy": "2022-06-18T13:32:57.402959Z",
     "iopub.status.idle": "2022-06-18T13:40:18.838642Z",
     "shell.execute_reply": "2022-06-18T13:40:18.837359Z"
    },
    "papermill": {
     "duration": 441.683295,
     "end_time": "2022-06-18T13:40:18.963751",
     "exception": false,
     "start_time": "2022-06-18T13:32:57.280456",
     "status": "completed"
    },
    "tags": []
   },
   "outputs": [
    {
     "name": "stdout",
     "output_type": "stream",
     "text": [
      "file p05_n086\n",
      "file p06_n024\n",
      "file p05_n070\n",
      "file p04_n016\n",
      "file p04_n068\n",
      "file p04_n026\n",
      "file p06_n039\n",
      "file p06_n014\n",
      "file p05_n059\n",
      "file p02_n051\n",
      "Train start\n",
      "Epoch: 1 , Training Accuracy: 1453/2185 (66%) Training Loss: 0.082826\n",
      "Epoch: 2 , Training Accuracy: 2085/2185 (95%) Training Loss: 0.010352\n",
      "breakout\n"
     ]
    }
   ],
   "source": [
    "trainloader  = load_dataloaders(batch_size=16,start=90, end=100)#73 not included \n",
    "scheduler = torch.optim.lr_scheduler.StepLR(optimizer, step_size=2, gamma=0.1) \n",
    "model, optimizer = train(model,device,trainloader,scheduler,optimizer,criterion,30,1e-2)"
   ]
  },
  {
   "cell_type": "code",
   "execution_count": 25,
   "id": "c34b1583",
   "metadata": {
    "execution": {
     "iopub.execute_input": "2022-06-18T13:40:19.219548Z",
     "iopub.status.busy": "2022-06-18T13:40:19.219221Z",
     "iopub.status.idle": "2022-06-18T13:48:35.811282Z",
     "shell.execute_reply": "2022-06-18T13:48:35.809564Z"
    },
    "papermill": {
     "duration": 496.85194,
     "end_time": "2022-06-18T13:48:35.941016",
     "exception": false,
     "start_time": "2022-06-18T13:40:19.089076",
     "status": "completed"
    },
    "tags": []
   },
   "outputs": [
    {
     "name": "stdout",
     "output_type": "stream",
     "text": [
      "file p06_n056\n",
      "file p04_n080\n",
      "file p05_n062\n",
      "file p04_n034\n",
      "file p04_n049\n",
      "file p06_n033\n",
      "file p02_n100\n",
      "file p04_n030\n",
      "file p06_n054\n",
      "file p05_n047\n",
      "file p06_n021\n",
      "file p01_n081\n",
      "Train start\n",
      "Epoch: 1 , Training Accuracy: 1820/2592 (70%) Training Loss: 0.066538\n",
      "Epoch: 2 , Training Accuracy: 2472/2592 (95%) Training Loss: 0.008550\n",
      "breakout\n"
     ]
    }
   ],
   "source": [
    "trainloader  = load_dataloaders(batch_size=16,start=100, end=112)#73 not included \n",
    "scheduler = torch.optim.lr_scheduler.StepLR(optimizer, step_size=2, gamma=0.1) \n",
    "model, optimizer = train(model,device,trainloader,scheduler,optimizer,criterion,30,1e-2)"
   ]
  },
  {
   "cell_type": "code",
   "execution_count": 26,
   "id": "85837f33",
   "metadata": {
    "execution": {
     "iopub.execute_input": "2022-06-18T13:48:36.204133Z",
     "iopub.status.busy": "2022-06-18T13:48:36.203845Z",
     "iopub.status.idle": "2022-06-18T13:48:36.795712Z",
     "shell.execute_reply": "2022-06-18T13:48:36.794544Z"
    },
    "papermill": {
     "duration": 0.727107,
     "end_time": "2022-06-18T13:48:36.798925",
     "exception": false,
     "start_time": "2022-06-18T13:48:36.071818",
     "status": "completed"
    },
    "tags": []
   },
   "outputs": [],
   "source": [
    "torch.save({\n",
    "            'model_state_dict': model.state_dict(),\n",
    "            'optimizer_state_dict': optimizer.state_dict()}, \"./model_optimizer3412.pt\")"
   ]
  },
  {
   "cell_type": "code",
   "execution_count": null,
   "id": "cab631c9",
   "metadata": {
    "papermill": {
     "duration": 0.131086,
     "end_time": "2022-06-18T13:48:37.062007",
     "exception": false,
     "start_time": "2022-06-18T13:48:36.930921",
     "status": "completed"
    },
    "tags": []
   },
   "outputs": [],
   "source": []
  },
  {
   "cell_type": "code",
   "execution_count": null,
   "id": "ce2d6c35",
   "metadata": {
    "papermill": {
     "duration": 0.128879,
     "end_time": "2022-06-18T13:48:37.328192",
     "exception": false,
     "start_time": "2022-06-18T13:48:37.199313",
     "status": "completed"
    },
    "tags": []
   },
   "outputs": [],
   "source": []
  }
 ],
 "metadata": {
  "kernelspec": {
   "display_name": "Python 3",
   "language": "python",
   "name": "python3"
  },
  "language_info": {
   "codemirror_mode": {
    "name": "ipython",
    "version": 3
   },
   "file_extension": ".py",
   "mimetype": "text/x-python",
   "name": "python",
   "nbconvert_exporter": "python",
   "pygments_lexer": "ipython3",
   "version": "3.7.12"
  },
  "papermill": {
   "default_parameters": {},
   "duration": 8853.341296,
   "end_time": "2022-06-18T13:48:40.492686",
   "environment_variables": {},
   "exception": null,
   "input_path": "__notebook__.ipynb",
   "output_path": "__notebook__.ipynb",
   "parameters": {},
   "start_time": "2022-06-18T11:21:07.151390",
   "version": "2.3.4"
  }
 },
 "nbformat": 4,
 "nbformat_minor": 5
}
